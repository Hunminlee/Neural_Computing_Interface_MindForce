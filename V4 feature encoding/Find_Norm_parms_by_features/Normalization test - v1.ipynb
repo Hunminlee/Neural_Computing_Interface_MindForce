{
 "cells": [
  {
   "metadata": {},
   "cell_type": "markdown",
   "source": [
    "# Search good hyper-parameters in Normalization\n",
    "- It seems finding a good value helps a lot in performance"
   ],
   "id": "e0b2aeb92e6f70b1"
  },
  {
   "metadata": {},
   "cell_type": "code",
   "source": [
    "import sys\n",
    "\n",
    "from urllib3.http2.probe import acquire_and_get\n",
    "\n",
    "sys.path.append(\"../Share\")\n",
    "import config, Processing_same_with_MATLAB, Feature_norm_parms\n",
    "import os\n",
    "import scipy\n",
    "import numpy as np\n",
    "import pandas as pd\n",
    "import matplotlib.pyplot as plt\n",
    "\n",
    "feature_names = ['Zero Crossing (ZC)', 'Slope Sign Changes (SSC)', 'Waveform Length (WL)', 'WAMP', 'Mean Absolute Value (MAV)', 'Mean Square (MS)', 'Root Mean Square (RMS)',\n",
    "                 'v-order 3 (V3)', 'log detector (LD)', 'difference absolute standard deviation value (DASDV)', 'maximum fractal length (MFL)', 'myopulse percentage rate (MPR)',\n",
    "                 'mean absolute value slope (MAVS)', 'weighted mean absolute (WMS)',\n",
    "                 'Cepstrum Coefficient 1', 'Cepstrum Coefficient 2', 'Cepstrum Coefficient 3', 'Cepstrum Coefficient Average', 'DWTC1', 'DWTC2',\n",
    "                 'DWTPC1', 'DWTPC2', 'DWTPC3']\n",
    "\n",
    "fs = round(10e6 / 2048)  # 4883 Hz\n",
    "lower_cutoff = 100\n",
    "upper_cutoff = 600\n",
    "filter_b, filter_a = Processing_same_with_MATLAB.cheby2(4, 30, [lower_cutoff / (fs/2), upper_cutoff / (fs/2)], btype='bandpass')\n",
    "\n",
    "# 14 features\n"
   ],
   "id": "79b346ce8599312",
   "outputs": [],
   "execution_count": null
  },
  {
   "metadata": {},
   "cell_type": "code",
   "source": [
    "import Train_and_test_one_feature_with_norm_param\n",
    "\n",
    "Trainer_feature_wise = Train_and_test_one_feature_with_norm_param.main(filter_a,\n",
    "                                                          filter_b,\n",
    "                                                          data_files = config.dataset_sub_C,\n",
    "                                                          default_path = config.default_path_sub_C,\n",
    "                                                          SUBJECT = \"Carlson\",\n",
    "                                                          K = 1) #K : K 이전 데이터 학습, K이후 데이터 테스트"
   ],
   "id": "f22a236a964d3753",
   "outputs": [],
   "execution_count": null
  },
  {
   "metadata": {},
   "cell_type": "code",
   "source": [
    "Normalization_TF = True\n",
    "feature_idx = 2  # WL\n",
    "mean_list = [1.5, 2, 2.5]\n",
    "std_list = [0.8, 0.9, 1, 1.2]  #std_list = [0.5, 0.65, 0.8]\n",
    "All_acc, All_param = [], []\n",
    "\n",
    "for M in mean_list:\n",
    "    for S in std_list:\n",
    "        test_acc, X_train_stacked, y_train_stacked, X_test_stacked, y_test_stacked = Trainer_feature_wise.Train_and_test(\n",
    "            Normalization_TF, M, S, num_feature_set=14, target_feat_idx=feature_idx\n",
    "        )\n",
    "        All_acc.append(np.mean(test_acc))\n",
    "        All_param.append([M, S])\n",
    "\n",
    "# Find best param\n",
    "best_idx = np.argmax(All_acc)\n",
    "best_param = All_param[best_idx]\n",
    "best_acc = All_acc[best_idx]"
   ],
   "id": "55fff3ade0776ccf",
   "outputs": [],
   "execution_count": null
  },
  {
   "metadata": {},
   "cell_type": "code",
   "source": [
    "print(f\"Best Accuracy: {best_acc:.4f} with mean={best_param[0]}, std={best_param[1]}\")\n",
    "\n",
    "df = pd.DataFrame(All_param, columns=[\"Mean\", \"Std\"])\n",
    "df[\"Accuracy\"] = All_acc\n",
    "print(df.pivot(index=\"Mean\", columns=\"Std\", values=\"Accuracy\"))"
   ],
   "id": "b057d5b7cd045d0",
   "outputs": [],
   "execution_count": null
  },
  {
   "metadata": {},
   "cell_type": "code",
   "source": [
    "print(f\"Best Accuracy: {best_acc:.4f} with mean={best_param[0]}, std={best_param[1]}\")\n",
    "\n",
    "df2 = pd.DataFrame(All_param, columns=[\"Mean\", \"Std\"])\n",
    "df2[\"Accuracy\"] = All_acc\n",
    "print(df2.pivot(index=\"Mean\", columns=\"Std\", values=\"Accuracy\"))"
   ],
   "id": "544bea6953250f8f",
   "outputs": [],
   "execution_count": null
  },
  {
   "metadata": {},
   "cell_type": "code",
   "source": "",
   "id": "b27e4e6c51f1faf6",
   "outputs": [],
   "execution_count": null
  },
  {
   "metadata": {},
   "cell_type": "code",
   "source": "",
   "id": "e7fff5446abae93a",
   "outputs": [],
   "execution_count": null
  },
  {
   "metadata": {},
   "cell_type": "code",
   "source": "",
   "id": "da067bd81cdfbd3c",
   "outputs": [],
   "execution_count": null
  },
  {
   "metadata": {},
   "cell_type": "code",
   "source": "test_acc #Without Norm",
   "id": "44efb050ecfad66d",
   "outputs": [],
   "execution_count": null
  },
  {
   "metadata": {},
   "cell_type": "code",
   "source": "test_acc #With Norm",
   "id": "87639b25c13a0120",
   "outputs": [],
   "execution_count": null
  },
  {
   "metadata": {},
   "cell_type": "code",
   "source": "이제 좋은 param 찾기",
   "id": "55f3222838f27912",
   "outputs": [],
   "execution_count": null
  },
  {
   "metadata": {},
   "cell_type": "code",
   "source": "",
   "id": "c6391c92169f13fd",
   "outputs": [],
   "execution_count": null
  },
  {
   "metadata": {},
   "cell_type": "code",
   "source": [
    "근데 다 같이 했을때 Normalization이 중요한거고, 다 같이 안하면 크게 상관없는 거 아닌가요\n",
    "- 아니지, 일단 좋은 param을 찾고 그거를 합치면 더 좋아질듯"
   ],
   "id": "a443e43cb24e7517",
   "outputs": [],
   "execution_count": null
  },
  {
   "metadata": {},
   "cell_type": "code",
   "source": "",
   "id": "4f394c008fee79d4",
   "outputs": [],
   "execution_count": null
  },
  {
   "metadata": {},
   "cell_type": "code",
   "source": "",
   "id": "12146d3402069b51",
   "outputs": [],
   "execution_count": null
  },
  {
   "metadata": {},
   "cell_type": "code",
   "source": "",
   "id": "b453d6576afcf7ad",
   "outputs": [],
   "execution_count": null
  },
  {
   "metadata": {},
   "cell_type": "code",
   "source": "",
   "id": "e855e007febf9de3",
   "outputs": [],
   "execution_count": null
  },
  {
   "metadata": {},
   "cell_type": "code",
   "source": "",
   "id": "2ecd646dd43d5a56",
   "outputs": [],
   "execution_count": null
  },
  {
   "metadata": {},
   "cell_type": "code",
   "source": "",
   "id": "51a083259181f2dc",
   "outputs": [],
   "execution_count": null
  },
  {
   "metadata": {},
   "cell_type": "code",
   "source": "",
   "id": "2477b045e1e43c49",
   "outputs": [],
   "execution_count": null
  },
  {
   "metadata": {},
   "cell_type": "code",
   "source": "",
   "id": "199d3223804151be",
   "outputs": [],
   "execution_count": null
  },
  {
   "metadata": {},
   "cell_type": "code",
   "source": "",
   "id": "bb40247da06ef485",
   "outputs": [],
   "execution_count": null
  }
 ],
 "metadata": {
  "kernelspec": {
   "display_name": "Python 3",
   "language": "python",
   "name": "python3"
  },
  "language_info": {
   "codemirror_mode": {
    "name": "ipython",
    "version": 2
   },
   "file_extension": ".py",
   "mimetype": "text/x-python",
   "name": "python",
   "nbconvert_exporter": "python",
   "pygments_lexer": "ipython2",
   "version": "2.7.6"
  }
 },
 "nbformat": 4,
 "nbformat_minor": 5
}
