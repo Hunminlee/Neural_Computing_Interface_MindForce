{
 "cells": [
  {
   "cell_type": "code",
   "id": "initial_id",
   "metadata": {
    "collapsed": true,
    "ExecuteTime": {
     "end_time": "2025-08-23T21:47:59.034429Z",
     "start_time": "2025-08-23T21:47:56.986055Z"
    }
   },
   "source": [
    "import numpy as np\n",
    "import pandas as pd\n",
    "import tensorflow as tf\n",
    "import matplotlib.pyplot as plt\n",
    "from sklearn.metrics import accuracy_score\n",
    "import scipy, os\n",
    "from sklearn.metrics import confusion_matrix\n",
    "import seaborn as sns\n",
    "\n",
    "import sys\n",
    "sys.path.append('../../Share/')\n",
    "sys.path.append('../../Share/Manual_processing/')\n",
    "import baseline, config, Model, utils, Same_with_MATLAB, Feature_info\n",
    "\n",
    "import warnings\n",
    "warnings.filterwarnings('ignore')\n",
    "\n",
    "\n",
    "def restore_labels(mat, labels_windowed):\n",
    "\n",
    "    original_length = mat['Data_ADC'].shape[1]\n",
    "    win_size = 1000 #Original\n",
    "    win_step = 50\n",
    "    #valid_length = original_length - 2 * 60\n",
    "\n",
    "    label_full = np.zeros(original_length, dtype=labels_windowed.dtype) # 복원될 시계열 레이블 (원본 길이)\n",
    "\n",
    "    # 슬라이딩 윈도우 인덱스 따라 레이블 채워넣기\n",
    "    for i, label in enumerate(labels_windowed):\n",
    "        start = 60 + i * win_step\n",
    "        end = start + win_size\n",
    "        if end <= original_length - 60:\n",
    "            label_full[start:end] = label\n",
    "\n",
    "    return label_full\n",
    "\n",
    "\n",
    "def filtering_zero(X, y, erase_label):\n",
    "    # 1. erase_label 제거\n",
    "    keep_indices = y != erase_label\n",
    "    X = X[keep_indices]\n",
    "    y = y[keep_indices]\n",
    "\n",
    "    # 2. erase_label보다 큰 값은 1씩 감소\n",
    "    y = np.where(y > erase_label, y - 1, y)\n",
    "\n",
    "    return X, y\n",
    "\n",
    "def vis_graph(history):\n",
    "    plt.figure(figsize=(8, 4))\n",
    "    plt.plot(history.history['accuracy'], label='accuracy')\n",
    "    plt.plot(history.history['val_accuracy'], label='val_accuracy')\n",
    "    plt.legend()\n",
    "    plt.show()\n",
    "\n",
    "def heatmap_confusion_matrix(X_test, y_test, model):\n",
    "    # Predict class labels on the test set\n",
    "    y_pred_probs = model.predict(X_test, verbose=0)\n",
    "    y_pred = np.argmax(y_pred_probs, axis=1)  # convert softmax probs to predicted class\n",
    "    y_true = y_test\n",
    "    cm = confusion_matrix(y_true, y_pred)\n",
    "\n",
    "    plt.figure(figsize=(8, 6))\n",
    "    sns.heatmap(cm, annot=True, fmt='d', cmap='Blues', xticklabels=range(np.max(y_test)+1), yticklabels=range(np.max(y_test)+1))\n",
    "    plt.xlabel('Predicted Label')\n",
    "    plt.ylabel('True Label')\n",
    "    plt.title('Confusion Matrix')\n",
    "    plt.show()\n",
    "\n",
    "\n",
    "from collections import Counter\n",
    "\n",
    "def balance_data(X, y):\n",
    "    # Count samples per class\n",
    "    class_counts = Counter(y)\n",
    "    min_count = min(class_counts.values())  # target: balance all to minority count\n",
    "\n",
    "    indices_list = []\n",
    "\n",
    "    for label in sorted(class_counts.keys()):\n",
    "        label_indices = np.where(y == label)[0]\n",
    "        selected_indices = np.random.choice(label_indices, size=min_count, replace=False)\n",
    "        indices_list.extend(selected_indices)\n",
    "\n",
    "    # Shuffle all selected indices\n",
    "    balanced_indices = np.random.permutation(indices_list)\n",
    "\n",
    "    # Subset the data\n",
    "    X_balanced = X[balanced_indices]\n",
    "    y_balanced = y[balanced_indices]\n",
    "\n",
    "    return X_balanced, y_balanced"
   ],
   "outputs": [],
   "execution_count": 1
  },
  {
   "metadata": {
    "ExecuteTime": {
     "end_time": "2025-08-23T21:47:59.048232Z",
     "start_time": "2025-08-23T21:47:59.038894Z"
    }
   },
   "cell_type": "code",
   "source": [
    "def return_X_y(path, balance):\n",
    "    fs, lower_cutoff, upper_cutoff = Feature_info.fs, Feature_info.lower_cutoff, Feature_info.upper_cutoff\n",
    "    # fs, lower_cutoff, upper_cutoff = Feature_info.fs, 1, 300\n",
    "    filter_b, filter_a = Same_with_MATLAB.cheby2(4, 30, [lower_cutoff / (fs/2), upper_cutoff / (fs/2)], btype='bandpass')\n",
    "\n",
    "    data_per_class_files = os.listdir(path)\n",
    "    X, y = [], []\n",
    "\n",
    "    for cls in data_per_class_files:\n",
    "        input_path = path+cls+'/'\n",
    "        files = os.listdir(input_path)\n",
    "        mat = scipy.io.loadmat(input_path+files[0])\n",
    "        label = mat['Data_Cls'].reshape(-1)  # shape: (1, 1729)\n",
    "\n",
    "        feat_mean = np.tile(Feature_info.feat_mean_lst, (4, 1))\n",
    "        feat_std = np.tile(Feature_info.feat_std_lst, (4, 1))\n",
    "\n",
    "        mapped_label = np.where(label == 0, 0, int(cls))\n",
    "        restored_label = restore_labels(mat, mapped_label)\n",
    "\n",
    "        #print(mat['Data_ADC'].shape, mat['Data_Cls'].shape, restored_label.shape)\n",
    "        extractor = Same_with_MATLAB.EMGFeatureExtractor(feat_mean, feat_std, filter_b, filter_a, Norm_bool=False, num_feature_set=14) #I tried 23, but not so good\n",
    "        extractor.buffer = mat['Data_ADC']\n",
    "        #1000, 50 = winsize and winstep\n",
    "        features, labels = extractor.extract_features_with_labels(win_size=1000, win_step=50, feat_exclude=25, filtering=False, restored_label=restored_label)\n",
    "\n",
    "        features = np.transpose(features, (2, 0, 1))  # shape: (1729, 4, 14)\n",
    "        X.append(features)\n",
    "        y.append(labels)\n",
    "        #print(features.shape, labels.shape)\n",
    "\n",
    "    X_train = np.concatenate(X, axis=0)\n",
    "    y_train = np.concatenate(y, axis=0)\n",
    "    X_train = X_train[:, :, :, np.newaxis]\n",
    "    #print(pd.Series(y_train).value_counts())\n",
    "    #print(X_train.shape, y_train.shape)\n",
    "\n",
    "    if balance:\n",
    "        X_train, y_train = balance_data(X_train, y_train)\n",
    "\n",
    "    return X_train, y_train\n",
    "\n",
    "\n",
    "def train_model_One_feat(X_train, y_train, X_test, y_test):\n",
    "    X_train, y_train = filtering_zero(X_train, y_train, erase_label=0)\n",
    "    X_test, y_test = filtering_zero(X_test, y_test, erase_label=0)\n",
    "    ACC_lst = []\n",
    "\n",
    "    for feature_idx in [2, 10]:\n",
    "        One_X_train = X_train[:, :, feature_idx, :]\n",
    "        One_X_test = X_test[:, :, feature_idx, :]\n",
    "\n",
    "        model = Model.Original_model_1DCNN(One_X_train.shape[1:], num_class=np.max(y_train)+1)\n",
    "\n",
    "        history, model = Model.Train_model(\n",
    "            model, One_X_train, y_train, One_X_test, y_test,\n",
    "            set_epoch=200, set_batch_size=32, Model_name='V0',\n",
    "            set_verbose=False, save_model_set=False\n",
    "        )\n",
    "        ACC_lst.append(np.max(history.history['val_accuracy']))\n",
    "\n",
    "\n",
    "def train_model(X_train, y_train, X_test, y_test, heatmap_bool=False):\n",
    "    X_train, y_train = filtering_zero(X_train, y_train, erase_label=0)\n",
    "    X_test, y_test = filtering_zero(X_test, y_test, erase_label=0)\n",
    "\n",
    "    model = Model.Original_model(X_train.shape[1:], num_class=np.max(y_train)+1)\n",
    "\n",
    "    history, model = Model.Train_model(\n",
    "        model, X_train, y_train, X_test, y_test,\n",
    "        set_epoch=100, set_batch_size=256, Model_name='V0',\n",
    "        set_verbose=False, save_model_set=False\n",
    "    )\n",
    "    vis_graph(history)\n",
    "    if heatmap_bool:\n",
    "        heatmap_confusion_matrix(X_test, y_test, model)\n",
    "\n",
    "def run(subject, modality):\n",
    "    if modality == 'EMG': bluetooth_id = 'E8DD80E550BB'\n",
    "    elif modality == 'ENG': bluetooth_id = 'E9AD0E7DCC2B'\n",
    "    else:\n",
    "        print(\"Modality should be EMG or ENG\")\n",
    "        return\n",
    "\n",
    "    X_train, y_train = return_X_y(path = base_path+f'{subject}/{modality}_v1/{bluetooth_id}/raw/', balance=True)\n",
    "    X_test, y_test = return_X_y(path = base_path+f'{subject}/{modality}_v2/{bluetooth_id}/raw/', balance=True)\n",
    "    train_model(X_train, y_train, X_test, y_test, heatmap_bool=False)\n",
    "\n",
    "    X_train, y_train = return_X_y(path = base_path+f'{subject}/{modality}_v2/{bluetooth_id}/raw/', balance=True)\n",
    "    X_test, y_test = return_X_y(path = base_path+f'{subject}/{modality}_v1/{bluetooth_id}/raw/', balance=True)\n",
    "    train_model(X_train, y_train, X_test, y_test, heatmap_bool=False)\n",
    "\n",
    "\n",
    "def get_data(subject, modality):\n",
    "    if modality == 'EMG': bluetooth_id = 'E8DD80E550BB'\n",
    "    elif modality == 'ENG': bluetooth_id = 'E9AD0E7DCC2B'\n",
    "    else:\n",
    "        print(\"Modality should be EMG or ENG\")\n",
    "        return\n",
    "\n",
    "    X_session1, y_session1 = return_X_y(path = base_path+f'{subject}/{modality}_v1/{bluetooth_id}/raw/', balance=False)\n",
    "    X_session2, y_session2 = return_X_y(path = base_path+f'{subject}/{modality}_v2/{bluetooth_id}/raw/', balance=False)\n",
    "\n",
    "    return X_session1, y_session1, X_session2, y_session2"
   ],
   "id": "b559a00097f2b37a",
   "outputs": [],
   "execution_count": 2
  },
  {
   "metadata": {
    "ExecuteTime": {
     "end_time": "2025-08-23T21:47:59.153509Z",
     "start_time": "2025-08-23T21:47:59.150053Z"
    }
   },
   "cell_type": "code",
   "source": "base_path = 'C:/Users/hml76/PycharmProjects/MindForce/data/EMG_ENG/'",
   "id": "753498be52d2485b",
   "outputs": [],
   "execution_count": 3
  },
  {
   "metadata": {
    "ExecuteTime": {
     "end_time": "2025-08-23T21:50:34.623173Z",
     "start_time": "2025-08-23T21:47:59.163038Z"
    }
   },
   "cell_type": "code",
   "source": [
    "X_emg1, y_emg1, X_emg2, y_emg2 = get_data(subject='Hunmin', modality='EMG')\n",
    "X_eng1, y_eng1, X_eng2, y_eng2 = get_data(subject='Hunmin', modality='ENG')\n",
    "\n",
    "X1 = np.concatenate([X_emg1, X_eng1], axis=0)\n",
    "X2 = np.concatenate([X_emg2, X_eng2], axis=0)\n",
    "y1 = np.concatenate([y_emg1, y_eng1], axis=0)\n",
    "y2 = np.concatenate([y_emg2, y_eng2], axis=0)\n",
    "\n",
    "train_model(X1, y1, X2, y2, heatmap_bool=False)\n",
    "train_model(X2, y2, X1, y1, heatmap_bool=False)\n",
    "\n",
    "#train_model_One_feat(X1, y1, X2, y2)\n",
    "#train_model_One_feat(X2, y2, X1, y1)"
   ],
   "id": "84d3bf077619e7b9",
   "outputs": [
    {
     "name": "stdout",
     "output_type": "stream",
     "text": [
      "Start Training (total epochs: 200)...\n",
      "Finish Training! (Model is NOT saved)\n",
      "\n",
      "Maximum training accuracy : 14.81%\n",
      "Maximum validation accuracy : 13.82%\n",
      "Start Training (total epochs: 200)...\n",
      "Finish Training! (Model is NOT saved)\n",
      "\n",
      "Maximum training accuracy : 16.24%\n",
      "Maximum validation accuracy : 11.92%\n",
      "Start Training (total epochs: 200)...\n",
      "Finish Training! (Model is NOT saved)\n",
      "\n",
      "Maximum training accuracy : 15.81%\n",
      "Maximum validation accuracy : 13.81%\n",
      "Start Training (total epochs: 200)...\n"
     ]
    },
    {
     "name": "stderr",
     "output_type": "stream",
     "text": [
      "\n",
      "KeyboardInterrupt\n",
      "\n"
     ]
    },
    {
     "ename": "KeyboardInterrupt",
     "evalue": "",
     "output_type": "error",
     "traceback": [
      "\u001B[31m---------------------------------------------------------------------------\u001B[39m",
      "\u001B[31mKeyboardInterrupt\u001B[39m                         Traceback (most recent call last)",
      "\u001B[36mFile \u001B[39m\u001B[32m~\\PycharmProjects\\TNSE-R1\\.venv\\Lib\\site-packages\\IPython\\core\\async_helpers.py:128\u001B[39m, in \u001B[36m_pseudo_sync_runner\u001B[39m\u001B[34m(coro)\u001B[39m\n\u001B[32m    120\u001B[39m \u001B[38;5;250m\u001B[39m\u001B[33;03m\"\"\"\u001B[39;00m\n\u001B[32m    121\u001B[39m \u001B[33;03mA runner that does not really allow async execution, and just advance the coroutine.\u001B[39;00m\n\u001B[32m    122\u001B[39m \n\u001B[32m   (...)\u001B[39m\u001B[32m    125\u001B[39m \u001B[33;03mCredit to Nathaniel Smith\u001B[39;00m\n\u001B[32m    126\u001B[39m \u001B[33;03m\"\"\"\u001B[39;00m\n\u001B[32m    127\u001B[39m \u001B[38;5;28;01mtry\u001B[39;00m:\n\u001B[32m--> \u001B[39m\u001B[32m128\u001B[39m     \u001B[43mcoro\u001B[49m\u001B[43m.\u001B[49m\u001B[43msend\u001B[49m\u001B[43m(\u001B[49m\u001B[38;5;28;43;01mNone\u001B[39;49;00m\u001B[43m)\u001B[49m\n\u001B[32m    129\u001B[39m \u001B[38;5;28;01mexcept\u001B[39;00m \u001B[38;5;167;01mStopIteration\u001B[39;00m \u001B[38;5;28;01mas\u001B[39;00m exc:\n\u001B[32m    130\u001B[39m     \u001B[38;5;28;01mreturn\u001B[39;00m exc.value\n",
      "\u001B[36mFile \u001B[39m\u001B[32m~\\PycharmProjects\\TNSE-R1\\.venv\\Lib\\site-packages\\IPython\\core\\interactiveshell.py:3413\u001B[39m, in \u001B[36mInteractiveShell.run_cell_async\u001B[39m\u001B[34m(self, raw_cell, store_history, silent, shell_futures, transformed_cell, preprocessing_exc_tuple, cell_id)\u001B[39m\n\u001B[32m   3409\u001B[39m exec_count = \u001B[38;5;28mself\u001B[39m.execution_count\n\u001B[32m   3410\u001B[39m \u001B[38;5;28;01mif\u001B[39;00m result.error_in_exec:\n\u001B[32m   3411\u001B[39m     \u001B[38;5;66;03m# Store formatted traceback and error details\u001B[39;00m\n\u001B[32m   3412\u001B[39m     \u001B[38;5;28mself\u001B[39m.history_manager.exceptions[exec_count] = (\n\u001B[32m-> \u001B[39m\u001B[32m3413\u001B[39m         \u001B[38;5;28;43mself\u001B[39;49m\u001B[43m.\u001B[49m\u001B[43m_format_exception_for_storage\u001B[49m\u001B[43m(\u001B[49m\u001B[43mresult\u001B[49m\u001B[43m.\u001B[49m\u001B[43merror_in_exec\u001B[49m\u001B[43m)\u001B[49m\n\u001B[32m   3414\u001B[39m     )\n\u001B[32m   3416\u001B[39m \u001B[38;5;66;03m# Each cell is a *single* input, regardless of how many lines it has\u001B[39;00m\n\u001B[32m   3417\u001B[39m \u001B[38;5;28mself\u001B[39m.execution_count += \u001B[32m1\u001B[39m\n",
      "\u001B[36mFile \u001B[39m\u001B[32m~\\PycharmProjects\\TNSE-R1\\.venv\\Lib\\site-packages\\IPython\\core\\interactiveshell.py:3467\u001B[39m, in \u001B[36mInteractiveShell._format_exception_for_storage\u001B[39m\u001B[34m(self, exception, filename, running_compiled_code)\u001B[39m\n\u001B[32m   3464\u001B[39m         stb = evalue._render_traceback_()\n\u001B[32m   3465\u001B[39m     \u001B[38;5;28;01melse\u001B[39;00m:\n\u001B[32m   3466\u001B[39m         \u001B[38;5;66;03m# Otherwise, use InteractiveTB to format the traceback.\u001B[39;00m\n\u001B[32m-> \u001B[39m\u001B[32m3467\u001B[39m         stb = \u001B[38;5;28;43mself\u001B[39;49m\u001B[43m.\u001B[49m\u001B[43mInteractiveTB\u001B[49m\u001B[43m.\u001B[49m\u001B[43mstructured_traceback\u001B[49m\u001B[43m(\u001B[49m\n\u001B[32m   3468\u001B[39m \u001B[43m            \u001B[49m\u001B[43metype\u001B[49m\u001B[43m,\u001B[49m\u001B[43m \u001B[49m\u001B[43mevalue\u001B[49m\u001B[43m,\u001B[49m\u001B[43m \u001B[49m\u001B[43mtb\u001B[49m\u001B[43m,\u001B[49m\u001B[43m \u001B[49m\u001B[43mtb_offset\u001B[49m\u001B[43m=\u001B[49m\u001B[32;43m1\u001B[39;49m\n\u001B[32m   3469\u001B[39m \u001B[43m        \u001B[49m\u001B[43m)\u001B[49m\n\u001B[32m   3470\u001B[39m \u001B[38;5;28;01mexcept\u001B[39;00m \u001B[38;5;167;01mException\u001B[39;00m:\n\u001B[32m   3471\u001B[39m     \u001B[38;5;66;03m# In case formatting fails, fallback to Python's built-in formatting.\u001B[39;00m\n\u001B[32m   3472\u001B[39m     stb = traceback.format_exception(etype, evalue, tb)\n",
      "\u001B[36mFile \u001B[39m\u001B[32m~\\PycharmProjects\\TNSE-R1\\.venv\\Lib\\site-packages\\IPython\\core\\ultratb.py:1182\u001B[39m, in \u001B[36mAutoFormattedTB.structured_traceback\u001B[39m\u001B[34m(self, etype, evalue, etb, tb_offset, context)\u001B[39m\n\u001B[32m   1180\u001B[39m \u001B[38;5;28;01melse\u001B[39;00m:\n\u001B[32m   1181\u001B[39m     \u001B[38;5;28mself\u001B[39m.tb = etb\n\u001B[32m-> \u001B[39m\u001B[32m1182\u001B[39m \u001B[38;5;28;01mreturn\u001B[39;00m \u001B[43mFormattedTB\u001B[49m\u001B[43m.\u001B[49m\u001B[43mstructured_traceback\u001B[49m\u001B[43m(\u001B[49m\n\u001B[32m   1183\u001B[39m \u001B[43m    \u001B[49m\u001B[38;5;28;43mself\u001B[39;49m\u001B[43m,\u001B[49m\u001B[43m \u001B[49m\u001B[43metype\u001B[49m\u001B[43m,\u001B[49m\u001B[43m \u001B[49m\u001B[43mevalue\u001B[49m\u001B[43m,\u001B[49m\u001B[43m \u001B[49m\u001B[43metb\u001B[49m\u001B[43m,\u001B[49m\u001B[43m \u001B[49m\u001B[43mtb_offset\u001B[49m\u001B[43m,\u001B[49m\u001B[43m \u001B[49m\u001B[43mcontext\u001B[49m\n\u001B[32m   1184\u001B[39m \u001B[43m\u001B[49m\u001B[43m)\u001B[49m\n",
      "\u001B[36mFile \u001B[39m\u001B[32m~\\PycharmProjects\\TNSE-R1\\.venv\\Lib\\site-packages\\IPython\\core\\ultratb.py:1053\u001B[39m, in \u001B[36mFormattedTB.structured_traceback\u001B[39m\u001B[34m(self, etype, evalue, etb, tb_offset, context)\u001B[39m\n\u001B[32m   1050\u001B[39m mode = \u001B[38;5;28mself\u001B[39m.mode\n\u001B[32m   1051\u001B[39m \u001B[38;5;28;01mif\u001B[39;00m mode \u001B[38;5;129;01min\u001B[39;00m \u001B[38;5;28mself\u001B[39m.verbose_modes:\n\u001B[32m   1052\u001B[39m     \u001B[38;5;66;03m# Verbose modes need a full traceback\u001B[39;00m\n\u001B[32m-> \u001B[39m\u001B[32m1053\u001B[39m     \u001B[38;5;28;01mreturn\u001B[39;00m \u001B[43mVerboseTB\u001B[49m\u001B[43m.\u001B[49m\u001B[43mstructured_traceback\u001B[49m\u001B[43m(\u001B[49m\n\u001B[32m   1054\u001B[39m \u001B[43m        \u001B[49m\u001B[38;5;28;43mself\u001B[39;49m\u001B[43m,\u001B[49m\u001B[43m \u001B[49m\u001B[43metype\u001B[49m\u001B[43m,\u001B[49m\u001B[43m \u001B[49m\u001B[43mevalue\u001B[49m\u001B[43m,\u001B[49m\u001B[43m \u001B[49m\u001B[43metb\u001B[49m\u001B[43m,\u001B[49m\u001B[43m \u001B[49m\u001B[43mtb_offset\u001B[49m\u001B[43m,\u001B[49m\u001B[43m \u001B[49m\u001B[43mcontext\u001B[49m\n\u001B[32m   1055\u001B[39m \u001B[43m    \u001B[49m\u001B[43m)\u001B[49m\n\u001B[32m   1056\u001B[39m \u001B[38;5;28;01melif\u001B[39;00m mode == \u001B[33m\"\u001B[39m\u001B[33mDocs\u001B[39m\u001B[33m\"\u001B[39m:\n\u001B[32m   1057\u001B[39m     \u001B[38;5;66;03m# return DocTB\u001B[39;00m\n\u001B[32m   1058\u001B[39m     \u001B[38;5;28;01mreturn\u001B[39;00m DocTB(\n\u001B[32m   1059\u001B[39m         theme_name=\u001B[38;5;28mself\u001B[39m._theme_name,\n\u001B[32m   1060\u001B[39m         call_pdb=\u001B[38;5;28mself\u001B[39m.call_pdb,\n\u001B[32m   (...)\u001B[39m\u001B[32m   1068\u001B[39m         etype, evalue, etb, tb_offset, \u001B[32m1\u001B[39m\n\u001B[32m   1069\u001B[39m     )  \u001B[38;5;66;03m# type: ignore[arg-type]\u001B[39;00m\n",
      "\u001B[36mFile \u001B[39m\u001B[32m~\\PycharmProjects\\TNSE-R1\\.venv\\Lib\\site-packages\\IPython\\core\\ultratb.py:861\u001B[39m, in \u001B[36mVerboseTB.structured_traceback\u001B[39m\u001B[34m(self, etype, evalue, etb, tb_offset, context)\u001B[39m\n\u001B[32m    852\u001B[39m \u001B[38;5;28;01mdef\u001B[39;00m\u001B[38;5;250m \u001B[39m\u001B[34mstructured_traceback\u001B[39m(\n\u001B[32m    853\u001B[39m     \u001B[38;5;28mself\u001B[39m,\n\u001B[32m    854\u001B[39m     etype: \u001B[38;5;28mtype\u001B[39m,\n\u001B[32m   (...)\u001B[39m\u001B[32m    858\u001B[39m     context: \u001B[38;5;28mint\u001B[39m = \u001B[32m5\u001B[39m,\n\u001B[32m    859\u001B[39m ) -> \u001B[38;5;28mlist\u001B[39m[\u001B[38;5;28mstr\u001B[39m]:\n\u001B[32m    860\u001B[39m \u001B[38;5;250m    \u001B[39m\u001B[33;03m\"\"\"Return a nice text document describing the traceback.\"\"\"\u001B[39;00m\n\u001B[32m--> \u001B[39m\u001B[32m861\u001B[39m     formatted_exceptions: \u001B[38;5;28mlist\u001B[39m[\u001B[38;5;28mlist\u001B[39m[\u001B[38;5;28mstr\u001B[39m]] = \u001B[38;5;28;43mself\u001B[39;49m\u001B[43m.\u001B[49m\u001B[43mformat_exception_as_a_whole\u001B[49m\u001B[43m(\u001B[49m\n\u001B[32m    862\u001B[39m \u001B[43m        \u001B[49m\u001B[43metype\u001B[49m\u001B[43m,\u001B[49m\u001B[43m \u001B[49m\u001B[43mevalue\u001B[49m\u001B[43m,\u001B[49m\u001B[43m \u001B[49m\u001B[43metb\u001B[49m\u001B[43m,\u001B[49m\u001B[43m \u001B[49m\u001B[43mcontext\u001B[49m\u001B[43m,\u001B[49m\u001B[43m \u001B[49m\u001B[43mtb_offset\u001B[49m\n\u001B[32m    863\u001B[39m \u001B[43m    \u001B[49m\u001B[43m)\u001B[49m\n\u001B[32m    865\u001B[39m     termsize = \u001B[38;5;28mmin\u001B[39m(\u001B[32m75\u001B[39m, get_terminal_size()[\u001B[32m0\u001B[39m])\n\u001B[32m    866\u001B[39m     theme = theme_table[\u001B[38;5;28mself\u001B[39m._theme_name]\n",
      "\u001B[36mFile \u001B[39m\u001B[32m~\\PycharmProjects\\TNSE-R1\\.venv\\Lib\\site-packages\\IPython\\core\\ultratb.py:746\u001B[39m, in \u001B[36mVerboseTB.format_exception_as_a_whole\u001B[39m\u001B[34m(self, etype, evalue, etb, context, tb_offset)\u001B[39m\n\u001B[32m    744\u001B[39m \u001B[38;5;28;01massert\u001B[39;00m \u001B[38;5;28misinstance\u001B[39m(tb_offset, \u001B[38;5;28mint\u001B[39m)\n\u001B[32m    745\u001B[39m head = \u001B[38;5;28mself\u001B[39m.prepare_header(\u001B[38;5;28mstr\u001B[39m(etype), \u001B[38;5;28mself\u001B[39m.long_header)\n\u001B[32m--> \u001B[39m\u001B[32m746\u001B[39m records = \u001B[38;5;28;43mself\u001B[39;49m\u001B[43m.\u001B[49m\u001B[43mget_records\u001B[49m\u001B[43m(\u001B[49m\u001B[43metb\u001B[49m\u001B[43m,\u001B[49m\u001B[43m \u001B[49m\u001B[43mcontext\u001B[49m\u001B[43m,\u001B[49m\u001B[43m \u001B[49m\u001B[43mtb_offset\u001B[49m\u001B[43m)\u001B[49m \u001B[38;5;28;01mif\u001B[39;00m etb \u001B[38;5;28;01melse\u001B[39;00m []\n\u001B[32m    748\u001B[39m frames = []\n\u001B[32m    749\u001B[39m skipped = \u001B[32m0\u001B[39m\n",
      "\u001B[36mFile \u001B[39m\u001B[32m~\\PycharmProjects\\TNSE-R1\\.venv\\Lib\\site-packages\\IPython\\core\\ultratb.py:819\u001B[39m, in \u001B[36mVerboseTB.get_records\u001B[39m\u001B[34m(self, etb, context, tb_offset)\u001B[39m\n\u001B[32m    817\u001B[39m \u001B[38;5;28;01mwhile\u001B[39;00m cf \u001B[38;5;129;01mis\u001B[39;00m \u001B[38;5;129;01mnot\u001B[39;00m \u001B[38;5;28;01mNone\u001B[39;00m:\n\u001B[32m    818\u001B[39m     \u001B[38;5;28;01mtry\u001B[39;00m:\n\u001B[32m--> \u001B[39m\u001B[32m819\u001B[39m         mod = \u001B[43minspect\u001B[49m\u001B[43m.\u001B[49m\u001B[43mgetmodule\u001B[49m\u001B[43m(\u001B[49m\u001B[43mcf\u001B[49m\u001B[43m.\u001B[49m\u001B[43mtb_frame\u001B[49m\u001B[43m)\u001B[49m\n\u001B[32m    820\u001B[39m         \u001B[38;5;28;01mif\u001B[39;00m mod \u001B[38;5;129;01mis\u001B[39;00m \u001B[38;5;129;01mnot\u001B[39;00m \u001B[38;5;28;01mNone\u001B[39;00m:\n\u001B[32m    821\u001B[39m             mod_name = mod.\u001B[34m__name__\u001B[39m\n",
      "\u001B[36mFile \u001B[39m\u001B[32m~\\AppData\\Local\\Programs\\Python\\Python312\\Lib\\inspect.py:1016\u001B[39m, in \u001B[36mgetmodule\u001B[39m\u001B[34m(object, _filename)\u001B[39m\n\u001B[32m   1013\u001B[39m         f = getabsfile(module)\n\u001B[32m   1014\u001B[39m         \u001B[38;5;66;03m# Always map to the name the module knows itself by\u001B[39;00m\n\u001B[32m   1015\u001B[39m         modulesbyfile[f] = modulesbyfile[\n\u001B[32m-> \u001B[39m\u001B[32m1016\u001B[39m             \u001B[43mos\u001B[49m\u001B[43m.\u001B[49m\u001B[43mpath\u001B[49m\u001B[43m.\u001B[49m\u001B[43mrealpath\u001B[49m\u001B[43m(\u001B[49m\u001B[43mf\u001B[49m\u001B[43m)\u001B[49m] = module.\u001B[34m__name__\u001B[39m\n\u001B[32m   1017\u001B[39m \u001B[38;5;28;01mif\u001B[39;00m file \u001B[38;5;129;01min\u001B[39;00m modulesbyfile:\n\u001B[32m   1018\u001B[39m     \u001B[38;5;28;01mreturn\u001B[39;00m sys.modules.get(modulesbyfile[file])\n",
      "\u001B[36mFile \u001B[39m\u001B[32m<frozen ntpath>:714\u001B[39m, in \u001B[36mrealpath\u001B[39m\u001B[34m(path, strict)\u001B[39m\n",
      "\u001B[31mKeyboardInterrupt\u001B[39m: "
     ]
    }
   ],
   "execution_count": 3
  },
  {
   "metadata": {
    "ExecuteTime": {
     "end_time": "2025-08-23T21:51:08.897626Z",
     "start_time": "2025-08-23T21:50:53.362672Z"
    }
   },
   "cell_type": "code",
   "source": [
    "train_model(X1, y1, X2, y2, heatmap_bool=False)\n",
    "train_model(X2, y2, X1, y1, heatmap_bool=False)"
   ],
   "id": "43710600b2754252",
   "outputs": [
    {
     "name": "stdout",
     "output_type": "stream",
     "text": [
      "Start Training (total epochs: 100)...\n",
      "Finish Training! (Model is NOT saved)\n",
      "\n",
      "Maximum training accuracy : 14.16%\n",
      "Maximum validation accuracy : 14.42%\n"
     ]
    },
    {
     "data": {
      "text/plain": [
       "<Figure size 800x400 with 1 Axes>"
      ],
      "image/png": "[encoded data removed]"
     },
     "metadata": {},
     "output_type": "display_data"
    },
    {
     "name": "stdout",
     "output_type": "stream",
     "text": [
      "Start Training (total epochs: 100)...\n",
      "Finish Training! (Model is NOT saved)\n",
      "\n",
      "Maximum training accuracy : 15.01%\n",
      "Maximum validation accuracy : 13.1%\n"
     ]
    },
    {
     "data": {
      "text/plain": [
       "<Figure size 800x400 with 1 Axes>"
      ],
      "image/png": "[encoded data removed]"
     },
     "metadata": {},
     "output_type": "display_data"
    }
   ],
   "execution_count": 5
  },
  {
   "metadata": {},
   "cell_type": "markdown",
   "source": "# Byeongchan",
   "id": "365b1a1ae3b8ce94"
  },
  {
   "metadata": {
    "ExecuteTime": {
     "end_time": "2025-08-23T21:50:34.633679100Z",
     "start_time": "2025-08-23T20:18:56.443333Z"
    }
   },
   "cell_type": "code",
   "source": [
    "SUBJECT = 'Byeongchan'\n",
    "X_emg1, y_emg1, X_emg2, y_emg2 = get_data(subject=SUBJECT, modality='EMG')\n",
    "X_eng1, y_eng1, X_eng2, y_eng2 = get_data(subject=SUBJECT, modality='ENG')\n",
    "\n",
    "X1 = np.concatenate([X_emg1, X_eng1], axis=0)\n",
    "X2 = np.concatenate([X_emg2, X_eng2], axis=0)\n",
    "y1 = np.concatenate([y_emg1, y_eng1], axis=0)\n",
    "y2 = np.concatenate([y_emg2, y_eng2], axis=0)\n",
    "\n",
    "train_model_One_feat(X1, y1, X2, y2)\n",
    "train_model_One_feat(X2, y2, X1, y1)"
   ],
   "id": "cf0f741fdc83df2c",
   "outputs": [
    {
     "name": "stdout",
     "output_type": "stream",
     "text": [
      "Start Training (total epochs: 200)...\n",
      "Finish Training! (Model is NOT saved)\n",
      "\n",
      "Maximum training accuracy : 31.84%\n",
      "Maximum validation accuracy : 27.06%\n",
      "Start Training (total epochs: 200)...\n",
      "Finish Training! (Model is NOT saved)\n",
      "\n",
      "Maximum training accuracy : 38.62%\n",
      "Maximum validation accuracy : 31.26%\n",
      "Start Training (total epochs: 200)...\n",
      "Finish Training! (Model is NOT saved)\n",
      "\n",
      "Maximum training accuracy : 36.24%\n",
      "Maximum validation accuracy : 24.26%\n",
      "Start Training (total epochs: 200)...\n",
      "Finish Training! (Model is NOT saved)\n",
      "\n",
      "Maximum training accuracy : 38.94%\n",
      "Maximum validation accuracy : 25.26%\n"
     ]
    }
   ],
   "execution_count": 5
  },
  {
   "metadata": {
    "ExecuteTime": {
     "end_time": "2025-08-23T20:22:36.554214Z",
     "start_time": "2025-08-23T20:22:36.551812Z"
    }
   },
   "cell_type": "code",
   "source": "27.06, 31.26, 24.26, 25.26",
   "id": "706ea5829c5a9ee9",
   "outputs": [],
   "execution_count": null
  },
  {
   "metadata": {},
   "cell_type": "markdown",
   "source": "# Hongjun",
   "id": "63c79986b6e65a38"
  },
  {
   "metadata": {
    "ExecuteTime": {
     "end_time": "2025-08-23T20:24:11.492690Z",
     "start_time": "2025-08-23T20:22:36.571510Z"
    }
   },
   "cell_type": "code",
   "source": [
    "SUBJECT = 'Hongjun'\n",
    "X_emg1, y_emg1, X_emg2, y_emg2 = get_data(subject=SUBJECT, modality='EMG')\n",
    "X_eng1, y_eng1, X_eng2, y_eng2 = get_data(subject=SUBJECT, modality='ENG')\n",
    "\n",
    "X1 = np.concatenate([X_emg1, X_eng1], axis=0)\n",
    "X2 = np.concatenate([X_emg2, X_eng2], axis=0)\n",
    "y1 = np.concatenate([y_emg1, y_eng1], axis=0)\n",
    "y2 = np.concatenate([y_emg2, y_eng2], axis=0)\n",
    "\n",
    "train_model_One_feat(X1, y1, X2, y2)\n",
    "train_model_One_feat(X2, y2, X1, y1)"
   ],
   "id": "b60ff560078180e9",
   "outputs": [
    {
     "name": "stdout",
     "output_type": "stream",
     "text": [
      "Start Training (total epochs: 200)...\n",
      "Finish Training! (Model is NOT saved)\n",
      "\n",
      "Maximum training accuracy : 54.13%\n",
      "Maximum validation accuracy : 28.79%\n",
      "Start Training (total epochs: 200)...\n",
      "Finish Training! (Model is NOT saved)\n",
      "\n",
      "Maximum training accuracy : 54.24%\n",
      "Maximum validation accuracy : 31.02%\n",
      "Start Training (total epochs: 200)...\n",
      "Finish Training! (Model is NOT saved)\n",
      "\n",
      "Maximum training accuracy : 43.33%\n",
      "Maximum validation accuracy : 34.32%\n",
      "Start Training (total epochs: 200)...\n",
      "Finish Training! (Model is NOT saved)\n",
      "\n",
      "Maximum training accuracy : 46.53%\n",
      "Maximum validation accuracy : 27.43%\n"
     ]
    }
   ],
   "execution_count": 6
  },
  {
   "metadata": {
    "ExecuteTime": {
     "end_time": "2025-08-23T20:24:11.510357Z",
     "start_time": "2025-08-23T20:24:11.507251Z"
    }
   },
   "cell_type": "code",
   "source": "",
   "id": "afc1693ced693195",
   "outputs": [],
   "execution_count": null
  },
  {
   "metadata": {},
   "cell_type": "markdown",
   "source": "# Jongin",
   "id": "2df7a24922f41d12"
  },
  {
   "metadata": {
    "ExecuteTime": {
     "end_time": "2025-08-23T20:26:40.393261Z",
     "start_time": "2025-08-23T20:24:11.530184Z"
    }
   },
   "cell_type": "code",
   "source": [
    "SUBJECT = 'Jongin'\n",
    "X_emg1, y_emg1, X_emg2, y_emg2 = get_data(subject=SUBJECT, modality='EMG')\n",
    "X_eng1, y_eng1, X_eng2, y_eng2 = get_data(subject=SUBJECT, modality='ENG')\n",
    "\n",
    "X1 = np.concatenate([X_emg1, X_eng1], axis=0)\n",
    "X2 = np.concatenate([X_emg2, X_eng2], axis=0)\n",
    "y1 = np.concatenate([y_emg1, y_eng1], axis=0)\n",
    "y2 = np.concatenate([y_emg2, y_eng2], axis=0)\n",
    "\n",
    "train_model_One_feat(X1, y1, X2, y2)\n",
    "train_model_One_feat(X2, y2, X1, y1)"
   ],
   "id": "aaedeee3ffb5a9b5",
   "outputs": [
    {
     "name": "stdout",
     "output_type": "stream",
     "text": [
      "Start Training (total epochs: 200)...\n",
      "Finish Training! (Model is NOT saved)\n",
      "\n",
      "Maximum training accuracy : 34.55%\n",
      "Maximum validation accuracy : 36.05%\n",
      "Start Training (total epochs: 200)...\n",
      "Finish Training! (Model is NOT saved)\n",
      "\n",
      "Maximum training accuracy : 36.57%\n",
      "Maximum validation accuracy : 39.15%\n",
      "Start Training (total epochs: 200)...\n",
      "Finish Training! (Model is NOT saved)\n",
      "\n",
      "Maximum training accuracy : 37.45%\n",
      "Maximum validation accuracy : 37.05%\n",
      "Start Training (total epochs: 200)...\n",
      "Finish Training! (Model is NOT saved)\n",
      "\n",
      "Maximum training accuracy : 39.01%\n",
      "Maximum validation accuracy : 35.01%\n"
     ]
    }
   ],
   "execution_count": 7
  },
  {
   "metadata": {
    "ExecuteTime": {
     "end_time": "2025-08-23T20:26:40.412208Z",
     "start_time": "2025-08-23T20:26:40.410094Z"
    }
   },
   "cell_type": "code",
   "source": "",
   "id": "17b44b256939bcbd",
   "outputs": [],
   "execution_count": null
  },
  {
   "metadata": {},
   "cell_type": "markdown",
   "source": "# Youngchul",
   "id": "d56da7d9d6982f7b"
  },
  {
   "metadata": {
    "ExecuteTime": {
     "end_time": "2025-08-23T20:29:08.169070Z",
     "start_time": "2025-08-23T20:26:40.424227Z"
    }
   },
   "cell_type": "code",
   "source": [
    "SUBJECT = 'Youngchul'\n",
    "X_emg1, y_emg1, X_emg2, y_emg2 = get_data(subject=SUBJECT, modality='EMG')\n",
    "X_eng1, y_eng1, X_eng2, y_eng2 = get_data(subject=SUBJECT, modality='ENG')\n",
    "\n",
    "X1 = np.concatenate([X_emg1, X_eng1], axis=0)\n",
    "X2 = np.concatenate([X_emg2, X_eng2], axis=0)\n",
    "y1 = np.concatenate([y_emg1, y_eng1], axis=0)\n",
    "y2 = np.concatenate([y_emg2, y_eng2], axis=0)\n",
    "\n",
    "train_model_One_feat(X1, y1, X2, y2)\n",
    "train_model_One_feat(X2, y2, X1, y1)"
   ],
   "id": "fbb8e70b7958a907",
   "outputs": [
    {
     "name": "stdout",
     "output_type": "stream",
     "text": [
      "Start Training (total epochs: 200)...\n",
      "Finish Training! (Model is NOT saved)\n",
      "\n",
      "Maximum training accuracy : 34.15%\n",
      "Maximum validation accuracy : 16.3%\n",
      "Start Training (total epochs: 200)...\n",
      "Finish Training! (Model is NOT saved)\n",
      "\n",
      "Maximum training accuracy : 32.99%\n",
      "Maximum validation accuracy : 15.98%\n",
      "Start Training (total epochs: 200)...\n",
      "Finish Training! (Model is NOT saved)\n",
      "\n",
      "Maximum training accuracy : 29.62%\n",
      "Maximum validation accuracy : 16.35%\n",
      "Start Training (total epochs: 200)...\n",
      "Finish Training! (Model is NOT saved)\n",
      "\n",
      "Maximum training accuracy : 29.79%\n",
      "Maximum validation accuracy : 16.92%\n"
     ]
    }
   ],
   "execution_count": 8
  },
  {
   "metadata": {
    "ExecuteTime": {
     "end_time": "2025-08-23T20:29:08.195154Z",
     "start_time": "2025-08-23T20:29:08.193309Z"
    }
   },
   "cell_type": "code",
   "source": "",
   "id": "4c60024f7fd65bb1",
   "outputs": [],
   "execution_count": null
  },
  {
   "metadata": {},
   "cell_type": "markdown",
   "source": "# Harold",
   "id": "da517ac8e06ad1d3"
  },
  {
   "metadata": {
    "ExecuteTime": {
     "end_time": "2025-08-23T20:29:20.896418Z",
     "start_time": "2025-08-23T20:29:08.210959Z"
    }
   },
   "cell_type": "code",
   "source": [
    "SUBJECT = 'Harold'\n",
    "X_emg1, y_emg1, X_emg2, y_emg2 = get_data(subject=SUBJECT, modality='EMG')\n",
    "X_eng1, y_eng1, X_eng2, y_eng2 = get_data(subject=SUBJECT, modality='ENG')\n",
    "\n",
    "X1 = np.concatenate([X_emg1, X_eng1], axis=0)\n",
    "X2 = np.concatenate([X_emg2, X_eng2], axis=0)\n",
    "y1 = np.concatenate([y_emg1, y_eng1], axis=0)\n",
    "y2 = np.concatenate([y_emg2, y_eng2], axis=0)\n",
    "\n",
    "train_model_One_feat(X1, y1, X2, y2)\n",
    "train_model_One_feat(X2, y2, X1, y1)"
   ],
   "id": "344dba6b4657c0e6",
   "outputs": [
    {
     "name": "stderr",
     "output_type": "stream",
     "text": [
      "\n",
      "KeyboardInterrupt\n",
      "\n"
     ]
    }
   ],
   "execution_count": 9
  },
  {
   "metadata": {},
   "cell_type": "code",
   "source": "",
   "id": "70e65c93f95e56db",
   "outputs": [],
   "execution_count": null
  },
  {
   "metadata": {},
   "cell_type": "markdown",
   "source": "# Carlson",
   "id": "aa5c34992f8b793d"
  },
  {
   "metadata": {},
   "cell_type": "code",
   "source": [
    "SUBJECT = 'Carlson'\n",
    "X_emg1, y_emg1, X_emg2, y_emg2 = get_data(subject=SUBJECT, modality='EMG')\n",
    "X_eng1, y_eng1, X_eng2, y_eng2 = get_data(subject=SUBJECT, modality='ENG')\n",
    "\n",
    "X1 = np.concatenate([X_emg1, X_eng1], axis=0)\n",
    "X2 = np.concatenate([X_emg2, X_eng2], axis=0)\n",
    "y1 = np.concatenate([y_emg1, y_eng1], axis=0)\n",
    "y2 = np.concatenate([y_emg2, y_eng2], axis=0)\n",
    "\n",
    "train_model_One_feat(X1, y1, X2, y2)\n",
    "train_model_One_feat(X2, y2, X1, y1)"
   ],
   "id": "7b7742b6f7dc34f0",
   "outputs": [],
   "execution_count": null
  },
  {
   "metadata": {},
   "cell_type": "markdown",
   "source": "# Minjeong",
   "id": "379d36256ebef813"
  },
  {
   "metadata": {},
   "cell_type": "code",
   "source": [
    "SUBJECT = 'Minjeong'\n",
    "X_emg1, y_emg1, X_emg2, y_emg2 = get_data(subject=SUBJECT, modality='EMG')\n",
    "X_eng1, y_eng1, X_eng2, y_eng2 = get_data(subject=SUBJECT, modality='ENG')\n",
    "\n",
    "X1 = np.concatenate([X_emg1, X_eng1], axis=0)\n",
    "X2 = np.concatenate([X_emg2, X_eng2], axis=0)\n",
    "y1 = np.concatenate([y_emg1, y_eng1], axis=0)\n",
    "y2 = np.concatenate([y_emg2, y_eng2], axis=0)\n",
    "\n",
    "train_model_One_feat(X1, y1, X2, y2)\n",
    "train_model_One_feat(X2, y2, X1, y1)"
   ],
   "id": "130e5e1284786d5c",
   "outputs": [],
   "execution_count": null
  },
  {
   "metadata": {},
   "cell_type": "markdown",
   "source": "# Xianyu",
   "id": "8ab8ee2ce277bfe7"
  },
  {
   "metadata": {},
   "cell_type": "code",
   "source": [
    "SUBJECT = 'Xianyu'\n",
    "X_emg1, y_emg1, X_emg2, y_emg2 = get_data(subject=SUBJECT, modality='EMG')\n",
    "X_eng1, y_eng1, X_eng2, y_eng2 = get_data(subject=SUBJECT, modality='ENG')\n",
    "\n",
    "X1 = np.concatenate([X_emg1, X_eng1], axis=0)\n",
    "X2 = np.concatenate([X_emg2, X_eng2], axis=0)\n",
    "y1 = np.concatenate([y_emg1, y_eng1], axis=0)\n",
    "y2 = np.concatenate([y_emg2, y_eng2], axis=0)\n",
    "\n",
    "train_model_One_feat(X1, y1, X2, y2)\n",
    "train_model_One_feat(X2, y2, X1, y1)"
   ],
   "id": "6df49df920b71036",
   "outputs": [],
   "execution_count": null
  },
  {
   "metadata": {},
   "cell_type": "code",
   "source": "",
   "id": "ed06e357a2acadc1",
   "outputs": [],
   "execution_count": null
  },
  {
   "metadata": {},
   "cell_type": "code",
   "outputs": [],
   "execution_count": null,
   "source": "",
   "id": "1fc40ac7d5abc643"
  }
 ],
 "metadata": {
  "kernelspec": {
   "display_name": "Python 3",
   "language": "python",
   "name": "python3"
  },
  "language_info": {
   "codemirror_mode": {
    "name": "ipython",
    "version": 2
   },
   "file_extension": ".py",
   "mimetype": "text/x-python",
   "name": "python",
   "nbconvert_exporter": "python",
   "pygments_lexer": "ipython2",
   "version": "2.7.6"
  }
 },
 "nbformat": 4,
 "nbformat_minor": 5
}
