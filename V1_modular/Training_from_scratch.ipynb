{
 "cells": [
  {
   "metadata": {
    "ExecuteTime": {
     "end_time": "2025-06-27T18:52:57.689253Z",
     "start_time": "2025-06-27T18:52:55.356563Z"
    }
   },
   "cell_type": "code",
   "source": [
    "import scipy.io\n",
    "import numpy as np\n",
    "import pandas as pd\n",
    "import matplotlib.pyplot as plt\n",
    "import os\n",
    "import importlib\n",
    "import warnings\n",
    "\n",
    "warnings.filterwarnings('ignore')\n",
    "from tensorflow.keras.models import load_model\n",
    "\n",
    "import Model\n",
    "#importlib.reload(Model)\n",
    "import utils\n",
    "import config\n",
    "\n",
    "\n",
    "class ProgressiveTrainer:\n",
    "    def __init__(self, config):\n",
    "        self.default_path = config.default_path\n",
    "        self.classes = config.classes\n",
    "        self.dataset = config.dataset\n",
    "        self.info = config.Info\n",
    "        self.train_ratio = 0.5\n",
    "        self.set_epoch = 50\n",
    "        self.set_batch_size = 256\n",
    "        self.model_name = \"Training_from_scratch\"\n",
    "\n",
    "        self.trained_acc_all = []\n",
    "        self.prev_acc_all = []\n",
    "        self.init_acc_all = []\n",
    "        self.X_test_prev_all = []\n",
    "        self.y_test_prev_all = []\n",
    "\n",
    "    def get_result(self, path, first_time, plot_learning_curve):\n",
    "        feature_set, labels = utils.get_dataset(path, self.classes, show_labels=False)\n",
    "        X_train, y_train, X_test, y_test = utils.split_data(feature_set, labels, ratio=self.train_ratio)\n",
    "\n",
    "        model = Model.Original_model_V1(X_train.shape[1:])\n",
    "        init_acc = model.evaluate(X_test, y_test, verbose=0)[1]\n",
    "\n",
    "        history, _ = Model.Train_model(\n",
    "            model, X_train, y_train, X_test, y_test,\n",
    "            self.set_epoch, self.set_batch_size, self.model_name,\n",
    "            set_verbose=0, save_model_set=False\n",
    "        )\n",
    "\n",
    "        if plot_learning_curve:\n",
    "            utils.visualize_history(history)\n",
    "\n",
    "        test_acc = float(np.max(history.history['val_accuracy']))\n",
    "\n",
    "        if first_time:\n",
    "            self.X_test_prev_all = X_test\n",
    "            self.y_test_prev_all = y_test\n",
    "        else:\n",
    "            self.X_test_prev_all = np.concatenate((self.X_test_prev_all, X_test), axis=0)\n",
    "            self.y_test_prev_all = np.concatenate((self.y_test_prev_all, y_test), axis=0)\n",
    "\n",
    "        prev_acc = model.evaluate(self.X_test_prev_all, self.y_test_prev_all, verbose=0)[1]\n",
    "\n",
    "        return init_acc, test_acc, prev_acc\n",
    "\n",
    "    def run(self, plot_learning_curve=False):\n",
    "        for idx, session in enumerate(self.dataset):\n",
    "            print(f\"\\n{'='*43}\\nDataset {idx+1}/{len(self.dataset)} - Session {session}\\n{'='*43}\")\n",
    "            path = os.path.join(self.default_path, session + 'raw/')\n",
    "            first_time = (idx == 0)\n",
    "            init_acc, test_acc, prev_acc = self.get_result(path, first_time, plot_learning_curve)\n",
    "\n",
    "            self.init_acc_all.append(init_acc)\n",
    "            self.trained_acc_all.append(test_acc)\n",
    "            self.prev_acc_all.append(prev_acc)\n",
    "\n",
    "        return self.init_acc_all, self.trained_acc_all, self.prev_acc_all\n",
    "\n",
    "\n",
    "    def plot_results(self, baselines, baseline_K):\n",
    "\n",
    "        plt.figure(figsize=(15, 8))\n",
    "        plt.title('Training from scratch every time', fontsize=15)\n",
    "        plt.plot(self.info, self.init_acc_all, marker='o', label='Untrained model on current data', linestyle='--')\n",
    "        plt.plot(self.info, self.prev_acc_all, marker='o', label='Model trained + tested on accumulated data')\n",
    "        plt.plot(self.info, self.trained_acc_all, marker='o', label='Model trained + tested on current split')\n",
    "\n",
    "        for idx, base in enumerate(baselines):\n",
    "            baseline_result = pd.read_csv(base)\n",
    "            plt.plot(self.info, baseline_result['Accuracy'] / 100, marker='^', label=f'Baseline V{idx} - K:{baseline_K[idx]}', linestyle='--')\n",
    "\n",
    "        plt.ylim([0, 1])\n",
    "        plt.xlabel('Date (Sessions)')\n",
    "        plt.ylabel('Test Accuracy')\n",
    "        plt.xticks(rotation=45)\n",
    "        plt.legend()\n",
    "        plt.grid(True)\n",
    "        plt.tight_layout()\n",
    "        plt.show()"
   ],
   "id": "9fc52933e37fe127",
   "outputs": [],
   "execution_count": 1
  },
  {
   "metadata": {
    "jupyter": {
     "is_executing": true
    },
    "ExecuteTime": {
     "start_time": "2025-06-27T18:52:58.296666Z"
    }
   },
   "cell_type": "code",
   "source": [
    "prog_trainer = ProgressiveTrainer(config)\n",
    "Init_acc_all, Prev_acc_all, Trained_acc_all = prog_trainer.run(plot_learning_curve=False)"
   ],
   "id": "5689466ebfbb66a7",
   "outputs": [
    {
     "name": "stdout",
     "output_type": "stream",
     "text": [
      "\n",
      "===========================================\n",
      "Dataset 1/26 - Session Exp_2025-05-27/E8331D05289A/\n",
      "===========================================\n",
      "Start Training (total epochs: 50)...\n"
     ]
    }
   ],
   "execution_count": null
  },
  {
   "metadata": {},
   "cell_type": "code",
   "source": [
    "#baseline1_csv_path = 'C:/Users/hml76/PycharmProjects/Tremor_project_local/NCI_mindforce/github/Results/Baseline_results.csv'\n",
    "baseline1_csv_path = 'C:/Users/hml76/PycharmProjects/Tremor_project_local/NCI_mindforce/github/Results/Baseline_results_train_with_1data.csv'\n",
    "baseline2_csv_path = 'C:/Users/hml76/PycharmProjects/Tremor_project_local/NCI_mindforce/github/Results/Baseline_results_train_with_10data.csv'\n",
    "baseline3_csv_path = 'C:/Users/hml76/PycharmProjects/Tremor_project_local/NCI_mindforce/github/Results/Baseline_results_train_with_14data.csv'\n",
    "baseline4_csv_path = 'C:/Users/hml76/PycharmProjects/Tremor_project_local/NCI_mindforce/github/Results/Baseline_results_train_with_18data.csv'\n",
    "baselines = [baseline1_csv_path, baseline2_csv_path,  baseline3_csv_path,  baseline4_csv_path]\n",
    "baseline_K = ['1', '10', '14', '18']\n",
    "\n",
    "prog_trainer.plot_results(baselines, baseline_K)\n",
    "\n",
    "for idx, x in enumerate([Init_acc_all, Prev_acc_all, Trained_acc_all]):\n",
    "    if idx==0:\n",
    "        print(f\"Average of acc without training anything (should be random): {np.mean(x)*100:.2f}%\")\n",
    "    elif idx==1:\n",
    "        print(f\"Average of acc using previous test data after training: {np.mean(x)*100:.2f}%\")\n",
    "    elif idx==2:\n",
    "        print(f\"Average of acc using current test data after training: {np.mean(x)*100:.2f}%\")"
   ],
   "id": "16ca6b13adb8d77",
   "outputs": [],
   "execution_count": null
  },
  {
   "metadata": {},
   "cell_type": "code",
   "source": "",
   "id": "7202105950622e32",
   "outputs": [],
   "execution_count": null
  }
 ],
 "metadata": {
  "kernelspec": {
   "display_name": "Python 3",
   "language": "python",
   "name": "python3"
  },
  "language_info": {
   "codemirror_mode": {
    "name": "ipython",
    "version": 2
   },
   "file_extension": ".py",
   "mimetype": "text/x-python",
   "name": "python",
   "nbconvert_exporter": "python",
   "pygments_lexer": "ipython2",
   "version": "2.7.6"
  }
 },
 "nbformat": 4,
 "nbformat_minor": 5
}
