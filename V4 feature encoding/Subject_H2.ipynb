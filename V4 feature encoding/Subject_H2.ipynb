{
 "cells": [
  {
   "cell_type": "code",
   "id": "initial_id",
   "metadata": {
    "collapsed": true,
    "ExecuteTime": {
     "end_time": "2025-07-12T22:03:31.133067Z",
     "start_time": "2025-07-12T22:03:31.130064Z"
    }
   },
   "source": [
    "import sys\n",
    "sys.path.append('../Share')\n",
    "import config\n",
    "import baseline\n",
    "import Target\n",
    "\n",
    "import numpy as np\n",
    "import pandas as pd"
   ],
   "outputs": [],
   "execution_count": 3
  },
  {
   "metadata": {
    "ExecuteTime": {
     "end_time": "2025-07-12T22:03:33.047576Z",
     "start_time": "2025-07-12T22:03:33.020575Z"
    }
   },
   "cell_type": "code",
   "source": [
    "baseline_K_val = [1, 4]\n",
    "SUBJECT = \"Harold\"\n",
    "\n",
    "if __name__ == \"__main__\":\n",
    "    for K in baseline_K_val:\n",
    "        trainer = baseline.TremorModelTrainer(config, subject=SUBJECT)\n",
    "        trainer.run_all_sessions_training_K_data(K)\n",
    "        df = trainer.save_results(f'../Results/Baseline_results_train_with_{K}data_H2.csv')\n",
    "# 저장해놨어서 데이터 업데이트 전에 한번 돌리면 굳이 안돌려도 됨'''"
   ],
   "id": "722bdc3c8cbe9ef3",
   "outputs": [
    {
     "name": "stdout",
     "output_type": "stream",
     "text": [
      "subject must be Hunmin, Xianyu, Brian, Carlson\n"
     ]
    },
    {
     "ename": "AttributeError",
     "evalue": "'TremorModelTrainer' object has no attribute 'dataset_info'",
     "output_type": "error",
     "traceback": [
      "\u001B[31m---------------------------------------------------------------------------\u001B[39m",
      "\u001B[31mAttributeError\u001B[39m                            Traceback (most recent call last)",
      "\u001B[36mCell\u001B[39m\u001B[36m \u001B[39m\u001B[32mIn[4]\u001B[39m\u001B[32m, line 7\u001B[39m\n\u001B[32m      5\u001B[39m     \u001B[38;5;28;01mfor\u001B[39;00m K \u001B[38;5;129;01min\u001B[39;00m baseline_K_val:\n\u001B[32m      6\u001B[39m         trainer = baseline.TremorModelTrainer(config, subject=SUBJECT)\n\u001B[32m----> \u001B[39m\u001B[32m7\u001B[39m         \u001B[43mtrainer\u001B[49m\u001B[43m.\u001B[49m\u001B[43mrun_all_sessions_training_K_data\u001B[49m\u001B[43m(\u001B[49m\u001B[43mK\u001B[49m\u001B[43m)\u001B[49m\n\u001B[32m      8\u001B[39m         df = trainer.save_results(\u001B[33mf\u001B[39m\u001B[33m'\u001B[39m\u001B[33m../Results/Baseline_results_train_with_\u001B[39m\u001B[38;5;132;01m{\u001B[39;00mK\u001B[38;5;132;01m}\u001B[39;00m\u001B[33mdata_H2.csv\u001B[39m\u001B[33m'\u001B[39m)\n\u001B[32m      9\u001B[39m \u001B[38;5;66;03m# 저장해놨어서 데이터 업데이트 전에 한번 돌리면 굳이 안돌려도 됨'''\u001B[39;00m\n",
      "\u001B[36mFile \u001B[39m\u001B[32m~\\PycharmProjects\\Tremor_project_local\\NCI_mindforce\\github\\V4 feature encoding\\../Share\\baseline.py:91\u001B[39m, in \u001B[36mTremorModelTrainer.run_all_sessions_training_K_data\u001B[39m\u001B[34m(self, K)\u001B[39m\n\u001B[32m     88\u001B[39m X_train_all, y_train_all = [], []\n\u001B[32m     89\u001B[39m X_test_all, y_test_all = [], []\n\u001B[32m---> \u001B[39m\u001B[32m91\u001B[39m \u001B[38;5;28;01mfor\u001B[39;00m idx, session_info \u001B[38;5;129;01min\u001B[39;00m \u001B[38;5;28menumerate\u001B[39m(\u001B[38;5;28;43mself\u001B[39;49m\u001B[43m.\u001B[49m\u001B[43mdataset_info\u001B[49m):\n\u001B[32m     92\u001B[39m     \u001B[38;5;28mprint\u001B[39m(\u001B[33mf\u001B[39m\u001B[33m\"\u001B[39m\u001B[33mDataset \u001B[39m\u001B[38;5;132;01m{\u001B[39;00midx\u001B[38;5;250m \u001B[39m+\u001B[38;5;250m \u001B[39m\u001B[32m1\u001B[39m\u001B[38;5;132;01m}\u001B[39;00m\u001B[33m/\u001B[39m\u001B[38;5;132;01m{\u001B[39;00m\u001B[38;5;28mlen\u001B[39m(\u001B[38;5;28mself\u001B[39m.dataset_info)\u001B[38;5;132;01m}\u001B[39;00m\u001B[33m - Session \u001B[39m\u001B[38;5;132;01m{\u001B[39;00msession_info\u001B[38;5;132;01m}\u001B[39;00m\u001B[38;5;130;01m\\n\u001B[39;00m\u001B[38;5;132;01m{\u001B[39;00m\u001B[33m'\u001B[39m\u001B[33m=\u001B[39m\u001B[33m'\u001B[39m*\u001B[32m40\u001B[39m\u001B[38;5;132;01m}\u001B[39;00m\u001B[33m\"\u001B[39m)\n\u001B[32m     93\u001B[39m     path = os.path.join(\u001B[38;5;28mself\u001B[39m.default_path, \u001B[33mf\u001B[39m\u001B[33m'\u001B[39m\u001B[38;5;132;01m{\u001B[39;00msession_info\u001B[38;5;132;01m}\u001B[39;00m\u001B[33m/raw/\u001B[39m\u001B[33m'\u001B[39m)\n",
      "\u001B[31mAttributeError\u001B[39m: 'TremorModelTrainer' object has no attribute 'dataset_info'"
     ]
    }
   ],
   "execution_count": 4
  },
  {
   "metadata": {},
   "cell_type": "code",
   "source": [
    "b_path = 'C:/Users/hml76/PycharmProjects/Tremor_project_local/NCI_mindforce'\n",
    "baseline_K = ['1', '4']\n",
    "baselines = []\n",
    "\n",
    "for idx, K in enumerate(baseline_K):\n",
    "    baselines.append(b_path + f'/github/Results/Baseline_results_train_with_{K}data_C.csv')"
   ],
   "id": "2e765482a9856fbd",
   "outputs": [],
   "execution_count": null
  },
  {
   "metadata": {},
   "cell_type": "code",
   "source": [
    "import Target\n",
    "\n",
    "prog_trainer = Target.ProgressiveTrainer(config, subject=SUBJECT)\n",
    "Init_acc_all, Prev_acc_all, Trained_acc_all = prog_trainer.run(plot_learning_curve=False)\n",
    "prog_trainer.plot_results(baselines, baseline_K)\n",
    "\n",
    "for idx, x in enumerate([Init_acc_all, Prev_acc_all, Trained_acc_all]):\n",
    "    if idx==0:\n",
    "        print(f\"Average of acc without training anything (should be random): {np.mean(x)*100:.2f}%\")\n",
    "    elif idx==1:\n",
    "        print(f\"Average of acc using previous test data after training: {np.mean(x)*100:.2f}%\")\n",
    "    elif idx==2:\n",
    "        print(f\"Average of acc using current test data after training: {np.mean(x)*100:.2f}%\")\n",
    "for idx, b in enumerate(baselines):\n",
    "    print(f\"Baseline K-{baseline_K[idx]}: {float(np.mean(pd.read_csv(baselines[idx])['Accuracy'][int(baseline_K[idx]):])):.2f}%\")"
   ],
   "id": "19a33d50b3192086",
   "outputs": [],
   "execution_count": null
  },
  {
   "metadata": {},
   "cell_type": "code",
   "source": "",
   "id": "650961d06f46be31",
   "outputs": [],
   "execution_count": null
  },
  {
   "metadata": {},
   "cell_type": "code",
   "source": "",
   "id": "e7a973712efe1e03",
   "outputs": [],
   "execution_count": null
  },
  {
   "metadata": {},
   "cell_type": "code",
   "source": "",
   "id": "b2082587589d7078",
   "outputs": [],
   "execution_count": null
  }
 ],
 "metadata": {
  "kernelspec": {
   "display_name": "Python 3",
   "language": "python",
   "name": "python3"
  },
  "language_info": {
   "codemirror_mode": {
    "name": "ipython",
    "version": 2
   },
   "file_extension": ".py",
   "mimetype": "text/x-python",
   "name": "python",
   "nbconvert_exporter": "python",
   "pygments_lexer": "ipython2",
   "version": "2.7.6"
  }
 },
 "nbformat": 4,
 "nbformat_minor": 5
}
