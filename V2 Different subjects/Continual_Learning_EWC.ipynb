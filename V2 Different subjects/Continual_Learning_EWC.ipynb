{
 "cells": [
  {
   "metadata": {
    "jupyter": {
     "is_executing": true
    },
    "ExecuteTime": {
     "start_time": "2025-06-30T17:21:12.670388Z"
    }
   },
   "cell_type": "code",
   "source": [
    "import Continual_Learning_EWC_\n",
    "import config\n",
    "import numpy as np\n",
    "\n",
    "if __name__ == \"__main__\":\n",
    "    baseline1_csv_path = 'C:/Users/hml76/PycharmProjects/Tremor_project_local/NCI_mindforce/github/Results/Baseline_results_train_with_1data.csv'\n",
    "    baseline2_csv_path = 'C:/Users/hml76/PycharmProjects/Tremor_project_local/NCI_mindforce/github/Results/Baseline_results_train_with_10data.csv'\n",
    "    baseline3_csv_path = 'C:/Users/hml76/PycharmProjects/Tremor_project_local/NCI_mindforce/github/Results/Baseline_results_train_with_14data.csv'\n",
    "    baseline4_csv_path = 'C:/Users/hml76/PycharmProjects/Tremor_project_local/NCI_mindforce/github/Results/Baseline_results_train_with_18data.csv'\n",
    "    baselines = [baseline1_csv_path, baseline2_csv_path,  baseline3_csv_path,  baseline4_csv_path]\n",
    "    baseline_K = ['1', '10', '14', '18']\n",
    "\n",
    "    cl_trainer = Continual_Learning_EWC_.ContinualLearningTrainer(config, subject=\"Hunmin\")\n",
    "    Init_acc_all, Prev_acc_all, Trained_acc_all = cl_trainer.run()\n",
    "    cl_trainer.plot_results(baselines, baseline_K)\n",
    "\n",
    "    for idx, x in enumerate([Init_acc_all, Prev_acc_all, Trained_acc_all]):\n",
    "        if idx==0:\n",
    "            print(f\"Average of acc without training this data (init; unseen): {np.mean(x)*100:.2f}%\")\n",
    "        elif idx==1:\n",
    "            print(f\"Average of acc using previous test data after training: {np.mean(x)*100:.2f}%\")\n",
    "        elif idx==2:\n",
    "            print(f\"Average of acc using current test data after training: {np.mean(x)*100:.2f}%\")"
   ],
   "id": "a9fc703888190b45",
   "outputs": [
    {
     "name": "stdout",
     "output_type": "stream",
     "text": [
      "Dataset 1/30 - Session Exp_2025-05-27/E8331D05289A/\n",
      "===========================================\n",
      "Start Training (total epochs: 50)...\n",
      "Finish Training! (Model is saved)\n",
      "Maximum training accuracy : 84.11%\n",
      "Maximum validation accuracy : 92.09%\n",
      "Dataset 2/30 - Session Exp_2025-06-18/E9AD0E7DCC2B/\n",
      "===========================================\n",
      "Dataset 3/30 - Session Exp_2025-06-20-v1/E9AD0E7DCC2B/\n",
      "===========================================\n",
      "Dataset 4/30 - Session Exp_2025-06-20-v2/E9AD0E7DCC2B/\n",
      "===========================================\n",
      "Dataset 5/30 - Session Exp_2025-06-20-v3/E9AD0E7DCC2B/\n",
      "===========================================\n",
      "Dataset 6/30 - Session Exp_2025-06-20-v4/E9AD0E7DCC2B/\n",
      "===========================================\n",
      "Dataset 7/30 - Session Exp_2025-06-20-v5/E9AD0E7DCC2B/\n",
      "===========================================\n",
      "Dataset 8/30 - Session Exp_2025-06-20-v6/E9AD0E7DCC2B/\n",
      "===========================================\n"
     ]
    }
   ],
   "execution_count": null
  },
  {
   "metadata": {},
   "cell_type": "code",
   "source": "",
   "id": "46df8553f8084480",
   "outputs": [],
   "execution_count": null
  }
 ],
 "metadata": {
  "kernelspec": {
   "display_name": "Python 3",
   "language": "python",
   "name": "python3"
  },
  "language_info": {
   "codemirror_mode": {
    "name": "ipython",
    "version": 2
   },
   "file_extension": ".py",
   "mimetype": "text/x-python",
   "name": "python",
   "nbconvert_exporter": "python",
   "pygments_lexer": "ipython2",
   "version": "2.7.6"
  }
 },
 "nbformat": 4,
 "nbformat_minor": 5
}
