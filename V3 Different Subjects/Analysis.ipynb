{
 "cells": [
  {
   "cell_type": "code",
   "execution_count": null,
   "id": "initial_id",
   "metadata": {
    "collapsed": true
   },
   "outputs": [],
   "source": [
    ""
   ]
  },
  {
   "metadata": {},
   "cell_type": "code",
   "outputs": [],
   "execution_count": null,
   "source": [
    "import config\n",
    "import numpy as np\n",
    "import Test_without_Training\n",
    "\n",
    "def get_data(K1, K2, subj1, subj2):\n",
    "    trainer1 = Test_without_Training.TremorModelTrainer(config, subject=subj1)\n",
    "    X1_train, y1_train, X1_test, y1_test = trainer1.return_K_data(K=K1)\n",
    "\n",
    "    trainer2 = Test_without_Training.TremorModelTrainer(config, subject=subj2)\n",
    "    X2_train, y2_train, X2_test, y2_test = trainer2.return_K_data(K=K2)\n",
    "\n",
    "    # Combine and shuffle training data from both subjects\n",
    "    X_train = np.concatenate([X1_train, X2_train], axis=0)\n",
    "    y_train = np.concatenate([y1_train, y2_train], axis=0)\n",
    "    idx = np.random.permutation(len(X_train))\n",
    "    X_train, y_train = X_train[idx], y_train[idx]\n",
    "\n",
    "    return {\n",
    "        \"trainer\": trainer2,  # just pick one to call train_multiple_dataset\n",
    "        \"X1_train\": X1_train, \"y1_train\": y1_train,\n",
    "        \"X2_train\": X2_train, \"y2_train\": y2_train,\n",
    "        \"X_train\": X_train,   \"y_train\": y_train,\n",
    "        \"X1_test\": X1_test,   \"y1_test\": y1_test,\n",
    "        \"X2_test\": X2_test,   \"y2_test\": y2_test\n",
    "    }\n",
    "\n",
    "def get_results(K1, K2, subj1, subj2):\n",
    "    data = get_data(K1, K2, subj1, subj2)\n",
    "    trainer = data[\"trainer\"]\n",
    "\n",
    "    # Train with mixed, only subj2, and only subj1\n",
    "    acc1, model_mix = trainer.train_multiple_dataset(data[\"X_train\"], data[\"y_train\"], data[\"X1_test\"], data[\"y1_test\"])\n",
    "    acc2, model_s2  = trainer.train_multiple_dataset(data[\"X2_train\"], data[\"y2_train\"], data[\"X1_test\"], data[\"y1_test\"])\n",
    "    acc3, model_s1  = trainer.train_multiple_dataset(data[\"X1_train\"], data[\"y1_train\"], data[\"X1_test\"], data[\"y1_test\"])\n",
    "\n",
    "    # Evaluate all models on subj2\n",
    "    _, acc_mix_s2 = model_mix.evaluate(data[\"X2_test\"], data[\"y2_test\"], verbose=0)\n",
    "    _, acc_s2_s2  = model_s2.evaluate(data[\"X2_test\"], data[\"y2_test\"], verbose=0)\n",
    "    _, acc_s1_s2  = model_s1.evaluate(data[\"X2_test\"], data[\"y2_test\"], verbose=0)\n",
    "\n",
    "    return [acc1, acc2, acc3], [acc_mix_s2, acc_s2_s2, acc_s1_s2]\n",
    "\n",
    "def print_results(acc_H, acc_X):\n",
    "    print(f\"Trained with Subjects 1 and 2 / Tested on 1 (Inter-session):     {acc_H[0]:.2f}%\")\n",
    "    print(f\"Trained with Subject 1        / Tested on 1 (Inter-session):     {acc_H[2]:.2f}%\")\n",
    "    print(f\"Trained with Subject 2        / Tested on 1 (Inter-subject):     {acc_H[1]:.2f}%\\n\")\n",
    "\n",
    "    print(f\"Trained with Subjects 1 and 2 / Tested on 2 (Inter-session):     {acc_X[0]*100:.2f}%\")\n",
    "    print(f\"Trained with Subject 2        / Tested on 2 (Inter-session):     {acc_X[1]*100:.2f}%\")\n",
    "    print(f\"Trained with Subject 1        / Tested on 2 (Inter-subject):     {acc_X[2]*100:.2f}%\")\n"
   ],
   "id": "7b78b5628afdafe0"
  }
 ],
 "metadata": {
  "kernelspec": {
   "display_name": "Python 3",
   "language": "python",
   "name": "python3"
  },
  "language_info": {
   "codemirror_mode": {
    "name": "ipython",
    "version": 2
   },
   "file_extension": ".py",
   "mimetype": "text/x-python",
   "name": "python",
   "nbconvert_exporter": "python",
   "pygments_lexer": "ipython2",
   "version": "2.7.6"
  }
 },
 "nbformat": 4,
 "nbformat_minor": 5
}
