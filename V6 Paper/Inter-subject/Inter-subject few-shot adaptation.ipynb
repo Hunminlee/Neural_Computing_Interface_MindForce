{
 "cells": [
  {
   "cell_type": "code",
   "id": "initial_id",
   "metadata": {
    "collapsed": true,
    "ExecuteTime": {
     "end_time": "2025-08-18T18:39:59.929822Z",
     "start_time": "2025-08-18T18:39:55.623827Z"
    }
   },
   "source": [
    "import sys\n",
    "sys.path.append('../../Share/')\n",
    "sys.path.append('../../V5 Self Supervised Learning')\n",
    "\n",
    "import self_supervised_v1\n",
    "import matplotlib.pyplot as plt\n",
    "import baseline, config\n",
    "\n",
    "import warnings\n",
    "warnings.filterwarnings('ignore')\n",
    "\n",
    "trainer_Minjeong = baseline.ModelTrainer(config, subject=\"Minjeong\")\n",
    "trainer_Carlson = baseline.ModelTrainer(config, subject=\"Carlson\")\n",
    "trainer_Harold = baseline.ModelTrainer(config, subject=\"Harold\")\n",
    "trainer_Hunmin = baseline.ModelTrainer(config, subject=\"Hunmin\")\n",
    "trainer_Brian = baseline.ModelTrainer(config, subject=\"Brian\")\n",
    "trainer_Xianyu = baseline.ModelTrainer(config, subject=\"Xianyu\")"
   ],
   "outputs": [],
   "execution_count": 2
  },
  {
   "metadata": {
    "ExecuteTime": {
     "end_time": "2025-08-18T18:39:59.938197Z",
     "start_time": "2025-08-18T18:39:59.934143Z"
    }
   },
   "cell_type": "code",
   "source": [
    "def evaluate_model(model, data, labels):\n",
    "    return model.evaluate(data, labels, verbose=0)[1]\n",
    "\n",
    "import pandas as pd\n",
    "import numpy as np\n",
    "from sklearn.utils import resample\n",
    "\n",
    "def down_sample(X, y):\n",
    "    X = np.array(X)\n",
    "    y = np.array(y)\n",
    "\n",
    "    # 클래스별 최소 개수\n",
    "    unique_classes, counts = np.unique(y, return_counts=True)\n",
    "    min_count = counts.min()\n",
    "\n",
    "    X_balanced, y_balanced = [], []\n",
    "\n",
    "    for cls in unique_classes:\n",
    "        idx = np.where(y == cls)[0]  # 해당 클래스 인덱스\n",
    "        down_idx = resample(idx, replace=False, n_samples=min_count, random_state=42)\n",
    "        X_balanced.append(X[down_idx])\n",
    "        y_balanced.append(y[down_idx])\n",
    "\n",
    "    # 합치기\n",
    "    X_balanced = np.concatenate(X_balanced, axis=0)\n",
    "    y_balanced = np.concatenate(y_balanced, axis=0)\n",
    "\n",
    "    return X_balanced, y_balanced\n"
   ],
   "id": "626745e435ab52ac",
   "outputs": [],
   "execution_count": 3
  },
  {
   "metadata": {
    "ExecuteTime": {
     "end_time": "2025-08-18T18:40:33.702106Z",
     "start_time": "2025-08-18T18:40:33.569576Z"
    }
   },
   "cell_type": "code",
   "source": [
    "from tensorflow.keras.models import load_model\n",
    "\n",
    "model = load_model('./model_K10_H2.h5')"
   ],
   "id": "5553fb863837716f",
   "outputs": [
    {
     "name": "stderr",
     "output_type": "stream",
     "text": [
      "WARNING:absl:Compiled the loaded model, but the compiled metrics have yet to be built. `model.compile_metrics` will be empty until you train or evaluate the model.\n"
     ]
    }
   ],
   "execution_count": 6
  },
  {
   "metadata": {
    "ExecuteTime": {
     "end_time": "2025-08-18T18:40:37.010566Z",
     "start_time": "2025-08-18T18:40:37.006566Z"
    }
   },
   "cell_type": "code",
   "source": [
    "Same_Session_Test_Acc, Next_Session_Test_Acc = [], []\n",
    "Unseen_subject_acc_dict = {\"H\": [], \"C\": [], \"B\": [], \"X\": [], \"M\": []}\n",
    "trainers_unseen = {\n",
    "    \"H\": trainer_Hunmin,\n",
    "    \"C\": trainer_Carlson,\n",
    "    \"B\": trainer_Brian,\n",
    "    \"X\": trainer_Xianyu,\n",
    "    \"M\": trainer_Minjeong\n",
    "}\n",
    "\n"
   ],
   "id": "25172ac8096a9c55",
   "outputs": [],
   "execution_count": 7
  },
  {
   "metadata": {
    "ExecuteTime": {
     "end_time": "2025-08-18T18:40:47.333386Z",
     "start_time": "2025-08-18T18:40:46.918823Z"
    }
   },
   "cell_type": "code",
   "source": [
    "import meta\n",
    "\n",
    "trainer_sub = trainer_Carlson\n",
    "final_session = len(config.Info_sub_C)\n",
    "X_TEST, y_TEST, _, _ = trainer_sub.return_K_th_data_only(K=final_session-1, train_ratio=0.99)\n",
    "\n",
    "##### Few-shot iteration => 여기서 수정을 줘야함\n",
    "for k in range(final_session-1):\n",
    "    unseen_X, unseen_y, X_few_shot, y_few_shot = trainer_sub.return_K_th_data_only(K=k, train_ratio=0.8)\n",
    "    X_train, y_train = down_sample(unseen_X, unseen_y)\n",
    "    X_test, y_test = down_sample(X_few_shot, y_few_shot)\n",
    "\n",
    "    Meta = meta.MetaLearner(input_model=model, N_way=6, input_shape=X_train.shape[1:],\n",
    "        meta_iters=5,                              # Number of meta-training loops\n",
    "        meta_step_size=2                          # Reptile meta step\n",
    "    )\n",
    "    accuracies = Meta.train(X_train, y_train, X_test, y_test, meta.get_data_Meta, N_way=6, K_shot=20)\n",
    "    acc = evaluate_model(model, X_TEST, y_TEST)\n",
    "    print(acc, accuracies)"
   ],
   "id": "142e8c093a617564",
   "outputs": [
    {
     "name": "stdout",
     "output_type": "stream",
     "text": [
      "Returning K-th session data: Exp_2025-08-01-v2/E9AD0E7DCC2B/\n",
      "========================================\n",
      "Returning K-th session data: Exp_2025-06-30-v1/E9AD0E7DCC2B/\n",
      "========================================\n"
     ]
    },
    {
     "ename": "NotImplementedError",
     "evalue": "numpy() is only available when eager execution is enabled.",
     "output_type": "error",
     "traceback": [
      "\u001B[31m---------------------------------------------------------------------------\u001B[39m",
      "\u001B[31mNotImplementedError\u001B[39m                       Traceback (most recent call last)",
      "\u001B[36mCell\u001B[39m\u001B[36m \u001B[39m\u001B[32mIn[9]\u001B[39m\u001B[32m, line 17\u001B[39m\n\u001B[32m     11\u001B[39m X_test, y_test = down_sample(X_few_shot, y_few_shot)\n\u001B[32m     13\u001B[39m Meta = meta.MetaLearner(input_model=model, N_way=\u001B[32m6\u001B[39m, input_shape=X_train.shape[\u001B[32m1\u001B[39m:],\n\u001B[32m     14\u001B[39m     meta_iters=\u001B[32m5\u001B[39m,                              \u001B[38;5;66;03m# Number of meta-training loops\u001B[39;00m\n\u001B[32m     15\u001B[39m     meta_step_size=\u001B[32m2\u001B[39m                          \u001B[38;5;66;03m# Reptile meta step\u001B[39;00m\n\u001B[32m     16\u001B[39m )\n\u001B[32m---> \u001B[39m\u001B[32m17\u001B[39m accuracies = \u001B[43mMeta\u001B[49m\u001B[43m.\u001B[49m\u001B[43mtrain\u001B[49m\u001B[43m(\u001B[49m\u001B[43mX_train\u001B[49m\u001B[43m,\u001B[49m\u001B[43m \u001B[49m\u001B[43my_train\u001B[49m\u001B[43m,\u001B[49m\u001B[43m \u001B[49m\u001B[43mX_test\u001B[49m\u001B[43m,\u001B[49m\u001B[43m \u001B[49m\u001B[43my_test\u001B[49m\u001B[43m,\u001B[49m\u001B[43m \u001B[49m\u001B[43mmeta\u001B[49m\u001B[43m.\u001B[49m\u001B[43mget_data_Meta\u001B[49m\u001B[43m,\u001B[49m\u001B[43m \u001B[49m\u001B[43mN_way\u001B[49m\u001B[43m=\u001B[49m\u001B[32;43m6\u001B[39;49m\u001B[43m,\u001B[49m\u001B[43m \u001B[49m\u001B[43mK_shot\u001B[49m\u001B[43m=\u001B[49m\u001B[32;43m20\u001B[39;49m\u001B[43m)\u001B[49m\n\u001B[32m     18\u001B[39m acc = evaluate_model(model, X_TEST, y_TEST)\n\u001B[32m     19\u001B[39m \u001B[38;5;28mprint\u001B[39m(acc, accuracies)\n",
      "\u001B[36mFile \u001B[39m\u001B[32m~\\PycharmProjects\\MindForce\\github\\V6 Paper\\Inter-subject\\meta.py:28\u001B[39m, in \u001B[36mMetaLearner.train\u001B[39m\u001B[34m(self, X_train, y_train, X_test, y_test, get_data_Meta, N_way, K_shot)\u001B[39m\n\u001B[32m     25\u001B[39m     \u001B[38;5;28;01mcontinue\u001B[39;00m\n\u001B[32m     27\u001B[39m \u001B[38;5;66;03m# Step 3: Train on one episode\u001B[39;00m\n\u001B[32m---> \u001B[39m\u001B[32m28\u001B[39m result = \u001B[38;5;28;43mself\u001B[39;49m\u001B[43m.\u001B[49m\u001B[43mmodel\u001B[49m\u001B[43m.\u001B[49m\u001B[43mfit\u001B[49m\u001B[43m(\u001B[49m\u001B[43mtrain_data\u001B[49m\u001B[43m[\u001B[49m\u001B[32;43m0\u001B[39;49m\u001B[43m]\u001B[49m\u001B[43m,\u001B[49m\u001B[43m \u001B[49m\u001B[43mtrain_data\u001B[49m\u001B[43m[\u001B[49m\u001B[32;43m1\u001B[39;49m\u001B[43m]\u001B[49m\u001B[43m,\u001B[49m\u001B[43m \u001B[49m\u001B[43mepochs\u001B[49m\u001B[43m=\u001B[49m\u001B[32;43m5\u001B[39;49m\u001B[43m,\u001B[49m\u001B[43m \u001B[49m\u001B[43mvalidation_data\u001B[49m\u001B[43m=\u001B[49m\u001B[43m(\u001B[49m\u001B[43mtest_data\u001B[49m\u001B[43m[\u001B[49m\u001B[32;43m0\u001B[39;49m\u001B[43m]\u001B[49m\u001B[43m,\u001B[49m\u001B[43m \u001B[49m\u001B[43mtest_data\u001B[49m\u001B[43m[\u001B[49m\u001B[32;43m1\u001B[39;49m\u001B[43m]\u001B[49m\u001B[43m)\u001B[49m\u001B[43m,\u001B[49m\u001B[43m \u001B[49m\u001B[43mverbose\u001B[49m\u001B[43m=\u001B[49m\u001B[32;43m0\u001B[39;49m\u001B[43m)\u001B[49m\n\u001B[32m     29\u001B[39m val_acc = np.max(result.history[\u001B[33m'\u001B[39m\u001B[33mval_acc\u001B[39m\u001B[33m'\u001B[39m])\n\u001B[32m     30\u001B[39m accuracies.append(val_acc)\n",
      "\u001B[36mFile \u001B[39m\u001B[32m~\\PycharmProjects\\TNSE-R1\\.venv\\Lib\\site-packages\\keras\\src\\utils\\traceback_utils.py:122\u001B[39m, in \u001B[36mfilter_traceback.<locals>.error_handler\u001B[39m\u001B[34m(*args, **kwargs)\u001B[39m\n\u001B[32m    119\u001B[39m     filtered_tb = _process_traceback_frames(e.__traceback__)\n\u001B[32m    120\u001B[39m     \u001B[38;5;66;03m# To get the full stack trace, call:\u001B[39;00m\n\u001B[32m    121\u001B[39m     \u001B[38;5;66;03m# `keras.config.disable_traceback_filtering()`\u001B[39;00m\n\u001B[32m--> \u001B[39m\u001B[32m122\u001B[39m     \u001B[38;5;28;01mraise\u001B[39;00m e.with_traceback(filtered_tb) \u001B[38;5;28;01mfrom\u001B[39;00m\u001B[38;5;250m \u001B[39m\u001B[38;5;28;01mNone\u001B[39;00m\n\u001B[32m    123\u001B[39m \u001B[38;5;28;01mfinally\u001B[39;00m:\n\u001B[32m    124\u001B[39m     \u001B[38;5;28;01mdel\u001B[39;00m filtered_tb\n",
      "\u001B[36mFile \u001B[39m\u001B[32m~\\PycharmProjects\\TNSE-R1\\.venv\\Lib\\site-packages\\keras\\src\\backend\\tensorflow\\core.py:171\u001B[39m, in \u001B[36mconvert_to_numpy\u001B[39m\u001B[34m(x)\u001B[39m\n\u001B[32m    169\u001B[39m \u001B[38;5;28;01melif\u001B[39;00m \u001B[38;5;28misinstance\u001B[39m(x, tf.RaggedTensor):\n\u001B[32m    170\u001B[39m     x = x.to_tensor()\n\u001B[32m--> \u001B[39m\u001B[32m171\u001B[39m \u001B[38;5;28;01mreturn\u001B[39;00m \u001B[43mnp\u001B[49m\u001B[43m.\u001B[49m\u001B[43marray\u001B[49m\u001B[43m(\u001B[49m\u001B[43mx\u001B[49m\u001B[43m)\u001B[49m\n",
      "\u001B[31mNotImplementedError\u001B[39m: numpy() is only available when eager execution is enabled."
     ]
    }
   ],
   "execution_count": 9
  },
  {
   "metadata": {
    "ExecuteTime": {
     "end_time": "2025-08-18T18:41:34.228033Z",
     "start_time": "2025-08-18T18:41:34.223618Z"
    }
   },
   "cell_type": "code",
   "source": "X_train.shape",
   "id": "4ec46ea3d1d7e89b",
   "outputs": [
    {
     "data": {
      "text/plain": [
       "(1764, 4, 14, 1)"
      ]
     },
     "execution_count": 10,
     "metadata": {},
     "output_type": "execute_result"
    }
   ],
   "execution_count": 10
  },
  {
   "metadata": {},
   "cell_type": "code",
   "source": "",
   "id": "4223d0aaa6091be4",
   "outputs": [],
   "execution_count": null
  },
  {
   "metadata": {},
   "cell_type": "code",
   "source": "",
   "id": "ddfd42ae4ec5a8a",
   "outputs": [],
   "execution_count": null
  },
  {
   "metadata": {},
   "cell_type": "code",
   "source": "",
   "id": "7141504936555de",
   "outputs": [],
   "execution_count": null
  },
  {
   "metadata": {},
   "cell_type": "code",
   "source": "Unseen_subject_acc_dict",
   "id": "cabe5808961d1788",
   "outputs": [],
   "execution_count": null
  },
  {
   "metadata": {},
   "cell_type": "code",
   "source": "",
   "id": "afadd139d97f1844",
   "outputs": [],
   "execution_count": null
  },
  {
   "metadata": {},
   "cell_type": "code",
   "source": "",
   "id": "6c9942b496f97f39",
   "outputs": [],
   "execution_count": null
  },
  {
   "metadata": {},
   "cell_type": "code",
   "source": [
    "SUBJECT = \"Carlson\"\n",
    "Threshold_K = 10\n",
    "trainer = baseline.ModelTrainer(config, subject=SUBJECT)\n",
    "X_init, y_init, X_init_test, y_init_test = trainer.return_until_K_data(K=Threshold_K, train_ratio=0.8)\n",
    "print(X_init.shape, y_init.shape, X_init_test.shape, y_init_test.shape)\n",
    "\n",
    "model = self_supervised_v1.build_model()\n",
    "result = model.fit(X_init, y_init, validation_data=(X_init_test, y_init_test), epochs=100, batch_size=64, verbose=0)\n",
    "model.save('./model_K10_C.h5')"
   ],
   "id": "71ce8fa13c3ecabd",
   "outputs": [],
   "execution_count": null
  },
  {
   "metadata": {},
   "cell_type": "code",
   "source": [
    "Same_Session_Test_Acc, Next_Session_Test_Acc = [], []\n",
    "#Unseen_subject_acc_dict = {\"H\": [], \"C\": [], \"H2\": [], \"X\": [], \"M\": []}\n",
    "Unseen_subject_acc_dict = {\"H\": [], \"B\": [], \"H2\": [], \"X\": [], \"M\": []}\n",
    "trainers_unseen = {\n",
    "    \"H\": trainer_Hunmin,\n",
    "    #\"C\": trainer_Carlson,\n",
    "    \"B\": trainer_Brian,\n",
    "    \"H2\": trainer_Harold,\n",
    "    \"X\": trainer_Xianyu,\n",
    "    \"M\": trainer_Minjeong\n",
    "}\n",
    "\n",
    "# Unseen subject 테스트\n",
    "for key, trainer_sub in trainers_unseen.items():\n",
    "    print(f\"Start : {key}\")\n",
    "    if key == \"H\":\n",
    "        final_session = len(config.Info_sub_H)\n",
    "    #elif key == \"C\":\n",
    "    #    final_session = len(config.Info_sub_C)\n",
    "    elif key == \"B\":\n",
    "        final_session = len(config.Info_sub_B)\n",
    "    elif key == \"H2\":\n",
    "        final_session = len(config.Info_sub_H2)\n",
    "    elif key == \"X\":\n",
    "        final_session = len(config.Info_sub_X)\n",
    "    elif key == \"M\":\n",
    "        final_session = len(config.Info_sub_M)\n",
    "\n",
    "    unseen_X, unseen_y, _, _ = trainer_sub.return_until_K_data(K=final_session, train_ratio=0.8)\n",
    "    X_test, y_test = down_sample(unseen_X, unseen_y)\n",
    "    acc = evaluate_model(model, X_test, y_test)\n",
    "    #print(pd.Series(y_test).value_counts())\n",
    "    Unseen_subject_acc_dict[key].append(acc)"
   ],
   "id": "8d3bdb9622a7be81",
   "outputs": [],
   "execution_count": null
  },
  {
   "metadata": {},
   "cell_type": "code",
   "source": "Unseen_subject_acc_dict",
   "id": "dae7d660ee6700cc",
   "outputs": [],
   "execution_count": null
  },
  {
   "metadata": {},
   "cell_type": "code",
   "source": "",
   "id": "5c77ec2483eb7443",
   "outputs": [],
   "execution_count": null
  },
  {
   "metadata": {},
   "cell_type": "code",
   "source": "",
   "id": "598872daafc1cb55",
   "outputs": [],
   "execution_count": null
  },
  {
   "metadata": {
    "jupyter": {
     "is_executing": true
    }
   },
   "cell_type": "code",
   "source": [
    "SUBJECT = \"Xianyu\"\n",
    "Threshold_K = 10\n",
    "trainer = baseline.ModelTrainer(config, subject=SUBJECT)\n",
    "X_init, y_init, X_init_test, y_init_test = trainer.return_until_K_data(K=Threshold_K, train_ratio=0.8)\n",
    "print(X_init.shape, y_init.shape, X_init_test.shape, y_init_test.shape)\n",
    "\n",
    "model = self_supervised_v1.build_model()\n",
    "result = model.fit(X_init, y_init, validation_data=(X_init_test, y_init_test), epochs=100, batch_size=64, verbose=0)\n",
    "model.save('./model_K10_X.h5')"
   ],
   "id": "5d80ee7566a1c903",
   "outputs": [],
   "execution_count": null
  },
  {
   "metadata": {},
   "cell_type": "code",
   "source": [
    "Same_Session_Test_Acc, Next_Session_Test_Acc = [], []\n",
    "Unseen_subject_acc_dict = {\"H\": [], \"C\": [], \"B\": [], \"H2\": [], \"M\": []}\n",
    "#Unseen_subject_acc_dict = {\"H\": [], \"B\": [], \"H2\": [], \"X\": [], \"M\": []}\n",
    "trainers_unseen = {\n",
    "    \"H\": trainer_Hunmin,\n",
    "    #\"C\": trainer_Carlson,\n",
    "    \"B\": trainer_Brian,\n",
    "    \"H2\": trainer_Harold,\n",
    "    \"X\": trainer_Xianyu,\n",
    "    \"M\": trainer_Minjeong\n",
    "}\n",
    "\n",
    "# Unseen subject 테스트\n",
    "for key, trainer_sub in trainers_unseen.items():\n",
    "    print(f\"Start : {key}\")\n",
    "    if key == \"H\":\n",
    "        final_session = len(config.Info_sub_H)\n",
    "    elif key == \"C\":\n",
    "        final_session = len(config.Info_sub_C)\n",
    "    elif key == \"B\":\n",
    "        final_session = len(config.Info_sub_B)\n",
    "    elif key == \"H2\":\n",
    "        final_session = len(config.Info_sub_H2)\n",
    "    #elif key == \"X\":\n",
    "    #    final_session = len(config.Info_sub_X)\n",
    "    elif key == \"M\":\n",
    "        final_session = len(config.Info_sub_M)\n",
    "\n",
    "    unseen_X, unseen_y, _, _ = trainer_sub.return_until_K_data(K=final_session, train_ratio=0.8)\n",
    "    X_test, y_test = down_sample(unseen_X, unseen_y)\n",
    "    acc = evaluate_model(model, X_test, y_test)\n",
    "    #print(pd.Series(y_test).value_counts())\n",
    "    Unseen_subject_acc_dict[key].append(acc)"
   ],
   "id": "e7554be2f541c019",
   "outputs": [],
   "execution_count": null
  },
  {
   "metadata": {},
   "cell_type": "code",
   "source": "Unseen_subject_acc_dict",
   "id": "31cc28eee51e6821",
   "outputs": [],
   "execution_count": null
  },
  {
   "metadata": {},
   "cell_type": "code",
   "source": "",
   "id": "a532be8abc85d822",
   "outputs": [],
   "execution_count": null
  },
  {
   "metadata": {},
   "cell_type": "code",
   "source": "",
   "id": "656e7595f7fdfed8",
   "outputs": [],
   "execution_count": null
  },
  {
   "metadata": {},
   "cell_type": "code",
   "source": [
    "SUBJECT = \"Minjeong\"\n",
    "Threshold_K = 10\n",
    "trainer = baseline.ModelTrainer(config, subject=SUBJECT)\n",
    "X_init, y_init, X_init_test, y_init_test = trainer.return_until_K_data(K=Threshold_K, train_ratio=0.8)\n",
    "print(X_init.shape, y_init.shape, X_init_test.shape, y_init_test.shape)\n",
    "\n",
    "model = self_supervised_v1.build_model()\n",
    "result = model.fit(X_init, y_init, validation_data=(X_init_test, y_init_test), epochs=100, batch_size=64, verbose=0)\n",
    "model.save('./model_K10_M.h5')"
   ],
   "id": "24c6282c66969975",
   "outputs": [],
   "execution_count": null
  },
  {
   "metadata": {},
   "cell_type": "code",
   "source": [
    "Same_Session_Test_Acc, Next_Session_Test_Acc = [], []\n",
    "Unseen_subject_acc_dict = {\"H\": [], \"C\": [], \"B\": [], \"H2\": [], \"X\": []}\n",
    "#Unseen_subject_acc_dict = {\"H\": [], \"B\": [], \"H2\": [], \"X\": [], \"M\": []}\n",
    "trainers_unseen = {\n",
    "    \"H\": trainer_Hunmin,\n",
    "    \"C\": trainer_Carlson,\n",
    "    \"B\": trainer_Brian,\n",
    "    \"H2\": trainer_Harold,\n",
    "    \"X\": trainer_Xianyu,\n",
    "    #\"M\": trainer_Minjeong\n",
    "}\n",
    "\n",
    "# Unseen subject 테스트\n",
    "for key, trainer_sub in trainers_unseen.items():\n",
    "    print(f\"Start : {key}\")\n",
    "    if key == \"H\":\n",
    "        final_session = len(config.Info_sub_H)\n",
    "    elif key == \"C\":\n",
    "        final_session = len(config.Info_sub_C)\n",
    "    elif key == \"B\":\n",
    "        final_session = len(config.Info_sub_B)\n",
    "    elif key == \"H2\":\n",
    "        final_session = len(config.Info_sub_H2)\n",
    "    elif key == \"X\":\n",
    "        final_session = len(config.Info_sub_X)\n",
    "    #elif key == \"M\":\n",
    "    #    final_session = len(config.Info_sub_M)\n",
    "\n",
    "    unseen_X, unseen_y, _, _ = trainer_sub.return_until_K_data(K=final_session, train_ratio=0.8)\n",
    "    X_test, y_test = down_sample(unseen_X, unseen_y)\n",
    "    acc = evaluate_model(model, X_test, y_test)\n",
    "    #print(pd.Series(y_test).value_counts())\n",
    "    Unseen_subject_acc_dict[key].append(acc)"
   ],
   "id": "e88ee7bcb090964b",
   "outputs": [],
   "execution_count": null
  },
  {
   "metadata": {},
   "cell_type": "code",
   "source": "Unseen_subject_acc_dict",
   "id": "74e0ec29f0780aea",
   "outputs": [],
   "execution_count": null
  },
  {
   "metadata": {},
   "cell_type": "code",
   "source": "",
   "id": "80cf73632f882878",
   "outputs": [],
   "execution_count": null
  },
  {
   "metadata": {},
   "cell_type": "code",
   "source": "",
   "id": "abe3d2253a888e0f",
   "outputs": [],
   "execution_count": null
  },
  {
   "metadata": {},
   "cell_type": "code",
   "source": [
    "from tensorflow.keras.models import load_model\n",
    "\n",
    "model = load_model('C:\\Users\\hml76\\PycharmProjects\\MindForce\\github\\V5 Self Supervised Learning\\V1 - Semi Supervised Learning in online(Pseudo-labeling)/model_K10_H.h5')"
   ],
   "id": "376eb7cf49ce1697",
   "outputs": [],
   "execution_count": null
  },
  {
   "metadata": {},
   "cell_type": "code",
   "source": [
    "Same_Session_Test_Acc, Next_Session_Test_Acc = [], []\n",
    "Unseen_subject_acc_dict = {\"B\": [], \"C\": [], \"H2\": [], \"X\": [], \"M\": []}\n",
    "#Unseen_subject_acc_dict = {\"H\": [], \"B\": [], \"H2\": [], \"X\": [], \"M\": []}\n",
    "trainers_unseen = {\n",
    "    #\"H\": trainer_Hunmin,\n",
    "    \"C\": trainer_Carlson,\n",
    "    \"B\": trainer_Brian,\n",
    "    \"H2\": trainer_Harold,\n",
    "    \"X\": trainer_Xianyu,\n",
    "    \"M\": trainer_Minjeong\n",
    "}\n",
    "\n",
    "# Unseen subject 테스트\n",
    "for key, trainer_sub in trainers_unseen.items():\n",
    "    print(f\"Start : {key}\")\n",
    "    #if key == \"H\":\n",
    "    #    final_session = len(config.Info_sub_H)\n",
    "    if key == \"C\":\n",
    "        final_session = len(config.Info_sub_C)\n",
    "    elif key == \"B\":\n",
    "        final_session = len(config.Info_sub_B)\n",
    "    elif key == \"H2\":\n",
    "        final_session = len(config.Info_sub_H2)\n",
    "    elif key == \"X\":\n",
    "        final_session = len(config.Info_sub_X)\n",
    "    elif key == \"M\":\n",
    "        final_session = len(config.Info_sub_M)\n",
    "\n",
    "    unseen_X, unseen_y, _, _ = trainer_sub.return_until_K_data(K=final_session, train_ratio=0.8)\n",
    "    X_test, y_test = down_sample(unseen_X, unseen_y)\n",
    "    acc = evaluate_model(model, X_test, y_test)\n",
    "    #print(pd.Series(y_test).value_counts())\n",
    "    Unseen_subject_acc_dict[key].append(acc)"
   ],
   "id": "2c447797b3324475",
   "outputs": [],
   "execution_count": null
  },
  {
   "metadata": {},
   "cell_type": "code",
   "source": "Unseen_subject_acc_dict",
   "id": "2cab6e031c757292",
   "outputs": [],
   "execution_count": null
  },
  {
   "metadata": {},
   "cell_type": "code",
   "source": "",
   "id": "9cc62ca4a0a551e1",
   "outputs": [],
   "execution_count": null
  }
 ],
 "metadata": {
  "kernelspec": {
   "display_name": "Python 3",
   "language": "python",
   "name": "python3"
  },
  "language_info": {
   "codemirror_mode": {
    "name": "ipython",
    "version": 2
   },
   "file_extension": ".py",
   "mimetype": "text/x-python",
   "name": "python",
   "nbconvert_exporter": "python",
   "pygments_lexer": "ipython2",
   "version": "2.7.6"
  }
 },
 "nbformat": 4,
 "nbformat_minor": 5
}
