{
 "cells": [
  {
   "cell_type": "code",
   "id": "initial_id",
   "metadata": {
    "collapsed": true,
    "ExecuteTime": {
     "end_time": "2025-07-12T21:47:47.976052Z",
     "start_time": "2025-07-12T21:47:45.220493Z"
    }
   },
   "source": [
    "import sys\n",
    "sys.path.append('../Share')\n",
    "import config\n",
    "import baseline\n",
    "import Target\n",
    "\n",
    "import numpy as np\n",
    "import pandas as pd"
   ],
   "outputs": [],
   "execution_count": 1
  },
  {
   "metadata": {
    "ExecuteTime": {
     "end_time": "2025-07-12T21:48:44.825878Z",
     "start_time": "2025-07-12T21:48:13.475632Z"
    }
   },
   "cell_type": "code",
   "source": [
    "baseline_K_val = [1, 4]\n",
    "\n",
    "if __name__ == \"__main__\":\n",
    "    for K in baseline_K_val:\n",
    "        trainer = baseline.TremorModelTrainer(config, subject=\"Brian\")\n",
    "        trainer.run_all_sessions_training_K_data(K)\n",
    "        df = trainer.save_results(f'../Results/Baseline_results_train_with_{K}data_B.csv')\n",
    "# 저장해놨어서 데이터 업데이트 전에 한번 돌리면 굳이 안돌려도 됨'''"
   ],
   "id": "722bdc3c8cbe9ef3",
   "outputs": [
    {
     "name": "stdout",
     "output_type": "stream",
     "text": [
      "Dataset 1/6 - Session Exp_2025-06-27-v1/E9AD0E7DCC2B/\n",
      "========================================\n",
      "(8532, 4, 14, 1) (8532,) (86, 4, 14, 1) (86,)\n",
      "Dataset 2/6 - Session Exp_2025-06-27-v2/E9AD0E7DCC2B/\n",
      "========================================\n",
      "Start Training (total epochs: 50)...\n",
      "Finish Training! (Model is saved)\n",
      "Maximum training accuracy : 77.39%\n",
      "Maximum validation accuracy : 83.72%\n",
      "Accuracy of test dataset using model V0: 83.7209%\n",
      "Dataset 3/6 - Session Exp_2025-07-09-v1/E9AD0E7DCC2B/\n",
      "========================================\n",
      "Accuracy on unseen dataset: 84.9832%\n",
      "Dataset 4/6 - Session Exp_2025-07-09-v2/E9AD0E7DCC2B/\n",
      "========================================\n",
      "There is more than one dataset - check - C:/Users/hml76/OneDrive/문서/MATLAB/Data_Brian/Exp_2025-07-09-v2/E9AD0E7DCC2B//raw/ - ['1/', '2/', '3/', '4/', '5/']\n",
      "Accuracy on unseen dataset: 84.2826%\n",
      "Dataset 5/6 - Session Exp_2025-07-10-v1/E9AD0E7DCC2B/\n",
      "========================================\n",
      "Accuracy on unseen dataset: 85.0890%\n",
      "Dataset 6/6 - Session Exp_2025-07-10-v2/E9AD0E7DCC2B/\n",
      "========================================\n",
      "Accuracy on unseen dataset: 84.9205%\n",
      "Results saved to ../Results/Baseline_results_train_with_1data_B.csv\n",
      "\n",
      "\n",
      "Dataset 1/6 - Session Exp_2025-06-27-v1/E9AD0E7DCC2B/\n",
      "========================================\n",
      "(8532, 4, 14, 1) (8532,) (86, 4, 14, 1) (86,)\n",
      "Dataset 2/6 - Session Exp_2025-06-27-v2/E9AD0E7DCC2B/\n",
      "========================================\n",
      "(17043, 4, 14, 1) (17043,) (172, 4, 14, 1) (172,)\n",
      "Dataset 3/6 - Session Exp_2025-07-09-v1/E9AD0E7DCC2B/\n",
      "========================================\n",
      "(25574, 4, 14, 1) (25574,) (258, 4, 14, 1) (258,)\n",
      "Dataset 4/6 - Session Exp_2025-07-09-v2/E9AD0E7DCC2B/\n",
      "========================================\n",
      "There is more than one dataset - check - C:/Users/hml76/OneDrive/문서/MATLAB/Data_Brian/Exp_2025-07-09-v2/E9AD0E7DCC2B//raw/ - ['1/', '2/', '3/', '4/', '5/']\n",
      "(34109, 4, 14, 1) (34109,) (344, 4, 14, 1) (344,)\n",
      "Dataset 5/6 - Session Exp_2025-07-10-v1/E9AD0E7DCC2B/\n",
      "========================================\n",
      "Start Training (total epochs: 50)...\n",
      "Finish Training! (Model is saved)\n",
      "Maximum training accuracy : 85.68%\n",
      "Maximum validation accuracy : 91.86%\n",
      "Accuracy of test dataset using model V0: 91.8605%\n",
      "Dataset 6/6 - Session Exp_2025-07-10-v2/E9AD0E7DCC2B/\n",
      "========================================\n",
      "Accuracy on unseen dataset: 88.3656%\n",
      "Results saved to ../Results/Baseline_results_train_with_4data_B.csv\n",
      "\n",
      "\n"
     ]
    }
   ],
   "execution_count": 2
  },
  {
   "metadata": {
    "ExecuteTime": {
     "end_time": "2025-07-12T21:53:55.270343Z",
     "start_time": "2025-07-12T21:53:55.267390Z"
    }
   },
   "cell_type": "code",
   "source": [
    "b_path = 'C:/Users/hml76/PycharmProjects/Tremor_project_local/NCI_mindforce'\n",
    "baseline_K = ['1', '4', '8', '12']\n",
    "baselines = []\n",
    "\n",
    "for idx, K in enumerate(baseline_K):\n",
    "    baselines.append(b_path + f'/github/Results/Baseline_results_train_with_{K}data_B.csv')\n",
    "\n",
    "SUBJECT = \"Brian\""
   ],
   "id": "2e765482a9856fbd",
   "outputs": [],
   "execution_count": 4
  },
  {
   "metadata": {
    "jupyter": {
     "is_executing": true
    },
    "ExecuteTime": {
     "start_time": "2025-07-12T21:53:57.613285Z"
    }
   },
   "cell_type": "code",
   "source": [
    "import Target\n",
    "\n",
    "prog_trainer = Target.ProgressiveTrainer(config, subject=SUBJECT)\n",
    "Init_acc_all, Prev_acc_all, Trained_acc_all = prog_trainer.run(plot_learning_curve=False)\n",
    "prog_trainer.plot_results(baselines, baseline_K)\n",
    "\n",
    "for idx, x in enumerate([Init_acc_all, Prev_acc_all, Trained_acc_all]):\n",
    "    if idx==0:\n",
    "        print(f\"Average of acc without training anything (should be random): {np.mean(x)*100:.2f}%\")\n",
    "    elif idx==1:\n",
    "        print(f\"Average of acc using previous test data after training: {np.mean(x)*100:.2f}%\")\n",
    "    elif idx==2:\n",
    "        print(f\"Average of acc using current test data after training: {np.mean(x)*100:.2f}%\")\n",
    "for idx, b in enumerate(baselines):\n",
    "    print(f\"Baseline K-{baseline_K[idx]}: {float(np.mean(pd.read_csv(baselines[idx])['Accuracy'][int(baseline_K[idx]):])):.2f}%\")"
   ],
   "id": "19a33d50b3192086",
   "outputs": [
    {
     "name": "stdout",
     "output_type": "stream",
     "text": [
      "\n",
      "===========================================\n",
      "Dataset 1/6 - Session Exp_2025-06-27-v1/E9AD0E7DCC2B/\n",
      "===========================================\n",
      "Start Training (total epochs: 50)...\n"
     ]
    }
   ],
   "execution_count": null
  },
  {
   "metadata": {},
   "cell_type": "code",
   "source": "",
   "id": "650961d06f46be31",
   "outputs": [],
   "execution_count": null
  },
  {
   "metadata": {},
   "cell_type": "code",
   "source": "",
   "id": "e7a973712efe1e03",
   "outputs": [],
   "execution_count": null
  },
  {
   "metadata": {},
   "cell_type": "code",
   "source": "",
   "id": "b2082587589d7078",
   "outputs": [],
   "execution_count": null
  }
 ],
 "metadata": {
  "kernelspec": {
   "display_name": "Python 3",
   "language": "python",
   "name": "python3"
  },
  "language_info": {
   "codemirror_mode": {
    "name": "ipython",
    "version": 2
   },
   "file_extension": ".py",
   "mimetype": "text/x-python",
   "name": "python",
   "nbconvert_exporter": "python",
   "pygments_lexer": "ipython2",
   "version": "2.7.6"
  }
 },
 "nbformat": 4,
 "nbformat_minor": 5
}
