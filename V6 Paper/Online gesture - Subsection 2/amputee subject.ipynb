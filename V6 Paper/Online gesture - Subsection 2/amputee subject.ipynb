{
 "cells": [
  {
   "cell_type": "code",
   "id": "initial_id",
   "metadata": {
    "collapsed": true,
    "ExecuteTime": {
     "end_time": "2025-08-22T19:38:54.052584Z",
     "start_time": "2025-08-22T19:38:33.580115Z"
    }
   },
   "source": [
    "import numpy as np\n",
    "import matplotlib.pyplot as plt\n",
    "import pandas as pd\n",
    "import os, sys\n",
    "\n",
    "from sklearn.model_selection import train_test_split\n",
    "sys.path.append('../../Share/')\n",
    "import Model\n",
    "\n",
    "def random_downsample_Num(X, y=None, n_keep=None, random_state=42):\n",
    "    np.random.seed(random_state)\n",
    "    n_samples = X.shape[0]\n",
    "\n",
    "    if n_keep is None or n_keep > n_samples:\n",
    "        raise ValueError(f\"n_keep must be between 1 and {n_samples}, got {n_keep}\")\n",
    "\n",
    "    idx_keep = np.random.choice(n_samples, size=n_keep, replace=False)\n",
    "    X_down = X[idx_keep]\n",
    "\n",
    "    if y is not None:\n",
    "        y_down = y[idx_keep]\n",
    "        return X_down, y_down\n",
    "    else:\n",
    "        return X_down\n",
    "\n",
    "\n",
    "def baseline_run_specific_T_with_one_feature(X_lst, y_lst, trial, f=2):\n",
    "    all_acc_per_session = []\n",
    "    feature_set, num_channels = 14, 16\n",
    "\n",
    "    for t in trial:\n",
    "        X, y = X_lst[t].reshape(-1,num_channels,feature_set,1), y_lst[t]\n",
    "        X_train = X[:,:,f,:]\n",
    "        model = Model.Original_model_1DCNN(input_size=X_train.shape[1:], num_class=6)\n",
    "        history, _ = Model.Train_model_without_test(model, X_train, y, set_epoch=50, set_batch_size=128, Model_name=None, set_verbose=False, save_model_set=False)\n",
    "\n",
    "    return model\n",
    "\n",
    "\n",
    "def return_session_data(X_lst, y_lst, trial, f=2):\n",
    "    all_acc_per_session = []\n",
    "    feature_set, num_channels = 14, 16\n",
    "\n",
    "    X, y = X_lst[trial].reshape(-1,num_channels,feature_set,1), y_lst[trial]\n",
    "    X = X[:,:,f,:]\n",
    "    X_train, X_test, y_train, y_test = train_test_split(X, y, test_size=0.2)\n",
    "\n",
    "    return X_train, X_test, y_train, y_test\n",
    "\n",
    "\n",
    "def inter_session_run_one_feature(X_lst, y_lst, f=2):\n",
    "    num_trials = len(X_lst)\n",
    "    all_acc_K = []\n",
    "\n",
    "    for t in [1, 4, 7, 9]:\n",
    "        X_train = [X_lst[i].reshape(-1, 16, 14, 1) for i in range(t)]\n",
    "        X_train = np.concatenate(X_train, axis=0)\n",
    "        y_train = [y_lst[i] for i in range(t)]\n",
    "        y_train = np.concatenate(y_train, axis=0)\n",
    "\n",
    "        X_test = [X_lst[i].reshape(-1, 16, 14, 1) for i in range(t, len(X_lst))]\n",
    "        X_test = np.concatenate(X_test, axis=0)\n",
    "\n",
    "        y_test = [y_lst[i] for i in range(t, len(y_lst))]\n",
    "        y_test = np.concatenate(y_test, axis=0)\n",
    "        X_test, y_test = random_downsample_Num(X_test, y_test, n_keep=1000, random_state=42)\n",
    "        X_train, X_test = X_train[:,:,f,:], X_test[:,:,f,:]\n",
    "        print(X_train.shape, y_train.shape, X_test.shape, y_test.shape)\n",
    "\n",
    "        model = Model.Original_model_1DCNN(input_size=X_train.shape[1:], num_class=6)\n",
    "        history, _ = Model.Train_model(model, X_train, y_train, X_test, y_test, set_epoch=50, set_batch_size=128, Model_name=None, set_verbose=False, save_model_set=False)\n",
    "\n",
    "        print(f\"\\tTrial {t+1}/{num_trials}/feat{f} | Val Acc: {np.max(history.history['val_accuracy'])}\")\n",
    "        all_acc_K.append(np.max(history.history['val_accuracy']))\n",
    "    return all_acc_K\n",
    "\n",
    "\n",
    "def generate_pseudo_label(model, x):\n",
    "    y_pred = model.predict(x, verbose=0)\n",
    "    return np.argmax(y_pred, axis=1)\n",
    "\n",
    "def online_update(model, new_sample, pseudo_label, learning_rate=0.001):\n",
    "    model.train_on_batch(new_sample, pseudo_label)\n",
    "    return model\n",
    "\n",
    "def evaluate_model(model, data, labels):\n",
    "    return model.evaluate(data, labels, verbose=0)[1]"
   ],
   "outputs": [],
   "execution_count": 1
  },
  {
   "metadata": {
    "ExecuteTime": {
     "end_time": "2025-08-22T19:38:59.087120Z",
     "start_time": "2025-08-22T19:38:54.055864Z"
    }
   },
   "cell_type": "code",
   "source": [
    "path = 'C:/Users/hml76/Desktop/Jupyter/Federated Prototype Learning/Dataset/Ours_cleaned/'\n",
    "fname = os.listdir(path)\n",
    "\n",
    "subjects = {\n",
    "    \"subject1\": {\"X\": [], \"Y\": []},\n",
    "    \"subject2\": {\"X\": [], \"Y\": []},\n",
    "    \"subject3\": {\"X\": [], \"Y\": []},\n",
    "}\n",
    "\n",
    "for f in fname:\n",
    "    for i in range(10):\n",
    "        X = np.array(pd.read_csv(path + f'{f}/rep{i}_X.csv'))\n",
    "        y = np.array(pd.read_csv(path + f'{f}/rep{i}_Y.csv'))\n",
    "\n",
    "        # shuffle\n",
    "        #indices = np.random.permutation(len(X))\n",
    "        #X, y = X[indices], y[indices]\n",
    "\n",
    "        # convert one-hot to integer labels\n",
    "        y_int = np.argmax(y, axis=1)\n",
    "        num_classes = np.max(y_int) + 1\n",
    "\n",
    "        # example rule to assign data to subject dict\n",
    "        if \"subject1\" in f:\n",
    "            subjects[\"subject1\"][\"X\"].append(X)\n",
    "            subjects[\"subject1\"][\"Y\"].append(y_int)\n",
    "        elif \"subject2\" in f:\n",
    "            subjects[\"subject2\"][\"X\"].append(X)\n",
    "            subjects[\"subject2\"][\"Y\"].append(y_int)\n",
    "        elif \"subject3\" in f:\n",
    "            subjects[\"subject3\"][\"X\"].append(X)\n",
    "            subjects[\"subject3\"][\"Y\"].append(y_int)\n",
    "\n",
    "X_lst2, y_lst2 = subjects[\"subject2\"][\"X\"], subjects[\"subject2\"][\"Y\"]\n",
    "X_lst3, y_lst3 = subjects[\"subject3\"][\"X\"], subjects[\"subject3\"][\"Y\"]"
   ],
   "id": "d2ee3fceac6e5c83",
   "outputs": [],
   "execution_count": 2
  },
  {
   "metadata": {
    "ExecuteTime": {
     "end_time": "2025-08-22T19:52:14.669584Z",
     "start_time": "2025-08-22T19:52:14.665240Z"
    }
   },
   "cell_type": "code",
   "source": [
    "def online_learning_run(X_lst, y_lst, trials):\n",
    "    model = baseline_run_specific_T_with_one_feature(X_lst, y_lst, trial=trials, f=2)\n",
    "\n",
    "    Next_Session_Test_Acc, Same_Session_Test_Acc = [], []\n",
    "\n",
    "    for trial in range(len(trials), len(X_lst)):\n",
    "        X_train, X_test, y_train, y_test = return_session_data(X_lst, y_lst, trial, f=2)\n",
    "        pseudo_labels = generate_pseudo_label(model, X_train)\n",
    "        model = online_update(model, X_train, pseudo_labels)\n",
    "        Same_Session_Test_Acc.append(evaluate_model(model, X_test, y_test))\n",
    "\n",
    "        next_X, _, next_y, _ = return_session_data(X_lst, y_lst, trial, f=2)\n",
    "        Next_Session_Test_Acc.append(evaluate_model(model, next_X, next_y))\n",
    "\n",
    "    return Same_Session_Test_Acc, Next_Session_Test_Acc"
   ],
   "id": "44d62172fac63b7e",
   "outputs": [],
   "execution_count": 18
  },
  {
   "metadata": {
    "ExecuteTime": {
     "end_time": "2025-08-22T20:05:15.025210Z",
     "start_time": "2025-08-22T20:01:06.627281Z"
    }
   },
   "cell_type": "code",
   "source": [
    "a1,b1 = online_learning_run(X_lst2, y_lst2, trials=[0]) #1\n",
    "a2,b2 = online_learning_run(X_lst2, y_lst2, trials=[0,1])  #2\n",
    "a3,b3 = online_learning_run(X_lst2, y_lst2, trials=[0,1,2,3]) #4\n",
    "a4,b4 = online_learning_run(X_lst2, y_lst2, trials=[0,1,2,3,4,5]) # 6\n",
    "a5,b5 = online_learning_run(X_lst2, y_lst2, trials=[0,1,2,3,4,5,6,7]) # 8"
   ],
   "id": "d2bf0c498090f205",
   "outputs": [
    {
     "name": "stdout",
     "output_type": "stream",
     "text": [
      "Start Training (total epochs: 50)...\n",
      "Finish Training! (Model is NOT saved)\n",
      "\n",
      "Start Training (total epochs: 50)...\n",
      "Finish Training! (Model is NOT saved)\n",
      "\n",
      "Start Training (total epochs: 50)...\n",
      "Finish Training! (Model is NOT saved)\n",
      "\n",
      "Start Training (total epochs: 50)...\n",
      "Finish Training! (Model is NOT saved)\n",
      "\n",
      "Start Training (total epochs: 50)...\n",
      "Finish Training! (Model is NOT saved)\n",
      "\n",
      "Start Training (total epochs: 50)...\n",
      "Finish Training! (Model is NOT saved)\n",
      "\n",
      "Start Training (total epochs: 50)...\n",
      "Finish Training! (Model is NOT saved)\n",
      "\n",
      "Start Training (total epochs: 50)...\n",
      "Finish Training! (Model is NOT saved)\n",
      "\n",
      "Start Training (total epochs: 50)...\n",
      "Finish Training! (Model is NOT saved)\n",
      "\n",
      "Start Training (total epochs: 50)...\n",
      "Finish Training! (Model is NOT saved)\n",
      "\n",
      "Start Training (total epochs: 50)...\n",
      "Finish Training! (Model is NOT saved)\n",
      "\n",
      "Start Training (total epochs: 50)...\n",
      "Finish Training! (Model is NOT saved)\n",
      "\n",
      "Start Training (total epochs: 50)...\n",
      "Finish Training! (Model is NOT saved)\n",
      "\n",
      "Start Training (total epochs: 50)...\n",
      "Finish Training! (Model is NOT saved)\n",
      "\n",
      "Start Training (total epochs: 50)...\n",
      "Finish Training! (Model is NOT saved)\n",
      "\n",
      "Start Training (total epochs: 50)...\n",
      "Finish Training! (Model is NOT saved)\n",
      "\n",
      "Start Training (total epochs: 50)...\n",
      "Finish Training! (Model is NOT saved)\n",
      "\n",
      "Start Training (total epochs: 50)...\n",
      "Finish Training! (Model is NOT saved)\n",
      "\n",
      "Start Training (total epochs: 50)...\n",
      "Finish Training! (Model is NOT saved)\n",
      "\n",
      "Start Training (total epochs: 50)...\n",
      "Finish Training! (Model is NOT saved)\n",
      "\n",
      "Start Training (total epochs: 50)...\n",
      "Finish Training! (Model is NOT saved)\n",
      "\n"
     ]
    }
   ],
   "execution_count": 25
  },
  {
   "metadata": {
    "ExecuteTime": {
     "end_time": "2025-08-22T19:56:26.036572Z",
     "start_time": "2025-08-22T19:52:17.800874Z"
    }
   },
   "cell_type": "code",
   "source": [
    "a1,b1 = online_learning_run(X_lst3, y_lst3, trials=[0]) #1\n",
    "a2,b2 = online_learning_run(X_lst3, y_lst3, trials=[0,1])  #2\n",
    "a3,b3 = online_learning_run(X_lst3, y_lst3, trials=[0,1,2,3]) #4\n",
    "a4,b4 = online_learning_run(X_lst3, y_lst3, trials=[0,1,2,3,4,5]) # 6\n",
    "a5,b5 = online_learning_run(X_lst3, y_lst3, trials=[0,1,2,3,4,5,6,7]) # 8"
   ],
   "id": "c1e89a87ffbcd418",
   "outputs": [
    {
     "name": "stdout",
     "output_type": "stream",
     "text": [
      "Start Training (total epochs: 50)...\n",
      "Finish Training! (Model is NOT saved)\n",
      "\n",
      "Start Training (total epochs: 50)...\n",
      "Finish Training! (Model is NOT saved)\n",
      "\n",
      "Start Training (total epochs: 50)...\n",
      "Finish Training! (Model is NOT saved)\n",
      "\n",
      "Start Training (total epochs: 50)...\n",
      "Finish Training! (Model is NOT saved)\n",
      "\n",
      "Start Training (total epochs: 50)...\n",
      "Finish Training! (Model is NOT saved)\n",
      "\n",
      "Start Training (total epochs: 50)...\n",
      "Finish Training! (Model is NOT saved)\n",
      "\n",
      "Start Training (total epochs: 50)...\n",
      "Finish Training! (Model is NOT saved)\n",
      "\n",
      "Start Training (total epochs: 50)...\n",
      "Finish Training! (Model is NOT saved)\n",
      "\n",
      "Start Training (total epochs: 50)...\n",
      "Finish Training! (Model is NOT saved)\n",
      "\n",
      "Start Training (total epochs: 50)...\n",
      "Finish Training! (Model is NOT saved)\n",
      "\n",
      "Start Training (total epochs: 50)...\n",
      "Finish Training! (Model is NOT saved)\n",
      "\n",
      "Start Training (total epochs: 50)...\n",
      "Finish Training! (Model is NOT saved)\n",
      "\n",
      "Start Training (total epochs: 50)...\n",
      "Finish Training! (Model is NOT saved)\n",
      "\n",
      "Start Training (total epochs: 50)...\n",
      "Finish Training! (Model is NOT saved)\n",
      "\n",
      "Start Training (total epochs: 50)...\n",
      "Finish Training! (Model is NOT saved)\n",
      "\n",
      "Start Training (total epochs: 50)...\n",
      "Finish Training! (Model is NOT saved)\n",
      "\n",
      "Start Training (total epochs: 50)...\n",
      "Finish Training! (Model is NOT saved)\n",
      "\n",
      "Start Training (total epochs: 50)...\n",
      "Finish Training! (Model is NOT saved)\n",
      "\n",
      "Start Training (total epochs: 50)...\n",
      "Finish Training! (Model is NOT saved)\n",
      "\n",
      "Start Training (total epochs: 50)...\n",
      "Finish Training! (Model is NOT saved)\n",
      "\n",
      "Start Training (total epochs: 50)...\n",
      "Finish Training! (Model is NOT saved)\n",
      "\n"
     ]
    }
   ],
   "execution_count": 19
  },
  {
   "metadata": {
    "ExecuteTime": {
     "end_time": "2025-08-22T20:09:52.603435Z",
     "start_time": "2025-08-22T20:08:16.359808Z"
    }
   },
   "cell_type": "code",
   "source": "a5,b5 = online_learning_run(X_lst3, y_lst3, trials=[0,1,2,3,4,5,6,7]) # 8",
   "id": "235955a4dd0259da",
   "outputs": [
    {
     "name": "stdout",
     "output_type": "stream",
     "text": [
      "Start Training (total epochs: 50)...\n",
      "Finish Training! (Model is NOT saved)\n",
      "\n",
      "Start Training (total epochs: 50)...\n",
      "Finish Training! (Model is NOT saved)\n",
      "\n",
      "Start Training (total epochs: 50)...\n",
      "Finish Training! (Model is NOT saved)\n",
      "\n",
      "Start Training (total epochs: 50)...\n",
      "Finish Training! (Model is NOT saved)\n",
      "\n",
      "Start Training (total epochs: 50)...\n",
      "Finish Training! (Model is NOT saved)\n",
      "\n",
      "Start Training (total epochs: 50)...\n",
      "Finish Training! (Model is NOT saved)\n",
      "\n",
      "Start Training (total epochs: 50)...\n",
      "Finish Training! (Model is NOT saved)\n",
      "\n",
      "Start Training (total epochs: 50)...\n",
      "Finish Training! (Model is NOT saved)\n",
      "\n"
     ]
    }
   ],
   "execution_count": 33
  },
  {
   "metadata": {},
   "cell_type": "code",
   "outputs": [],
   "execution_count": null,
   "source": [
    "s2_same = [26.3, 29.0, 30.2, 30.7, 31.4]\n",
    "s2_next = [26.6, 28.7, 29.2, 30.3, 31.5]\n",
    "\n",
    "s3_same = [24.1, 32.4, 26.3, 42.5, 37.3]\n",
    "s3_next = [23.6, 32.5, 27.0, 42.9, 37.2]"
   ],
   "id": "6317630b8a58344"
  },
  {
   "metadata": {
    "ExecuteTime": {
     "end_time": "2025-08-22T20:05:15.047501Z",
     "start_time": "2025-08-22T20:05:15.043494Z"
    }
   },
   "cell_type": "code",
   "source": "np.mean(a1)*100, np.mean(b1)*100",
   "id": "929f929e0054daa4",
   "outputs": [
    {
     "data": {
      "text/plain": [
       "(np.float64(26.256696548726822), np.float64(26.613194909360672))"
      ]
     },
     "execution_count": 26,
     "metadata": {},
     "output_type": "execute_result"
    }
   ],
   "execution_count": 26
  },
  {
   "metadata": {
    "ExecuteTime": {
     "end_time": "2025-08-22T20:05:15.062065Z",
     "start_time": "2025-08-22T20:05:15.053043Z"
    }
   },
   "cell_type": "code",
   "source": "np.mean(a2)*100, np.mean(b2)*100",
   "id": "938d6da7c84b0d4f",
   "outputs": [
    {
     "data": {
      "text/plain": [
       "(np.float64(30.771242082118988), np.float64(30.93097973614931))"
      ]
     },
     "execution_count": 27,
     "metadata": {},
     "output_type": "execute_result"
    }
   ],
   "execution_count": 27
  },
  {
   "metadata": {
    "ExecuteTime": {
     "end_time": "2025-08-22T20:05:15.074898Z",
     "start_time": "2025-08-22T20:05:15.070898Z"
    }
   },
   "cell_type": "code",
   "source": "np.mean(a3)*100, np.mean(b3)*100",
   "id": "1acf88cbf51a91c5",
   "outputs": [
    {
     "data": {
      "text/plain": [
       "(np.float64(26.316284388303757), np.float64(25.74884494145711))"
      ]
     },
     "execution_count": 28,
     "metadata": {},
     "output_type": "execute_result"
    }
   ],
   "execution_count": 28
  },
  {
   "metadata": {
    "ExecuteTime": {
     "end_time": "2025-08-22T20:05:15.087980Z",
     "start_time": "2025-08-22T20:05:15.084971Z"
    }
   },
   "cell_type": "code",
   "source": "np.mean(a4)*100, np.mean(b4)*100",
   "id": "afbbdf31e8422339",
   "outputs": [
    {
     "data": {
      "text/plain": [
       "(np.float64(31.790482252836227), np.float64(31.10731914639473))"
      ]
     },
     "execution_count": 29,
     "metadata": {},
     "output_type": "execute_result"
    }
   ],
   "execution_count": 29
  },
  {
   "metadata": {
    "ExecuteTime": {
     "end_time": "2025-08-22T20:10:47.810170Z",
     "start_time": "2025-08-22T20:10:47.805793Z"
    }
   },
   "cell_type": "code",
   "source": "np.mean(a5)*100, np.mean(b5)*100",
   "id": "5a1f0dce5092906b",
   "outputs": [
    {
     "data": {
      "text/plain": [
       "(np.float64(28.08738946914673), np.float64(28.67848575115204))"
      ]
     },
     "execution_count": 34,
     "metadata": {},
     "output_type": "execute_result"
    }
   ],
   "execution_count": 34
  },
  {
   "metadata": {},
   "cell_type": "code",
   "outputs": [],
   "execution_count": null,
   "source": "",
   "id": "7d203b3d3e8c851e"
  }
 ],
 "metadata": {
  "kernelspec": {
   "display_name": "Python 3",
   "language": "python",
   "name": "python3"
  },
  "language_info": {
   "codemirror_mode": {
    "name": "ipython",
    "version": 2
   },
   "file_extension": ".py",
   "mimetype": "text/x-python",
   "name": "python",
   "nbconvert_exporter": "python",
   "pygments_lexer": "ipython2",
   "version": "2.7.6"
  }
 },
 "nbformat": 4,
 "nbformat_minor": 5
}
