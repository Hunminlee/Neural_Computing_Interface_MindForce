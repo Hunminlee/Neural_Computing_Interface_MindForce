{
 "cells": [
  {
   "metadata": {},
   "cell_type": "markdown",
   "source": [
    "# For each feature, test the sample model\n",
    "\n",
    "Setting\n",
    "- Extract existing feature set: 14 features (ZC / SSC / WL / WAMP / MAV / MSE / RMS / V3 / LD / DASDV / MFL / MPR / MAVS / WMAV)\n",
    "- Subject: Hunmin / Xianyu\n",
    "    1. Do intra-subject setting (H / X indepedently)\n",
    "- Inter-session setting\n",
    "    - Feature 1. Inter-session using centralized training\n",
    "    - Feature 2. Inter-session using centralized training\n",
    "    - ...\n",
    "\n",
    "Questions\n",
    "- Does feature set works differently per person?\n",
    "- Does feature set works differently per session? (identical person)\n",
    "- Is combining feature set good?\n",
    "- Ultimately, which feature set we should select?"
   ],
   "id": "d4cfa46c9e1b2548"
  },
  {
   "cell_type": "code",
   "id": "initial_id",
   "metadata": {
    "collapsed": true,
    "ExecuteTime": {
     "end_time": "2025-07-07T20:30:57.537302Z",
     "start_time": "2025-07-07T20:30:55.230156Z"
    }
   },
   "source": [
    "import sys\n",
    "sys.path.append('../')\n",
    "sys.path.append('../Feature-wise-analysis')\n",
    "import config\n",
    "import Models\n",
    "\n",
    "import numpy as np\n",
    "import pandas as pd\n",
    "import matplotlib.pyplot as plt\n",
    "\n",
    "import Trainer"
   ],
   "outputs": [],
   "execution_count": 1
  },
  {
   "metadata": {
    "ExecuteTime": {
     "end_time": "2025-07-07T20:31:00.145676Z",
     "start_time": "2025-07-07T20:30:57.644458Z"
    }
   },
   "cell_type": "code",
   "source": [
    "baseline_K_val = [18] #Train ~18 session data, test with 19~\n",
    "K = baseline_K_val[0]\n",
    "\n",
    "model_acc = []\n",
    "trainer = Trainer.TremorModelTrainer(config, subject=\"Hunmin\")\n",
    "X_train, y_train, X_test, y_test = trainer.return_K_data(K, verbose=False)"
   ],
   "id": "850833e6daa33fb8",
   "outputs": [
    {
     "name": "stdout",
     "output_type": "stream",
     "text": [
      "(151851, 4, 14, 1) (151851,)\n"
     ]
    }
   ],
   "execution_count": 2
  },
  {
   "metadata": {
    "ExecuteTime": {
     "end_time": "2025-07-07T20:29:05.827120Z",
     "start_time": "2025-07-07T20:28:17.483482Z"
    }
   },
   "cell_type": "code",
   "source": [
    "acc, _ = trainer.train_multiple_dataset(X_train, y_train, X_test, y_test, Models.V1_2DCNN)\n",
    "model_acc.append(acc)"
   ],
   "id": "be5c3ccce6888d0e",
   "outputs": [
    {
     "name": "stdout",
     "output_type": "stream",
     "text": [
      "Start Training (total epochs: 50)...\n",
      "Finish Training! (Model is saved)\n",
      "Maximum training accuracy : 91.51%\n",
      "Maximum validation accuracy : 88.65%\n",
      "Accuracy of test dataset using model V0: 88.3978%\n"
     ]
    }
   ],
   "execution_count": 5
  },
  {
   "metadata": {
    "ExecuteTime": {
     "end_time": "2025-07-07T20:30:33.680655Z",
     "start_time": "2025-07-07T20:30:03.141826Z"
    }
   },
   "cell_type": "code",
   "source": [
    "acc, _ = trainer.train_multiple_dataset(X_train, y_train, X_test, y_test, Models.ResNetStyle_CNN)\n",
    "model_acc.append(acc)"
   ],
   "id": "32a87140960f3b32",
   "outputs": [
    {
     "name": "stdout",
     "output_type": "stream",
     "text": [
      "Start Training (total epochs: 50)...\n",
      "Finish Training! (Model is saved)\n",
      "Maximum training accuracy : 89.94%\n",
      "Maximum validation accuracy : 88.61%\n",
      "Accuracy of test dataset using model V0: 87.9323%\n"
     ]
    }
   ],
   "execution_count": 8
  },
  {
   "metadata": {
    "ExecuteTime": {
     "end_time": "2025-07-07T20:29:38.589857Z",
     "start_time": "2025-07-07T20:29:05.829386Z"
    }
   },
   "cell_type": "code",
   "source": [
    "acc, _ = trainer.train_multiple_dataset(X_train, y_train, X_test, y_test, Models.InceptionStyle_CNN)\n",
    "model_acc.append(acc)"
   ],
   "id": "2c9992d851b58333",
   "outputs": [
    {
     "name": "stdout",
     "output_type": "stream",
     "text": [
      "Start Training (total epochs: 50)...\n",
      "Finish Training! (Model is saved)\n",
      "Maximum training accuracy : 90.59%\n",
      "Maximum validation accuracy : 88.62%\n",
      "Accuracy of test dataset using model V0: 87.7854%\n"
     ]
    }
   ],
   "execution_count": 6
  },
  {
   "metadata": {
    "ExecuteTime": {
     "end_time": "2025-07-07T20:30:03.128197Z",
     "start_time": "2025-07-07T20:29:38.601291Z"
    }
   },
   "cell_type": "code",
   "source": [
    "acc, _ = trainer.train_multiple_dataset(X_train, y_train, X_test, y_test, Models.SeparableCNN)\n",
    "model_acc.append(acc)"
   ],
   "id": "adc8b45cd8ad04cb",
   "outputs": [
    {
     "name": "stdout",
     "output_type": "stream",
     "text": [
      "Start Training (total epochs: 50)...\n",
      "Finish Training! (Model is saved)\n",
      "Maximum training accuracy : 87.97%\n",
      "Maximum validation accuracy : 87.68%\n",
      "Accuracy of test dataset using model V0: 86.8611%\n"
     ]
    }
   ],
   "execution_count": 7
  },
  {
   "metadata": {
    "ExecuteTime": {
     "end_time": "2025-07-07T20:32:09.635830Z",
     "start_time": "2025-07-07T20:31:25.290923Z"
    }
   },
   "cell_type": "code",
   "source": [
    "acc, _ = trainer.train_multiple_dataset(X_train, y_train, X_test, y_test, Models.SE_CNN)\n",
    "model_acc.append(acc)"
   ],
   "id": "961e0608c15b37d4",
   "outputs": [
    {
     "name": "stdout",
     "output_type": "stream",
     "text": [
      "Start Training (total epochs: 50)...\n",
      "Finish Training! (Model is saved)\n",
      "Maximum training accuracy : 91.13%\n",
      "Maximum validation accuracy : 88.88%\n",
      "Accuracy of test dataset using model V0: 88.4872%\n"
     ]
    }
   ],
   "execution_count": 4
  },
  {
   "metadata": {
    "ExecuteTime": {
     "end_time": "2025-07-07T20:32:50.486659Z",
     "start_time": "2025-07-07T20:32:09.665497Z"
    }
   },
   "cell_type": "code",
   "source": [
    "acc, _ = trainer.train_multiple_dataset(X_train, y_train, X_test, y_test, Models.Attention_CNN)\n",
    "model_acc.append(acc)"
   ],
   "id": "25c8a64d9b7afe88",
   "outputs": [
    {
     "name": "stdout",
     "output_type": "stream",
     "text": [
      "Start Training (total epochs: 50)...\n",
      "Finish Training! (Model is saved)\n",
      "Maximum training accuracy : 91.1%\n",
      "Maximum validation accuracy : 88.65%\n",
      "Accuracy of test dataset using model V0: 87.8395%\n"
     ]
    }
   ],
   "execution_count": 5
  },
  {
   "metadata": {
    "ExecuteTime": {
     "end_time": "2025-07-07T20:33:18.009110Z",
     "start_time": "2025-07-07T20:32:50.497675Z"
    }
   },
   "cell_type": "code",
   "source": [
    "acc, _ = trainer.train_multiple_dataset(X_train, y_train, X_test, y_test, Models.Gated_CNN)\n",
    "model_acc.append(acc)"
   ],
   "id": "20135229a1d7537a",
   "outputs": [
    {
     "name": "stdout",
     "output_type": "stream",
     "text": [
      "Start Training (total epochs: 50)...\n",
      "Finish Training! (Model is saved)\n",
      "Maximum training accuracy : 90.86%\n",
      "Maximum validation accuracy : 88.53%\n",
      "Accuracy of test dataset using model V0: 88.1070%\n"
     ]
    }
   ],
   "execution_count": 6
  },
  {
   "metadata": {
    "ExecuteTime": {
     "end_time": "2025-07-07T20:34:12.068962Z",
     "start_time": "2025-07-07T20:33:18.017388Z"
    }
   },
   "cell_type": "code",
   "source": [
    "acc, _ = trainer.train_multiple_dataset(X_train, y_train, X_test, y_test, Models.Hybrid_CNN)\n",
    "model_acc.append(acc)"
   ],
   "id": "b74bddd02936534a",
   "outputs": [
    {
     "name": "stdout",
     "output_type": "stream",
     "text": [
      "Start Training (total epochs: 50)...\n",
      "Finish Training! (Model is saved)\n",
      "Maximum training accuracy : 88.03%\n",
      "Maximum validation accuracy : 87.43%\n",
      "Accuracy of test dataset using model V0: 86.8174%\n"
     ]
    }
   ],
   "execution_count": 7
  },
  {
   "metadata": {
    "ExecuteTime": {
     "end_time": "2025-07-07T20:39:35.593872Z",
     "start_time": "2025-07-07T20:38:42.003066Z"
    }
   },
   "cell_type": "code",
   "source": [
    "import importlib\n",
    "importlib.reload(Models)\n",
    "\n",
    "X_train_rnn = X_train.reshape(-1, 4, 14)  # drop the last channel dimension\n",
    "X_test_rnn = X_test.reshape(-1, 4, 14)\n",
    "\n",
    "acc, _ = trainer.train_multiple_dataset(X_train_rnn, y_train, X_test_rnn, y_test, Models.BiLSTM_Attention_14features)\n",
    "model_acc.append(acc)"
   ],
   "id": "8bc113aa6e25698b",
   "outputs": [
    {
     "name": "stdout",
     "output_type": "stream",
     "text": [
      "Start Training (total epochs: 50)...\n",
      "Finish Training! (Model is saved)\n",
      "Maximum training accuracy : 92.54%\n",
      "Maximum validation accuracy : 89.05%\n",
      "Accuracy of test dataset using model V0: 89.0031%\n"
     ]
    }
   ],
   "execution_count": 11
  },
  {
   "metadata": {
    "ExecuteTime": {
     "end_time": "2025-07-07T20:41:57.880663Z",
     "start_time": "2025-07-07T20:40:46.941105Z"
    }
   },
   "cell_type": "code",
   "source": [
    "acc, _ = trainer.train_multiple_dataset(X_train, y_train, X_test, y_test, Models.Conv2D_then_LSTM)\n",
    "model_acc.append(acc)"
   ],
   "id": "78fb2924bdbe7019",
   "outputs": [
    {
     "name": "stdout",
     "output_type": "stream",
     "text": [
      "Start Training (total epochs: 50)...\n",
      "Finish Training! (Model is saved)\n",
      "Maximum training accuracy : 91.87%\n",
      "Maximum validation accuracy : 89.15%\n",
      "Accuracy of test dataset using model V0: 88.9382%\n"
     ]
    }
   ],
   "execution_count": 13
  },
  {
   "metadata": {
    "ExecuteTime": {
     "end_time": "2025-07-07T20:48:13.190469Z",
     "start_time": "2025-07-07T20:44:38.123903Z"
    }
   },
   "cell_type": "code",
   "source": [
    "import importlib\n",
    "importlib.reload(Models)\n",
    "\n",
    "acc, _ = trainer.train_multiple_dataset(X_train_rnn, y_train, X_test_rnn, y_test, Models.Transformer_Model)\n",
    "model_acc.append(acc)"
   ],
   "id": "bd39e99b995f3e75",
   "outputs": [
    {
     "name": "stdout",
     "output_type": "stream",
     "text": [
      "Start Training (total epochs: 50)...\n",
      "Finish Training! (Model is saved)\n",
      "Maximum training accuracy : 88.39%\n",
      "Maximum validation accuracy : 87.83%\n",
      "Accuracy of test dataset using model V0: 87.2638%\n"
     ]
    }
   ],
   "execution_count": 18
  },
  {
   "metadata": {
    "ExecuteTime": {
     "end_time": "2025-07-07T20:57:23.977217Z",
     "start_time": "2025-07-07T20:50:15.937444Z"
    }
   },
   "cell_type": "code",
   "source": [
    "import importlib\n",
    "importlib.reload(Models)\n",
    "\n",
    "acc, _ = trainer.train_multiple_dataset(X_train, y_train, X_test, y_test, Models.Hybrid_CNN_Transformer)\n",
    "model_acc.append(acc)"
   ],
   "id": "4dbcd5e2abfd63cc",
   "outputs": [
    {
     "name": "stdout",
     "output_type": "stream",
     "text": [
      "Start Training (total epochs: 50)...\n",
      "Finish Training! (Model is saved)\n",
      "Maximum training accuracy : 90.16%\n",
      "Maximum validation accuracy : 87.95%\n",
      "Accuracy of test dataset using model V0: 87.8187%\n"
     ]
    }
   ],
   "execution_count": 20
  },
  {
   "metadata": {
    "ExecuteTime": {
     "end_time": "2025-07-07T21:09:26.288607Z",
     "start_time": "2025-07-07T21:07:11.614684Z"
    }
   },
   "cell_type": "code",
   "source": [
    "import importlib\n",
    "importlib.reload(Models)\n",
    "\n",
    "acc, _ = trainer.train_multiple_dataset(X_train, y_train, X_test, y_test, Models.V1_2DCNN_with_many_params)\n",
    "model_acc.append(acc)"
   ],
   "id": "be09fa3b0db2ccfb",
   "outputs": [
    {
     "name": "stdout",
     "output_type": "stream",
     "text": [
      "Start Training (total epochs: 50)...\n",
      "Finish Training! (Model is saved)\n",
      "Maximum training accuracy : 93.31%\n",
      "Maximum validation accuracy : 89.0%\n",
      "Accuracy of test dataset using model V0: 88.9981%\n"
     ]
    }
   ],
   "execution_count": 24
  },
  {
   "metadata": {
    "ExecuteTime": {
     "end_time": "2025-07-07T21:09:26.360696Z",
     "start_time": "2025-07-07T21:09:26.297583Z"
    }
   },
   "cell_type": "code",
   "source": [
    "model_names = ['2DCNN with Adam', 'ResNet', 'Inception', 'SeperableCNN', 'SE-CNN', 'Attention-CNN', 'Gated-CNN', 'Hybrid-CNN', 'BiLSTM_Attention', 'Conv2+LSTM', 'Transformer', 'Transformer-CNN', '2DCNN with Many params']\n",
    "\n",
    "plt.figure(figsize=(12, 6))\n",
    "bars = plt.bar(range(len(model_acc)), model_acc, color='skyblue')\n",
    "#plt.xticks(range(len(model_acc)), model_names, rotation=45, ha='right')\n",
    "plt.ylabel('Accuracy')\n",
    "plt.title('Model-wise Accuracy')\n",
    "plt.tight_layout()\n",
    "\n",
    "for bar in bars:\n",
    "    yval = bar.get_height()\n",
    "    plt.text(bar.get_x() + bar.get_width()/2.0, yval + 0.005, f'{yval:.2f}', ha='center', va='bottom', fontsize=9)\n",
    "\n",
    "plt.show()"
   ],
   "id": "e38e8f3c738b6d71",
   "outputs": [
    {
     "data": {
      "text/plain": [
       "<Figure size 1200x600 with 1 Axes>"
      ],
      "image/png": "[encoded data removed]"
     },
     "metadata": {},
     "output_type": "display_data"
    }
   ],
   "execution_count": 25
  },
  {
   "metadata": {},
   "cell_type": "code",
   "source": "",
   "id": "54e7729d9a48de",
   "outputs": [],
   "execution_count": null
  },
  {
   "metadata": {},
   "cell_type": "code",
   "source": "",
   "id": "5c14bab279fb970",
   "outputs": [],
   "execution_count": null
  }
 ],
 "metadata": {
  "kernelspec": {
   "display_name": "Python 3",
   "language": "python",
   "name": "python3"
  },
  "language_info": {
   "codemirror_mode": {
    "name": "ipython",
    "version": 2
   },
   "file_extension": ".py",
   "mimetype": "text/x-python",
   "name": "python",
   "nbconvert_exporter": "python",
   "pygments_lexer": "ipython2",
   "version": "2.7.6"
  }
 },
 "nbformat": 4,
 "nbformat_minor": 5
}
