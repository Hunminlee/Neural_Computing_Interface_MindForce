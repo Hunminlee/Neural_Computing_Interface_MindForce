{
 "cells": [
  {
   "metadata": {},
   "cell_type": "code",
   "source": [
    "import self_supervised_v1\n",
    "import tensorflow as tf\n",
    "import numpy as np\n",
    "import matplotlib.pyplot as plt\n",
    "import sys\n",
    "\n",
    "sys.path.append('../../Share/')\n",
    "import baseline, config\n",
    "\n",
    "import warnings\n",
    "warnings.filterwarnings('ignore')\n",
    "\n",
    "def plot_result(result):\n",
    "    plt.figure(figsize=(10, 5))\n",
    "    plt.plot(result.history['accuracy'], label='accuracy', marker='o')\n",
    "    plt.plot(result.history['val_accuracy'], label='val_accuracy', marker='o')\n",
    "    plt.title('Pre-training Stage')\n",
    "    plt.xlabel('Epochs')\n",
    "    plt.ylabel('Accuracy')\n",
    "    plt.grid(True, linestyle='--', alpha=0.6)\n",
    "    plt.legend(loc='lower right')\n",
    "    plt.tight_layout()\n",
    "    plt.show()\n",
    "\n",
    "\n",
    "\n",
    "SUBJECT = \"Hunmin\"\n",
    "trainer = baseline.ModelTrainer(config, subject=SUBJECT)\n",
    "trainer_Carlson = baseline.ModelTrainer(config, subject=\"Carlson\")\n",
    "trainer_Harold = baseline.ModelTrainer(config, subject=\"Harold\")\n",
    "#trainer_Hunmin = baseline.ModelTrainer(config, subject=\"Hunmin\")\n",
    "trainer_Brian = baseline.ModelTrainer(config, subject=\"Brian\")\n",
    "trainer_Xianyu = baseline.ModelTrainer(config, subject=\"Xianyu\")"
   ],
   "id": "4b5c675288714f9c",
   "outputs": [],
   "execution_count": null
  },
  {
   "metadata": {},
   "cell_type": "markdown",
   "source": [
    "New paradigm : Gesture detection first / Classification Second\n",
    "- Two models : Detection model / Classification model\n",
    "- Detection Model\n",
    "    - We acquire the dataset first"
   ],
   "id": "7e61bb0892ca8c94"
  },
  {
   "metadata": {},
   "cell_type": "code",
   "source": "",
   "id": "aea885b44c17839e",
   "outputs": [],
   "execution_count": null
  },
  {
   "metadata": {},
   "cell_type": "code",
   "source": "",
   "id": "6567981f2546df09",
   "outputs": [],
   "execution_count": null
  },
  {
   "metadata": {},
   "cell_type": "code",
   "source": "",
   "id": "cab1f9a22292641",
   "outputs": [],
   "execution_count": null
  },
  {
   "metadata": {
    "jupyter": {
     "is_executing": true
    }
   },
   "cell_type": "code",
   "source": [
    "Threshold_K = 22  # 초기 학습 데이터\n",
    "X_init, y_init, X_init_test, y_init_test = trainer.return_until_K_data(K=Threshold_K, train_ratio=0.8)\n",
    "model = self_supervised_v1.build_model()  # 모델 생성 및 초기 학습\n",
    "result = model.fit(X_init, y_init, validation_data=(X_init_test, y_init_test), epochs=100, batch_size=64, verbose=0)\n",
    "plot_result(result)"
   ],
   "id": "edc6b9a227980d89",
   "outputs": [],
   "execution_count": null
  },
  {
   "metadata": {},
   "cell_type": "code",
   "source": [
    "Threshold_K = 12  # 초기 학습 데이터\n",
    "X_init, y_init, X_init_test, y_init_test = trainer.return_until_K_data(K=Threshold_K, train_ratio=0.8)\n",
    "model_K12 = self_supervised_v1.build_model()  # 모델 생성 및 초기 학습\n",
    "result = model_K12.fit(X_init, y_init, validation_data=(X_init_test, y_init_test), epochs=100, batch_size=64, verbose=0)\n",
    "plot_result(result)"
   ],
   "id": "98c7dab0000e2a9c",
   "outputs": [],
   "execution_count": null
  },
  {
   "metadata": {},
   "cell_type": "code",
   "source": [
    "Threshold_K = 8  # 초기 학습 데이터\n",
    "X_init, y_init, X_init_test, y_init_test = trainer.return_until_K_data(K=Threshold_K, train_ratio=0.8)\n",
    "model_K8 = self_supervised_v1.build_model()  # 모델 생성 및 초기 학습\n",
    "result = model_K8.fit(X_init, y_init, validation_data=(X_init_test, y_init_test), epochs=100, batch_size=64, verbose=0)\n",
    "plot_result(result)"
   ],
   "id": "9b84a2e4374dc69b",
   "outputs": [],
   "execution_count": null
  },
  {
   "metadata": {},
   "cell_type": "code",
   "source": "model = model_K?",
   "id": "a7f5595b9aed465d",
   "outputs": [],
   "execution_count": null
  },
  {
   "metadata": {},
   "cell_type": "code",
   "source": [
    "final_session = len(config.Info_sub_B)\n",
    "# Accuracy 저장 리스트\n",
    "Same_Session_Test_Acc, Next_Session_Test_Acc = [], []\n",
    "Unseen_subject_acc_dict = {\"C\": [], \"H2\": [], \"B\": [], \"X\": []}\n",
    "trainers_unseen = {\n",
    "    \"C\": trainer_Carlson,\n",
    "    \"H2\": trainer_Harold,\n",
    "    \"B\": trainer_Brian,\n",
    "    \"X\": trainer_Xianyu,\n",
    "}\n",
    "\n",
    "def evaluate_model(model, data, labels):\n",
    "    return model.evaluate(data, labels, verbose=0)[1]\n",
    "\n",
    "# 온라인 학습 루프\n",
    "for session in range(Threshold_K, final_session-1):\n",
    "    # 현재 세션 데이터\n",
    "    X_train, _, X_test, y_test = trainer.return_K_th_data_only(K=session, train_ratio=0.8)\n",
    "\n",
    "    # Pseudo-label 생성 및 온라인 업데이트\n",
    "    pseudo_labels = self_supervised_v1.generate_pseudo_label(model, X_train)\n",
    "    model = self_supervised_v1.online_update(model, X_train, pseudo_labels)\n",
    "\n",
    "    # 같은 세션 테스트\n",
    "    Same_Session_Test_Acc.append(evaluate_model(model, X_test, y_test))\n",
    "\n",
    "    # 다음 세션 테스트\n",
    "    next_X, next_y, _, _ = trainer.return_K_th_data_only(K=session + 1, train_ratio=0.8)\n",
    "    Next_Session_Test_Acc.append(evaluate_model(model, next_X, next_y))\n",
    "\n",
    "    # Unseen subject 테스트\n",
    "    for key, trainer_sub in trainers_unseen.items():\n",
    "        unseen_X, unseen_y, _, _ = trainer_sub.return_until_K_data(K=10, train_ratio=0.8)\n",
    "        acc = evaluate_model(model, unseen_X, unseen_y)\n",
    "        Unseen_subject_acc_dict[key].append(acc)"
   ],
   "id": "ef70bf940f213c6d",
   "outputs": [],
   "execution_count": null
  },
  {
   "metadata": {},
   "cell_type": "code",
   "source": [
    "plt.figure(figsize=(10, 5))\n",
    "plt.plot(Same_Session_Test_Acc, label='Same session accuracy', marker='o')\n",
    "plt.plot(Next_Session_Test_Acc, label='Next session accuracy', marker='o')\n",
    "plt.title('Online learning Stage')\n",
    "plt.xlabel('Session Index')\n",
    "plt.ylabel('Accuracy')\n",
    "plt.grid(True, linestyle='--', alpha=0.6)\n",
    "plt.legend(loc='lower right')\n",
    "plt.tight_layout()\n",
    "plt.show()"
   ],
   "id": "d5e4de67fea811dd",
   "outputs": [],
   "execution_count": null
  },
  {
   "metadata": {},
   "cell_type": "code",
   "source": [
    "plt.figure(figsize=(10, 6))\n",
    "for subject, acc_list in Unseen_subject_acc_dict.items():\n",
    "    plt.plot(acc_list, label=f'Unseen subject: {subject}', marker='o')\n",
    "\n",
    "plt.title('Online Evaluation on Unseen Subjects')\n",
    "plt.xlabel('Online Session Index')\n",
    "plt.ylabel('Accuracy')\n",
    "plt.grid(True, linestyle='--', alpha=0.6)\n",
    "plt.legend(loc='lower right')\n",
    "plt.tight_layout()\n",
    "plt.show()"
   ],
   "id": "ed2d1051c6c99188",
   "outputs": [],
   "execution_count": null
  },
  {
   "metadata": {},
   "cell_type": "code",
   "source": "",
   "id": "bb9c7ed8fdbabb56",
   "outputs": [],
   "execution_count": null
  }
 ],
 "metadata": {
  "kernelspec": {
   "display_name": "Python 3",
   "language": "python",
   "name": "python3"
  },
  "language_info": {
   "codemirror_mode": {
    "name": "ipython",
    "version": 2
   },
   "file_extension": ".py",
   "mimetype": "text/x-python",
   "name": "python",
   "nbconvert_exporter": "python",
   "pygments_lexer": "ipython2",
   "version": "2.7.6"
  }
 },
 "nbformat": 4,
 "nbformat_minor": 5
}
