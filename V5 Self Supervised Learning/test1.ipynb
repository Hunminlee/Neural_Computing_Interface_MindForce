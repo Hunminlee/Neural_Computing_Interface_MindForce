{
 "cells": [
  {
   "metadata": {},
   "cell_type": "markdown",
   "source": [
    "self-supervised learning\n",
    "- 이런저런 self-supervised learning 해봐야함\n",
    "\n",
    "1. prototype-based contrastive learning\n",
    "2.\n"
   ],
   "id": "8884448a6d09c7e0"
  },
  {
   "metadata": {},
   "cell_type": "code",
   "outputs": [],
   "execution_count": null,
   "source": [
    "import self_supervised\n",
    "import tensorflow as tf\n",
    "\n",
    "\n",
    "\n",
    "\n",
    "# 초기 사전학습 (6개 클래스 초기 샘플들 사용)\n",
    "for epoch in range(10):\n",
    "    for x_batch in initial_data_batches:  # 각 클래스 대표 데이터\n",
    "        ssl_loss = self_supervised.pretrain_ssl(x_batch)\n",
    "    print(f\"SSL Epoch {epoch}, Loss: {ssl_loss.numpy():.4f}\")\n",
    "\n",
    "\n",
    "\n",
    "\n",
    "# 온라인 학습 (스트리밍 방식)\n",
    "for new_x, new_y in online_stream:  # (1, 4, 14, 1), 정답 있음\n",
    "    cls_loss, pred = self_supervised.online_update(new_x, new_y)\n",
    "    print(f\"Online Update - Loss: {cls_loss.numpy():.4f}, Pred: {tf.argmax(pred, axis=1).numpy()}\")\n"
   ],
   "id": "e4eb3994420a25ec"
  }
 ],
 "metadata": {
  "kernelspec": {
   "display_name": "Python 3",
   "language": "python",
   "name": "python3"
  },
  "language_info": {
   "codemirror_mode": {
    "name": "ipython",
    "version": 2
   },
   "file_extension": ".py",
   "mimetype": "text/x-python",
   "name": "python",
   "nbconvert_exporter": "python",
   "pygments_lexer": "ipython2",
   "version": "2.7.6"
  }
 },
 "nbformat": 4,
 "nbformat_minor": 5
}
