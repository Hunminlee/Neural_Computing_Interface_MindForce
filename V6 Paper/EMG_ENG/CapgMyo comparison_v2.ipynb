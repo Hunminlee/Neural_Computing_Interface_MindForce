{
 "cells": [
  {
   "metadata": {},
   "cell_type": "markdown",
   "source": [
    "# CapgMyo comparison\n",
    "\n",
    "Select four random channels and compare with ENG"
   ],
   "id": "8e6395e585975ad2"
  },
  {
   "cell_type": "code",
   "id": "initial_id",
   "metadata": {
    "collapsed": true,
    "ExecuteTime": {
     "end_time": "2025-08-25T15:21:59.159370Z",
     "start_time": "2025-08-25T15:21:55.348593Z"
    }
   },
   "source": [
    "import numpy as np\n",
    "import pandas as pd\n",
    "import matplotlib.pyplot as plt\n",
    "import warnings\n",
    "warnings.filterwarnings(\"ignore\")\n",
    "\n",
    "import gc\n",
    "gc.collect()\n",
    "\n",
    "import sys\n",
    "sys.path.append('../../Share/')\n",
    "sys.path.append('../../Share/Manual_processing/')\n",
    "import Model, utils, Same_with_MATLAB, Feature_info\n",
    "\n",
    "import capgmyo_modules\n",
    "f_path = 'C:/Users/hml76/Desktop/Jupyter/Datasets/CapgMyo/DB_A_preproceesed/'"
   ],
   "outputs": [],
   "execution_count": 1
  },
  {
   "metadata": {
    "ExecuteTime": {
     "end_time": "2025-08-25T15:22:42.410366Z",
     "start_time": "2025-08-25T15:22:42.405346Z"
    }
   },
   "cell_type": "code",
   "source": [
    "idx = np.random.choice(128, size=4, replace=False)\n",
    "def inter_session_run(idx):\n",
    "    ACC_lst = []\n",
    "\n",
    "    for SUB in range(1,10):\n",
    "        print('Sub {}'.format(SUB))\n",
    "        rep_lst = []\n",
    "        for rep in range(1,3):\n",
    "            X_train, y_train, X_test, y_test = [], [], [], []\n",
    "            for rep2 in range(1,11):\n",
    "                if rep == rep2:\n",
    "                    X_test, y_test = capgmyo_modules.import_dataset(subject=SUB, rep=rep, path=f_path, win_len=100, win_inc=50, sel_four_ch=idx)\n",
    "                else:\n",
    "                    X, y = capgmyo_modules.import_dataset(subject=SUB, rep=rep, path=f_path, win_len=100, win_inc=50, sel_four_ch=idx)\n",
    "                    X_train.append(X)\n",
    "                    y_train.append(y)\n",
    "            X_train = np.concatenate(X_train, axis=0)\n",
    "            y_train = np.concatenate(y_train, axis=0)\n",
    "\n",
    "            X_train = X_train.reshape(X_train.shape[0], X_train.shape[1], 1)\n",
    "            X_test = X_test.reshape(X_test.shape[0], X_test.shape[1], 1)\n",
    "\n",
    "            model = Model.Original_model_1DCNN(input_size=X_train.shape[1:], num_class=8)\n",
    "\n",
    "            history, model = Model.Train_model(model, X_train, y_train, X_test, y_test, set_epoch=100, set_batch_size=512, Model_name='V0',\n",
    "                                                set_verbose=False, save_model_set=False)\n",
    "            acc = model.evaluate(X_test, y_test, verbose=0)[1]\n",
    "            rep_lst.append(acc)\n",
    "            print(f'\\t rep {rep} - acc lst - mean : {np.mean(rep_lst)}')\n",
    "\n",
    "        ACC_lst.append(np.mean(rep_lst))\n",
    "    return ACC_lst"
   ],
   "id": "62e3d9372fd6f6bc",
   "outputs": [],
   "execution_count": 2
  },
  {
   "metadata": {
    "ExecuteTime": {
     "end_time": "2025-08-25T15:24:45.448500Z",
     "start_time": "2025-08-25T15:22:49.427277Z"
    }
   },
   "cell_type": "code",
   "source": [
    "idx = np.random.choice(128, size=4, replace=False)\n",
    "acc_lst_ch4 = inter_session_run(idx)\n",
    "np.mean(acc_lst_ch4)"
   ],
   "id": "285074a0eeaa3962",
   "outputs": [
    {
     "name": "stdout",
     "output_type": "stream",
     "text": [
      "Sub 1\n",
      "Start Training (total epochs: 100)...\n",
      "Finish Training! (Model is NOT saved)\n",
      "\n",
      "Maximum training accuracy : 38.52%\n",
      "Maximum validation accuracy : 69.08%\n",
      "\t rep 1 - acc lst - mean : 0.6907894611358643\n",
      "Start Training (total epochs: 100)...\n",
      "Finish Training! (Model is NOT saved)\n",
      "\n",
      "Maximum training accuracy : 35.31%\n",
      "Maximum validation accuracy : 72.37%\n",
      "\t rep 2 - acc lst - mean : 0.7072368264198303\n",
      "Sub 2\n",
      "Start Training (total epochs: 100)...\n",
      "Finish Training! (Model is NOT saved)\n",
      "\n",
      "Maximum training accuracy : 35.89%\n",
      "Maximum validation accuracy : 58.55%\n",
      "\t rep 1 - acc lst - mean : 0.5855262875556946\n",
      "Start Training (total epochs: 100)...\n",
      "Finish Training! (Model is NOT saved)\n",
      "\n",
      "Maximum training accuracy : 38.52%\n",
      "Maximum validation accuracy : 72.37%\n",
      "\t rep 2 - acc lst - mean : 0.6546052396297455\n",
      "Sub 3\n",
      "Start Training (total epochs: 100)...\n",
      "Finish Training! (Model is NOT saved)\n",
      "\n",
      "Maximum training accuracy : 31.07%\n",
      "Maximum validation accuracy : 12.5%\n",
      "\t rep 1 - acc lst - mean : 0.125\n",
      "Start Training (total epochs: 100)...\n",
      "Finish Training! (Model is NOT saved)\n",
      "\n",
      "Maximum training accuracy : 26.02%\n",
      "Maximum validation accuracy : 27.63%\n",
      "\t rep 2 - acc lst - mean : 0.2006578892469406\n",
      "Sub 4\n",
      "Start Training (total epochs: 100)...\n",
      "Finish Training! (Model is NOT saved)\n",
      "\n",
      "Maximum training accuracy : 36.18%\n",
      "Maximum validation accuracy : 25.0%\n",
      "\t rep 1 - acc lst - mean : 0.25\n",
      "Start Training (total epochs: 100)...\n",
      "Finish Training! (Model is NOT saved)\n",
      "\n",
      "Maximum training accuracy : 34.65%\n",
      "Maximum validation accuracy : 37.5%\n",
      "\t rep 2 - acc lst - mean : 0.3125\n",
      "Sub 5\n",
      "Start Training (total epochs: 100)...\n",
      "Finish Training! (Model is NOT saved)\n",
      "\n",
      "Maximum training accuracy : 35.82%\n",
      "Maximum validation accuracy : 51.97%\n",
      "\t rep 1 - acc lst - mean : 0.5197368264198303\n",
      "Start Training (total epochs: 100)...\n",
      "Finish Training! (Model is NOT saved)\n",
      "\n",
      "Maximum training accuracy : 35.38%\n",
      "Maximum validation accuracy : 42.76%\n",
      "\t rep 2 - acc lst - mean : 0.4736842066049576\n",
      "Sub 6\n",
      "Start Training (total epochs: 100)...\n",
      "Finish Training! (Model is NOT saved)\n",
      "\n",
      "Maximum training accuracy : 33.48%\n",
      "Maximum validation accuracy : 30.92%\n",
      "\t rep 1 - acc lst - mean : 0.30921053886413574\n",
      "Start Training (total epochs: 100)...\n",
      "Finish Training! (Model is NOT saved)\n",
      "\n",
      "Maximum training accuracy : 34.14%\n",
      "Maximum validation accuracy : 25.0%\n",
      "\t rep 2 - acc lst - mean : 0.27960526943206787\n",
      "Sub 7\n",
      "Start Training (total epochs: 100)...\n",
      "Finish Training! (Model is NOT saved)\n",
      "\n",
      "Maximum training accuracy : 35.89%\n",
      "Maximum validation accuracy : 71.71%\n",
      "\t rep 1 - acc lst - mean : 0.7171052694320679\n",
      "Start Training (total epochs: 100)...\n",
      "Finish Training! (Model is NOT saved)\n",
      "\n",
      "Maximum training accuracy : 33.41%\n",
      "Maximum validation accuracy : 68.42%\n",
      "\t rep 2 - acc lst - mean : 0.7006579041481018\n",
      "Sub 8\n",
      "Start Training (total epochs: 100)...\n",
      "Finish Training! (Model is NOT saved)\n",
      "\n",
      "Maximum training accuracy : 32.82%\n",
      "Maximum validation accuracy : 25.0%\n",
      "\t rep 1 - acc lst - mean : 0.25\n",
      "Start Training (total epochs: 100)...\n",
      "Finish Training! (Model is NOT saved)\n",
      "\n",
      "Maximum training accuracy : 32.6%\n",
      "Maximum validation accuracy : 34.21%\n",
      "\t rep 2 - acc lst - mean : 0.29605263471603394\n",
      "Sub 9\n",
      "Start Training (total epochs: 100)...\n",
      "Finish Training! (Model is NOT saved)\n",
      "\n",
      "Maximum training accuracy : 32.53%\n",
      "Maximum validation accuracy : 25.0%\n",
      "\t rep 1 - acc lst - mean : 0.25\n",
      "Start Training (total epochs: 100)...\n",
      "Finish Training! (Model is NOT saved)\n",
      "\n",
      "Maximum training accuracy : 35.38%\n",
      "Maximum validation accuracy : 25.0%\n",
      "\t rep 2 - acc lst - mean : 0.25\n"
     ]
    },
    {
     "data": {
      "text/plain": [
       "np.float64(0.4305555522441864)"
      ]
     },
     "execution_count": 3,
     "metadata": {},
     "output_type": "execute_result"
    }
   ],
   "execution_count": 3
  },
  {
   "metadata": {
    "ExecuteTime": {
     "end_time": "2025-08-25T15:27:05.371684Z",
     "start_time": "2025-08-25T15:27:05.365659Z"
    }
   },
   "cell_type": "code",
   "source": "np.array(acc_lst_ch4)",
   "id": "78da0470947428a3",
   "outputs": [
    {
     "data": {
      "text/plain": [
       "array([0.70723683, 0.65460524, 0.20065789, 0.3125    , 0.47368421,\n",
       "       0.27960527, 0.7006579 , 0.29605263, 0.25      ])"
      ]
     },
     "execution_count": 5,
     "metadata": {},
     "output_type": "execute_result"
    }
   ],
   "execution_count": 5
  },
  {
   "metadata": {
    "ExecuteTime": {
     "end_time": "2025-08-25T15:27:06.071764Z",
     "start_time": "2025-08-25T15:27:06.068602Z"
    }
   },
   "cell_type": "code",
   "source": "",
   "id": "a3403652de839a9a",
   "outputs": [],
   "execution_count": 6
  },
  {
   "metadata": {
    "jupyter": {
     "is_executing": true
    },
    "ExecuteTime": {
     "start_time": "2025-08-25T15:27:06.572227Z"
    }
   },
   "cell_type": "code",
   "source": [
    "idx = np.random.choice(128, size=3, replace=False)\n",
    "acc_lst_ch3 = inter_session_run(idx)\n",
    "np.array(acc_lst_ch3), np.mean(acc_lst_ch3)"
   ],
   "id": "282552db9073dffd",
   "outputs": [
    {
     "name": "stdout",
     "output_type": "stream",
     "text": [
      "Sub 1\n",
      "Start Training (total epochs: 100)...\n",
      "Finish Training! (Model is NOT saved)\n",
      "\n",
      "Maximum training accuracy : 28.73%\n",
      "Maximum validation accuracy : 43.42%\n",
      "\t rep 1 - acc lst - mean : 0.43421053886413574\n",
      "Start Training (total epochs: 100)...\n",
      "Finish Training! (Model is NOT saved)\n",
      "\n",
      "Maximum training accuracy : 29.46%\n",
      "Maximum validation accuracy : 48.03%\n",
      "\t rep 2 - acc lst - mean : 0.4572368413209915\n",
      "Sub 2\n",
      "Start Training (total epochs: 100)...\n"
     ]
    }
   ],
   "execution_count": null
  },
  {
   "metadata": {},
   "cell_type": "code",
   "source": "",
   "id": "604949027bf21b38",
   "outputs": [],
   "execution_count": null
  },
  {
   "metadata": {},
   "cell_type": "code",
   "source": [
    "idx = np.random.choice(128, size=2, replace=False)\n",
    "acc_lst_ch2 = inter_session_run(idx)\n",
    "np.array(acc_lst_ch2), np.mean(acc_lst_ch2)"
   ],
   "id": "d86cd4fba7c8e5de",
   "outputs": [],
   "execution_count": null
  },
  {
   "metadata": {},
   "cell_type": "code",
   "source": [
    "idx = np.random.choice(128, size=1, replace=False)\n",
    "acc_lst_ch1 = inter_session_run(idx)\n",
    "np.array(acc_lst_ch1), np.mean(acc_lst_ch1)"
   ],
   "id": "8bea418c39aa2117",
   "outputs": [],
   "execution_count": null
  },
  {
   "metadata": {},
   "cell_type": "code",
   "source": [
    "acc_lst_ch4 = [0.70723683, 0.65460524, 0.20065789, 0.3125    , 0.47368421, 0.27960527, 0.7006579 , 0.29605263, 0.25]\n",
    "np.array(acc_lst_ch4), np.mean(acc_lst_ch4), np.std(acc_lst_ch4)"
   ],
   "id": "3c5228d52b4aa097",
   "outputs": [],
   "execution_count": null
  },
  {
   "metadata": {},
   "cell_type": "code",
   "source": [
    "acc_lst_ch3 = [0.25394737, 0.24210526, 0.23355263, 0.20460526, 0.24342105,\n",
    "        0.20723684, 0.3125    , 0.34605263, 0.24736842]\n",
    "np.array(acc_lst_ch3), np.mean(acc_lst_ch3), np.std(acc_lst_ch3)"
   ],
   "id": "4b501bd2eff981fd",
   "outputs": [],
   "execution_count": null
  },
  {
   "metadata": {},
   "cell_type": "code",
   "source": [
    "acc_lst_ch2 = [0.26644737, 0.23289474, 0.22039474, 0.23552632, 0.2125    , 0.21315789, 0.30131579, 0.30394737, 0.21052632]\n",
    "np.array(acc_lst_ch2), np.mean(acc_lst_ch2), np.std(acc_lst_ch2)"
   ],
   "id": "fb1adba826d0b3fc",
   "outputs": [],
   "execution_count": null
  },
  {
   "metadata": {},
   "cell_type": "code",
   "source": [
    "#acc_lst_ch1 = [0.1381579 , 0.20355263, 0.175     , 0.20789474, 0.16381579, 0.20657895, 0.21118421, 0.19407895, 0.21421053]\n",
    "np.array(acc_lst_ch1), np.mean(acc_lst_ch1), np.std(acc_lst_ch1)"
   ],
   "id": "6be701a758e45afe",
   "outputs": [],
   "execution_count": null
  },
  {
   "metadata": {},
   "cell_type": "code",
   "source": "np.mean(acc_lst_ch4), np.mean(acc_lst_ch3), np.mean(acc_lst_ch2), np.mean(acc_lst_ch1)",
   "id": "b32881b7558f9bc8",
   "outputs": [],
   "execution_count": null
  },
  {
   "metadata": {},
   "cell_type": "code",
   "source": [
    "import matplotlib.pyplot as plt\n",
    "\n",
    "capgmyo = [0.1982602345281177, 0.23407894760370252, 0.2545321641696824, 0.2794736828075515]\n",
    "capgmyo_std = [0.020308748336899822, 0.03527499370956159, 0.043761342629963514, 0.0499663236461966]\n",
    "eng_ours = [0.20592691832118565,  0.22991960992415747, 0.25636376980278227, 0.28052006037367714]\n",
    "eng_ours_std = [0.05375169177908187, 0.08492193274795812, 0.08343234445005425, 0.09487073400413076]\n",
    "\n",
    "x_label = [f'{i}-Channel' for i in range(1,5)]\n",
    "x = range(len(x_label))\n",
    "\n",
    "plt.errorbar(x, capgmyo, yerr=capgmyo_std, fmt='o-', capsize=5, label=\"Capgmyo\")\n",
    "plt.errorbar(x, eng_ours, yerr=eng_ours_std, fmt='o-', capsize=5, label=\"ENG Ours\")\n",
    "\n",
    "plt.xticks(x, x_label)\n",
    "plt.ylabel('Accuracy')\n",
    "plt.legend()\n",
    "plt.grid(True, linestyle='--', alpha=0.6)\n",
    "plt.show()\n"
   ],
   "id": "426a54a9d9fe7209",
   "outputs": [],
   "execution_count": null
  },
  {
   "metadata": {},
   "cell_type": "markdown",
   "source": [
    "anp.array(acc_lst_ch3)atotal 10 sessions - training on 9 / testing on 1\n",
    "\n",
    "ours:"
   ],
   "id": "4d0dcb37979e26e4"
  }
 ],
 "metadata": {
  "kernelspec": {
   "display_name": "Python 3",
   "language": "python",
   "name": "python3"
  },
  "language_info": {
   "codemirror_mode": {
    "name": "ipython",
    "version": 2
   },
   "file_extension": ".py",
   "mimetype": "text/x-python",
   "name": "python",
   "nbconvert_exporter": "python",
   "pygments_lexer": "ipython2",
   "version": "2.7.6"
  }
 },
 "nbformat": 4,
 "nbformat_minor": 5
}
