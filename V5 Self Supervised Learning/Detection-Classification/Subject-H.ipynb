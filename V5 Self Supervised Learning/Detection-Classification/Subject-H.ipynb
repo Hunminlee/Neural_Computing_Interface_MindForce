{
 "cells": [
  {
   "metadata": {
    "ExecuteTime": {
     "end_time": "2025-07-28T18:46:57.733310Z",
     "start_time": "2025-07-28T18:46:55.253441Z"
    }
   },
   "cell_type": "code",
   "source": [
    "import tensorflow as tf\n",
    "import numpy as np\n",
    "import matplotlib.pyplot as plt\n",
    "import sys\n",
    "from sklearn.metrics import accuracy_score\n",
    "from win32comext.adsi.demos.scp import verbose\n",
    "\n",
    "sys.path.append('../../Share/')\n",
    "sys.path.append('../V1 - Semi Supervised Learning in online(Pseudo-labeling)/')\n",
    "import baseline, config\n",
    "import self_supervised_v1\n",
    "\n",
    "import warnings\n",
    "warnings.filterwarnings('ignore')\n",
    "\n",
    "def plot_result(result):\n",
    "    plt.figure(figsize=(10, 5))\n",
    "    plt.plot(result.history['accuracy'], label='accuracy', marker='o')\n",
    "    plt.plot(result.history['val_accuracy'], label='val_accuracy', marker='o')\n",
    "    plt.title('Pre-training Stage')\n",
    "    plt.xlabel('Epochs')\n",
    "    plt.ylabel('Accuracy')\n",
    "    plt.grid(True, linestyle='--', alpha=0.6)\n",
    "    plt.legend(loc='lower right')\n",
    "    plt.tight_layout()\n",
    "    plt.show()\n",
    "\n",
    "\n",
    "\n",
    "SUBJECT = \"Hunmin\"\n",
    "trainer = baseline.ModelTrainer(config, subject=SUBJECT)\n",
    "trainer_Carlson = baseline.ModelTrainer(config, subject=\"Carlson\")\n",
    "trainer_Harold = baseline.ModelTrainer(config, subject=\"Harold\")\n",
    "#trainer_Hunmin = baseline.ModelTrainer(config, subject=\"Hunmin\")\n",
    "trainer_Brian = baseline.ModelTrainer(config, subject=\"Brian\")\n",
    "trainer_Xianyu = baseline.ModelTrainer(config, subject=\"Xianyu\")"
   ],
   "id": "4b5c675288714f9c",
   "outputs": [],
   "execution_count": 1
  },
  {
   "metadata": {},
   "cell_type": "markdown",
   "source": [
    "New paradigm : Gesture detection first / Classification Second\n",
    "- Two models : Detection model / Classification model\n",
    "- Detection Model\n",
    "    - We acquire the dataset first"
   ],
   "id": "7e61bb0892ca8c94"
  },
  {
   "metadata": {
    "ExecuteTime": {
     "end_time": "2025-07-28T18:46:59.032308Z",
     "start_time": "2025-07-28T18:46:57.814790Z"
    }
   },
   "cell_type": "code",
   "source": [
    "Threshold_K = 22  # 초기 학습 데이터\n",
    "X_init, y_init, X_init_test, y_init_test = trainer.return_until_K_data(K=Threshold_K, train_ratio=0.8)\n",
    "#X_init.shape, y_init.shape, X_init_test.shape, y_init_test.shape\n",
    "mask_train = y_init != 0\n",
    "X_init_5cls = X_init[mask_train]\n",
    "y_init_5cls = y_init[mask_train]-1\n",
    "\n",
    "# 테스트 데이터에서 0 제거\n",
    "mask_test = y_init_test != 0\n",
    "X_init_test_5cls = X_init_test[mask_test]\n",
    "y_init_test_5cls = y_init_test[mask_test]-1"
   ],
   "id": "7f9d0aaad4a2f18b",
   "outputs": [
    {
     "name": "stdout",
     "output_type": "stream",
     "text": [
      "Dataset 1/58 - Session Exp_2025-05-27/E8331D05289A/\n",
      "========================================\n",
      "Dataset 2/58 - Session Exp_2025-06-18/E9AD0E7DCC2B/\n",
      "========================================\n",
      "Dataset 3/58 - Session Exp_2025-06-20-v1/E9AD0E7DCC2B/\n",
      "========================================\n",
      "Dataset 4/58 - Session Exp_2025-06-20-v2/E9AD0E7DCC2B/\n",
      "========================================\n",
      "Dataset 5/58 - Session Exp_2025-06-20-v3/E9AD0E7DCC2B/\n",
      "========================================\n",
      "Dataset 6/58 - Session Exp_2025-06-20-v4/E9AD0E7DCC2B/\n",
      "========================================\n",
      "Dataset 7/58 - Session Exp_2025-06-20-v5/E9AD0E7DCC2B/\n",
      "========================================\n",
      "Dataset 8/58 - Session Exp_2025-06-20-v6/E9AD0E7DCC2B/\n",
      "========================================\n",
      "Dataset 9/58 - Session Exp_2025-06-20-v7/E9AD0E7DCC2B/\n",
      "========================================\n",
      "Dataset 10/58 - Session Exp_2025-06-20-v8/E9AD0E7DCC2B/\n",
      "========================================\n",
      "Dataset 11/58 - Session Exp_2025-06-23-v1/E9AD0E7DCC2B/\n",
      "========================================\n",
      "Dataset 12/58 - Session Exp_2025-06-23-v2/E9AD0E7DCC2B/\n",
      "========================================\n",
      "Dataset 13/58 - Session Exp_2025-06-23-v3/E9AD0E7DCC2B/\n",
      "========================================\n",
      "Dataset 14/58 - Session Exp_2025-06-23-v4/E9AD0E7DCC2B/\n",
      "========================================\n",
      "Dataset 15/58 - Session Exp_2025-06-24-v1/E9AD0E7DCC2B/\n",
      "========================================\n",
      "Dataset 16/58 - Session Exp_2025-06-24-v2/E9AD0E7DCC2B/\n",
      "========================================\n",
      "Dataset 17/58 - Session Exp_2025-06-24-v3/E9AD0E7DCC2B/\n",
      "========================================\n",
      "Dataset 18/58 - Session Exp_2025-06-24-v4/E9AD0E7DCC2B/\n",
      "========================================\n",
      "Dataset 19/58 - Session Exp_2025-06-26-v1/E9AD0E7DCC2B/\n",
      "========================================\n",
      "Dataset 20/58 - Session Exp_2025-06-26-v2/E9AD0E7DCC2B/\n",
      "========================================\n",
      "Dataset 21/58 - Session Exp_2025-06-26-v3/E9AD0E7DCC2B/\n",
      "========================================\n",
      "Dataset 22/58 - Session Exp_2025-06-26-v4/E9AD0E7DCC2B/\n",
      "========================================\n"
     ]
    }
   ],
   "execution_count": 2
  },
  {
   "metadata": {
    "ExecuteTime": {
     "end_time": "2025-07-28T18:46:59.064191Z",
     "start_time": "2025-07-28T18:46:59.042438Z"
    }
   },
   "cell_type": "code",
   "source": [
    "y_test_b = np.where(y_init_test == 0, 0, 1)\n",
    "y_train_b = np.where(y_init == 0, 0, 1)\n",
    "\n",
    "X_train_b = X_init.reshape(X_init.shape[0], -1)  # (150202, 56)\n",
    "X_test_b = X_init_test.reshape(X_init_test.shape[0], -1)     # test 데이터도 같이\n",
    "\n",
    "y_test_b.shape, y_train_b.shape, X_train_b.shape, X_test_b.shape"
   ],
   "id": "457537859e1e6552",
   "outputs": [
    {
     "data": {
      "text/plain": [
       "((37548,), (150202,), (150202, 56), (37548, 56))"
      ]
     },
     "execution_count": 3,
     "metadata": {},
     "output_type": "execute_result"
    }
   ],
   "execution_count": 3
  },
  {
   "metadata": {
    "ExecuteTime": {
     "end_time": "2025-07-28T18:46:59.078226Z",
     "start_time": "2025-07-28T18:46:59.075798Z"
    }
   },
   "cell_type": "code",
   "source": "#self_supervised_v1.grid_search_model_LGBM(X_train_b, y_train_b, X_test_b, y_test_b)",
   "id": "a6ee0eb6994ec0cb",
   "outputs": [],
   "execution_count": 4
  },
  {
   "metadata": {
    "ExecuteTime": {
     "end_time": "2025-07-28T19:16:09.583836Z",
     "start_time": "2025-07-28T19:16:08.917723Z"
    }
   },
   "cell_type": "code",
   "source": [
    "Detection_model = self_supervised_v1.detection_model_XGB()\n",
    "Detection_model.fit(X_train_b, y_train_b)\n",
    "y_pred = Detection_model.predict(X_test_b)\n",
    "acc = accuracy_score(y_test_b, y_pred)\n",
    "print(f\"\\nAccuracy: {acc:.4f}\")"
   ],
   "id": "61e6fddde7a8d968",
   "outputs": [
    {
     "name": "stdout",
     "output_type": "stream",
     "text": [
      "\n",
      "Accuracy: 0.9639\n"
     ]
    }
   ],
   "execution_count": 19
  },
  {
   "metadata": {
    "ExecuteTime": {
     "end_time": "2025-07-28T18:47:01.485027Z",
     "start_time": "2025-07-28T18:47:00.959940Z"
    }
   },
   "cell_type": "code",
   "source": [
    "Detection_model = self_supervised_v1.detection_model_LGBM()\n",
    "Detection_model.fit(X_train_b, y_train_b)\n",
    "y_pred = Detection_model.predict(X_test_b)\n",
    "acc = accuracy_score(y_test_b, y_pred)\n",
    "print(f\"\\nAccuracy: {acc:.4f}\")"
   ],
   "id": "4cd414910c7b4196",
   "outputs": [
    {
     "name": "stdout",
     "output_type": "stream",
     "text": [
      "[LightGBM] [Info] Number of positive: 59352, number of negative: 90850\n",
      "[LightGBM] [Info] Auto-choosing col-wise multi-threading, the overhead of testing was 0.006530 seconds.\n",
      "You can set `force_col_wise=true` to remove the overhead.\n",
      "[LightGBM] [Info] Total Bins 11180\n",
      "[LightGBM] [Info] Number of data points in the train set: 150202, number of used features: 56\n",
      "[LightGBM] [Info] [binary:BoostFromScore]: pavg=0.395148 -> initscore=-0.425724\n",
      "[LightGBM] [Info] Start training from score -0.425724\n",
      "\n",
      "Accuracy: 0.9648\n"
     ]
    }
   ],
   "execution_count": 5
  },
  {
   "metadata": {
    "ExecuteTime": {
     "end_time": "2025-07-28T18:51:15.974435Z",
     "start_time": "2025-07-28T18:47:38.620130Z"
    }
   },
   "cell_type": "code",
   "source": [
    "Recognition_model = self_supervised_v1.build_model_after_detection(num_classes=5)  # 모델 생성 및 초기 학습\n",
    "result = Recognition_model.fit(X_init_5cls, y_init_5cls, validation_data=(X_init_test_5cls, y_init_test_5cls), epochs=100, batch_size=64, verbose=0)\n",
    "plot_result(result)\n",
    "Recognition_model.save('./Recognition_model_5CLS.h5')\n",
    "\n",
    "#from tensorflow.keras.models import load_model\n",
    "#model = load_model('my_model.h5')"
   ],
   "id": "10ce5b9ccfdd23b9",
   "outputs": [
    {
     "data": {
      "text/plain": [
       "<Figure size 1000x500 with 1 Axes>"
      ],
      "image/png": "[encoded data removed]"
     },
     "metadata": {},
     "output_type": "display_data"
    },
    {
     "name": "stderr",
     "output_type": "stream",
     "text": [
      "WARNING:absl:You are saving your model as an HDF5 file via `model.save()` or `keras.saving.save_model(model)`. This file format is considered legacy. We recommend using instead the native Keras format, e.g. `model.save('my_model.keras')` or `keras.saving.save_model(model, 'my_model.keras')`. \n"
     ]
    }
   ],
   "execution_count": 6
  },
  {
   "metadata": {
    "jupyter": {
     "is_executing": true
    },
    "ExecuteTime": {
     "start_time": "2025-07-28T19:28:16.131165Z"
    }
   },
   "cell_type": "code",
   "source": [
    "Recognition_model = self_supervised_v1.build_model(num_classes=6)  # 모델 생성 및 초기 학습\n",
    "result = Recognition_model.fit(X_init, y_init, validation_data=(X_init_test, y_init_test), epochs=100, batch_size=64, verbose=0)\n",
    "plot_result(result)\n",
    "Recognition_model.save('./Recognition_model_6CLS.h5')"
   ],
   "id": "5bf09ae647c3d8d3",
   "outputs": [],
   "execution_count": null
  },
  {
   "metadata": {},
   "cell_type": "code",
   "outputs": [],
   "execution_count": null,
   "source": [
    "#y_recognition = Recognition_model.predict(X_init_test)\n",
    "acc = Recognition_model.evaluate(X_init_test, y_init_test, verbose=0)[1]\n",
    "acc"
   ],
   "id": "7be186eada6af4b2"
  },
  {
   "metadata": {},
   "cell_type": "code",
   "outputs": [],
   "execution_count": null,
   "source": "",
   "id": "308ab3971f8a6fa7"
  },
  {
   "metadata": {},
   "cell_type": "code",
   "outputs": [],
   "execution_count": null,
   "source": "",
   "id": "d56f37515e39c344"
  },
  {
   "metadata": {
    "ExecuteTime": {
     "end_time": "2025-07-28T19:06:50.467123Z",
     "start_time": "2025-07-28T19:06:49.937087Z"
    }
   },
   "cell_type": "code",
   "source": [
    "from sklearn.metrics import accuracy_score, confusion_matrix, classification_report\n",
    "\n",
    "# Detection 단계\n",
    "y_pred = Detection_model.predict(X_test_b)\n",
    "gesture_mask = y_pred == 1\n",
    "\n",
    "# Detection 결과로부터 Recognition input 생성\n",
    "X_gesture_only = X_test_b[gesture_mask]\n",
    "y_gesture_true = y_init_test[gesture_mask]-1  # ← 정답 라벨 => 여기서 0을 없애야함\n",
    "\n",
    "# reshape to (samples, 4, 14, 1)\n",
    "X_gesture_only = X_gesture_only.reshape(-1, 4, 14, 1)\n",
    "\n",
    "# Recognition 단계\n",
    "y_recognition = Recognition_model.predict(X_gesture_only)\n",
    "\n",
    "# 만약 Recognition_model이 확률을 반환한다면, 가장 큰 값을 가진 인덱스로 변환\n",
    "#if len(y_recognition.shape) > 1 and y_recognition.shape[1] > 1:\n",
    "y_recognition = np.argmax(y_recognition, axis=1)\n",
    "\n",
    "# 정확도 및 보고서 출력\n",
    "acc = accuracy_score(y_gesture_true, y_recognition)\n",
    "cm = confusion_matrix(y_gesture_true, y_recognition)\n",
    "report = classification_report(y_gesture_true, y_recognition)\n",
    "\n",
    "print(f\"Accuracy: {acc:.4f}\")\n",
    "print(\"Confusion Matrix:\")\n",
    "print(cm)\n",
    "print(\"Classification Report:\")\n",
    "print(report)"
   ],
   "id": "99d0243b9f187a5d",
   "outputs": [
    {
     "name": "stdout",
     "output_type": "stream",
     "text": [
      "\u001B[1m472/472\u001B[0m \u001B[32m━━━━━━━━━━━━━━━━━━━━\u001B[0m\u001B[37m\u001B[0m \u001B[1m0s\u001B[0m 848us/step\n",
      "Accuracy: 0.8612\n",
      "Confusion Matrix:\n",
      "[[2376  153   23    4  413    0]\n",
      " [  49 2703   49   10  128    0]\n",
      " [   6   42 2689    4   35    0]\n",
      " [   2   15  114 2691    4    0]\n",
      " [ 123   72   60    1 2535    0]\n",
      " [ 121   97  315  148  107    0]]\n",
      "Classification Report:\n",
      "              precision    recall  f1-score   support\n",
      "\n",
      "           0       0.89      0.80      0.84      2969\n",
      "           1       0.88      0.92      0.90      2939\n",
      "           2       0.83      0.97      0.89      2776\n",
      "           3       0.94      0.95      0.95      2826\n",
      "           4       0.79      0.91      0.84      2791\n",
      "         255       0.00      0.00      0.00       788\n",
      "\n",
      "    accuracy                           0.86     15089\n",
      "   macro avg       0.72      0.76      0.74     15089\n",
      "weighted avg       0.82      0.86      0.84     15089\n",
      "\n"
     ]
    }
   ],
   "execution_count": 18
  },
  {
   "metadata": {
    "ExecuteTime": {
     "end_time": "2025-07-28T19:05:21.036172Z",
     "start_time": "2025-07-28T19:05:21.031529Z"
    }
   },
   "cell_type": "code",
   "source": [
    "unique, counts = np.unique(y_gesture_true, return_counts=True)\n",
    "print(dict(zip(unique, counts)))\n",
    "len(y_gesture_true)"
   ],
   "id": "aea885b44c17839e",
   "outputs": [
    {
     "name": "stdout",
     "output_type": "stream",
     "text": [
      "{np.uint8(0): np.int64(2969), np.uint8(1): np.int64(2939), np.uint8(2): np.int64(2776), np.uint8(3): np.int64(2826), np.uint8(4): np.int64(2791), np.uint8(255): np.int64(788)}\n"
     ]
    },
    {
     "data": {
      "text/plain": [
       "15089"
      ]
     },
     "execution_count": 15,
     "metadata": {},
     "output_type": "execute_result"
    }
   ],
   "execution_count": 15
  },
  {
   "metadata": {
    "ExecuteTime": {
     "end_time": "2025-07-28T19:05:26.866849Z",
     "start_time": "2025-07-28T19:05:26.860937Z"
    }
   },
   "cell_type": "code",
   "source": [
    "unique, counts = np.unique(y_recognition, return_counts=True)\n",
    "print(dict(zip(unique, counts)))\n",
    "len(y_recognition)"
   ],
   "id": "de8a831f58afa204",
   "outputs": [
    {
     "name": "stdout",
     "output_type": "stream",
     "text": [
      "{np.int64(0): np.int64(2677), np.int64(1): np.int64(3082), np.int64(2): np.int64(3250), np.int64(3): np.int64(2858), np.int64(4): np.int64(3222)}\n"
     ]
    },
    {
     "data": {
      "text/plain": [
       "15089"
      ]
     },
     "execution_count": 16,
     "metadata": {},
     "output_type": "execute_result"
    }
   ],
   "execution_count": 16
  },
  {
   "metadata": {
    "ExecuteTime": {
     "end_time": "2025-07-28T18:41:57.634013Z",
     "start_time": "2025-07-28T18:41:57.628493Z"
    }
   },
   "cell_type": "code",
   "source": "gesture_mask",
   "id": "8dba52e1088e1577",
   "outputs": [
    {
     "data": {
      "text/plain": [
       "array([False, False, False, ..., False,  True, False])"
      ]
     },
     "execution_count": 31,
     "metadata": {},
     "output_type": "execute_result"
    }
   ],
   "execution_count": 31
  },
  {
   "metadata": {},
   "cell_type": "code",
   "source": "",
   "id": "7ece39c9e352733",
   "outputs": [],
   "execution_count": null
  },
  {
   "metadata": {
    "ExecuteTime": {
     "end_time": "2025-07-28T19:05:53.682506Z",
     "start_time": "2025-07-28T19:05:53.677259Z"
    }
   },
   "cell_type": "code",
   "source": "788/15089",
   "id": "d1f35379b515a279",
   "outputs": [
    {
     "data": {
      "text/plain": [
       "0.05222347405394658"
      ]
     },
     "execution_count": 17,
     "metadata": {},
     "output_type": "execute_result"
    }
   ],
   "execution_count": 17
  },
  {
   "metadata": {},
   "cell_type": "code",
   "source": "",
   "id": "e0c486e8b0f1991a",
   "outputs": [],
   "execution_count": null
  },
  {
   "metadata": {},
   "cell_type": "markdown",
   "source": [
    "Decoupling to Detection and Classification model\n",
    "\n",
    "- Detection acc: 96%\n",
    "- Classification acc after detection: 86%"
   ],
   "id": "ff2d54a04f3ede65"
  },
  {
   "metadata": {},
   "cell_type": "code",
   "source": "",
   "id": "745ffb1423f9cbc2",
   "outputs": [],
   "execution_count": null
  },
  {
   "metadata": {},
   "cell_type": "code",
   "source": "",
   "id": "28691199aa75a1c",
   "outputs": [],
   "execution_count": null
  },
  {
   "metadata": {},
   "cell_type": "code",
   "source": "",
   "id": "6567981f2546df09",
   "outputs": [],
   "execution_count": null
  },
  {
   "metadata": {},
   "cell_type": "code",
   "source": "",
   "id": "cab1f9a22292641",
   "outputs": [],
   "execution_count": null
  },
  {
   "metadata": {},
   "cell_type": "code",
   "source": "",
   "id": "bb9c7ed8fdbabb56",
   "outputs": [],
   "execution_count": null
  }
 ],
 "metadata": {
  "kernelspec": {
   "display_name": "Python 3",
   "language": "python",
   "name": "python3"
  },
  "language_info": {
   "codemirror_mode": {
    "name": "ipython",
    "version": 2
   },
   "file_extension": ".py",
   "mimetype": "text/x-python",
   "name": "python",
   "nbconvert_exporter": "python",
   "pygments_lexer": "ipython2",
   "version": "2.7.6"
  }
 },
 "nbformat": 4,
 "nbformat_minor": 5
}
