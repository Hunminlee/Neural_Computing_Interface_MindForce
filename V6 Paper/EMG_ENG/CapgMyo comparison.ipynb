{
 "cells": [
  {
   "metadata": {},
   "cell_type": "markdown",
   "source": [
    "# CapgMyo comparison\n",
    "\n",
    "Select four random channels and compare with ENG"
   ],
   "id": "8e6395e585975ad2"
  },
  {
   "cell_type": "code",
   "id": "initial_id",
   "metadata": {
    "collapsed": true,
    "ExecuteTime": {
     "end_time": "2025-08-23T21:30:05.235435Z",
     "start_time": "2025-08-23T21:30:02.970248Z"
    }
   },
   "source": [
    "import numpy as np\n",
    "import pandas as pd\n",
    "import matplotlib.pyplot as plt\n",
    "import warnings\n",
    "warnings.filterwarnings(\"ignore\")\n",
    "\n",
    "import gc\n",
    "gc.collect()\n",
    "\n",
    "import sys\n",
    "sys.path.append('../../Share/')\n",
    "sys.path.append('../../Share/Manual_processing/')\n",
    "import Model, utils, Same_with_MATLAB, Feature_info\n",
    "\n",
    "import capgmyo_modules\n",
    "f_path = 'C:/Users/hml76/Desktop/Jupyter/Datasets/CapgMyo/DB_B_preproceesed/'"
   ],
   "outputs": [],
   "execution_count": 2
  },
  {
   "metadata": {
    "ExecuteTime": {
     "end_time": "2025-08-23T21:31:01.700808Z",
     "start_time": "2025-08-23T21:30:05.240471Z"
    }
   },
   "cell_type": "code",
   "source": [
    "idx = np.random.choice(128, size=4, replace=False)\n",
    "ACC_lst = []\n",
    "\n",
    "for SUB in range(1,10):\n",
    "    X_train, y_train = capgmyo_modules.import_dataset_train(subject=SUB, rep=None, path=f_path, win_len=100, win_inc=50, sel_four_ch=idx, TEST_REP=10)\n",
    "    X_test, y_test = capgmyo_modules.import_dataset_test(subject=SUB, rep=10, path=f_path, win_len=100, win_inc=50, sel_four_ch=idx, TEST_REP=10)\n",
    "    X_train = X_train.reshape(X_train.shape[0], X_train.shape[1], 1)\n",
    "    X_test = X_test.reshape(X_test.shape[0], X_test.shape[1], 1)\n",
    "    #print(X_train.shape, y_train.shape, X_test.shape, y_test.shape)\n",
    "    model = Model.Original_model_1DCNN(input_size=X_train.shape[1:], num_class=8)\n",
    "\n",
    "    history, model = Model.Train_model(\n",
    "        model, X_train, y_train, X_test, y_test,\n",
    "        set_epoch=100, set_batch_size=256, Model_name='V0',\n",
    "        set_verbose=False, save_model_set=False\n",
    "    )\n",
    "    acc = model.evaluate(X_test, y_test, verbose=0)[1]\n",
    "    ACC_lst.append(acc)\n"
   ],
   "id": "62e3d9372fd6f6bc",
   "outputs": [
    {
     "name": "stdout",
     "output_type": "stream",
     "text": [
      "Start Training (total epochs: 100)...\n",
      "Finish Training! (Model is NOT saved)\n",
      "\n",
      "Maximum training accuracy : 27.56%\n",
      "Maximum validation accuracy : 29.61%\n",
      "Start Training (total epochs: 100)...\n",
      "Finish Training! (Model is NOT saved)\n",
      "\n",
      "Maximum training accuracy : 32.38%\n",
      "Maximum validation accuracy : 25.0%\n",
      "Start Training (total epochs: 100)...\n",
      "Finish Training! (Model is NOT saved)\n",
      "\n",
      "Maximum training accuracy : 32.31%\n",
      "Maximum validation accuracy : 19.74%\n",
      "Start Training (total epochs: 100)...\n",
      "Finish Training! (Model is NOT saved)\n",
      "\n",
      "Maximum training accuracy : 37.65%\n",
      "Maximum validation accuracy : 20.39%\n",
      "Start Training (total epochs: 100)...\n",
      "Finish Training! (Model is NOT saved)\n",
      "\n",
      "Maximum training accuracy : 33.99%\n",
      "Maximum validation accuracy : 25.0%\n",
      "Start Training (total epochs: 100)...\n",
      "Finish Training! (Model is NOT saved)\n",
      "\n",
      "Maximum training accuracy : 35.67%\n",
      "Maximum validation accuracy : 32.89%\n",
      "Start Training (total epochs: 100)...\n",
      "Finish Training! (Model is NOT saved)\n",
      "\n",
      "Maximum training accuracy : 35.01%\n",
      "Maximum validation accuracy : 25.0%\n",
      "Start Training (total epochs: 100)...\n",
      "Finish Training! (Model is NOT saved)\n",
      "\n",
      "Maximum training accuracy : 32.75%\n",
      "Maximum validation accuracy : 46.71%\n",
      "Start Training (total epochs: 100)...\n",
      "Finish Training! (Model is NOT saved)\n",
      "\n",
      "Maximum training accuracy : 28.8%\n",
      "Maximum validation accuracy : 12.5%\n"
     ]
    }
   ],
   "execution_count": 3
  },
  {
   "metadata": {
    "ExecuteTime": {
     "end_time": "2025-08-23T21:33:11.269764Z",
     "start_time": "2025-08-23T21:33:11.265770Z"
    }
   },
   "cell_type": "code",
   "source": "np.mean(ACC_lst)",
   "id": "a3403652de839a9a",
   "outputs": [
    {
     "data": {
      "text/plain": [
       "np.float64(0.2631578958696789)"
      ]
     },
     "execution_count": 5,
     "metadata": {},
     "output_type": "execute_result"
    }
   ],
   "execution_count": 5
  },
  {
   "metadata": {},
   "cell_type": "code",
   "outputs": [],
   "execution_count": null,
   "source": "",
   "id": "282552db9073dffd"
  },
  {
   "metadata": {},
   "cell_type": "markdown",
   "source": [
    "total 10 sessions - training on 9 / testing on 1\n",
    "\n",
    "ours:"
   ],
   "id": "4d0dcb37979e26e4"
  }
 ],
 "metadata": {
  "kernelspec": {
   "display_name": "Python 3",
   "language": "python",
   "name": "python3"
  },
  "language_info": {
   "codemirror_mode": {
    "name": "ipython",
    "version": 2
   },
   "file_extension": ".py",
   "mimetype": "text/x-python",
   "name": "python",
   "nbconvert_exporter": "python",
   "pygments_lexer": "ipython2",
   "version": "2.7.6"
  }
 },
 "nbformat": 4,
 "nbformat_minor": 5
}
