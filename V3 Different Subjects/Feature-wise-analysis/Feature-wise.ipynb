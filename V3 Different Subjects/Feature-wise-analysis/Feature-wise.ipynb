{
 "cells": [
  {
   "metadata": {},
   "cell_type": "markdown",
   "source": [
    "# For each feature, test the sample model\n",
    "\n",
    "Setting\n",
    "- Extract existing feature set: 14 features (ZC / SSC / WL / WAMP / MAV / MSE / RMS / V3 / LD / DASDV / MFL / MPR / MAVS / WMAV)\n",
    "- Subject: Hunmin / Xianyu\n",
    "    1. Do intra-subject setting (H / X indepedently)\n",
    "- Inter-session setting\n",
    "    - Feature 1. Inter-session using centralized training\n",
    "    - Feature 2. Inter-session using centralized training\n",
    "    - ...\n",
    "\n",
    "Questions\n",
    "- Does feature set works differently per person?\n",
    "- Does feature set works differently per session? (identical person)\n",
    "- Is combining feature set good?\n",
    "- Ultimately, which feature set we should select?"
   ],
   "id": "d4cfa46c9e1b2548"
  },
  {
   "cell_type": "code",
   "id": "initial_id",
   "metadata": {
    "collapsed": true,
    "ExecuteTime": {
     "end_time": "2025-07-07T17:08:36.579734Z",
     "start_time": "2025-07-07T17:08:36.371227Z"
    }
   },
   "source": [
    "import sys\n",
    "sys.path.append('../')\n",
    "import config\n",
    "import numpy as np\n",
    "import pandas as pd"
   ],
   "outputs": [],
   "execution_count": 1
  },
  {
   "metadata": {},
   "cell_type": "code",
   "outputs": [],
   "execution_count": null,
   "source": [
    "import Trainer\n",
    "baseline_K_val = [18]\n",
    "\n",
    "for K in baseline_K_val:\n",
    "    trainer = Trainer.TremorModelTrainer(config, subject=\"Hunmin\")\n",
    "     = trainer.return_K_data(K)\n",
    "\n",
    "    #trainer.run_all_sessions_training_K_data(K)\n",
    "    #df = trainer.save_results(f'../Results/Baseline_results_train_with_{K}data_H.csv')\n"
   ],
   "id": "be5c3ccce6888d0e"
  },
  {
   "metadata": {},
   "cell_type": "code",
   "outputs": [],
   "execution_count": null,
   "source": "",
   "id": "e38e8f3c738b6d71"
  }
 ],
 "metadata": {
  "kernelspec": {
   "display_name": "Python 3",
   "language": "python",
   "name": "python3"
  },
  "language_info": {
   "codemirror_mode": {
    "name": "ipython",
    "version": 2
   },
   "file_extension": ".py",
   "mimetype": "text/x-python",
   "name": "python",
   "nbconvert_exporter": "python",
   "pygments_lexer": "ipython2",
   "version": "2.7.6"
  }
 },
 "nbformat": 4,
 "nbformat_minor": 5
}
