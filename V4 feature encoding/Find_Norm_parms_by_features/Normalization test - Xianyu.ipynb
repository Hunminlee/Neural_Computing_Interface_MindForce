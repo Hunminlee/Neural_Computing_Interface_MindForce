{
 "cells": [
  {
   "metadata": {},
   "cell_type": "code",
   "source": [
    "import sys\n",
    "sys.path.append(\"../../Share\")\n",
    "sys.path.append(\"../\")\n",
    "\n",
    "import config, Processing_same_with_MATLAB, Feature_info\n",
    "import numpy as np\n",
    "import pandas as pd\n",
    "import matplotlib.pyplot as plt\n",
    "import seaborn as sns\n",
    "\n",
    "SUBJECT = \"Xianyu\""
   ],
   "id": "64532ea4f833a9d0",
   "outputs": [],
   "execution_count": null
  },
  {
   "metadata": {},
   "cell_type": "code",
   "source": [
    "fs, lower_cutoff, upper_cutoff = Feature_info.fs, Feature_info.lower_cutoff, Feature_info.upper_cutoff\n",
    "filter_b, filter_a = Processing_same_with_MATLAB.cheby2(4, 30, [lower_cutoff / (fs/2), upper_cutoff / (fs/2)], btype='bandpass')\n",
    "\n",
    "import Train_and_test_one_feature_with_norm_param\n",
    "\n",
    "Trainer_feature_wise = Train_and_test_one_feature_with_norm_param.main(filter_a,\n",
    "                                                          filter_b,\n",
    "                                                          data_files = config.dataset_sub_C,\n",
    "                                                          default_path = config.default_path_sub_C,\n",
    "                                                          SUBJECT = SUBJECT,\n",
    "                                                          K = 10) #K : K 이전 데이터 학습, K이후 데이터 테스트\n",
    "\n",
    "Normalization_TF = True\n",
    "\n",
    "\n",
    "def get_best_param(mean_list, std_list, Normalization_TF, feature_idx, SUBJECT):\n",
    "    All_acc, All_param = [], []\n",
    "\n",
    "    for M in mean_list:\n",
    "        for S in std_list:\n",
    "            test_acc, X_train_stacked, y_train_stacked, X_test_stacked, y_test_stacked = Trainer_feature_wise.Train_and_test(\n",
    "                Normalization_TF, M, S, num_feature_set=14, target_feat_idx=feature_idx\n",
    "            )\n",
    "            All_acc.append(np.mean(test_acc))\n",
    "            All_param.append([M, S])\n",
    "\n",
    "    # Find best param\n",
    "    best_idx = np.argmax(All_acc)\n",
    "    best_param = All_param[best_idx]\n",
    "    best_acc = All_acc[best_idx]\n",
    "\n",
    "    # Create DataFrame\n",
    "    df = pd.DataFrame(All_param, columns=[\"Mean\", \"Std\"])\n",
    "    df[\"Accuracy\"] = All_acc\n",
    "\n",
    "    # Pivot for heatmap\n",
    "    heatmap_data = df.pivot(index=\"Mean\", columns=\"Std\", values=\"Accuracy\")\n",
    "\n",
    "    # Plot\n",
    "    plt.figure(figsize=(8, 6))\n",
    "    sns.heatmap(heatmap_data, annot=True, fmt=\".4f\", cmap=\"viridis\", cbar_kws={'label': 'Accuracy'})\n",
    "    plt.title(f'Grid Search Accuracy - {Feature_info.feature_names[feature_idx]}')\n",
    "    plt.xlabel(\"Std\")\n",
    "    plt.ylabel(\"Mean\")\n",
    "    plt.xticks(rotation=45)\n",
    "    plt.yticks(rotation=0)\n",
    "    plt.tight_layout()\n",
    "    plt.grid(False)\n",
    "    plt.savefig(f'./result/{SUBJECT}/GridSearchPlot_{Feature_info.feature_names[feature_idx]}.png', dpi=300)\n",
    "    plt.show()\n",
    "\n",
    "    # Save raw data\n",
    "    df.to_csv(f'./result/{SUBJECT}/Accuracy using Norm params - feature {Feature_info.feature_names[feature_idx]}.csv', index=False)\n",
    "\n",
    "    return best_param, best_acc"
   ],
   "id": "79b346ce8599312",
   "outputs": [],
   "execution_count": null
  },
  {
   "metadata": {},
   "cell_type": "markdown",
   "source": "# WL (Index 2)",
   "id": "aced665280b644bf"
  },
  {
   "metadata": {},
   "cell_type": "code",
   "source": [
    "feature_idx = 2  # WL / 2 (mean) / 0.8 (std)\n",
    "mean_list = [1, 1.5, 2, 2.5, 3, 3.5]\n",
    "std_list = [0.4, 0.6, 0.8, 1, 1.2]\n",
    "\n",
    "best_param, best_acc = get_best_param(mean_list, std_list, Normalization_TF, feature_idx, SUBJECT)\n",
    "print(f\"Best Accuracy: {best_acc:.4f} with mean={best_param[0]}, std={best_param[1]}\")"
   ],
   "id": "55fff3ade0776ccf",
   "outputs": [],
   "execution_count": null
  },
  {
   "metadata": {},
   "cell_type": "markdown",
   "source": "# MAV",
   "id": "a94c0f9e4baadaf0"
  },
  {
   "metadata": {},
   "cell_type": "code",
   "source": [
    "feature_idx = 4  # MAV / 11.0 (mean) / 4.43 (std)\n",
    "\n",
    "mean_list = [8.0, 10.0, 11.0, 12.5, 14.0]\n",
    "std_list = [3.0, 3.8, 4.4, 5.2, 6.0]\n",
    "\n",
    "best_param, best_acc = get_best_param(mean_list, std_list, Normalization_TF, feature_idx, SUBJECT)\n",
    "print(f\"Best Accuracy: {best_acc:.4f} with mean={best_param[0]}, std={best_param[1]}\")"
   ],
   "id": "e7fff5446abae93a",
   "outputs": [],
   "execution_count": null
  },
  {
   "metadata": {},
   "cell_type": "markdown",
   "source": "# MS(Mean squared)",
   "id": "94ed32a72b56518e"
  },
  {
   "metadata": {},
   "cell_type": "code",
   "source": [
    "feature_idx = 5\n",
    "\n",
    "mean_list = [160, 200, 229, 260, 290]\n",
    "std_list  = [200, 260, 304, 360, 420]\n",
    "\n",
    "best_param, best_acc = get_best_param(mean_list, std_list, Normalization_TF, feature_idx, SUBJECT)\n",
    "print(f\"Best Accuracy: {best_acc:.4f} with mean={best_param[0]}, std={best_param[1]}\")"
   ],
   "id": "da067bd81cdfbd3c",
   "outputs": [],
   "execution_count": null
  },
  {
   "metadata": {},
   "cell_type": "markdown",
   "source": "# Root Mean Squared (RMS)",
   "id": "aebe2e7ee7df98c"
  },
  {
   "metadata": {},
   "cell_type": "code",
   "source": [
    "feature_idx = 6\n",
    "mean_list_RMS = [10.0, 12.0, 13.8, 15.5, 17.0]\n",
    "std_list_RMS  = [4.5, 5.5, 6.85, 8.0, 9.0]\n",
    "\n",
    "best_param, best_acc = get_best_param(mean_list, std_list, Normalization_TF, feature_idx, SUBJECT)\n",
    "print(f\"Best Accuracy: {best_acc:.4f} with mean={best_param[0]}, std={best_param[1]}\")"
   ],
   "id": "4f394c008fee79d4",
   "outputs": [],
   "execution_count": null
  },
  {
   "metadata": {},
   "cell_type": "markdown",
   "source": "# Log Detector (LD)",
   "id": "f47486740141a20d"
  },
  {
   "metadata": {},
   "cell_type": "code",
   "source": [
    "feature_idx = 8\n",
    "mean_list_LogDet = [6.5, 8.0, 9.0, 10.0, 11.0]\n",
    "std_list_LogDet  = [2.0, 2.5, 2.87, 3.3, 3.8]\n",
    "\n",
    "best_param, best_acc = get_best_param(mean_list, std_list, Normalization_TF, feature_idx, SUBJECT)\n",
    "print(f\"Best Accuracy: {best_acc:.4f} with mean={best_param[0]}, std={best_param[1]}\")"
   ],
   "id": "12146d3402069b51",
   "outputs": [],
   "execution_count": null
  },
  {
   "metadata": {},
   "cell_type": "markdown",
   "source": "# DASDV (Difference Absolute Standard Deviation Value)",
   "id": "1b9e88b951a9d1b8"
  },
  {
   "metadata": {},
   "cell_type": "code",
   "source": [
    "feature_idx = 9\n",
    "mean_list_DASDV = [2.2, 2.6, 3.0, 3.4, 3.8]\n",
    "std_list_DASDV  = [0.6, 0.75, 0.87, 1.0, 1.1]\n",
    "\n",
    "best_param, best_acc = get_best_param(mean_list, std_list, Normalization_TF, feature_idx, SUBJECT)\n",
    "print(f\"Best Accuracy: {best_acc:.4f} with mean={best_param[0]}, std={best_param[1]}\")"
   ],
   "id": "b453d6576afcf7ad",
   "outputs": [],
   "execution_count": null
  },
  {
   "metadata": {},
   "cell_type": "markdown",
   "source": "# MFL (Maximum Fractal Length)",
   "id": "a2a40640459207c6"
  },
  {
   "metadata": {},
   "cell_type": "code",
   "source": [
    "feature_idx = 10\n",
    "mean_list_MFL = [1.0, 1.3, 1.5, 1.7, 2.0]\n",
    "std_list_MFL  = [0.12, 0.17, 0.21, 0.25, 0.30]\n",
    "\n",
    "best_param, best_acc = get_best_param(mean_list, std_list, Normalization_TF, feature_idx, SUBJECT)\n",
    "print(f\"Best Accuracy: {best_acc:.4f} with mean={best_param[0]}, std={best_param[1]}\")"
   ],
   "id": "e855e007febf9de3",
   "outputs": [],
   "execution_count": null
  },
  {
   "metadata": {},
   "cell_type": "markdown",
   "source": "# WMS",
   "id": "63c4dc2f614593fb"
  },
  {
   "metadata": {
    "jupyter": {
     "is_executing": true
    }
   },
   "cell_type": "code",
   "source": [
    "feature_idx = 13\n",
    "mean_list_WMS = [2.0, 2.4, 2.8, 3.2, 3.6]\n",
    "std_list_WMS  = [0.8, 1.0, 1.12, 1.3, 1.5]\n",
    "\n",
    "best_param, best_acc = get_best_param(mean_list, std_list, Normalization_TF, feature_idx, SUBJECT)\n",
    "print(f\"Best Accuracy: {best_acc:.4f} with mean={best_param[0]}, std={best_param[1]}\")"
   ],
   "id": "2ecd646dd43d5a56",
   "outputs": [],
   "execution_count": null
  },
  {
   "metadata": {},
   "cell_type": "code",
   "source": "",
   "id": "51a083259181f2dc",
   "outputs": [],
   "execution_count": null
  },
  {
   "metadata": {},
   "cell_type": "code",
   "source": "",
   "id": "2477b045e1e43c49",
   "outputs": [],
   "execution_count": null
  },
  {
   "metadata": {},
   "cell_type": "code",
   "source": "",
   "id": "199d3223804151be",
   "outputs": [],
   "execution_count": null
  },
  {
   "metadata": {},
   "cell_type": "code",
   "source": "",
   "id": "bb40247da06ef485",
   "outputs": [],
   "execution_count": null
  }
 ],
 "metadata": {
  "kernelspec": {
   "display_name": "Python 3",
   "language": "python",
   "name": "python3"
  },
  "language_info": {
   "codemirror_mode": {
    "name": "ipython",
    "version": 2
   },
   "file_extension": ".py",
   "mimetype": "text/x-python",
   "name": "python",
   "nbconvert_exporter": "python",
   "pygments_lexer": "ipython2",
   "version": "2.7.6"
  }
 },
 "nbformat": 4,
 "nbformat_minor": 5
}
