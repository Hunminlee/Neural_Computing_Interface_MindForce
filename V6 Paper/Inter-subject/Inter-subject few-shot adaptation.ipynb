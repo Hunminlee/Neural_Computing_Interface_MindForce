{
 "cells": [
  {
   "cell_type": "code",
   "id": "initial_id",
   "metadata": {
    "collapsed": true,
    "ExecuteTime": {
     "end_time": "2025-08-18T18:51:57.749163Z",
     "start_time": "2025-08-18T18:51:54.661704Z"
    }
   },
   "source": [
    "import sys\n",
    "sys.path.append('../../Share/')\n",
    "sys.path.append('../../V5 Self Supervised Learning')\n",
    "\n",
    "import pandas as pd\n",
    "import numpy as np\n",
    "from sklearn.utils import resample\n",
    "import matplotlib.pyplot as plt\n",
    "import baseline, config, self_supervised_v1\n",
    "\n",
    "import warnings\n",
    "warnings.filterwarnings('ignore')\n",
    "\n",
    "def evaluate_model(model, data, labels):\n",
    "    return model.evaluate(data, labels, verbose=0)[1]\n",
    "\n",
    "\n",
    "def down_sample(X, y):\n",
    "    X = np.array(X)\n",
    "    y = np.array(y)\n",
    "\n",
    "    # 클래스별 최소 개수\n",
    "    unique_classes, counts = np.unique(y, return_counts=True)\n",
    "    min_count = counts.min()\n",
    "\n",
    "    X_balanced, y_balanced = [], []\n",
    "\n",
    "    for cls in unique_classes:\n",
    "        idx = np.where(y == cls)[0]  # 해당 클래스 인덱스\n",
    "        down_idx = resample(idx, replace=False, n_samples=min_count, random_state=42)\n",
    "        X_balanced.append(X[down_idx])\n",
    "        y_balanced.append(y[down_idx])\n",
    "\n",
    "    # 합치기\n",
    "    X_balanced = np.concatenate(X_balanced, axis=0)\n",
    "    y_balanced = np.concatenate(y_balanced, axis=0)\n",
    "\n",
    "    return X_balanced, y_balanced\n",
    "\n",
    "\n",
    "\n",
    "trainer_Minjeong = baseline.ModelTrainer(config, subject=\"Minjeong\")\n",
    "trainer_Carlson = baseline.ModelTrainer(config, subject=\"Carlson\")\n",
    "trainer_Harold = baseline.ModelTrainer(config, subject=\"Harold\")\n",
    "trainer_Hunmin = baseline.ModelTrainer(config, subject=\"Hunmin\")\n",
    "trainer_Brian = baseline.ModelTrainer(config, subject=\"Brian\")\n",
    "trainer_Xianyu = baseline.ModelTrainer(config, subject=\"Xianyu\")"
   ],
   "outputs": [],
   "execution_count": 1
  },
  {
   "metadata": {
    "ExecuteTime": {
     "end_time": "2025-08-18T18:51:57.899198Z",
     "start_time": "2025-08-18T18:51:57.755230Z"
    }
   },
   "cell_type": "code",
   "source": [
    "from tensorflow.keras.models import load_model\n",
    "from tensorflow.keras.optimizers import Adam\n",
    "\n",
    "model = load_model('./model_K10_H2.h5')\n",
    "\n",
    "model.compile(optimizer=Adam(learning_rate=1e-4),\n",
    "              loss='sparse_categorical_crossentropy',\n",
    "              metrics=['accuracy'])\n",
    "\n",
    "trainers_unseen = {\n",
    "    \"H\": trainer_Hunmin,\n",
    "    \"C\": trainer_Carlson,\n",
    "    \"B\": trainer_Brian,\n",
    "    \"X\": trainer_Xianyu,\n",
    "    \"M\": trainer_Minjeong\n",
    "}\n",
    "#Same_Session_Test_Acc, Next_Session_Test_Acc = [], []\n",
    "#Unseen_subject_acc_dict = {\"H\": [], \"C\": [], \"B\": [], \"X\": [], \"M\": []}"
   ],
   "id": "626745e435ab52ac",
   "outputs": [
    {
     "name": "stderr",
     "output_type": "stream",
     "text": [
      "WARNING:absl:Compiled the loaded model, but the compiled metrics have yet to be built. `model.compile_metrics` will be empty until you train or evaluate the model.\n"
     ]
    }
   ],
   "execution_count": 2
  },
  {
   "metadata": {
    "jupyter": {
     "is_executing": true
    },
    "ExecuteTime": {
     "start_time": "2025-08-18T18:56:43.471917Z"
    }
   },
   "cell_type": "code",
   "source": [
    "import meta\n",
    "\n",
    "trainer_sub = trainer_Carlson\n",
    "final_session = len(config.Info_sub_C)\n",
    "X_TEST, y_TEST, _, _ = trainer_sub.return_K_th_data_only(K=final_session-1, train_ratio=0.99)\n",
    "\n",
    "Acc_lst = []\n",
    "\n",
    "for k in range(final_session-1):\n",
    "    unseen_X, unseen_y, X_few_shot, y_few_shot = trainer_sub.return_K_th_data_only(K=k, train_ratio=0.8)\n",
    "    X_train, y_train = down_sample(unseen_X, unseen_y)\n",
    "    X_test, y_test = down_sample(X_few_shot, y_few_shot)\n",
    "\n",
    "    Meta = meta.MetaLearner(input_model=model, N_way=6, input_shape=X_train.shape[1:],\n",
    "        meta_iters=5,                              # Number of meta-training loops\n",
    "        meta_step_size=0.2                          # Reptile meta step\n",
    "    )\n",
    "\n",
    "    Meta.train(X_train, y_train, X_test, y_test, meta.get_data_Meta, N_way=6, K_shot=20)\n",
    "    acc = evaluate_model(model, X_TEST, y_TEST)\n",
    "    print(acc)\n",
    "    Acc_lst.append(acc)"
   ],
   "id": "142e8c093a617564",
   "outputs": [
    {
     "name": "stdout",
     "output_type": "stream",
     "text": [
      "Returning K-th session data: Exp_2025-08-01-v2/E9AD0E7DCC2B/\n",
      "========================================\n",
      "Returning K-th session data: Exp_2025-06-30-v1/E9AD0E7DCC2B/\n",
      "========================================\n",
      "0.8416273593902588\n",
      "Returning K-th session data: Exp_2025-06-30-v2/E9AD0E7DCC2B/\n",
      "========================================\n"
     ]
    }
   ],
   "execution_count": null
  },
  {
   "metadata": {},
   "cell_type": "code",
   "source": "",
   "id": "afadd139d97f1844",
   "outputs": [],
   "execution_count": null
  },
  {
   "metadata": {},
   "cell_type": "code",
   "source": "",
   "id": "6c9942b496f97f39",
   "outputs": [],
   "execution_count": null
  },
  {
   "metadata": {},
   "cell_type": "code",
   "source": "",
   "id": "598872daafc1cb55",
   "outputs": [],
   "execution_count": null
  },
  {
   "metadata": {},
   "cell_type": "code",
   "source": "",
   "id": "9cc62ca4a0a551e1",
   "outputs": [],
   "execution_count": null
  }
 ],
 "metadata": {
  "kernelspec": {
   "display_name": "Python 3",
   "language": "python",
   "name": "python3"
  },
  "language_info": {
   "codemirror_mode": {
    "name": "ipython",
    "version": 2
   },
   "file_extension": ".py",
   "mimetype": "text/x-python",
   "name": "python",
   "nbconvert_exporter": "python",
   "pygments_lexer": "ipython2",
   "version": "2.7.6"
  }
 },
 "nbformat": 4,
 "nbformat_minor": 5
}
