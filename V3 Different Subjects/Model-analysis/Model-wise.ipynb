{
 "cells": [
  {
   "metadata": {},
   "cell_type": "markdown",
   "source": [
    "# For each feature, test the sample model\n",
    "\n",
    "Setting\n",
    "- Extract existing feature set: 14 features (ZC / SSC / WL / WAMP / MAV / MSE / RMS / V3 / LD / DASDV / MFL / MPR / MAVS / WMAV)\n",
    "- Subject: Hunmin / Xianyu\n",
    "    1. Do intra-subject setting (H / X indepedently)\n",
    "- Inter-session setting\n",
    "    - Feature 1. Inter-session using centralized training\n",
    "    - Feature 2. Inter-session using centralized training\n",
    "    - ...\n",
    "\n",
    "Questions\n",
    "- Does feature set works differently per person?\n",
    "- Does feature set works differently per session? (identical person)\n",
    "- Is combining feature set good?\n",
    "- Ultimately, which feature set we should select?"
   ],
   "id": "d4cfa46c9e1b2548"
  },
  {
   "cell_type": "code",
   "id": "initial_id",
   "metadata": {
    "collapsed": true,
    "ExecuteTime": {
     "end_time": "2025-07-07T21:12:04.124778Z",
     "start_time": "2025-07-07T21:12:01.714162Z"
    }
   },
   "source": [
    "import sys\n",
    "sys.path.append('../')\n",
    "sys.path.append('../Feature-wise-analysis')\n",
    "import config\n",
    "import Models\n",
    "\n",
    "import numpy as np\n",
    "import pandas as pd\n",
    "import matplotlib.pyplot as plt\n",
    "\n",
    "import Trainer"
   ],
   "outputs": [],
   "execution_count": 1
  },
  {
   "metadata": {
    "ExecuteTime": {
     "end_time": "2025-07-07T21:12:06.709784Z",
     "start_time": "2025-07-07T21:12:04.226068Z"
    }
   },
   "cell_type": "code",
   "source": [
    "baseline_K_val = [18] #Train ~18 session data, test with 19~\n",
    "K = baseline_K_val[0]\n",
    "\n",
    "model_acc = []\n",
    "trainer = Trainer.TremorModelTrainer(config, subject=\"Hunmin\")\n",
    "X_train, y_train, X_test, y_test = trainer.return_K_data(K, verbose=False)"
   ],
   "id": "850833e6daa33fb8",
   "outputs": [
    {
     "name": "stdout",
     "output_type": "stream",
     "text": [
      "(151851, 4, 14, 1) (151851,)\n"
     ]
    }
   ],
   "execution_count": 2
  },
  {
   "metadata": {
    "ExecuteTime": {
     "end_time": "2025-07-07T21:12:41.324680Z",
     "start_time": "2025-07-07T21:12:06.720091Z"
    }
   },
   "cell_type": "code",
   "source": [
    "acc, _ = trainer.train_multiple_dataset(X_train, y_train, X_test, y_test, Models.V1_2DCNN)\n",
    "model_acc.append(acc)"
   ],
   "id": "be5c3ccce6888d0e",
   "outputs": [
    {
     "name": "stdout",
     "output_type": "stream",
     "text": [
      "Start Training (total epochs: 50)...\n",
      "Finish Training! (Model is saved)\n",
      "Maximum training accuracy : 91.1%\n",
      "Maximum validation accuracy : 89.02%\n",
      "Accuracy of test dataset using model V0: 88.3092%\n"
     ]
    }
   ],
   "execution_count": 3
  },
  {
   "metadata": {
    "ExecuteTime": {
     "end_time": "2025-07-07T21:13:10.523173Z",
     "start_time": "2025-07-07T21:12:41.334526Z"
    }
   },
   "cell_type": "code",
   "source": [
    "acc, _ = trainer.train_multiple_dataset(X_train, y_train, X_test, y_test, Models.ResNetStyle_CNN)\n",
    "model_acc.append(acc)"
   ],
   "id": "32a87140960f3b32",
   "outputs": [
    {
     "name": "stdout",
     "output_type": "stream",
     "text": [
      "Start Training (total epochs: 50)...\n",
      "Finish Training! (Model is saved)\n",
      "Maximum training accuracy : 90.11%\n",
      "Maximum validation accuracy : 88.29%\n",
      "Accuracy of test dataset using model V0: 87.9011%\n"
     ]
    }
   ],
   "execution_count": 4
  },
  {
   "metadata": {
    "ExecuteTime": {
     "end_time": "2025-07-07T21:13:37.814742Z",
     "start_time": "2025-07-07T21:13:10.532864Z"
    }
   },
   "cell_type": "code",
   "source": [
    "acc, _ = trainer.train_multiple_dataset(X_train, y_train, X_test, y_test, Models.InceptionStyle_CNN)\n",
    "model_acc.append(acc)"
   ],
   "id": "2c9992d851b58333",
   "outputs": [
    {
     "name": "stdout",
     "output_type": "stream",
     "text": [
      "Start Training (total epochs: 50)...\n",
      "Finish Training! (Model is saved)\n",
      "Maximum training accuracy : 90.89%\n",
      "Maximum validation accuracy : 88.63%\n",
      "Accuracy of test dataset using model V0: 88.2917%\n"
     ]
    }
   ],
   "execution_count": 5
  },
  {
   "metadata": {
    "ExecuteTime": {
     "end_time": "2025-07-07T21:14:08.073818Z",
     "start_time": "2025-07-07T21:13:37.824380Z"
    }
   },
   "cell_type": "code",
   "source": [
    "acc, _ = trainer.train_multiple_dataset(X_train, y_train, X_test, y_test, Models.SeparableCNN)\n",
    "model_acc.append(acc)"
   ],
   "id": "adc8b45cd8ad04cb",
   "outputs": [
    {
     "name": "stdout",
     "output_type": "stream",
     "text": [
      "Start Training (total epochs: 50)...\n",
      "Finish Training! (Model is saved)\n",
      "Maximum training accuracy : 88.33%\n",
      "Maximum validation accuracy : 87.79%\n",
      "Accuracy of test dataset using model V0: 87.6207%\n"
     ]
    }
   ],
   "execution_count": 6
  },
  {
   "metadata": {
    "ExecuteTime": {
     "end_time": "2025-07-07T21:14:33.681533Z",
     "start_time": "2025-07-07T21:14:08.083467Z"
    }
   },
   "cell_type": "code",
   "source": [
    "acc, _ = trainer.train_multiple_dataset(X_train, y_train, X_test, y_test, Models.SE_CNN)\n",
    "model_acc.append(acc)"
   ],
   "id": "961e0608c15b37d4",
   "outputs": [
    {
     "name": "stdout",
     "output_type": "stream",
     "text": [
      "Start Training (total epochs: 50)...\n",
      "Finish Training! (Model is saved)\n",
      "Maximum training accuracy : 90.91%\n",
      "Maximum validation accuracy : 88.9%\n",
      "Accuracy of test dataset using model V0: 88.1382%\n"
     ]
    }
   ],
   "execution_count": 7
  },
  {
   "metadata": {
    "ExecuteTime": {
     "end_time": "2025-07-07T21:14:59.139086Z",
     "start_time": "2025-07-07T21:14:33.691247Z"
    }
   },
   "cell_type": "code",
   "source": [
    "acc, _ = trainer.train_multiple_dataset(X_train, y_train, X_test, y_test, Models.Attention_CNN)\n",
    "model_acc.append(acc)"
   ],
   "id": "25c8a64d9b7afe88",
   "outputs": [
    {
     "name": "stdout",
     "output_type": "stream",
     "text": [
      "Start Training (total epochs: 50)...\n",
      "Finish Training! (Model is saved)\n",
      "Maximum training accuracy : 91.05%\n",
      "Maximum validation accuracy : 88.7%\n",
      "Accuracy of test dataset using model V0: 88.0172%\n"
     ]
    }
   ],
   "execution_count": 8
  },
  {
   "metadata": {
    "ExecuteTime": {
     "end_time": "2025-07-07T21:15:21.486828Z",
     "start_time": "2025-07-07T21:14:59.148578Z"
    }
   },
   "cell_type": "code",
   "source": [
    "acc, _ = trainer.train_multiple_dataset(X_train, y_train, X_test, y_test, Models.Gated_CNN)\n",
    "model_acc.append(acc)"
   ],
   "id": "20135229a1d7537a",
   "outputs": [
    {
     "name": "stdout",
     "output_type": "stream",
     "text": [
      "Start Training (total epochs: 50)...\n",
      "Finish Training! (Model is saved)\n",
      "Maximum training accuracy : 90.8%\n",
      "Maximum validation accuracy : 88.46%\n",
      "Accuracy of test dataset using model V0: 88.3030%\n"
     ]
    }
   ],
   "execution_count": 9
  },
  {
   "metadata": {
    "ExecuteTime": {
     "end_time": "2025-07-07T21:15:58.063443Z",
     "start_time": "2025-07-07T21:15:21.496584Z"
    }
   },
   "cell_type": "code",
   "source": [
    "acc, _ = trainer.train_multiple_dataset(X_train, y_train, X_test, y_test, Models.Hybrid_CNN)\n",
    "model_acc.append(acc)"
   ],
   "id": "b74bddd02936534a",
   "outputs": [
    {
     "name": "stdout",
     "output_type": "stream",
     "text": [
      "Start Training (total epochs: 50)...\n",
      "Finish Training! (Model is saved)\n",
      "Maximum training accuracy : 87.78%\n",
      "Maximum validation accuracy : 87.2%\n",
      "Accuracy of test dataset using model V0: 85.5415%\n"
     ]
    }
   ],
   "execution_count": 10
  },
  {
   "metadata": {
    "ExecuteTime": {
     "end_time": "2025-07-07T21:16:56.829279Z",
     "start_time": "2025-07-07T21:15:58.073357Z"
    }
   },
   "cell_type": "code",
   "source": [
    "import importlib\n",
    "importlib.reload(Models)\n",
    "\n",
    "X_train_rnn = X_train.reshape(-1, 4, 14)  # drop the last channel dimension\n",
    "X_test_rnn = X_test.reshape(-1, 4, 14)\n",
    "\n",
    "acc, _ = trainer.train_multiple_dataset(X_train_rnn, y_train, X_test_rnn, y_test, Models.BiLSTM_Attention_14features)\n",
    "model_acc.append(acc)"
   ],
   "id": "8bc113aa6e25698b",
   "outputs": [
    {
     "name": "stdout",
     "output_type": "stream",
     "text": [
      "Start Training (total epochs: 50)...\n",
      "Finish Training! (Model is saved)\n",
      "Maximum training accuracy : 92.44%\n",
      "Maximum validation accuracy : 88.81%\n",
      "Accuracy of test dataset using model V0: 88.4419%\n"
     ]
    }
   ],
   "execution_count": 11
  },
  {
   "metadata": {
    "ExecuteTime": {
     "end_time": "2025-07-07T21:17:51.209940Z",
     "start_time": "2025-07-07T21:16:56.844244Z"
    }
   },
   "cell_type": "code",
   "source": [
    "acc, _ = trainer.train_multiple_dataset(X_train, y_train, X_test, y_test, Models.Conv2D_then_LSTM)\n",
    "model_acc.append(acc)"
   ],
   "id": "78fb2924bdbe7019",
   "outputs": [
    {
     "name": "stdout",
     "output_type": "stream",
     "text": [
      "Start Training (total epochs: 50)...\n",
      "Finish Training! (Model is saved)\n",
      "Maximum training accuracy : 91.58%\n",
      "Maximum validation accuracy : 88.92%\n",
      "Accuracy of test dataset using model V0: 88.8192%\n"
     ]
    }
   ],
   "execution_count": 12
  },
  {
   "metadata": {
    "ExecuteTime": {
     "end_time": "2025-07-07T21:21:28.954817Z",
     "start_time": "2025-07-07T21:17:51.220439Z"
    }
   },
   "cell_type": "code",
   "source": [
    "import importlib\n",
    "importlib.reload(Models)\n",
    "\n",
    "acc, _ = trainer.train_multiple_dataset(X_train_rnn, y_train, X_test_rnn, y_test, Models.Transformer_Model)\n",
    "model_acc.append(acc)"
   ],
   "id": "bd39e99b995f3e75",
   "outputs": [
    {
     "name": "stdout",
     "output_type": "stream",
     "text": [
      "Start Training (total epochs: 50)...\n",
      "Finish Training! (Model is saved)\n",
      "Maximum training accuracy : 88.09%\n",
      "Maximum validation accuracy : 87.74%\n",
      "Accuracy of test dataset using model V0: 86.9572%\n"
     ]
    }
   ],
   "execution_count": 13
  },
  {
   "metadata": {
    "ExecuteTime": {
     "end_time": "2025-07-07T21:31:45.151970Z",
     "start_time": "2025-07-07T21:21:29.001743Z"
    }
   },
   "cell_type": "code",
   "source": [
    "import importlib\n",
    "importlib.reload(Models)\n",
    "\n",
    "acc, _ = trainer.train_multiple_dataset(X_train, y_train, X_test, y_test, Models.Hybrid_CNN_Transformer)\n",
    "model_acc.append(acc)"
   ],
   "id": "4dbcd5e2abfd63cc",
   "outputs": [
    {
     "name": "stdout",
     "output_type": "stream",
     "text": [
      "Start Training (total epochs: 50)...\n",
      "Finish Training! (Model is saved)\n",
      "Maximum training accuracy : 89.89%\n",
      "Maximum validation accuracy : 87.39%\n",
      "Accuracy of test dataset using model V0: 86.5282%\n"
     ]
    }
   ],
   "execution_count": 14
  },
  {
   "metadata": {
    "ExecuteTime": {
     "end_time": "2025-07-07T21:33:59.867396Z",
     "start_time": "2025-07-07T21:31:45.168191Z"
    }
   },
   "cell_type": "code",
   "source": [
    "import importlib\n",
    "importlib.reload(Models)\n",
    "\n",
    "acc, _ = trainer.train_multiple_dataset(X_train, y_train, X_test, y_test, Models.V1_2DCNN_with_many_params)\n",
    "model_acc.append(acc)"
   ],
   "id": "be09fa3b0db2ccfb",
   "outputs": [
    {
     "name": "stdout",
     "output_type": "stream",
     "text": [
      "Start Training (total epochs: 50)...\n",
      "Finish Training! (Model is saved)\n",
      "Maximum training accuracy : 93.28%\n",
      "Maximum validation accuracy : 88.9%\n",
      "Accuracy of test dataset using model V0: 88.7855%\n"
     ]
    }
   ],
   "execution_count": 15
  },
  {
   "metadata": {
    "ExecuteTime": {
     "end_time": "2025-07-07T21:35:22.448940Z",
     "start_time": "2025-07-07T21:35:22.372108Z"
    }
   },
   "cell_type": "code",
   "source": [
    "model_names = ['2DCNN with Adam', 'ResNet', 'Inception', 'SeperableCNN', 'SE-CNN', 'Attention-CNN', 'Gated-CNN', 'Hybrid-CNN', 'BiLSTM_Attention', 'Conv2+LSTM', 'Transformer', 'Transformer-CNN', '2DCNN with Many params']\n",
    "\n",
    "plt.figure(figsize=(12, 6))\n",
    "bars = plt.bar(range(len(model_acc)), model_acc, color='skyblue')\n",
    "plt.xticks(range(len(model_acc)), model_names, rotation=45, ha='right')\n",
    "plt.ylabel('Accuracy')\n",
    "plt.title('Model-wise Accuracy')\n",
    "plt.tight_layout()\n",
    "\n",
    "for bar in bars:\n",
    "    yval = bar.get_height()\n",
    "    plt.text(bar.get_x() + bar.get_width()/2.0, yval + 0.005, f'{yval:.2f}', ha='center', va='bottom', fontsize=9)\n",
    "\n",
    "plt.show()"
   ],
   "id": "e38e8f3c738b6d71",
   "outputs": [
    {
     "data": {
      "text/plain": [
       "<Figure size 1200x600 with 1 Axes>"
      ],
      "image/png": "[encoded data removed]"
     },
     "metadata": {},
     "output_type": "display_data"
    }
   ],
   "execution_count": 17
  },
  {
   "metadata": {},
   "cell_type": "code",
   "source": "",
   "id": "5c14bab279fb970",
   "outputs": [],
   "execution_count": null
  }
 ],
 "metadata": {
  "kernelspec": {
   "display_name": "Python 3",
   "language": "python",
   "name": "python3"
  },
  "language_info": {
   "codemirror_mode": {
    "name": "ipython",
    "version": 2
   },
   "file_extension": ".py",
   "mimetype": "text/x-python",
   "name": "python",
   "nbconvert_exporter": "python",
   "pygments_lexer": "ipython2",
   "version": "2.7.6"
  }
 },
 "nbformat": 4,
 "nbformat_minor": 5
}
