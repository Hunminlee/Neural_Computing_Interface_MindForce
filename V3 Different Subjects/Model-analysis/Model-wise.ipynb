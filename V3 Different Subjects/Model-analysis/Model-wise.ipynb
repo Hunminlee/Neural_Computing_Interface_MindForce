{
 "cells": [
  {
   "metadata": {},
   "cell_type": "markdown",
   "source": [
    "# For each feature, test the sample model\n",
    "\n",
    "Setting\n",
    "- Extract existing feature set: 14 features (ZC / SSC / WL / WAMP / MAV / MSE / RMS / V3 / LD / DASDV / MFL / MPR / MAVS / WMAV)\n",
    "- Subject: Hunmin / Xianyu\n",
    "    1. Do intra-subject setting (H / X indepedently)\n",
    "- Inter-session setting\n",
    "    - Feature 1. Inter-session using centralized training\n",
    "    - Feature 2. Inter-session using centralized training\n",
    "    - ...\n",
    "\n",
    "Questions\n",
    "- Does feature set works differently per person?\n",
    "- Does feature set works differently per session? (identical person)\n",
    "- Is combining feature set good?\n",
    "- Ultimately, which feature set we should select?"
   ],
   "id": "d4cfa46c9e1b2548"
  },
  {
   "cell_type": "code",
   "id": "initial_id",
   "metadata": {
    "collapsed": true,
    "ExecuteTime": {
     "end_time": "2025-07-07T19:38:15.312826Z",
     "start_time": "2025-07-07T19:38:13.519783Z"
    }
   },
   "source": [
    "import sys\n",
    "sys.path.append('../')\n",
    "sys.path.append('../Feature-wise-analysis')\n",
    "import config\n",
    "\n",
    "import numpy as np\n",
    "import pandas as pd\n",
    "import matplotlib.pyplot as plt"
   ],
   "outputs": [],
   "execution_count": 1
  },
  {
   "metadata": {
    "jupyter": {
     "is_executing": true
    }
   },
   "cell_type": "code",
   "source": [
    "import Trainer\n",
    "baseline_K_val = [18] #Train ~18 session data, test with 19~\n",
    "K = baseline_K_val[0]\n",
    "\n",
    "model_acc = []\n",
    "trainer = Trainer.TremorModelTrainer(config, subject=\"Hunmin\")\n",
    "X_train, y_train, X_test, y_test = trainer.return_K_data(K, verbose=False)\n",
    "\n",
    "acc, _ = trainer.train_multiple_dataset(X_train, y_train, X_test, y_test)\n",
    "model_acc.append(acc)\n",
    "#trainer.run_all_sessions_training_K_data(K)\n",
    "#df = trainer.save_results(f'../Results/Baseline_results_train_with_{K}data_H.csv')\n",
    "print(\"\\n\")"
   ],
   "id": "be5c3ccce6888d0e",
   "outputs": [],
   "execution_count": null
  },
  {
   "metadata": {},
   "cell_type": "code",
   "source": [
    "plt.figure(figsize=(12, 6))\n",
    "bars = plt.bar(range(len(model_acc)), model_acc, color='skyblue')\n",
    "plt.xticks(range(len(model_acc)), feature_names, rotation=45, ha='right')\n",
    "plt.ylabel('Accuracy')\n",
    "plt.title('Feature-wise Accuracy')\n",
    "plt.tight_layout()\n",
    "\n",
    "for bar in bars:\n",
    "    yval = bar.get_height()\n",
    "    plt.text(bar.get_x() + bar.get_width()/2.0, yval + 0.005, f'{yval:.2f}', ha='center', va='bottom', fontsize=9)\n",
    "\n",
    "plt.show()"
   ],
   "id": "e38e8f3c738b6d71",
   "outputs": [],
   "execution_count": null
  },
  {
   "metadata": {},
   "cell_type": "code",
   "source": "feature_names, model_acc",
   "id": "54e7729d9a48de",
   "outputs": [],
   "execution_count": null
  },
  {
   "metadata": {},
   "cell_type": "code",
   "source": "",
   "id": "5c14bab279fb970",
   "outputs": [],
   "execution_count": null
  }
 ],
 "metadata": {
  "kernelspec": {
   "display_name": "Python 3",
   "language": "python",
   "name": "python3"
  },
  "language_info": {
   "codemirror_mode": {
    "name": "ipython",
    "version": 2
   },
   "file_extension": ".py",
   "mimetype": "text/x-python",
   "name": "python",
   "nbconvert_exporter": "python",
   "pygments_lexer": "ipython2",
   "version": "2.7.6"
  }
 },
 "nbformat": 4,
 "nbformat_minor": 5
}
