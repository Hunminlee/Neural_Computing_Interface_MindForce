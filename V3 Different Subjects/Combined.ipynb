{
 "cells": [
  {
   "cell_type": "code",
   "id": "initial_id",
   "metadata": {
    "collapsed": true,
    "ExecuteTime": {
     "end_time": "2025-07-01T19:34:00.392714Z",
     "start_time": "2025-07-01T19:34:00.187961Z"
    }
   },
   "source": [
    "import config\n",
    "import numpy as np\n",
    "import pandas as pd"
   ],
   "outputs": [],
   "execution_count": 1
  },
  {
   "metadata": {
    "ExecuteTime": {
     "end_time": "2025-07-01T19:35:10.014015Z",
     "start_time": "2025-07-01T19:34:01.563420Z"
    }
   },
   "cell_type": "code",
   "source": [
    "import Test_without_Training\n",
    "\n",
    "#if __name__ == \"__main__\":\n",
    "trainer = Test_without_Training.TremorModelTrainer(config, subject=\"Hunmin\")\n",
    "X_train_H, y_train_H, X_test_H, y_test_H = trainer.return_K_data(K=28)\n",
    "\n",
    "trainer = Test_without_Training.TremorModelTrainer(config, subject=\"Xianyu\")\n",
    "X_train_X, y_train_X, X_test_X, y_test_X = trainer.return_K_data(K=6)\n",
    "\n",
    "X_train = np.concatenate((X_train_H, X_train_X), axis=0)\n",
    "y_train = np.concatenate((y_train_H, y_train_X), axis=0)\n",
    "\n",
    "# 2. Shuffle together (keep (X, y) pairs aligned)\n",
    "indices = np.arange(X_train.shape[0])\n",
    "np.random.shuffle(indices)\n",
    "\n",
    "X_train = X_train[indices]\n",
    "y_train = y_train[indices]\n",
    "\n",
    "acc_H, Model = trainer.train_multiple_dataset(X_train, y_train, X_test_H, y_test_H)\n",
    "loss, acc_X = Model.evaluate(X_test_X, y_test_X, verbose=0)\n",
    "\n",
    "print(f\"Accuracy H: {acc_H:.2f}\")\n",
    "print(f\"Accuracy X: {acc_X*100:.2f}\")"
   ],
   "id": "7a649363155ff095",
   "outputs": [
    {
     "name": "stdout",
     "output_type": "stream",
     "text": [
      "Dataset 1/34 - Session Exp_2025-05-27/E8331D05289A/\n",
      "========================================\n",
      "Dataset 2/34 - Session Exp_2025-06-18/E9AD0E7DCC2B/\n",
      "========================================\n",
      "Dataset 3/34 - Session Exp_2025-06-20-v1/E9AD0E7DCC2B/\n",
      "========================================\n",
      "Dataset 4/34 - Session Exp_2025-06-20-v2/E9AD0E7DCC2B/\n",
      "========================================\n",
      "Dataset 5/34 - Session Exp_2025-06-20-v3/E9AD0E7DCC2B/\n",
      "========================================\n",
      "Dataset 6/34 - Session Exp_2025-06-20-v4/E9AD0E7DCC2B/\n",
      "========================================\n",
      "Dataset 7/34 - Session Exp_2025-06-20-v5/E9AD0E7DCC2B/\n",
      "========================================\n",
      "Dataset 8/34 - Session Exp_2025-06-20-v6/E9AD0E7DCC2B/\n",
      "========================================\n",
      "Dataset 9/34 - Session Exp_2025-06-20-v7/E9AD0E7DCC2B/\n",
      "========================================\n",
      "Dataset 10/34 - Session Exp_2025-06-20-v8/E9AD0E7DCC2B/\n",
      "========================================\n",
      "Dataset 11/34 - Session Exp_2025-06-23-v1/E9AD0E7DCC2B/\n",
      "========================================\n",
      "Dataset 12/34 - Session Exp_2025-06-23-v2/E9AD0E7DCC2B/\n",
      "========================================\n",
      "Dataset 13/34 - Session Exp_2025-06-23-v3/E9AD0E7DCC2B/\n",
      "========================================\n",
      "Dataset 14/34 - Session Exp_2025-06-23-v4/E9AD0E7DCC2B/\n",
      "========================================\n",
      "Dataset 15/34 - Session Exp_2025-06-24-v1/E9AD0E7DCC2B/\n",
      "========================================\n",
      "Dataset 16/34 - Session Exp_2025-06-24-v2/E9AD0E7DCC2B/\n",
      "========================================\n",
      "Dataset 17/34 - Session Exp_2025-06-24-v3/E9AD0E7DCC2B/\n",
      "========================================\n",
      "Dataset 18/34 - Session Exp_2025-06-24-v4/E9AD0E7DCC2B/\n",
      "========================================\n",
      "Dataset 19/34 - Session Exp_2025-06-26-v1/E9AD0E7DCC2B/\n",
      "========================================\n",
      "Dataset 20/34 - Session Exp_2025-06-26-v2/E9AD0E7DCC2B/\n",
      "========================================\n",
      "Dataset 21/34 - Session Exp_2025-06-26-v3/E9AD0E7DCC2B/\n",
      "========================================\n",
      "Dataset 22/34 - Session Exp_2025-06-26-v4/E9AD0E7DCC2B/\n",
      "========================================\n",
      "Dataset 23/34 - Session Exp_2025-06-27-v1/E9AD0E7DCC2B/\n",
      "========================================\n",
      "Dataset 24/34 - Session Exp_2025-06-27-v2/E9AD0E7DCC2B/\n",
      "========================================\n",
      "Dataset 25/34 - Session Exp_2025-06-27-v3/E9AD0E7DCC2B/\n",
      "========================================\n",
      "Dataset 26/34 - Session Exp_2025-06-27-v4/E9AD0E7DCC2B/\n",
      "========================================\n",
      "Dataset 27/34 - Session Exp_2025-06-30-v1/E9AD0E7DCC2B/\n",
      "========================================\n",
      "Dataset 28/34 - Session Exp_2025-06-30-v2/E9AD0E7DCC2B/\n",
      "========================================\n",
      "Dataset 29/34 - Session Exp_2025-06-30-v3/E9AD0E7DCC2B/\n",
      "========================================\n",
      "Dataset 30/34 - Session Exp_2025-06-30-v4/E9AD0E7DCC2B/\n",
      "========================================\n",
      "Dataset 31/34 - Session Exp_2025-07-01-v1/E9AD0E7DCC2B/\n",
      "========================================\n",
      "Dataset 32/34 - Session Exp_2025-07-01-v2/E9AD0E7DCC2B/\n",
      "========================================\n",
      "Dataset 33/34 - Session Exp_2025-07-01-v3/E9AD0E7DCC2B/\n",
      "========================================\n",
      "Dataset 34/34 - Session Exp_2025-07-01-v4/E9AD0E7DCC2B/\n",
      "========================================\n",
      "(236606, 4, 14, 1) (236606,)\n",
      "Dataset 1/10 - Session Exp_2025-06-24-v1/E9AD0E7DCC2B/\n",
      "========================================\n",
      "Dataset 2/10 - Session Exp_2025-06-24-v2/E9AD0E7DCC2B/\n",
      "========================================\n",
      "Dataset 3/10 - Session Exp_2025-06-26-v1/E9AD0E7DCC2B/\n",
      "========================================\n",
      "Dataset 4/10 - Session Exp_2025-06-26-v2/E9AD0E7DCC2B/\n",
      "========================================\n",
      "Dataset 5/10 - Session Exp_2025-06-27-v1/E9AD0E7DCC2B/\n",
      "========================================\n",
      "There is more than one dataset - check\n",
      "Dataset 6/10 - Session Exp_2025-06-27-v2/E9AD0E7DCC2B/\n",
      "========================================\n",
      "Dataset 7/10 - Session Exp_2025-06-30-v1/FEFFF6FFF5FF/\n",
      "========================================\n",
      "Dataset 8/10 - Session Exp_2025-06-30-v2/FEFFF6FFF5FF/\n",
      "========================================\n",
      "Dataset 9/10 - Session Exp_2025-07-01-v1/E9AD0E7DCC2B/\n",
      "========================================\n",
      "Dataset 10/10 - Session Exp_2025-07-01-v2/E9AD0E7DCC2B/\n",
      "========================================\n",
      "(50419, 4, 14, 1) (50419,)\n",
      "Start Training (total epochs: 50)...\n",
      "Finish Training! (Model is saved)\n",
      "Maximum training accuracy : 87.4%\n",
      "Maximum validation accuracy : 90.52%\n",
      "Accuracy of test dataset using model V0: 90.5244%\n",
      "Accuracy H: 90.52435159683228\n",
      "Accuracy X: [1.1168774366378784, 0.6825854182243347]\n"
     ]
    }
   ],
   "execution_count": 2
  },
  {
   "metadata": {
    "ExecuteTime": {
     "end_time": "2025-07-01T19:39:18.940709Z",
     "start_time": "2025-07-01T19:39:18.921504Z"
    }
   },
   "cell_type": "code",
   "source": "print(f\"Accuracy X: {acc_X*100:.2f}\")",
   "id": "f5240ba6cd449489",
   "outputs": [
    {
     "ename": "TypeError",
     "evalue": "unsupported format string passed to list.__format__",
     "output_type": "error",
     "traceback": [
      "\u001B[31m---------------------------------------------------------------------------\u001B[39m",
      "\u001B[31mTypeError\u001B[39m                                 Traceback (most recent call last)",
      "\u001B[36mCell\u001B[39m\u001B[36m \u001B[39m\u001B[32mIn[4]\u001B[39m\u001B[32m, line 1\u001B[39m\n\u001B[32m----> \u001B[39m\u001B[32m1\u001B[39m \u001B[38;5;28mprint\u001B[39m(\u001B[33mf\u001B[39m\u001B[33m\"\u001B[39m\u001B[33mAccuracy X: \u001B[39m\u001B[38;5;132;01m{\u001B[39;00macc_X*\u001B[32m100\u001B[39m\u001B[38;5;132;01m:\u001B[39;00m\u001B[33m.2f\u001B[39m\u001B[38;5;132;01m}\u001B[39;00m\u001B[33m\"\u001B[39m)\n",
      "\u001B[31mTypeError\u001B[39m: unsupported format string passed to list.__format__"
     ]
    }
   ],
   "execution_count": 4
  },
  {
   "metadata": {
    "ExecuteTime": {
     "end_time": "2025-07-01T19:39:24.481765Z",
     "start_time": "2025-07-01T19:39:24.463353Z"
    }
   },
   "cell_type": "code",
   "source": "print(\"Accuracy X: {:.2f}\".format(acc_X))",
   "id": "2c0e1b8a18d712c5",
   "outputs": [
    {
     "ename": "TypeError",
     "evalue": "unsupported format string passed to list.__format__",
     "output_type": "error",
     "traceback": [
      "\u001B[31m---------------------------------------------------------------------------\u001B[39m",
      "\u001B[31mTypeError\u001B[39m                                 Traceback (most recent call last)",
      "\u001B[36mCell\u001B[39m\u001B[36m \u001B[39m\u001B[32mIn[5]\u001B[39m\u001B[32m, line 1\u001B[39m\n\u001B[32m----> \u001B[39m\u001B[32m1\u001B[39m \u001B[38;5;28mprint\u001B[39m(\u001B[33;43m\"\u001B[39;49m\u001B[33;43mAccuracy X: \u001B[39;49m\u001B[38;5;132;43;01m{:.2f}\u001B[39;49;00m\u001B[33;43m\"\u001B[39;49m\u001B[43m.\u001B[49m\u001B[43mformat\u001B[49m\u001B[43m(\u001B[49m\u001B[43macc_X\u001B[49m\u001B[43m)\u001B[49m)\n",
      "\u001B[31mTypeError\u001B[39m: unsupported format string passed to list.__format__"
     ]
    }
   ],
   "execution_count": 5
  },
  {
   "metadata": {},
   "cell_type": "code",
   "outputs": [],
   "execution_count": null,
   "source": "",
   "id": "7155e0fe45818367"
  }
 ],
 "metadata": {
  "kernelspec": {
   "display_name": "Python 3",
   "language": "python",
   "name": "python3"
  },
  "language_info": {
   "codemirror_mode": {
    "name": "ipython",
    "version": 2
   },
   "file_extension": ".py",
   "mimetype": "text/x-python",
   "name": "python",
   "nbconvert_exporter": "python",
   "pygments_lexer": "ipython2",
   "version": "2.7.6"
  }
 },
 "nbformat": 4,
 "nbformat_minor": 5
}
