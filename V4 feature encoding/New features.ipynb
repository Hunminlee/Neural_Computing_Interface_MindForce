{
 "cells": [
  {
   "cell_type": "code",
   "id": "initial_id",
   "metadata": {
    "collapsed": true,
    "ExecuteTime": {
     "end_time": "2025-07-10T19:50:00.845362Z",
     "start_time": "2025-07-10T19:49:54.701907Z"
    }
   },
   "source": [
    "import sys\n",
    "sys.path.append(\"../Share\")\n",
    "import config, utils, baseline, Trainer, Processing_same_with_MATLAB\n",
    "\n",
    "import numpy as np\n",
    "import pandas as pd\n",
    "import matplotlib.pyplot as plt"
   ],
   "outputs": [],
   "execution_count": 1
  },
  {
   "metadata": {},
   "cell_type": "code",
   "outputs": [],
   "execution_count": null,
   "source": [
    "baseline_K_val = [18] #Train ~18 session data, test with 19~\n",
    "K = baseline_K_val[0]\n",
    "\n",
    "feature_names = ['Zero Crossing (ZC)', 'Slope Sign Changes (SSC)', 'Waveform Length (WL)', 'WAMP', 'Mean Absolute Value (MAV)', 'Mean Square (MS)', 'Root Mean Square (RMS)',\n",
    "                 'v-order 3 (V3)', 'log detector (LD)', 'difference absolute standard deviation value (DASDV)', 'maximum fractal length (MFL)', 'myopulse percentage rate (MPR)',\n",
    "                 'mean absolute value slope (MAVS)', 'weighted mean absolute (WMS)']\n",
    "feature_idx = range(0,14)\n",
    "feature_acc = []\n",
    "\n",
    "\n",
    "extractor = Processing_same_with_MATLAB.EMGFeatureExtractor(feat_mean, feat_std, filter_b, filter_a, Norm_bool=False)\n",
    "\n",
    "trainer = Trainer.TremorModelTrainer(config, subject=\"Hunmin\")\n",
    "X_train, y_train, X_test, y_test = trainer.return_K_data(K, verbose=False)\n",
    "\n",
    "for idx, f in enumerate(feature_idx):\n",
    "    print(f\"\\n==========================================\\nFeature {f} - {feature_names[idx]}\\n==========================================\\n\")\n",
    "\n",
    "\n",
    "    #print(X_train.shape, y_train.shape, X_test.shape, y_test.shape)\n",
    "\n",
    "    X_train = X_train[:, :, f:f+1, :]\n",
    "    X_test = X_test[:, :, f:f+1, :]\n",
    "\n",
    "    X_train = np.squeeze(X_train, axis=-1)  # Remove last dim → (100000, 4, 1)\n",
    "    X_test = np.squeeze(X_test, axis=-1)\n",
    "\n",
    "    print(X_train.shape, X_test.shape)\n",
    "\n",
    "    acc, _ = trainer.train_multiple_dataset(X_train, y_train, X_test, y_test)\n",
    "    feature_acc.append(acc)\n",
    "    #trainer.run_all_sessions_training_K_data(K)\n",
    "    #df = trainer.save_results(f'../Results/Baseline_results_train_with_{K}data_H.csv')\n",
    "    print(\"\\n\")"
   ],
   "id": "8381949dbb9bf25f"
  }
 ],
 "metadata": {
  "kernelspec": {
   "display_name": "Python 3",
   "language": "python",
   "name": "python3"
  },
  "language_info": {
   "codemirror_mode": {
    "name": "ipython",
    "version": 2
   },
   "file_extension": ".py",
   "mimetype": "text/x-python",
   "name": "python",
   "nbconvert_exporter": "python",
   "pygments_lexer": "ipython2",
   "version": "2.7.6"
  }
 },
 "nbformat": 4,
 "nbformat_minor": 5
}
