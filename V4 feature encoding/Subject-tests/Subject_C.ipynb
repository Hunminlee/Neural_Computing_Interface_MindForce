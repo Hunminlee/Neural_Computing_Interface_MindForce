{
 "cells": [
  {
   "cell_type": "code",
   "id": "initial_id",
   "metadata": {
    "collapsed": true,
    "ExecuteTime": {
     "end_time": "2025-07-17T18:09:49.762720Z",
     "start_time": "2025-07-17T18:09:48.160540Z"
    }
   },
   "source": [
    "import sys\n",
    "sys.path.append('../../Share')\n",
    "import config\n",
    "import baseline\n",
    "import Target\n",
    "\n",
    "import numpy as np\n",
    "import pandas as pd"
   ],
   "outputs": [],
   "execution_count": 1
  },
  {
   "metadata": {
    "jupyter": {
     "is_executing": true
    },
    "ExecuteTime": {
     "start_time": "2025-07-17T18:09:49.868390Z"
    }
   },
   "cell_type": "code",
   "source": [
    "baseline_K_val = [1, 4, 8]\n",
    "SUBJECT = \"Carlson\"\n",
    "\n",
    "if __name__ == \"__main__\":\n",
    "    for K in baseline_K_val:\n",
    "        trainer = baseline.TremorModelTrainer(config, subject=SUBJECT)\n",
    "        trainer.run_all_sessions_training_K_data(K)\n",
    "        df = trainer.save_results(f'../../Results/Results_Carlson/Baseline_results_train_with_{K}data_C.csv')\n",
    "# 저장해놨어서 데이터 업데이트 전에 한번 돌리면 굳이 안돌려도 됨'''"
   ],
   "id": "722bdc3c8cbe9ef3",
   "outputs": [
    {
     "name": "stdout",
     "output_type": "stream",
     "text": [
      "Dataset 1/10 - Session Exp_2025-06-30-v1/E9AD0E7DCC2B/\n",
      "========================================\n",
      "(8493, 4, 14, 1) (8493,) (86, 4, 14, 1) (86,)\n",
      "Dataset 2/10 - Session Exp_2025-06-30-v2/E9AD0E7DCC2B/\n",
      "========================================\n",
      "Start Training (total epochs: 50)...\n"
     ]
    }
   ],
   "execution_count": null
  },
  {
   "metadata": {},
   "cell_type": "code",
   "source": [
    "b_path = '/NCI_mindforce'\n",
    "baseline_K = ['1', '4', '8']\n",
    "baselines = []\n",
    "\n",
    "for idx, K in enumerate(baseline_K):\n",
    "    baselines.append(b_path + f'/github/Results/Results_Carlson/Baseline_results_train_with_{K}data_C.csv')"
   ],
   "id": "2e765482a9856fbd",
   "outputs": [],
   "execution_count": null
  },
  {
   "metadata": {},
   "cell_type": "code",
   "source": [
    "import Target\n",
    "\n",
    "prog_trainer = Target.ProgressiveTrainer(config, subject=SUBJECT)\n",
    "Init_acc_all, Prev_acc_all, Trained_acc_all = prog_trainer.run(plot_learning_curve=False)\n",
    "prog_trainer.plot_results(baselines, baseline_K)\n",
    "\n",
    "for idx, x in enumerate([Init_acc_all, Prev_acc_all, Trained_acc_all]):\n",
    "    if idx==0:\n",
    "        print(f\"Average of acc without training anything (should be random): {np.mean(x)*100:.2f}%\")\n",
    "    elif idx==1:\n",
    "        print(f\"Average of acc using previous test data after training: {np.mean(x)*100:.2f}%\")\n",
    "    elif idx==2:\n",
    "        print(f\"Average of acc using current test data after training: {np.mean(x)*100:.2f}%\")\n",
    "for idx, b in enumerate(baselines):\n",
    "    print(f\"Baseline K-{baseline_K[idx]}: {float(np.mean(pd.read_csv(baselines[idx])['Accuracy'][int(baseline_K[idx]):])):.2f}%\")"
   ],
   "id": "19a33d50b3192086",
   "outputs": [],
   "execution_count": null
  },
  {
   "metadata": {},
   "cell_type": "code",
   "source": "",
   "id": "650961d06f46be31",
   "outputs": [],
   "execution_count": null
  },
  {
   "metadata": {},
   "cell_type": "code",
   "source": "",
   "id": "e7a973712efe1e03",
   "outputs": [],
   "execution_count": null
  },
  {
   "metadata": {},
   "cell_type": "code",
   "source": "",
   "id": "b2082587589d7078",
   "outputs": [],
   "execution_count": null
  }
 ],
 "metadata": {
  "kernelspec": {
   "display_name": "Python 3",
   "language": "python",
   "name": "python3"
  },
  "language_info": {
   "codemirror_mode": {
    "name": "ipython",
    "version": 2
   },
   "file_extension": ".py",
   "mimetype": "text/x-python",
   "name": "python",
   "nbconvert_exporter": "python",
   "pygments_lexer": "ipython2",
   "version": "2.7.6"
  }
 },
 "nbformat": 4,
 "nbformat_minor": 5
}
