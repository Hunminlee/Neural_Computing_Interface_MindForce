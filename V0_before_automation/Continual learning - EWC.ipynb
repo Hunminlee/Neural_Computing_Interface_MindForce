{
 "cells": [
  {
   "metadata": {
    "ExecuteTime": {
     "end_time": "2025-06-20T20:56:25.271474Z",
     "start_time": "2025-06-20T20:56:23.004745Z"
    }
   },
   "cell_type": "code",
   "source": [
    "import scipy.io\n",
    "import numpy as np\n",
    "import pandas as pd\n",
    "import matplotlib.pyplot as plt\n",
    "import os\n",
    "import importlib\n",
    "import tensorflow as tf\n",
    "import warnings\n",
    "\n",
    "warnings.filterwarnings('ignore')\n",
    "from tensorflow.keras.models import load_model\n",
    "\n",
    "import Model\n",
    "importlib.reload(Model)\n",
    "\n",
    "def visualize_history(history):\n",
    "    fig, axs = plt.subplots(1, 2, figsize=(12, 4))\n",
    "\n",
    "    # Plot Loss (Train & Validation)\n",
    "    axs[0].plot(history.history['loss'], label='Train Loss', marker='o', markersize=4)\n",
    "    axs[0].plot(history.history['val_loss'], label='Val Loss', marker='*', markersize=4)\n",
    "    axs[0].set_title('Model Loss')\n",
    "    axs[0].set_xlabel('Epoch')\n",
    "    axs[0].set_ylabel('Loss')\n",
    "    axs[0].legend()\n",
    "    axs[0].grid(True)\n",
    "\n",
    "    # Plot Accuracy (Train & Validation)\n",
    "    axs[1].plot(history.history['accuracy'], label='Train Accuracy', marker='o', markersize=4)\n",
    "    axs[1].plot(history.history['val_accuracy'], label='Val Accuracy', marker='*', markersize=4)\n",
    "    axs[1].set_title('Model Accuracy')\n",
    "    axs[1].set_xlabel('Epoch')\n",
    "    axs[1].set_ylabel('Accuracy')\n",
    "    axs[1].legend()\n",
    "    axs[1].grid(True)\n",
    "\n",
    "    plt.tight_layout()\n",
    "    plt.show()\n",
    "\n",
    "def get_dataset(path, classes, show_labels):\n",
    "    for c_idx, c in enumerate(classes):\n",
    "        raw_data = os.listdir(path+c)\n",
    "        if len(raw_data) == 1:\n",
    "            mat = scipy.io.loadmat(path+c+raw_data[0])\n",
    "        else:\n",
    "            print(\"There is more than one dataset - check\")\n",
    "\n",
    "        if c_idx == 0:\n",
    "            print(f\"Import matlab raw dataset - Matlab file Keys: {mat.keys()}\")\n",
    "            #pass\n",
    "\n",
    "        if mat['Data_Cls'].shape[-1] != mat['Data_Fea'].shape[-1]:\n",
    "            print(f\"Label and dataset do not match! : {len(mat['Data_Cls'])}, {len(mat['Data_Fea'])}\")\n",
    "            break\n",
    "\n",
    "        if c_idx == 0:\n",
    "            feature_set = np.transpose(mat['Data_Fea'], (2, 0, 1))  # shape: (1729, 4, 14)\n",
    "            labels = mat['Data_Cls'].flatten()  #0 or class (either one)\n",
    "\n",
    "        elif c_idx > 0:\n",
    "            feature_set_added = np.transpose(mat['Data_Fea'], (2, 0, 1))\n",
    "            labels_addend = mat['Data_Cls'].flatten()  #0 or class (either one)\n",
    "\n",
    "            feature_set = np.concatenate([feature_set, feature_set_added], axis=0)\n",
    "            labels = np.concatenate([labels, labels_addend], axis=0)\n",
    "        else:\n",
    "            print(\"Error in c_idx\")\n",
    "            break\n",
    "\n",
    "    if show_labels:\n",
    "        plt.figure(figsize=(8,3))\n",
    "        plt.plot(labels)\n",
    "        plt.ylabel('Class label', fontsize=13)\n",
    "        plt.xlabel('Samples', fontsize=13)\n",
    "        plt.grid(True, which='both', linestyle='--')\n",
    "        plt.show()\n",
    "\n",
    "    return feature_set, labels\n",
    "\n",
    "\n",
    "def split_data(X, Y, ratio):\n",
    "    #Splits (N, C, F) data and 1D labels into training and validation sets.\n",
    "\n",
    "    num_samples = X.shape[0]\n",
    "    indices = np.random.permutation(num_samples)\n",
    "\n",
    "    training_size = int(round(num_samples * ratio))\n",
    "    training_indices = indices[:training_size]\n",
    "    validation_indices = indices[training_size:]\n",
    "\n",
    "    training_data = X[training_indices]\n",
    "    training_labels = Y[training_indices]\n",
    "    validation_data = X[validation_indices]\n",
    "    validation_labels = Y[validation_indices]\n",
    "\n",
    "    training_data = np.expand_dims(training_data, axis=-1)  # Adds a new channel dimension at the end\n",
    "    validation_data = np.expand_dims(validation_data, axis=-1)\n",
    "\n",
    "    return training_data, training_labels, validation_data, validation_labels\n",
    "\n",
    "\n",
    "def Continual_Learning_Init_stage(X_train, y_train, model, batch_size):\n",
    "\n",
    "    # Save weights of Task A as tf.Tensors (not numpy)\n",
    "    weights_task = [tf.identity(var) for var in model.trainable_variables]\n",
    "\n",
    "    # Compute importance via squared gradients\n",
    "    importance = [tf.zeros_like(var) for var in model.trainable_variables]\n",
    "    batch = tf.data.Dataset.from_tensor_slices((X_train, y_train)).batch(batch_size)\n",
    "\n",
    "    for x_batch, y_batch in batch:\n",
    "        with tf.GradientTape() as tape:\n",
    "            preds = model(x_batch)\n",
    "            loss = tf.keras.losses.sparse_categorical_crossentropy(y_batch, preds)\n",
    "        grads = tape.gradient(loss, model.trainable_variables)\n",
    "        for i, grad in enumerate(grads):\n",
    "            if grad is not None:\n",
    "                importance[i] += tf.square(grad)\n",
    "    importance = [imp / len(batch) for imp in importance]\n",
    "\n",
    "    return weights_task, importance\n",
    "\n",
    "\n",
    "\n",
    "def Continual_Learning_adaptation_stage(X_train, y_train, X_test, y_test, X_test_prev, y_test_prev, model,\n",
    "                                        weights_prev_task, importance, number_epochs, batch_size):\n",
    "\n",
    "    # 5. Fine-tune on Task B with EWC regularization\n",
    "    lambda_ewc = 1000.0  # importance regularization strength\n",
    "    optimizer = tf.keras.optimizers.Adam()\n",
    "    loss_fn = tf.keras.losses.SparseCategoricalCrossentropy()\n",
    "    train_dataset = tf.data.Dataset.from_tensor_slices((X_train, y_train)).batch(batch_size)\n",
    "\n",
    "\n",
    "    acc_init = model.evaluate(X_test, y_test, verbose=0)[1]\n",
    "    # Custom training loop with EWC\n",
    "    for epoch in range(number_epochs):\n",
    "        print(f\"Epoch {epoch + 1}\")\n",
    "        for step, (x_batch, y_batch) in enumerate(train_dataset):\n",
    "            with tf.GradientTape() as tape:\n",
    "                preds = model(x_batch, training=True)\n",
    "                loss = loss_fn(y_batch, preds)\n",
    "                # EWC regularization\n",
    "                for var, old_w, imp in zip(model.trainable_variables, weights_prev_task, importance):\n",
    "                    loss += (lambda_ewc / 2) * tf.reduce_sum(imp * tf.square(var - old_w))\n",
    "            grads = tape.gradient(loss, best_model.trainable_variables)\n",
    "            optimizer.apply_gradients(zip(grads, model.trainable_variables))\n",
    "\n",
    "    # === Evaluate after Task B training with EWC ===\n",
    "    print(\"\\n✅ Evaluation after Task B training (EWC fine-tuning):\")\n",
    "    acc_prev_data = model.evaluate(X_test_prev, y_test_prev, verbose=0)[1]\n",
    "    acc_current_stage = model.evaluate(X_test, y_test, verbose=0)[1]\n",
    "    print(f\"Accuracy on Previous Task: {acc_prev_data:.4f}  ← Should remain high if EWC works\")\n",
    "    print(f\"Accuracy on Current Task: {acc_current_stage:.4f}\")\n",
    "\n",
    "    return acc_init, acc_prev_data, acc_current_stage"
   ],
   "id": "8c5dee945fe7716b",
   "outputs": [],
   "execution_count": 1
  },
  {
   "metadata": {
    "ExecuteTime": {
     "end_time": "2025-06-20T20:56:25.515040Z",
     "start_time": "2025-06-20T20:56:25.376645Z"
    }
   },
   "cell_type": "code",
   "source": [
    "default_path = \"C:/Users/hml76/OneDrive/문서/MATLAB/data/\"\n",
    "classes = ['1/','2/','3/','4/','5/']\n",
    "version = 'V1'\n",
    "\n",
    "Info = ['Stand (5/27)', 'Stand (6/18)', 'Stand (6/20)', 'Sit_chair (6/20)', 'Sit_chair_leg_crossed (6/20)', 'Sit_floor (6/20)',\n",
    "        'Stand (6/20-v2)', 'Sit_chair (6/20-v2)', 'Sit_chair_leg_crossed (6/20-v2)', 'Sit_floor (6/20-v2)']\n",
    "\n",
    "\n",
    "importlib.reload(Model)\n",
    "best_model = load_model(f'best_model_{version}.keras')\n",
    "\n",
    "train_ratio = 0.5"
   ],
   "id": "b54f3b25bed15dd6",
   "outputs": [],
   "execution_count": 2
  },
  {
   "metadata": {
    "ExecuteTime": {
     "end_time": "2025-06-20T20:56:25.958929Z",
     "start_time": "2025-06-20T20:56:25.523672Z"
    }
   },
   "cell_type": "code",
   "source": [
    "path = default_path + 'Exp_2025-05-27/E8331D05289A/raw/'\n",
    "\n",
    "feature_set, labels = get_dataset(path, classes, show_labels=False)\n",
    "X_train, y_train, X_test_init, y_test_init = split_data(feature_set, labels, ratio=train_ratio)\n",
    "val_loss, val_acc = best_model.evaluate(X_test_init, y_test_init)\n",
    "\n",
    "Init_acc_all, Prev_acc_all, Trained_acc_all = [0.2], [val_acc], [val_acc]"
   ],
   "id": "3c5479a4b35f6ac4",
   "outputs": [
    {
     "name": "stdout",
     "output_type": "stream",
     "text": [
      "Import matlab raw dataset - Matlab file Keys: dict_keys(['__header__', '__version__', '__globals__', 'Data_ADC', 'Data_Cls', 'Data_Fea', 'Dev_Channels', 'Dev_Info', 'Dev_NCh'])\n",
      "\u001B[1m135/135\u001B[0m \u001B[32m━━━━━━━━━━━━━━━━━━━━\u001B[0m\u001B[37m\u001B[0m \u001B[1m0s\u001B[0m 1ms/step - accuracy: 0.9406 - loss: 0.1769\n"
     ]
    }
   ],
   "execution_count": 3
  },
  {
   "metadata": {
    "ExecuteTime": {
     "end_time": "2025-06-20T20:56:26.925917Z",
     "start_time": "2025-06-20T20:56:25.960777Z"
    }
   },
   "cell_type": "code",
   "source": [
    "number_epochs = 5\n",
    "batch_size = 64\n",
    "\n",
    "weights_task_init, importance_init = Continual_Learning_Init_stage(X_train, y_train, best_model, batch_size)"
   ],
   "id": "4f7303503b81216c",
   "outputs": [],
   "execution_count": 4
  },
  {
   "metadata": {
    "ExecuteTime": {
     "end_time": "2025-06-20T20:56:50.187173Z",
     "start_time": "2025-06-20T20:56:26.942532Z"
    }
   },
   "cell_type": "code",
   "source": [
    "session_info = \"Exp_2025-06-18\"\n",
    "path = default_path + f'{session_info}/E9AD0E7DCC2B/raw/'\n",
    "\n",
    "feature_set, labels = get_dataset(path, classes, show_labels=False)\n",
    "X_train, y_train, X_test_new, y_test_new = split_data(feature_set, labels, ratio=train_ratio)\n",
    "\n",
    "X_test_prev_all = np.concatenate((X_test_init, X_test_new), axis=0)\n",
    "y_test_prev_all = np.concatenate((y_test_init, y_test_new), axis=0)\n",
    "#print(X_test_prev_all.shape, y_test_prev_all.shape, X_test_init.shape, X_test_new.shape)\n",
    "\n",
    "init, prev, current = Continual_Learning_adaptation_stage(X_train, y_train, X_test_new, y_test_new, X_test_prev_all, y_test_prev_all, best_model,\n",
    "                                        weights_task_init, importance_init, number_epochs, batch_size)\n",
    "\n",
    "Init_acc_all.append(init)\n",
    "Prev_acc_all.append(prev)\n",
    "Trained_acc_all.append(current)"
   ],
   "id": "ad68a2f9e9bf63c4",
   "outputs": [
    {
     "name": "stdout",
     "output_type": "stream",
     "text": [
      "Import matlab raw dataset - Matlab file Keys: dict_keys(['__header__', '__version__', '__globals__', 'Data_ADC', 'Data_Cls', 'Data_Fea', 'Dev_Channels', 'Dev_Info', 'Dev_NCh'])\n",
      "Epoch 1\n",
      "Epoch 2\n",
      "Epoch 3\n",
      "Epoch 4\n",
      "Epoch 5\n",
      "\n",
      "✅ Evaluation after Task B training (EWC fine-tuning):\n",
      "Accuracy on Previous Task: 0.8951  ← Should remain high if EWC works\n",
      "Accuracy on Current Task: 0.8576\n"
     ]
    }
   ],
   "execution_count": 5
  },
  {
   "metadata": {
    "ExecuteTime": {
     "end_time": "2025-06-20T20:57:14.037667Z",
     "start_time": "2025-06-20T20:56:50.203396Z"
    }
   },
   "cell_type": "code",
   "source": [
    "session_info = \"Exp_2025-06-20-v1\"\n",
    "path = default_path + f'{session_info}/E9AD0E7DCC2B/raw/'\n",
    "\n",
    "feature_set, labels = get_dataset(path, classes, show_labels=False)\n",
    "X_train, y_train, X_test_new, y_test_new = split_data(feature_set, labels, ratio=train_ratio)\n",
    "\n",
    "X_test_prev_all = np.concatenate((X_test_init, X_test_new), axis=0)\n",
    "y_test_prev_all = np.concatenate((y_test_init, y_test_new), axis=0)\n",
    "#print(X_test_prev_all.shape, y_test_prev_all.shape, X_test_init.shape, X_test_new.shape)\n",
    "\n",
    "init, prev, current = Continual_Learning_adaptation_stage(X_train, y_train, X_test_new, y_test_new, X_test_prev_all, y_test_prev_all, best_model,\n",
    "                                        weights_task_init, importance_init, number_epochs, batch_size)\n",
    "\n",
    "Init_acc_all.append(init)\n",
    "Prev_acc_all.append(prev)\n",
    "Trained_acc_all.append(current)"
   ],
   "id": "ed76e3eab6fa14d9",
   "outputs": [
    {
     "name": "stdout",
     "output_type": "stream",
     "text": [
      "Import matlab raw dataset - Matlab file Keys: dict_keys(['__header__', '__version__', '__globals__', 'Data_ADC', 'Data_Cls', 'Data_Fea', 'Dev_Channels', 'Dev_Info', 'Dev_NCh'])\n",
      "Epoch 1\n",
      "Epoch 2\n",
      "Epoch 3\n",
      "Epoch 4\n",
      "Epoch 5\n",
      "\n",
      "✅ Evaluation after Task B training (EWC fine-tuning):\n",
      "Accuracy on Previous Task: 0.8969  ← Should remain high if EWC works\n",
      "Accuracy on Current Task: 0.8558\n"
     ]
    }
   ],
   "execution_count": 6
  },
  {
   "metadata": {
    "ExecuteTime": {
     "end_time": "2025-06-20T20:57:36.263211Z",
     "start_time": "2025-06-20T20:57:14.037667Z"
    }
   },
   "cell_type": "code",
   "source": [
    "session_info = \"Exp_2025-06-20-v2\"\n",
    "path = default_path + f'{session_info}/E9AD0E7DCC2B/raw/'\n",
    "\n",
    "feature_set, labels = get_dataset(path, classes, show_labels=False)\n",
    "X_train, y_train, X_test_new, y_test_new = split_data(feature_set, labels, ratio=train_ratio)\n",
    "\n",
    "X_test_prev_all = np.concatenate((X_test_init, X_test_new), axis=0)\n",
    "y_test_prev_all = np.concatenate((y_test_init, y_test_new), axis=0)\n",
    "#print(X_test_prev_all.shape, y_test_prev_all.shape, X_test_init.shape, X_test_new.shape)\n",
    "\n",
    "init, prev, current = Continual_Learning_adaptation_stage(X_train, y_train, X_test_new, y_test_new, X_test_prev_all, y_test_prev_all, best_model,\n",
    "                                        weights_task_init, importance_init, number_epochs, batch_size)\n",
    "\n",
    "Init_acc_all.append(init)\n",
    "Prev_acc_all.append(prev)\n",
    "Trained_acc_all.append(current)"
   ],
   "id": "8b0f65c79e507c7",
   "outputs": [
    {
     "name": "stdout",
     "output_type": "stream",
     "text": [
      "Import matlab raw dataset - Matlab file Keys: dict_keys(['__header__', '__version__', '__globals__', 'Data_ADC', 'Data_Cls', 'Data_Fea', 'Dev_Channels', 'Dev_Info', 'Dev_NCh'])\n",
      "Epoch 1\n",
      "Epoch 2\n",
      "Epoch 3\n",
      "Epoch 4\n",
      "Epoch 5\n",
      "\n",
      "✅ Evaluation after Task B training (EWC fine-tuning):\n",
      "Accuracy on Previous Task: 0.9208  ← Should remain high if EWC works\n",
      "Accuracy on Current Task: 0.9057\n"
     ]
    }
   ],
   "execution_count": 7
  },
  {
   "metadata": {
    "ExecuteTime": {
     "end_time": "2025-06-20T20:57:53.894913Z",
     "start_time": "2025-06-20T20:57:36.291261Z"
    }
   },
   "cell_type": "code",
   "source": [
    "session_info = \"Exp_2025-06-20-v3\"\n",
    "path = default_path + f'{session_info}/E9AD0E7DCC2B/raw/'\n",
    "\n",
    "feature_set, labels = get_dataset(path, classes, show_labels=False)\n",
    "X_train, y_train, X_test_new, y_test_new = split_data(feature_set, labels, ratio=train_ratio)\n",
    "\n",
    "X_test_prev_all = np.concatenate((X_test_init, X_test_new), axis=0)\n",
    "y_test_prev_all = np.concatenate((y_test_init, y_test_new), axis=0)\n",
    "#print(X_test_prev_all.shape, y_test_prev_all.shape, X_test_init.shape, X_test_new.shape)\n",
    "\n",
    "init, prev, current = Continual_Learning_adaptation_stage(X_train, y_train, X_test_new, y_test_new, X_test_prev_all, y_test_prev_all, best_model,\n",
    "                                        weights_task_init, importance_init, number_epochs, batch_size)\n",
    "\n",
    "Init_acc_all.append(init)\n",
    "Prev_acc_all.append(prev)\n",
    "Trained_acc_all.append(current)"
   ],
   "id": "4f681a4c341a9e6f",
   "outputs": [
    {
     "name": "stdout",
     "output_type": "stream",
     "text": [
      "Import matlab raw dataset - Matlab file Keys: dict_keys(['__header__', '__version__', '__globals__', 'Data_ADC', 'Data_Cls', 'Data_Fea', 'Dev_Channels', 'Dev_Info', 'Dev_NCh'])\n",
      "Epoch 1\n",
      "Epoch 2\n",
      "Epoch 3\n",
      "Epoch 4\n",
      "Epoch 5\n",
      "\n",
      "✅ Evaluation after Task B training (EWC fine-tuning):\n",
      "Accuracy on Previous Task: 0.9186  ← Should remain high if EWC works\n",
      "Accuracy on Current Task: 0.8998\n"
     ]
    }
   ],
   "execution_count": 8
  },
  {
   "metadata": {
    "ExecuteTime": {
     "end_time": "2025-06-20T20:58:12.481584Z",
     "start_time": "2025-06-20T20:57:53.906375Z"
    }
   },
   "cell_type": "code",
   "source": [
    "session_info = \"Exp_2025-06-20-v4\"\n",
    "path = default_path + f'{session_info}/E9AD0E7DCC2B/raw/'\n",
    "\n",
    "feature_set, labels = get_dataset(path, classes, show_labels=False)\n",
    "X_train, y_train, X_test_new, y_test_new = split_data(feature_set, labels, ratio=train_ratio)\n",
    "\n",
    "X_test_prev_all = np.concatenate((X_test_init, X_test_new), axis=0)\n",
    "y_test_prev_all = np.concatenate((y_test_init, y_test_new), axis=0)\n",
    "#print(X_test_prev_all.shape, y_test_prev_all.shape, X_test_init.shape, X_test_new.shape)\n",
    "\n",
    "init, prev, current = Continual_Learning_adaptation_stage(X_train, y_train, X_test_new, y_test_new, X_test_prev_all, y_test_prev_all, best_model,\n",
    "                                        weights_task_init, importance_init, number_epochs, batch_size)\n",
    "\n",
    "Init_acc_all.append(init)\n",
    "Prev_acc_all.append(prev)\n",
    "Trained_acc_all.append(current)"
   ],
   "id": "2b16482919284349",
   "outputs": [
    {
     "name": "stdout",
     "output_type": "stream",
     "text": [
      "Import matlab raw dataset - Matlab file Keys: dict_keys(['__header__', '__version__', '__globals__', 'Data_ADC', 'Data_Cls', 'Data_Fea', 'Dev_Channels', 'Dev_Info', 'Dev_NCh'])\n",
      "Epoch 1\n",
      "Epoch 2\n",
      "Epoch 3\n",
      "Epoch 4\n",
      "Epoch 5\n",
      "\n",
      "✅ Evaluation after Task B training (EWC fine-tuning):\n",
      "Accuracy on Previous Task: 0.8501  ← Should remain high if EWC works\n",
      "Accuracy on Current Task: 0.7733\n"
     ]
    }
   ],
   "execution_count": 9
  },
  {
   "metadata": {
    "ExecuteTime": {
     "end_time": "2025-06-20T20:58:31.113566Z",
     "start_time": "2025-06-20T20:58:12.492593Z"
    }
   },
   "cell_type": "code",
   "source": [
    "session_info = \"Exp_2025-06-20-v5\"\n",
    "path = default_path + f'{session_info}/E9AD0E7DCC2B/raw/'\n",
    "\n",
    "feature_set, labels = get_dataset(path, classes, show_labels=False)\n",
    "X_train, y_train, X_test_new, y_test_new = split_data(feature_set, labels, ratio=train_ratio)\n",
    "\n",
    "X_test_prev_all = np.concatenate((X_test_init, X_test_new), axis=0)\n",
    "y_test_prev_all = np.concatenate((y_test_init, y_test_new), axis=0)\n",
    "#print(X_test_prev_all.shape, y_test_prev_all.shape, X_test_init.shape, X_test_new.shape)\n",
    "\n",
    "init, prev, current = Continual_Learning_adaptation_stage(X_train, y_train, X_test_new, y_test_new, X_test_prev_all, y_test_prev_all, best_model,\n",
    "                                        weights_task_init, importance_init, number_epochs, batch_size)\n",
    "\n",
    "Init_acc_all.append(init)\n",
    "Prev_acc_all.append(prev)\n",
    "Trained_acc_all.append(current)"
   ],
   "id": "7389e4f23cb7bfbf",
   "outputs": [
    {
     "name": "stdout",
     "output_type": "stream",
     "text": [
      "Import matlab raw dataset - Matlab file Keys: dict_keys(['__header__', '__version__', '__globals__', 'Data_ADC', 'Data_Cls', 'Data_Fea', 'Dev_Channels', 'Dev_Info', 'Dev_NCh'])\n",
      "Epoch 1\n",
      "Epoch 2\n",
      "Epoch 3\n",
      "Epoch 4\n",
      "Epoch 5\n",
      "\n",
      "✅ Evaluation after Task B training (EWC fine-tuning):\n",
      "Accuracy on Previous Task: 0.8580  ← Should remain high if EWC works\n",
      "Accuracy on Current Task: 0.8070\n"
     ]
    }
   ],
   "execution_count": 10
  },
  {
   "metadata": {
    "ExecuteTime": {
     "end_time": "2025-06-20T20:58:49.642617Z",
     "start_time": "2025-06-20T20:58:31.127705Z"
    }
   },
   "cell_type": "code",
   "source": [
    "session_info = \"Exp_2025-06-20-v6\"\n",
    "path = default_path + f'{session_info}/E9AD0E7DCC2B/raw/'\n",
    "\n",
    "feature_set, labels = get_dataset(path, classes, show_labels=False)\n",
    "X_train, y_train, X_test_new, y_test_new = split_data(feature_set, labels, ratio=train_ratio)\n",
    "\n",
    "X_test_prev_all = np.concatenate((X_test_init, X_test_new), axis=0)\n",
    "y_test_prev_all = np.concatenate((y_test_init, y_test_new), axis=0)\n",
    "#print(X_test_prev_all.shape, y_test_prev_all.shape, X_test_init.shape, X_test_new.shape)\n",
    "\n",
    "init, prev, current = Continual_Learning_adaptation_stage(X_train, y_train, X_test_new, y_test_new, X_test_prev_all, y_test_prev_all, best_model,\n",
    "                                        weights_task_init, importance_init, number_epochs, batch_size)\n",
    "\n",
    "Init_acc_all.append(init)\n",
    "Prev_acc_all.append(prev)\n",
    "Trained_acc_all.append(current)"
   ],
   "id": "58ec1f25d6639fc4",
   "outputs": [
    {
     "name": "stdout",
     "output_type": "stream",
     "text": [
      "Import matlab raw dataset - Matlab file Keys: dict_keys(['__header__', '__version__', '__globals__', 'Data_ADC', 'Data_Cls', 'Data_Fea', 'Dev_Channels', 'Dev_Info', 'Dev_NCh'])\n",
      "Epoch 1\n",
      "Epoch 2\n",
      "Epoch 3\n",
      "Epoch 4\n",
      "Epoch 5\n",
      "\n",
      "✅ Evaluation after Task B training (EWC fine-tuning):\n",
      "Accuracy on Previous Task: 0.8760  ← Should remain high if EWC works\n",
      "Accuracy on Current Task: 0.8221\n"
     ]
    }
   ],
   "execution_count": 11
  },
  {
   "metadata": {
    "ExecuteTime": {
     "end_time": "2025-06-20T20:59:08.435155Z",
     "start_time": "2025-06-20T20:58:49.656696Z"
    }
   },
   "cell_type": "code",
   "source": [
    "session_info = \"Exp_2025-06-20-v7\"\n",
    "path = default_path + f'{session_info}/E9AD0E7DCC2B/raw/'\n",
    "\n",
    "feature_set, labels = get_dataset(path, classes, show_labels=False)\n",
    "X_train, y_train, X_test_new, y_test_new = split_data(feature_set, labels, ratio=train_ratio)\n",
    "\n",
    "X_test_prev_all = np.concatenate((X_test_init, X_test_new), axis=0)\n",
    "y_test_prev_all = np.concatenate((y_test_init, y_test_new), axis=0)\n",
    "#print(X_test_prev_all.shape, y_test_prev_all.shape, X_test_init.shape, X_test_new.shape)\n",
    "\n",
    "init, prev, current = Continual_Learning_adaptation_stage(X_train, y_train, X_test_new, y_test_new, X_test_prev_all, y_test_prev_all, best_model,\n",
    "                                        weights_task_init, importance_init, number_epochs, batch_size)\n",
    "\n",
    "Init_acc_all.append(init)\n",
    "Prev_acc_all.append(prev)\n",
    "Trained_acc_all.append(current)"
   ],
   "id": "bd261e3d85718b7d",
   "outputs": [
    {
     "name": "stdout",
     "output_type": "stream",
     "text": [
      "Import matlab raw dataset - Matlab file Keys: dict_keys(['__header__', '__version__', '__globals__', 'Data_ADC', 'Data_Cls', 'Data_Fea', 'Dev_Channels', 'Dev_Info', 'Dev_NCh'])\n",
      "Epoch 1\n",
      "Epoch 2\n",
      "Epoch 3\n",
      "Epoch 4\n",
      "Epoch 5\n",
      "\n",
      "✅ Evaluation after Task B training (EWC fine-tuning):\n",
      "Accuracy on Previous Task: 0.8714  ← Should remain high if EWC works\n",
      "Accuracy on Current Task: 0.8303\n"
     ]
    }
   ],
   "execution_count": 12
  },
  {
   "metadata": {
    "ExecuteTime": {
     "end_time": "2025-06-20T20:59:28.960505Z",
     "start_time": "2025-06-20T20:59:08.446123Z"
    }
   },
   "cell_type": "code",
   "source": [
    "session_info = \"Exp_2025-06-20-v8\"\n",
    "path = default_path + f'{session_info}/E9AD0E7DCC2B/raw/'\n",
    "\n",
    "feature_set, labels = get_dataset(path, classes, show_labels=False)\n",
    "X_train, y_train, X_test_new, y_test_new = split_data(feature_set, labels, ratio=train_ratio)\n",
    "\n",
    "X_test_prev_all = np.concatenate((X_test_init, X_test_new), axis=0)\n",
    "y_test_prev_all = np.concatenate((y_test_init, y_test_new), axis=0)\n",
    "#print(X_test_prev_all.shape, y_test_prev_all.shape, X_test_init.shape, X_test_new.shape)\n",
    "\n",
    "init, prev, current = Continual_Learning_adaptation_stage(X_train, y_train, X_test_new, y_test_new, X_test_prev_all, y_test_prev_all, best_model,\n",
    "                                        weights_task_init, importance_init, number_epochs, batch_size)\n",
    "\n",
    "Init_acc_all.append(init)\n",
    "Prev_acc_all.append(prev)\n",
    "Trained_acc_all.append(current)"
   ],
   "id": "cf050b251d5b8c89",
   "outputs": [
    {
     "name": "stdout",
     "output_type": "stream",
     "text": [
      "Import matlab raw dataset - Matlab file Keys: dict_keys(['__header__', '__version__', '__globals__', 'Data_ADC', 'Data_Cls', 'Data_Fea', 'Dev_Channels', 'Dev_Info', 'Dev_NCh'])\n",
      "Epoch 1\n",
      "Epoch 2\n",
      "Epoch 3\n",
      "Epoch 4\n",
      "Epoch 5\n",
      "\n",
      "✅ Evaluation after Task B training (EWC fine-tuning):\n",
      "Accuracy on Previous Task: 0.8712  ← Should remain high if EWC works\n",
      "Accuracy on Current Task: 0.8606\n"
     ]
    }
   ],
   "execution_count": 13
  },
  {
   "metadata": {
    "ExecuteTime": {
     "end_time": "2025-06-20T20:59:28.973023Z",
     "start_time": "2025-06-20T20:59:28.971119Z"
    }
   },
   "cell_type": "code",
   "source": "",
   "id": "eef012658942b67e",
   "outputs": [],
   "execution_count": null
  },
  {
   "metadata": {
    "ExecuteTime": {
     "end_time": "2025-06-20T20:59:28.992076Z",
     "start_time": "2025-06-20T20:59:28.990236Z"
    }
   },
   "cell_type": "code",
   "source": "",
   "id": "f50e20b47a0bbe2f",
   "outputs": [],
   "execution_count": null
  },
  {
   "metadata": {
    "ExecuteTime": {
     "end_time": "2025-06-20T20:59:29.010772Z",
     "start_time": "2025-06-20T20:59:29.008879Z"
    }
   },
   "cell_type": "code",
   "source": "",
   "id": "2d29af81c7885e13",
   "outputs": [],
   "execution_count": null
  },
  {
   "metadata": {
    "ExecuteTime": {
     "end_time": "2025-06-20T21:38:07.882118Z",
     "start_time": "2025-06-20T21:38:07.797327Z"
    }
   },
   "cell_type": "code",
   "source": [
    "baseline = [0.9275, 0.8426, 0.7927, 0.8604, 0.8404, 0.6838, 0.7452, 0.8032, 0.7646, 0.7467]\n",
    "\n",
    "plt.figure(figsize=(10, 6))\n",
    "plt.title('Continual Learning', fontsize=15)\n",
    "\n",
    "plt.plot(Info, Init_acc_all, marker='o', label='Model trained with previous data and tested on current data (unseen data)', linestyle='--')\n",
    "plt.plot(Info, Prev_acc_all, marker='o', label='Model trained with current data and tested with Prev test datasets - stacks up as the training continues')\n",
    "plt.plot(Info, Trained_acc_all, marker='o', label='Model trained with current data and tested with current test datasets - random 5:5 mix)')\n",
    "plt.plot(Info, baseline, marker='^', label='Model trained using only first data (5/27)', color='red', linestyle='--')\n",
    "\n",
    "plt.ylim([0, 1])\n",
    "plt.xlabel('Date (Sessions)')\n",
    "plt.ylabel('Test Accuracy')\n",
    "plt.xticks(rotation=30)\n",
    "plt.legend()\n",
    "plt.grid(True)\n",
    "plt.tight_layout()\n",
    "plt.show()"
   ],
   "id": "c720ff58c04e92c6",
   "outputs": [
    {
     "data": {
      "text/plain": [
       "<Figure size 1000x600 with 1 Axes>"
      ],
      "image/png": "[encoded data removed]"
     },
     "metadata": {},
     "output_type": "display_data"
    }
   ],
   "execution_count": 23
  },
  {
   "metadata": {
    "ExecuteTime": {
     "end_time": "2025-06-20T20:59:29.174541Z",
     "start_time": "2025-06-20T20:59:29.171627Z"
    }
   },
   "cell_type": "code",
   "source": [
    "for x in [Init_acc_all, Prev_acc_all, Trained_acc_all]:\n",
    "    print(f\"{np.mean(x)*100:.2f}%\")\n"
   ],
   "id": "e2bb8e699d8d8905",
   "outputs": [
    {
     "name": "stdout",
     "output_type": "stream",
     "text": [
      "74.75%\n",
      "89.00%\n",
      "85.54%\n"
     ]
    }
   ],
   "execution_count": 15
  },
  {
   "metadata": {
    "ExecuteTime": {
     "end_time": "2025-06-20T20:59:29.194448Z",
     "start_time": "2025-06-20T20:59:29.192502Z"
    }
   },
   "cell_type": "code",
   "source": [
    "73.88%\n",
    "88.91%\n",
    "85.02%"
   ],
   "id": "3e9648c157f1fc07",
   "outputs": [],
   "execution_count": 15
  },
  {
   "metadata": {
    "ExecuteTime": {
     "end_time": "2025-06-20T20:59:29.213533Z",
     "start_time": "2025-06-20T20:59:29.211673Z"
    }
   },
   "cell_type": "code",
   "source": "",
   "id": "a9fc703888190b45",
   "outputs": [],
   "execution_count": null
  }
 ],
 "metadata": {
  "kernelspec": {
   "display_name": "Python 3",
   "language": "python",
   "name": "python3"
  },
  "language_info": {
   "codemirror_mode": {
    "name": "ipython",
    "version": 2
   },
   "file_extension": ".py",
   "mimetype": "text/x-python",
   "name": "python",
   "nbconvert_exporter": "python",
   "pygments_lexer": "ipython2",
   "version": "2.7.6"
  }
 },
 "nbformat": 4,
 "nbformat_minor": 5
}
