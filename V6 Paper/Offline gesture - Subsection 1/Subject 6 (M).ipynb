{
 "cells": [
  {
   "cell_type": "code",
   "id": "initial_id",
   "metadata": {
    "collapsed": true
   },
   "source": [
    "import sys\n",
    "sys.path.append('../../Share')\n",
    "import config\n",
    "import baseline\n",
    "import Target\n",
    "\n",
    "import numpy as np\n",
    "import pandas as pd"
   ],
   "outputs": [],
   "execution_count": null
  },
  {
   "metadata": {},
   "cell_type": "code",
   "source": [
    "baseline_K_val = [1, 4, 7, 10, 13]\n",
    "SUBJECT = \"Minjeong\"\n",
    "\n",
    "if __name__ == \"__main__\":\n",
    "    for K in baseline_K_val:\n",
    "        trainer = baseline.ModelTrainer(config, subject=f\"{SUBJECT}\")\n",
    "        trainer.run_all_sessions_training_K_data(K)\n",
    "        df = trainer.save_results(f'../../Results/Results_{SUBJECT}/Baseline_results_train_with_{K}data_C.csv')\n",
    "\n",
    "# 저장해놨어서 데이터 업데이트 전에 한번 돌리면 굳이 안돌려도 됨'''"
   ],
   "id": "d838aeda699f00a0",
   "outputs": [],
   "execution_count": null
  },
  {
   "metadata": {},
   "cell_type": "code",
   "source": [
    "b_path = 'C:/Users/hml76/PycharmProjects/MindForce/'\n",
    "baseline_K = ['1', '4', '7', '10', '13']\n",
    "baselines = []\n",
    "\n",
    "for idx, K in enumerate(baseline_K):\n",
    "    baselines.append(b_path + f'/github/Results/Results_{SUBJECT}/Baseline_results_train_with_{K}data_C.csv')"
   ],
   "id": "7d1aef299ccb34dc",
   "outputs": [],
   "execution_count": null
  },
  {
   "metadata": {},
   "cell_type": "code",
   "source": [
    "prog_trainer = Target.ProgressiveTrainer(config, subject=SUBJECT)\n",
    "Init_acc_all, Prev_acc_all, Trained_acc_all = prog_trainer.run(plot_learning_curve=False)\n",
    "pd.DataFrame(Trained_acc_all).to_csv(f'../../Results/Results_{SUBJECT}/Train_Test_per_sessions.csv', index=False)"
   ],
   "id": "44d46d19f7311b19",
   "outputs": [],
   "execution_count": null
  },
  {
   "metadata": {},
   "cell_type": "code",
   "source": [
    "for idx, x in enumerate([Init_acc_all, Prev_acc_all, Trained_acc_all]):\n",
    "    if idx==0:\n",
    "        print(f\"Average of acc without training anything (should be random): {np.mean(x)*100:.2f}%\")\n",
    "    elif idx==1:\n",
    "        print(f\"Average of acc using previous test data after training: {np.mean(x)*100:.2f}%\")\n",
    "    elif idx==2:\n",
    "        print(f\"Average of acc using current test data after training: {np.mean(x)*100:.2f}%\")\n",
    "for idx, b in enumerate(baselines):\n",
    "    val = float(np.mean(pd.read_csv(baselines[idx])['Accuracy'][int(baseline_K[idx]):]))\n",
    "    print(f\"K-{baseline_K[idx]}: {val:.2f}% | Target: {np.mean(Trained_acc_all[int(baseline_K[idx]):])*100:.2f}\")"
   ],
   "id": "7ece99590f3d719b",
   "outputs": [],
   "execution_count": null
  },
  {
   "metadata": {},
   "cell_type": "code",
   "source": "np.array(baseline_result['Info'])",
   "id": "675f5ad88aa93c87",
   "outputs": [],
   "execution_count": null
  },
  {
   "metadata": {},
   "cell_type": "code",
   "source": "Trained_acc_all",
   "id": "3cf132689bf440c8",
   "outputs": [],
   "execution_count": null
  },
  {
   "metadata": {},
   "cell_type": "code",
   "source": [
    "import matplotlib.pyplot as plt\n",
    "\n",
    "Trained_acc_all_stored = [0.8104453086853027, 0.8324286341667175, 0.8643006086349487, 0.8720148205757141, 0.8329084515571594, 0.8589298129081726, 0.8663423657417297, 0.8659842014312744, 0.8298171758651733, 0.8589231371879578, 0.8591907620429993, 0.8996988534927368, 0.8400927186012268, 0.8692129850387573, 0.9302433133125305,0.9009259343147278, 0.8838395476341248, 0.8982021808624268]\n",
    "\n",
    "X_labels = ['Stand (6/30)', 'Sit (6/30)', 'Stand (7/9)', 'Sit (7/9)', 'Stand (7/10)', 'Sit (7/10)', 'Stand (7/11)', 'Sit (7/11)',\n",
    "            'Stand (7/16)', 'Sit (7/16)', 'Stand (7/17)', 'Sit (7/17)', 'Stand (7/23)', 'Sit (7/23)', 'Stand (7/25)', 'Sit (7/25)', 'Stand (8/1)', 'Sit (8/1)']\n",
    "\n",
    "plt.rcParams['font.family'] = 'Times New Roman'\n",
    "\n",
    "plt.figure(figsize=(14, 7), dpi=150)\n",
    "#plt.title('Training from scratch every time', fontsize=15)\n",
    "plt.plot(Trained_acc_all_stored, c='red', label='Train/Test in same session', marker='o', linestyle='--')\n",
    "for idx, base in enumerate(baselines):\n",
    "    baseline_result = pd.read_csv(base)\n",
    "    plt.plot(X_labels, baseline_result['Accuracy'] / 100, marker='^', label=f'K={baseline_K[idx]}', linestyle='-')\n",
    "\n",
    "plt.ylim([0, 1])\n",
    "plt.xlabel('Date (Sessions)', fontsize=14)\n",
    "plt.ylabel('Test Accuracy', fontsize=14)\n",
    "plt.xticks(rotation=90, fontsize=12)\n",
    "plt.legend(fontsize=16, ncol=1, loc='lower right')\n",
    "plt.grid(True, linestyle='--', color='lightgrey')\n",
    "plt.tight_layout()\n",
    "plt.show()"
   ],
   "id": "5f85b91b60fc9f3f",
   "outputs": [],
   "execution_count": null
  },
  {
   "metadata": {},
   "cell_type": "code",
   "source": "",
   "id": "6169fe4da6f13ac8",
   "outputs": [],
   "execution_count": null
  }
 ],
 "metadata": {
  "kernelspec": {
   "display_name": "Python 3",
   "language": "python",
   "name": "python3"
  },
  "language_info": {
   "codemirror_mode": {
    "name": "ipython",
    "version": 2
   },
   "file_extension": ".py",
   "mimetype": "text/x-python",
   "name": "python",
   "nbconvert_exporter": "python",
   "pygments_lexer": "ipython2",
   "version": "2.7.6"
  }
 },
 "nbformat": 4,
 "nbformat_minor": 5
}
