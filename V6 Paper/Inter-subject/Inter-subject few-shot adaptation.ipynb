{
 "cells": [
  {
   "cell_type": "code",
   "id": "initial_id",
   "metadata": {
    "collapsed": true,
    "ExecuteTime": {
     "end_time": "2025-08-18T20:00:23.719705Z",
     "start_time": "2025-08-18T20:00:20.613588Z"
    }
   },
   "source": [
    "import sys\n",
    "sys.path.append('../../Share/')\n",
    "sys.path.append('../../V5 Self Supervised Learning')\n",
    "\n",
    "import pandas as pd\n",
    "import numpy as np\n",
    "from sklearn.utils import resample\n",
    "import matplotlib.pyplot as plt\n",
    "import baseline, config, self_supervised_v1\n",
    "\n",
    "import warnings\n",
    "warnings.filterwarnings('ignore')\n",
    "\n",
    "def evaluate_model(model, data, labels):\n",
    "    return model.evaluate(data, labels, verbose=0)[1]\n",
    "\n",
    "\n",
    "def down_sample(X, y):\n",
    "    X = np.array(X)\n",
    "    y = np.array(y)\n",
    "\n",
    "    # 클래스별 최소 개수\n",
    "    unique_classes, counts = np.unique(y, return_counts=True)\n",
    "    min_count = counts.min()\n",
    "\n",
    "    X_balanced, y_balanced = [], []\n",
    "\n",
    "    for cls in unique_classes:\n",
    "        idx = np.where(y == cls)[0]  # 해당 클래스 인덱스\n",
    "        down_idx = resample(idx, replace=False, n_samples=min_count, random_state=42)\n",
    "        X_balanced.append(X[down_idx])\n",
    "        y_balanced.append(y[down_idx])\n",
    "\n",
    "    # 합치기\n",
    "    X_balanced = np.concatenate(X_balanced, axis=0)\n",
    "    y_balanced = np.concatenate(y_balanced, axis=0)\n",
    "\n",
    "    return X_balanced, y_balanced\n",
    "\n",
    "\n",
    "\n",
    "trainer_Minjeong = baseline.ModelTrainer(config, subject=\"Minjeong\")\n",
    "trainer_Carlson = baseline.ModelTrainer(config, subject=\"Carlson\")\n",
    "trainer_Harold = baseline.ModelTrainer(config, subject=\"Harold\")\n",
    "trainer_Hunmin = baseline.ModelTrainer(config, subject=\"Hunmin\")\n",
    "trainer_Brian = baseline.ModelTrainer(config, subject=\"Brian\")\n",
    "trainer_Xianyu = baseline.ModelTrainer(config, subject=\"Xianyu\")"
   ],
   "outputs": [],
   "execution_count": 2
  },
  {
   "metadata": {
    "ExecuteTime": {
     "end_time": "2025-08-18T20:00:23.729317Z",
     "start_time": "2025-08-18T20:00:23.723407Z"
    }
   },
   "cell_type": "code",
   "source": [
    "from tensorflow.keras.models import load_model\n",
    "from tensorflow.keras.optimizers import Adam\n",
    "import meta\n",
    "\n",
    "trainers_unseen = {\n",
    "    \"H\": trainer_Hunmin,\n",
    "    \"C\": trainer_Carlson,\n",
    "    \"B\": trainer_Brian,\n",
    "    \"X\": trainer_Xianyu,\n",
    "    \"M\": trainer_Minjeong\n",
    "}\n",
    "#Same_Session_Test_Acc, Next_Session_Test_Acc = [], []\n",
    "#Unseen_subject_acc_dict = {\"H\": [], \"C\": [], \"B\": [], \"X\": [], \"M\": []}"
   ],
   "id": "626745e435ab52ac",
   "outputs": [],
   "execution_count": 3
  },
  {
   "metadata": {
    "ExecuteTime": {
     "end_time": "2025-08-18T20:34:56.944055Z",
     "start_time": "2025-08-18T20:32:48.334941Z"
    }
   },
   "cell_type": "code",
   "source": [
    "model = load_model('./model_K10_H2.h5')\n",
    "model.compile(optimizer=Adam(learning_rate=0.05), loss='sparse_categorical_crossentropy', metrics=['accuracy'])\n",
    "\n",
    "trainer_sub, final_session = trainer_Minjeong, len(config.Info_sub_M)\n",
    "X_TEST, y_TEST, _, _ = trainer_sub.return_K_th_data_only(K=final_session-1, train_ratio=0.99)\n",
    "X_TEST, y_TEST = down_sample(X_TEST, y_TEST)\n",
    "Acc_lst = []\n",
    "\n",
    "for k in range(10):\n",
    "    unseen_X, unseen_y, X_few_shot, y_few_shot = trainer_sub.return_K_th_data_only(K=k, train_ratio=0.8)\n",
    "    X_train, y_train = down_sample(unseen_X, unseen_y)\n",
    "    X_test, y_test = down_sample(X_few_shot, y_few_shot)\n",
    "\n",
    "    Meta = meta.MetaLearner(input_model=model, N_way=6, input_shape=X_train.shape[1:],\n",
    "        meta_iters=5,                              # Number of meta-training loops\n",
    "        meta_step_size=1                          # Reptile meta step\n",
    "    )\n",
    "\n",
    "    acc = Meta.train(X_train, y_train, X_TEST, y_TEST, meta.get_data_Meta, N_way=6, K_shot=20)\n",
    "    print(acc)\n",
    "    Acc_lst.append(acc)"
   ],
   "id": "142e8c093a617564",
   "outputs": [
    {
     "name": "stderr",
     "output_type": "stream",
     "text": [
      "WARNING:absl:Compiled the loaded model, but the compiled metrics have yet to be built. `model.compile_metrics` will be empty until you train or evaluate the model.\n"
     ]
    },
    {
     "name": "stdout",
     "output_type": "stream",
     "text": [
      "Returning K-th session data: Exp_2025-08-15-v2/E9AD0E7DCC2B/\n",
      "========================================\n",
      "Returning K-th session data: Exp_2025-08-01-v1/E9AD0E7DCC2B/\n",
      "========================================\n",
      "0.5333333611488342\n",
      "Returning K-th session data: Exp_2025-08-01-v2/E9AD0E7DCC2B/\n",
      "========================================\n",
      "0.5249999761581421\n",
      "Returning K-th session data: Exp_2025-08-02-v1/E9AD0E7DCC2B/\n",
      "========================================\n",
      "0.5583333373069763\n",
      "Returning K-th session data: Exp_2025-08-02-v2/E9AD0E7DCC2B/\n",
      "========================================\n",
      "0.6000000238418579\n",
      "Returning K-th session data: Exp_2025-08-09-v1/E9AD0E7DCC2B/\n",
      "========================================\n",
      "0.6333333253860474\n",
      "Returning K-th session data: Exp_2025-08-09-v2/E9AD0E7DCC2B/\n",
      "========================================\n",
      "0.6416666507720947\n",
      "Returning K-th session data: Exp_2025-08-10-v1/E9AD0E7DCC2B/\n",
      "========================================\n",
      "0.7166666388511658\n",
      "Returning K-th session data: Exp_2025-08-10-v2/E9AD0E7DCC2B/\n",
      "========================================\n",
      "0.7666666507720947\n",
      "Returning K-th session data: Exp_2025-08-11-v1/E9AD0E7DCC2B/\n",
      "========================================\n",
      "0.8083333373069763\n",
      "Returning K-th session data: Exp_2025-08-11-v2/E9AD0E7DCC2B/\n",
      "========================================\n",
      "0.6166666746139526\n"
     ]
    }
   ],
   "execution_count": 20
  },
  {
   "metadata": {
    "ExecuteTime": {
     "end_time": "2025-08-18T20:34:56.968836Z",
     "start_time": "2025-08-18T20:34:56.964832Z"
    }
   },
   "cell_type": "code",
   "source": "np.min(Acc_lst), np.max(Acc_lst)",
   "id": "78d109e088353251",
   "outputs": [
    {
     "data": {
      "text/plain": [
       "(np.float64(0.5249999761581421), np.float64(0.8083333373069763))"
      ]
     },
     "execution_count": 21,
     "metadata": {},
     "output_type": "execute_result"
    }
   ],
   "execution_count": 21
  },
  {
   "metadata": {
    "ExecuteTime": {
     "end_time": "2025-08-18T20:32:34.655982Z",
     "start_time": "2025-08-18T20:32:34.652958Z"
    }
   },
   "cell_type": "code",
   "source": "",
   "id": "59d06c79ec53f5d7",
   "outputs": [],
   "execution_count": null
  },
  {
   "metadata": {
    "ExecuteTime": {
     "end_time": "2025-08-18T20:37:07.875333Z",
     "start_time": "2025-08-18T20:34:56.984533Z"
    }
   },
   "cell_type": "code",
   "source": [
    "model = load_model('./model_K10_H2.h5')\n",
    "model.compile(optimizer=Adam(learning_rate=0.05), loss='sparse_categorical_crossentropy', metrics=['accuracy'])\n",
    "\n",
    "trainer_sub, final_session = trainer_Brian, len(config.Info_sub_B)\n",
    "X_TEST, y_TEST, _, _ = trainer_sub.return_K_th_data_only(K=final_session-1, train_ratio=0.99)\n",
    "X_TEST, y_TEST = down_sample(X_TEST, y_TEST)\n",
    "Acc_lst = []\n",
    "\n",
    "for k in range(10):\n",
    "    unseen_X, unseen_y, X_few_shot, y_few_shot = trainer_sub.return_K_th_data_only(K=k, train_ratio=0.8)\n",
    "    X_train, y_train = down_sample(unseen_X, unseen_y)\n",
    "    X_test, y_test = down_sample(X_few_shot, y_few_shot)\n",
    "\n",
    "    Meta = meta.MetaLearner(input_model=model, N_way=6, input_shape=X_train.shape[1:],\n",
    "        meta_iters=5,                              # Number of meta-training loops\n",
    "        meta_step_size=1                          # Reptile meta step\n",
    "    )\n",
    "\n",
    "    acc = Meta.train(X_train, y_train, X_TEST, y_TEST, meta.get_data_Meta, N_way=6, K_shot=20)\n",
    "    print(acc)\n",
    "    Acc_lst.append(acc)"
   ],
   "id": "e93fc2d1ec5e1dd2",
   "outputs": [
    {
     "name": "stderr",
     "output_type": "stream",
     "text": [
      "WARNING:absl:Compiled the loaded model, but the compiled metrics have yet to be built. `model.compile_metrics` will be empty until you train or evaluate the model.\n"
     ]
    },
    {
     "name": "stdout",
     "output_type": "stream",
     "text": [
      "Returning K-th session data: Exp_2025-08-01-v2/E9AD0E7DCC2B/\n",
      "========================================\n",
      "Returning K-th session data: Exp_2025-06-27-v1/E9AD0E7DCC2B/\n",
      "========================================\n",
      "0.5166666507720947\n",
      "Returning K-th session data: Exp_2025-06-27-v2/E9AD0E7DCC2B/\n",
      "========================================\n",
      "0.7250000238418579\n",
      "Returning K-th session data: Exp_2025-07-09-v1/E9AD0E7DCC2B/\n",
      "========================================\n",
      "0.8083333373069763\n",
      "Returning K-th session data: Exp_2025-07-09-v2/E9AD0E7DCC2B/\n",
      "========================================\n",
      "0.8416666388511658\n",
      "Returning K-th session data: Exp_2025-07-10-v1/E9AD0E7DCC2B/\n",
      "========================================\n",
      "0.875\n",
      "Returning K-th session data: Exp_2025-07-10-v2/E9AD0E7DCC2B/\n",
      "========================================\n",
      "0.875\n",
      "Returning K-th session data: Exp_2025-07-16-v1/E9AD0E7DCC2B/\n",
      "========================================\n",
      "0.875\n",
      "Returning K-th session data: Exp_2025-07-16-v2/E9AD0E7DCC2B/\n",
      "========================================\n",
      "0.9166666865348816\n",
      "Returning K-th session data: Exp_2025-07-17-v1/E9AD0E7DCC2B/\n",
      "========================================\n",
      "0.925000011920929\n",
      "Returning K-th session data: Exp_2025-07-17-v2/E9AD0E7DCC2B/\n",
      "========================================\n",
      "0.949999988079071\n"
     ]
    }
   ],
   "execution_count": 22
  },
  {
   "metadata": {},
   "cell_type": "code",
   "outputs": [],
   "execution_count": null,
   "source": "",
   "id": "ab5abf4cb296e90"
  },
  {
   "metadata": {},
   "cell_type": "code",
   "outputs": [],
   "execution_count": null,
   "source": "",
   "id": "c0fa349438cc5c58"
  },
  {
   "metadata": {},
   "cell_type": "markdown",
   "source": "# Hunmin",
   "id": "d9f0e009dd11a594"
  },
  {
   "metadata": {
    "ExecuteTime": {
     "end_time": "2025-08-18T20:39:55.993604Z",
     "start_time": "2025-08-18T20:37:07.933123Z"
    }
   },
   "cell_type": "code",
   "source": [
    "model = load_model('./model_K10_H.h5')\n",
    "model.compile(optimizer=Adam(learning_rate=1e-2), loss='sparse_categorical_crossentropy', metrics=['accuracy'])\n",
    "\n",
    "trainer_sub, final_session = trainer_Minjeong, len(config.Info_sub_M)\n",
    "X_TEST, y_TEST, _, _ = trainer_sub.return_K_th_data_only(K=final_session-1, train_ratio=0.99)\n",
    "X_TEST, y_TEST = down_sample(X_TEST, y_TEST)\n",
    "Acc_lst = []\n",
    "\n",
    "for k in range(10):\n",
    "    unseen_X, unseen_y, X_few_shot, y_few_shot = trainer_sub.return_K_th_data_only(K=k, train_ratio=0.8)\n",
    "    X_train, y_train = down_sample(unseen_X, unseen_y)\n",
    "    X_test, y_test = down_sample(X_few_shot, y_few_shot)\n",
    "\n",
    "    Meta = meta.MetaLearner(input_model=model, N_way=6, input_shape=X_train.shape[1:],\n",
    "        meta_iters=5,                              # Number of meta-training loops\n",
    "        meta_step_size=1                          # Reptile meta step\n",
    "    )\n",
    "\n",
    "    acc = Meta.train(X_train, y_train, X_TEST, y_TEST, meta.get_data_Meta, N_way=6, K_shot=20)\n",
    "    print(acc)\n",
    "    Acc_lst.append(acc)"
   ],
   "id": "a8511d71ac0fd178",
   "outputs": [
    {
     "name": "stderr",
     "output_type": "stream",
     "text": [
      "WARNING:absl:Compiled the loaded model, but the compiled metrics have yet to be built. `model.compile_metrics` will be empty until you train or evaluate the model.\n"
     ]
    },
    {
     "name": "stdout",
     "output_type": "stream",
     "text": [
      "Returning K-th session data: Exp_2025-08-15-v2/E9AD0E7DCC2B/\n",
      "========================================\n",
      "Returning K-th session data: Exp_2025-08-01-v1/E9AD0E7DCC2B/\n",
      "========================================\n",
      "0.5333333611488342\n",
      "Returning K-th session data: Exp_2025-08-01-v2/E9AD0E7DCC2B/\n",
      "========================================\n",
      "0.6166666746139526\n",
      "Returning K-th session data: Exp_2025-08-02-v1/E9AD0E7DCC2B/\n",
      "========================================\n",
      "0.5666666626930237\n",
      "Returning K-th session data: Exp_2025-08-02-v2/E9AD0E7DCC2B/\n",
      "========================================\n",
      "0.6166666746139526\n",
      "Returning K-th session data: Exp_2025-08-09-v1/E9AD0E7DCC2B/\n",
      "========================================\n",
      "0.6666666865348816\n",
      "Returning K-th session data: Exp_2025-08-09-v2/E9AD0E7DCC2B/\n",
      "========================================\n",
      "0.7333333492279053\n",
      "Returning K-th session data: Exp_2025-08-10-v1/E9AD0E7DCC2B/\n",
      "========================================\n",
      "0.675000011920929\n",
      "Returning K-th session data: Exp_2025-08-10-v2/E9AD0E7DCC2B/\n",
      "========================================\n",
      "0.6583333611488342\n",
      "Returning K-th session data: Exp_2025-08-11-v1/E9AD0E7DCC2B/\n",
      "========================================\n",
      "0.8083333373069763\n",
      "Returning K-th session data: Exp_2025-08-11-v2/E9AD0E7DCC2B/\n",
      "========================================\n",
      "0.625\n"
     ]
    }
   ],
   "execution_count": 23
  },
  {
   "metadata": {
    "ExecuteTime": {
     "end_time": "2025-08-18T20:41:17.957051Z",
     "start_time": "2025-08-18T20:39:56.011114Z"
    }
   },
   "cell_type": "code",
   "source": [
    "model = load_model('./model_K10_H.h5')\n",
    "model.compile(optimizer=Adam(learning_rate=1e-2), loss='sparse_categorical_crossentropy', metrics=['accuracy'])\n",
    "\n",
    "trainer_sub, final_session = trainer_Brian, len(config.Info_sub_B)\n",
    "X_TEST, y_TEST, _, _ = trainer_sub.return_K_th_data_only(K=final_session-1, train_ratio=0.99)\n",
    "X_TEST, y_TEST = down_sample(X_TEST, y_TEST)\n",
    "Acc_lst = []\n",
    "\n",
    "for k in range(10):\n",
    "    unseen_X, unseen_y, X_few_shot, y_few_shot = trainer_sub.return_K_th_data_only(K=k, train_ratio=0.8)\n",
    "    X_train, y_train = down_sample(unseen_X, unseen_y)\n",
    "    X_test, y_test = down_sample(X_few_shot, y_few_shot)\n",
    "\n",
    "    Meta = meta.MetaLearner(input_model=model, N_way=6, input_shape=X_train.shape[1:],\n",
    "        meta_iters=5,                              # Number of meta-training loops\n",
    "        meta_step_size=1                          # Reptile meta step\n",
    "    )\n",
    "\n",
    "    acc = Meta.train(X_train, y_train, X_TEST, y_TEST, meta.get_data_Meta, N_way=6, K_shot=20)\n",
    "    print(acc)\n",
    "    Acc_lst.append(acc)"
   ],
   "id": "1e10669725256523",
   "outputs": [
    {
     "name": "stderr",
     "output_type": "stream",
     "text": [
      "WARNING:absl:Compiled the loaded model, but the compiled metrics have yet to be built. `model.compile_metrics` will be empty until you train or evaluate the model.\n"
     ]
    },
    {
     "name": "stdout",
     "output_type": "stream",
     "text": [
      "Returning K-th session data: Exp_2025-08-01-v2/E9AD0E7DCC2B/\n",
      "========================================\n",
      "Returning K-th session data: Exp_2025-06-27-v1/E9AD0E7DCC2B/\n",
      "========================================\n",
      "0.6416666507720947\n",
      "Returning K-th session data: Exp_2025-06-27-v2/E9AD0E7DCC2B/\n",
      "========================================\n",
      "0.8416666388511658\n",
      "Returning K-th session data: Exp_2025-07-09-v1/E9AD0E7DCC2B/\n",
      "========================================\n",
      "0.7166666388511658\n",
      "Returning K-th session data: Exp_2025-07-09-v2/E9AD0E7DCC2B/\n",
      "========================================\n",
      "0.8583333492279053\n",
      "Returning K-th session data: Exp_2025-07-10-v1/E9AD0E7DCC2B/\n",
      "========================================\n",
      "0.9166666865348816\n",
      "Returning K-th session data: Exp_2025-07-10-v2/E9AD0E7DCC2B/\n",
      "========================================\n",
      "0.925000011920929\n",
      "Returning K-th session data: Exp_2025-07-16-v1/E9AD0E7DCC2B/\n",
      "========================================\n",
      "0.9166666865348816\n",
      "Returning K-th session data: Exp_2025-07-16-v2/E9AD0E7DCC2B/\n",
      "========================================\n",
      "0.9166666865348816\n",
      "Returning K-th session data: Exp_2025-07-17-v1/E9AD0E7DCC2B/\n",
      "========================================\n",
      "0.925000011920929\n",
      "Returning K-th session data: Exp_2025-07-17-v2/E9AD0E7DCC2B/\n",
      "========================================\n",
      "0.9666666388511658\n"
     ]
    }
   ],
   "execution_count": 24
  },
  {
   "metadata": {
    "ExecuteTime": {
     "end_time": "2025-08-18T20:42:39.950436Z",
     "start_time": "2025-08-18T20:41:17.980908Z"
    }
   },
   "cell_type": "code",
   "source": [
    "model = load_model('./model_K10_H.h5')\n",
    "model.compile(optimizer=Adam(learning_rate=1e-2), loss='sparse_categorical_crossentropy', metrics=['accuracy'])\n",
    "\n",
    "trainer_sub, final_session = trainer_Xianyu, len(config.Info_sub_X)\n",
    "X_TEST, y_TEST, _, _ = trainer_sub.return_K_th_data_only(K=final_session-1, train_ratio=0.99)\n",
    "X_TEST, y_TEST = down_sample(X_TEST, y_TEST)\n",
    "Acc_lst = []\n",
    "\n",
    "for k in range(10):\n",
    "    unseen_X, unseen_y, X_few_shot, y_few_shot = trainer_sub.return_K_th_data_only(K=k, train_ratio=0.8)\n",
    "    X_train, y_train = down_sample(unseen_X, unseen_y)\n",
    "    X_test, y_test = down_sample(X_few_shot, y_few_shot)\n",
    "\n",
    "    Meta = meta.MetaLearner(input_model=model, N_way=6, input_shape=X_train.shape[1:],\n",
    "        meta_iters=5,                              # Number of meta-training loops\n",
    "        meta_step_size=1                          # Reptile meta step\n",
    "    )\n",
    "\n",
    "    acc = Meta.train(X_train, y_train, X_TEST, y_TEST, meta.get_data_Meta, N_way=6, K_shot=20)\n",
    "    print(acc)\n",
    "    Acc_lst.append(acc)"
   ],
   "id": "3c98532627207ff1",
   "outputs": [
    {
     "name": "stderr",
     "output_type": "stream",
     "text": [
      "WARNING:absl:Compiled the loaded model, but the compiled metrics have yet to be built. `model.compile_metrics` will be empty until you train or evaluate the model.\n"
     ]
    },
    {
     "name": "stdout",
     "output_type": "stream",
     "text": [
      "Returning K-th session data: Exp_2025-07-23-v2/E9AD0E7DCC2B/\n",
      "========================================\n",
      "Returning K-th session data: Exp_2025-06-24-v1/E9AD0E7DCC2B/\n",
      "========================================\n",
      "0.6583333611488342\n",
      "Returning K-th session data: Exp_2025-06-24-v2/E9AD0E7DCC2B/\n",
      "========================================\n",
      "0.8166666626930237\n",
      "Returning K-th session data: Exp_2025-06-26-v1/E9AD0E7DCC2B/\n",
      "========================================\n",
      "0.6666666865348816\n",
      "Returning K-th session data: Exp_2025-06-26-v2/E9AD0E7DCC2B/\n",
      "========================================\n",
      "0.5583333373069763\n",
      "Returning K-th session data: Exp_2025-06-27-v1/E9AD0E7DCC2B/\n",
      "========================================\n",
      "0.6000000238418579\n",
      "Returning K-th session data: Exp_2025-06-27-v2/E9AD0E7DCC2B/\n",
      "========================================\n",
      "0.6333333253860474\n",
      "Returning K-th session data: Exp_2025-06-30-v1/FEFFF6FFF5FF/\n",
      "========================================\n",
      "0.7333333492279053\n",
      "Returning K-th session data: Exp_2025-06-30-v2/FEFFF6FFF5FF/\n",
      "========================================\n",
      "0.574999988079071\n",
      "Returning K-th session data: Exp_2025-07-01-v1/E9AD0E7DCC2B/\n",
      "========================================\n",
      "0.574999988079071\n",
      "Returning K-th session data: Exp_2025-07-01-v2/E9AD0E7DCC2B/\n",
      "========================================\n",
      "0.6333333253860474\n"
     ]
    }
   ],
   "execution_count": 25
  },
  {
   "metadata": {
    "ExecuteTime": {
     "end_time": "2025-08-18T20:44:02.722694Z",
     "start_time": "2025-08-18T20:42:39.971896Z"
    }
   },
   "cell_type": "code",
   "source": [
    "model = load_model('./model_K10_H.h5')\n",
    "model.compile(optimizer=Adam(learning_rate=1e-2), loss='sparse_categorical_crossentropy', metrics=['accuracy'])\n",
    "\n",
    "trainer_sub, final_session = trainer_Carlson, len(config.Info_sub_C)\n",
    "X_TEST, y_TEST, _, _ = trainer_sub.return_K_th_data_only(K=final_session-1, train_ratio=0.99)\n",
    "X_TEST, y_TEST = down_sample(X_TEST, y_TEST)\n",
    "Acc_lst = []\n",
    "\n",
    "for k in range(10):\n",
    "    unseen_X, unseen_y, X_few_shot, y_few_shot = trainer_sub.return_K_th_data_only(K=k, train_ratio=0.8)\n",
    "    X_train, y_train = down_sample(unseen_X, unseen_y)\n",
    "    X_test, y_test = down_sample(X_few_shot, y_few_shot)\n",
    "\n",
    "    Meta = meta.MetaLearner(input_model=model, N_way=6, input_shape=X_train.shape[1:],\n",
    "        meta_iters=5,                              # Number of meta-training loops\n",
    "        meta_step_size=1                          # Reptile meta step\n",
    "    )\n",
    "\n",
    "    acc = Meta.train(X_train, y_train, X_TEST, y_TEST, meta.get_data_Meta, N_way=6, K_shot=20)\n",
    "    print(acc)\n",
    "    Acc_lst.append(acc)"
   ],
   "id": "edadb87073108fd3",
   "outputs": [
    {
     "name": "stderr",
     "output_type": "stream",
     "text": [
      "WARNING:absl:Compiled the loaded model, but the compiled metrics have yet to be built. `model.compile_metrics` will be empty until you train or evaluate the model.\n"
     ]
    },
    {
     "name": "stdout",
     "output_type": "stream",
     "text": [
      "Returning K-th session data: Exp_2025-08-01-v2/E9AD0E7DCC2B/\n",
      "========================================\n",
      "Returning K-th session data: Exp_2025-06-30-v1/E9AD0E7DCC2B/\n",
      "========================================\n",
      "0.5083333253860474\n",
      "Returning K-th session data: Exp_2025-06-30-v2/E9AD0E7DCC2B/\n",
      "========================================\n",
      "0.6499999761581421\n",
      "Returning K-th session data: Exp_2025-07-09-v1/E9AD0E7DCC2B/\n",
      "========================================\n",
      "0.6083333492279053\n",
      "Returning K-th session data: Exp_2025-07-09-v2/E9AD0E7DCC2B/\n",
      "========================================\n",
      "0.6499999761581421\n",
      "Returning K-th session data: Exp_2025-07-10-v1/E9AD0E7DCC2B/\n",
      "========================================\n",
      "0.6833333373069763\n",
      "Returning K-th session data: Exp_2025-07-10-v2/E9AD0E7DCC2B/\n",
      "========================================\n",
      "0.6416666507720947\n",
      "Returning K-th session data: Exp_2025-07-11-v1/E9AD0E7DCC2B/\n",
      "========================================\n",
      "0.6916666626930237\n",
      "Returning K-th session data: Exp_2025-07-11-v2/E9AD0E7DCC2B/\n",
      "========================================\n",
      "0.7583333253860474\n",
      "Returning K-th session data: Exp_2025-07-16-v1/E9AD0E7DCC2B/\n",
      "========================================\n",
      "0.6666666865348816\n",
      "Returning K-th session data: Exp_2025-07-16-v2/E9AD0E7DCC2B/\n",
      "========================================\n",
      "0.6416666507720947\n"
     ]
    }
   ],
   "execution_count": 26
  },
  {
   "metadata": {
    "ExecuteTime": {
     "end_time": "2025-08-18T20:45:29.916621Z",
     "start_time": "2025-08-18T20:44:02.738030Z"
    }
   },
   "cell_type": "code",
   "source": [
    "model = load_model('./model_K10_H.h5')\n",
    "model.compile(optimizer=Adam(learning_rate=1e-2), loss='sparse_categorical_crossentropy', metrics=['accuracy'])\n",
    "\n",
    "trainer_sub, final_session = trainer_Harold, len(config.Info_sub_H2)\n",
    "X_TEST, y_TEST, _, _ = trainer_sub.return_K_th_data_only(K=final_session-1, train_ratio=0.99)\n",
    "X_TEST, y_TEST = down_sample(X_TEST, y_TEST)\n",
    "Acc_lst = []\n",
    "\n",
    "for k in range(10):\n",
    "    unseen_X, unseen_y, X_few_shot, y_few_shot = trainer_sub.return_K_th_data_only(K=k, train_ratio=0.8)\n",
    "    X_train, y_train = down_sample(unseen_X, unseen_y)\n",
    "    X_test, y_test = down_sample(X_few_shot, y_few_shot)\n",
    "\n",
    "    Meta = meta.MetaLearner(input_model=model, N_way=6, input_shape=X_train.shape[1:],\n",
    "        meta_iters=5,                              # Number of meta-training loops\n",
    "        meta_step_size=1                          # Reptile meta step\n",
    "    )\n",
    "\n",
    "    acc = Meta.train(X_train, y_train, X_TEST, y_TEST, meta.get_data_Meta, N_way=6, K_shot=20)\n",
    "    print(acc)\n",
    "    Acc_lst.append(acc)"
   ],
   "id": "6604b73754e2a1cc",
   "outputs": [
    {
     "name": "stderr",
     "output_type": "stream",
     "text": [
      "WARNING:absl:Compiled the loaded model, but the compiled metrics have yet to be built. `model.compile_metrics` will be empty until you train or evaluate the model.\n"
     ]
    },
    {
     "name": "stdout",
     "output_type": "stream",
     "text": [
      "Returning K-th session data: Exp_2025-08-01-v2/E9AD0E7DCC2B/\n",
      "========================================\n",
      "Returning K-th session data: Exp_2025-07-09-v1/E9AD0E7DCC2B/\n",
      "========================================\n",
      "0.7416666746139526\n",
      "Returning K-th session data: Exp_2025-07-09-v2/E9AD0E7DCC2B/\n",
      "========================================\n",
      "0.8833333253860474\n",
      "Returning K-th session data: Exp_2025-07-10-v1/E9AD0E7DCC2B/\n",
      "========================================\n",
      "0.9750000238418579\n",
      "Returning K-th session data: Exp_2025-07-10-v2/E9AD0E7DCC2B/\n",
      "========================================\n",
      "0.9166666865348816\n",
      "Returning K-th session data: Exp_2025-07-11-v1/E9AD0E7DCC2B/\n",
      "========================================\n",
      "0.925000011920929\n",
      "Returning K-th session data: Exp_2025-07-11-v2/E9AD0E7DCC2B/\n",
      "========================================\n",
      "0.9333333373069763\n",
      "Returning K-th session data: Exp_2025-07-16-v1/E9AD0E7DCC2B/\n",
      "========================================\n",
      "0.8666666746139526\n",
      "Returning K-th session data: Exp_2025-07-16-v2/E9AD0E7DCC2B/\n",
      "========================================\n",
      "0.9416666626930237\n",
      "Returning K-th session data: Exp_2025-07-17-v1/E9AD0E7DCC2B/\n",
      "========================================\n",
      "0.925000011920929\n",
      "Returning K-th session data: Exp_2025-07-17-v2/E9AD0E7DCC2B/\n",
      "========================================\n",
      "0.9166666865348816\n"
     ]
    }
   ],
   "execution_count": 27
  },
  {
   "metadata": {},
   "cell_type": "code",
   "outputs": [],
   "execution_count": null,
   "source": "",
   "id": "24e1bae6595328c7"
  },
  {
   "metadata": {},
   "cell_type": "markdown",
   "source": "# Xianyu",
   "id": "65dac515102e9639"
  },
  {
   "metadata": {
    "ExecuteTime": {
     "end_time": "2025-08-18T20:46:59.629072Z",
     "start_time": "2025-08-18T20:45:29.936756Z"
    }
   },
   "cell_type": "code",
   "source": [
    "model = load_model('./model_K10_X.h5')\n",
    "model.compile(optimizer=Adam(learning_rate=1e-2), loss='sparse_categorical_crossentropy', metrics=['accuracy'])\n",
    "\n",
    "trainer_sub, final_session = trainer_Harold, len(config.Info_sub_H2)\n",
    "X_TEST, y_TEST, _, _ = trainer_sub.return_K_th_data_only(K=final_session-1, train_ratio=0.99)\n",
    "X_TEST, y_TEST = down_sample(X_TEST, y_TEST)\n",
    "Acc_lst = []\n",
    "\n",
    "for k in range(10):\n",
    "    unseen_X, unseen_y, X_few_shot, y_few_shot = trainer_sub.return_K_th_data_only(K=k, train_ratio=0.8)\n",
    "    X_train, y_train = down_sample(unseen_X, unseen_y)\n",
    "    X_test, y_test = down_sample(X_few_shot, y_few_shot)\n",
    "\n",
    "    Meta = meta.MetaLearner(input_model=model, N_way=6, input_shape=X_train.shape[1:],\n",
    "        meta_iters=5,                              # Number of meta-training loops\n",
    "        meta_step_size=1                          # Reptile meta step\n",
    "    )\n",
    "\n",
    "    acc = Meta.train(X_train, y_train, X_TEST, y_TEST, meta.get_data_Meta, N_way=6, K_shot=20)\n",
    "    print(acc)\n",
    "    Acc_lst.append(acc)"
   ],
   "id": "dee7779662ba851",
   "outputs": [
    {
     "name": "stderr",
     "output_type": "stream",
     "text": [
      "WARNING:absl:Compiled the loaded model, but the compiled metrics have yet to be built. `model.compile_metrics` will be empty until you train or evaluate the model.\n"
     ]
    },
    {
     "name": "stdout",
     "output_type": "stream",
     "text": [
      "Returning K-th session data: Exp_2025-08-01-v2/E9AD0E7DCC2B/\n",
      "========================================\n",
      "Returning K-th session data: Exp_2025-07-09-v1/E9AD0E7DCC2B/\n",
      "========================================\n",
      "0.675000011920929\n",
      "Returning K-th session data: Exp_2025-07-09-v2/E9AD0E7DCC2B/\n",
      "========================================\n",
      "0.8500000238418579\n",
      "Returning K-th session data: Exp_2025-07-10-v1/E9AD0E7DCC2B/\n",
      "========================================\n",
      "0.8500000238418579\n",
      "Returning K-th session data: Exp_2025-07-10-v2/E9AD0E7DCC2B/\n",
      "========================================\n",
      "0.8916666507720947\n",
      "Returning K-th session data: Exp_2025-07-11-v1/E9AD0E7DCC2B/\n",
      "========================================\n",
      "0.9083333611488342\n",
      "Returning K-th session data: Exp_2025-07-11-v2/E9AD0E7DCC2B/\n",
      "========================================\n",
      "0.9083333611488342\n",
      "Returning K-th session data: Exp_2025-07-16-v1/E9AD0E7DCC2B/\n",
      "========================================\n",
      "0.8666666746139526\n",
      "Returning K-th session data: Exp_2025-07-16-v2/E9AD0E7DCC2B/\n",
      "========================================\n",
      "0.9416666626930237\n",
      "Returning K-th session data: Exp_2025-07-17-v1/E9AD0E7DCC2B/\n",
      "========================================\n",
      "0.875\n",
      "Returning K-th session data: Exp_2025-07-17-v2/E9AD0E7DCC2B/\n",
      "========================================\n",
      "0.9083333611488342\n"
     ]
    }
   ],
   "execution_count": 28
  },
  {
   "metadata": {
    "ExecuteTime": {
     "end_time": "2025-08-18T20:48:21.956821Z",
     "start_time": "2025-08-18T20:46:59.644582Z"
    }
   },
   "cell_type": "code",
   "source": [
    "model = load_model('./model_K10_X.h5')\n",
    "model.compile(optimizer=Adam(learning_rate=1e-2), loss='sparse_categorical_crossentropy', metrics=['accuracy'])\n",
    "\n",
    "trainer_sub, final_session = trainer_Hunmin, len(config.Info_sub_H)\n",
    "X_TEST, y_TEST, _, _ = trainer_sub.return_K_th_data_only(K=final_session-1, train_ratio=0.99)\n",
    "X_TEST, y_TEST = down_sample(X_TEST, y_TEST)\n",
    "Acc_lst = []\n",
    "\n",
    "for k in range(10):\n",
    "    unseen_X, unseen_y, X_few_shot, y_few_shot = trainer_sub.return_K_th_data_only(K=k, train_ratio=0.8)\n",
    "    X_train, y_train = down_sample(unseen_X, unseen_y)\n",
    "    X_test, y_test = down_sample(X_few_shot, y_few_shot)\n",
    "\n",
    "    Meta = meta.MetaLearner(input_model=model, N_way=6, input_shape=X_train.shape[1:],\n",
    "        meta_iters=5,                              # Number of meta-training loops\n",
    "        meta_step_size=1                          # Reptile meta step\n",
    "    )\n",
    "\n",
    "    acc = Meta.train(X_train, y_train, X_TEST, y_TEST, meta.get_data_Meta, N_way=6, K_shot=20)\n",
    "    print(acc)\n",
    "    Acc_lst.append(acc)"
   ],
   "id": "153bb66b778fe5bb",
   "outputs": [
    {
     "name": "stderr",
     "output_type": "stream",
     "text": [
      "WARNING:absl:Compiled the loaded model, but the compiled metrics have yet to be built. `model.compile_metrics` will be empty until you train or evaluate the model.\n"
     ]
    },
    {
     "name": "stdout",
     "output_type": "stream",
     "text": [
      "Returning K-th session data: Exp_2025-08-01-v3/E9AD0E7DCC2B/\n",
      "========================================\n",
      "Returning K-th session data: Exp_2025-05-27/E8331D05289A/\n",
      "========================================\n",
      "0.7166666388511658\n",
      "Returning K-th session data: Exp_2025-06-18/E9AD0E7DCC2B/\n",
      "========================================\n",
      "0.699999988079071\n",
      "Returning K-th session data: Exp_2025-06-20-v1/E9AD0E7DCC2B/\n",
      "========================================\n",
      "0.9083333611488342\n",
      "Returning K-th session data: Exp_2025-06-20-v2/E9AD0E7DCC2B/\n",
      "========================================\n",
      "0.875\n",
      "Returning K-th session data: Exp_2025-06-20-v3/E9AD0E7DCC2B/\n",
      "========================================\n",
      "0.925000011920929\n",
      "Returning K-th session data: Exp_2025-06-20-v4/E9AD0E7DCC2B/\n",
      "========================================\n",
      "0.8416666388511658\n",
      "Returning K-th session data: Exp_2025-06-20-v5/E9AD0E7DCC2B/\n",
      "========================================\n",
      "0.8416666388511658\n",
      "Returning K-th session data: Exp_2025-06-20-v6/E9AD0E7DCC2B/\n",
      "========================================\n",
      "0.7666666507720947\n",
      "Returning K-th session data: Exp_2025-06-20-v7/E9AD0E7DCC2B/\n",
      "========================================\n",
      "0.8500000238418579\n",
      "Returning K-th session data: Exp_2025-06-20-v8/E9AD0E7DCC2B/\n",
      "========================================\n",
      "0.9083333611488342\n"
     ]
    }
   ],
   "execution_count": 29
  },
  {
   "metadata": {
    "ExecuteTime": {
     "end_time": "2025-08-18T20:49:44.179920Z",
     "start_time": "2025-08-18T20:48:21.971366Z"
    }
   },
   "cell_type": "code",
   "source": [
    "model = load_model('./model_K10_X.h5')\n",
    "model.compile(optimizer=Adam(learning_rate=1e-2), loss='sparse_categorical_crossentropy', metrics=['accuracy'])\n",
    "\n",
    "trainer_sub, final_session = trainer_Carlson, len(config.Info_sub_C)\n",
    "X_TEST, y_TEST, _, _ = trainer_sub.return_K_th_data_only(K=final_session-1, train_ratio=0.99)\n",
    "X_TEST, y_TEST = down_sample(X_TEST, y_TEST)\n",
    "Acc_lst = []\n",
    "\n",
    "for k in range(10):\n",
    "    unseen_X, unseen_y, X_few_shot, y_few_shot = trainer_sub.return_K_th_data_only(K=k, train_ratio=0.8)\n",
    "    X_train, y_train = down_sample(unseen_X, unseen_y)\n",
    "    X_test, y_test = down_sample(X_few_shot, y_few_shot)\n",
    "\n",
    "    Meta = meta.MetaLearner(input_model=model, N_way=6, input_shape=X_train.shape[1:],\n",
    "        meta_iters=5,                              # Number of meta-training loops\n",
    "        meta_step_size=1                          # Reptile meta step\n",
    "    )\n",
    "\n",
    "    acc = Meta.train(X_train, y_train, X_TEST, y_TEST, meta.get_data_Meta, N_way=6, K_shot=20)\n",
    "    print(acc)\n",
    "    Acc_lst.append(acc)"
   ],
   "id": "4bdfd1dfc1cec77d",
   "outputs": [
    {
     "name": "stderr",
     "output_type": "stream",
     "text": [
      "WARNING:absl:Compiled the loaded model, but the compiled metrics have yet to be built. `model.compile_metrics` will be empty until you train or evaluate the model.\n"
     ]
    },
    {
     "name": "stdout",
     "output_type": "stream",
     "text": [
      "Returning K-th session data: Exp_2025-08-01-v2/E9AD0E7DCC2B/\n",
      "========================================\n",
      "Returning K-th session data: Exp_2025-06-30-v1/E9AD0E7DCC2B/\n",
      "========================================\n",
      "0.4749999940395355\n",
      "Returning K-th session data: Exp_2025-06-30-v2/E9AD0E7DCC2B/\n",
      "========================================\n",
      "0.5\n",
      "Returning K-th session data: Exp_2025-07-09-v1/E9AD0E7DCC2B/\n",
      "========================================\n",
      "0.5666666626930237\n",
      "Returning K-th session data: Exp_2025-07-09-v2/E9AD0E7DCC2B/\n",
      "========================================\n",
      "0.6083333492279053\n",
      "Returning K-th session data: Exp_2025-07-10-v1/E9AD0E7DCC2B/\n",
      "========================================\n",
      "0.6416666507720947\n",
      "Returning K-th session data: Exp_2025-07-10-v2/E9AD0E7DCC2B/\n",
      "========================================\n",
      "0.7083333134651184\n",
      "Returning K-th session data: Exp_2025-07-11-v1/E9AD0E7DCC2B/\n",
      "========================================\n",
      "0.6833333373069763\n",
      "Returning K-th session data: Exp_2025-07-11-v2/E9AD0E7DCC2B/\n",
      "========================================\n",
      "0.7250000238418579\n",
      "Returning K-th session data: Exp_2025-07-16-v1/E9AD0E7DCC2B/\n",
      "========================================\n",
      "0.6666666865348816\n",
      "Returning K-th session data: Exp_2025-07-16-v2/E9AD0E7DCC2B/\n",
      "========================================\n",
      "0.7916666865348816\n"
     ]
    }
   ],
   "execution_count": 30
  },
  {
   "metadata": {
    "ExecuteTime": {
     "end_time": "2025-08-18T20:51:06.137837Z",
     "start_time": "2025-08-18T20:49:44.198966Z"
    }
   },
   "cell_type": "code",
   "source": [
    "model = load_model('./model_K10_X.h5')\n",
    "model.compile(optimizer=Adam(learning_rate=1e-2), loss='sparse_categorical_crossentropy', metrics=['accuracy'])\n",
    "\n",
    "trainer_sub, final_session = trainer_Brian, len(config.Info_sub_B)\n",
    "X_TEST, y_TEST, _, _ = trainer_sub.return_K_th_data_only(K=final_session-1, train_ratio=0.99)\n",
    "X_TEST, y_TEST = down_sample(X_TEST, y_TEST)\n",
    "Acc_lst = []\n",
    "\n",
    "for k in range(10):\n",
    "    unseen_X, unseen_y, X_few_shot, y_few_shot = trainer_sub.return_K_th_data_only(K=k, train_ratio=0.8)\n",
    "    X_train, y_train = down_sample(unseen_X, unseen_y)\n",
    "    X_test, y_test = down_sample(X_few_shot, y_few_shot)\n",
    "\n",
    "    Meta = meta.MetaLearner(input_model=model, N_way=6, input_shape=X_train.shape[1:],\n",
    "        meta_iters=5,                              # Number of meta-training loops\n",
    "        meta_step_size=1                          # Reptile meta step\n",
    "    )\n",
    "\n",
    "    acc = Meta.train(X_train, y_train, X_TEST, y_TEST, meta.get_data_Meta, N_way=6, K_shot=20)\n",
    "    print(acc)\n",
    "    Acc_lst.append(acc)"
   ],
   "id": "23aa55f10c5cc452",
   "outputs": [
    {
     "name": "stderr",
     "output_type": "stream",
     "text": [
      "WARNING:absl:Compiled the loaded model, but the compiled metrics have yet to be built. `model.compile_metrics` will be empty until you train or evaluate the model.\n"
     ]
    },
    {
     "name": "stdout",
     "output_type": "stream",
     "text": [
      "Returning K-th session data: Exp_2025-08-01-v2/E9AD0E7DCC2B/\n",
      "========================================\n",
      "Returning K-th session data: Exp_2025-06-27-v1/E9AD0E7DCC2B/\n",
      "========================================\n",
      "0.6416666507720947\n",
      "Returning K-th session data: Exp_2025-06-27-v2/E9AD0E7DCC2B/\n",
      "========================================\n",
      "0.75\n",
      "Returning K-th session data: Exp_2025-07-09-v1/E9AD0E7DCC2B/\n",
      "========================================\n",
      "0.875\n",
      "Returning K-th session data: Exp_2025-07-09-v2/E9AD0E7DCC2B/\n",
      "========================================\n",
      "0.7833333611488342\n",
      "Returning K-th session data: Exp_2025-07-10-v1/E9AD0E7DCC2B/\n",
      "========================================\n",
      "0.8333333134651184\n",
      "Returning K-th session data: Exp_2025-07-10-v2/E9AD0E7DCC2B/\n",
      "========================================\n",
      "0.8416666388511658\n",
      "Returning K-th session data: Exp_2025-07-16-v1/E9AD0E7DCC2B/\n",
      "========================================\n",
      "0.8999999761581421\n",
      "Returning K-th session data: Exp_2025-07-16-v2/E9AD0E7DCC2B/\n",
      "========================================\n",
      "0.8999999761581421\n",
      "Returning K-th session data: Exp_2025-07-17-v1/E9AD0E7DCC2B/\n",
      "========================================\n",
      "0.9583333134651184\n",
      "Returning K-th session data: Exp_2025-07-17-v2/E9AD0E7DCC2B/\n",
      "========================================\n",
      "0.9416666626930237\n"
     ]
    }
   ],
   "execution_count": 31
  },
  {
   "metadata": {
    "ExecuteTime": {
     "end_time": "2025-08-18T20:52:32.781200Z",
     "start_time": "2025-08-18T20:51:06.156481Z"
    }
   },
   "cell_type": "code",
   "source": [
    "model = load_model('./model_K10_X.h5')\n",
    "model.compile(optimizer=Adam(learning_rate=1e-2), loss='sparse_categorical_crossentropy', metrics=['accuracy'])\n",
    "\n",
    "trainer_sub, final_session = trainer_Minjeong, len(config.Info_sub_M)\n",
    "X_TEST, y_TEST, _, _ = trainer_sub.return_K_th_data_only(K=final_session-1, train_ratio=0.99)\n",
    "X_TEST, y_TEST = down_sample(X_TEST, y_TEST)\n",
    "Acc_lst = []\n",
    "\n",
    "for k in range(10):\n",
    "    unseen_X, unseen_y, X_few_shot, y_few_shot = trainer_sub.return_K_th_data_only(K=k, train_ratio=0.8)\n",
    "    X_train, y_train = down_sample(unseen_X, unseen_y)\n",
    "    X_test, y_test = down_sample(X_few_shot, y_few_shot)\n",
    "\n",
    "    Meta = meta.MetaLearner(input_model=model, N_way=6, input_shape=X_train.shape[1:],\n",
    "        meta_iters=5,                              # Number of meta-training loops\n",
    "        meta_step_size=1                          # Reptile meta step\n",
    "    )\n",
    "\n",
    "    acc = Meta.train(X_train, y_train, X_TEST, y_TEST, meta.get_data_Meta, N_way=6, K_shot=20)\n",
    "    print(acc)\n",
    "    Acc_lst.append(acc)"
   ],
   "id": "163fe68ebdf70770",
   "outputs": [
    {
     "name": "stderr",
     "output_type": "stream",
     "text": [
      "WARNING:absl:Compiled the loaded model, but the compiled metrics have yet to be built. `model.compile_metrics` will be empty until you train or evaluate the model.\n"
     ]
    },
    {
     "name": "stdout",
     "output_type": "stream",
     "text": [
      "Returning K-th session data: Exp_2025-08-15-v2/E9AD0E7DCC2B/\n",
      "========================================\n",
      "Returning K-th session data: Exp_2025-08-01-v1/E9AD0E7DCC2B/\n",
      "========================================\n",
      "0.5916666388511658\n",
      "Returning K-th session data: Exp_2025-08-01-v2/E9AD0E7DCC2B/\n",
      "========================================\n",
      "0.5666666626930237\n",
      "Returning K-th session data: Exp_2025-08-02-v1/E9AD0E7DCC2B/\n",
      "========================================\n",
      "0.5916666388511658\n",
      "Returning K-th session data: Exp_2025-08-02-v2/E9AD0E7DCC2B/\n",
      "========================================\n",
      "0.6166666746139526\n",
      "Returning K-th session data: Exp_2025-08-09-v1/E9AD0E7DCC2B/\n",
      "========================================\n",
      "0.6416666507720947\n",
      "Returning K-th session data: Exp_2025-08-09-v2/E9AD0E7DCC2B/\n",
      "========================================\n",
      "0.7666666507720947\n",
      "Returning K-th session data: Exp_2025-08-10-v1/E9AD0E7DCC2B/\n",
      "========================================\n",
      "0.6166666746139526\n",
      "Returning K-th session data: Exp_2025-08-10-v2/E9AD0E7DCC2B/\n",
      "========================================\n",
      "0.6666666865348816\n",
      "Returning K-th session data: Exp_2025-08-11-v1/E9AD0E7DCC2B/\n",
      "========================================\n",
      "0.7083333134651184\n",
      "Returning K-th session data: Exp_2025-08-11-v2/E9AD0E7DCC2B/\n",
      "========================================\n",
      "0.6333333253860474\n"
     ]
    }
   ],
   "execution_count": 32
  },
  {
   "metadata": {},
   "cell_type": "code",
   "outputs": [],
   "execution_count": null,
   "source": "",
   "id": "ce7dbb54c1895244"
  },
  {
   "metadata": {},
   "cell_type": "markdown",
   "source": "# Brian",
   "id": "8897e0b3033596f4"
  },
  {
   "metadata": {
    "ExecuteTime": {
     "end_time": "2025-08-18T20:53:59.400385Z",
     "start_time": "2025-08-18T20:52:32.800460Z"
    }
   },
   "cell_type": "code",
   "source": [
    "model = load_model('./model_K10_B.h5')\n",
    "model.compile(optimizer=Adam(learning_rate=1e-2), loss='sparse_categorical_crossentropy', metrics=['accuracy'])\n",
    "\n",
    "trainer_sub, final_session = trainer_Minjeong, len(config.Info_sub_M)\n",
    "X_TEST, y_TEST, _, _ = trainer_sub.return_K_th_data_only(K=final_session-1, train_ratio=0.99)\n",
    "X_TEST, y_TEST = down_sample(X_TEST, y_TEST)\n",
    "Acc_lst = []\n",
    "\n",
    "for k in range(10):\n",
    "    unseen_X, unseen_y, X_few_shot, y_few_shot = trainer_sub.return_K_th_data_only(K=k, train_ratio=0.8)\n",
    "    X_train, y_train = down_sample(unseen_X, unseen_y)\n",
    "    X_test, y_test = down_sample(X_few_shot, y_few_shot)\n",
    "\n",
    "    Meta = meta.MetaLearner(input_model=model, N_way=6, input_shape=X_train.shape[1:],\n",
    "        meta_iters=5,                              # Number of meta-training loops\n",
    "        meta_step_size=1                          # Reptile meta step\n",
    "    )\n",
    "\n",
    "    acc = Meta.train(X_train, y_train, X_TEST, y_TEST, meta.get_data_Meta, N_way=6, K_shot=20)\n",
    "    print(acc)\n",
    "    Acc_lst.append(acc)"
   ],
   "id": "f3a0a4340dcb5b20",
   "outputs": [
    {
     "name": "stderr",
     "output_type": "stream",
     "text": [
      "WARNING:absl:Compiled the loaded model, but the compiled metrics have yet to be built. `model.compile_metrics` will be empty until you train or evaluate the model.\n"
     ]
    },
    {
     "name": "stdout",
     "output_type": "stream",
     "text": [
      "Returning K-th session data: Exp_2025-08-15-v2/E9AD0E7DCC2B/\n",
      "========================================\n",
      "Returning K-th session data: Exp_2025-08-01-v1/E9AD0E7DCC2B/\n",
      "========================================\n",
      "0.4749999940395355\n",
      "Returning K-th session data: Exp_2025-08-01-v2/E9AD0E7DCC2B/\n",
      "========================================\n",
      "0.5249999761581421\n",
      "Returning K-th session data: Exp_2025-08-02-v1/E9AD0E7DCC2B/\n",
      "========================================\n",
      "0.6000000238418579\n",
      "Returning K-th session data: Exp_2025-08-02-v2/E9AD0E7DCC2B/\n",
      "========================================\n",
      "0.6666666865348816\n",
      "Returning K-th session data: Exp_2025-08-09-v1/E9AD0E7DCC2B/\n",
      "========================================\n",
      "0.5833333134651184\n",
      "Returning K-th session data: Exp_2025-08-09-v2/E9AD0E7DCC2B/\n",
      "========================================\n",
      "0.6583333611488342\n",
      "Returning K-th session data: Exp_2025-08-10-v1/E9AD0E7DCC2B/\n",
      "========================================\n",
      "0.6583333611488342\n",
      "Returning K-th session data: Exp_2025-08-10-v2/E9AD0E7DCC2B/\n",
      "========================================\n",
      "0.6583333611488342\n",
      "Returning K-th session data: Exp_2025-08-11-v1/E9AD0E7DCC2B/\n",
      "========================================\n",
      "0.6416666507720947\n",
      "Returning K-th session data: Exp_2025-08-11-v2/E9AD0E7DCC2B/\n",
      "========================================\n",
      "0.6666666865348816\n"
     ]
    }
   ],
   "execution_count": 33
  },
  {
   "metadata": {
    "ExecuteTime": {
     "end_time": "2025-08-18T20:55:25.870644Z",
     "start_time": "2025-08-18T20:53:59.420613Z"
    }
   },
   "cell_type": "code",
   "source": [
    "model = load_model('./model_K10_B.h5')\n",
    "model.compile(optimizer=Adam(learning_rate=1e-2), loss='sparse_categorical_crossentropy', metrics=['accuracy'])\n",
    "\n",
    "trainer_sub, final_session = trainer_Hunmin, len(config.Info_sub_H)\n",
    "X_TEST, y_TEST, _, _ = trainer_sub.return_K_th_data_only(K=final_session-1, train_ratio=0.99)\n",
    "X_TEST, y_TEST = down_sample(X_TEST, y_TEST)\n",
    "Acc_lst = []\n",
    "\n",
    "for k in range(10):\n",
    "    unseen_X, unseen_y, X_few_shot, y_few_shot = trainer_sub.return_K_th_data_only(K=k, train_ratio=0.8)\n",
    "    X_train, y_train = down_sample(unseen_X, unseen_y)\n",
    "    X_test, y_test = down_sample(X_few_shot, y_few_shot)\n",
    "\n",
    "    Meta = meta.MetaLearner(input_model=model, N_way=6, input_shape=X_train.shape[1:],\n",
    "        meta_iters=5,                              # Number of meta-training loops\n",
    "        meta_step_size=1                          # Reptile meta step\n",
    "    )\n",
    "\n",
    "    acc = Meta.train(X_train, y_train, X_TEST, y_TEST, meta.get_data_Meta, N_way=6, K_shot=20)\n",
    "    print(acc)\n",
    "    Acc_lst.append(acc)"
   ],
   "id": "8d3338d6916bffbf",
   "outputs": [
    {
     "name": "stderr",
     "output_type": "stream",
     "text": [
      "WARNING:absl:Compiled the loaded model, but the compiled metrics have yet to be built. `model.compile_metrics` will be empty until you train or evaluate the model.\n"
     ]
    },
    {
     "name": "stdout",
     "output_type": "stream",
     "text": [
      "Returning K-th session data: Exp_2025-08-01-v3/E9AD0E7DCC2B/\n",
      "========================================\n",
      "Returning K-th session data: Exp_2025-05-27/E8331D05289A/\n",
      "========================================\n",
      "0.7250000238418579\n",
      "Returning K-th session data: Exp_2025-06-18/E9AD0E7DCC2B/\n",
      "========================================\n",
      "0.675000011920929\n",
      "Returning K-th session data: Exp_2025-06-20-v1/E9AD0E7DCC2B/\n",
      "========================================\n",
      "0.9416666626930237\n",
      "Returning K-th session data: Exp_2025-06-20-v2/E9AD0E7DCC2B/\n",
      "========================================\n",
      "0.875\n",
      "Returning K-th session data: Exp_2025-06-20-v3/E9AD0E7DCC2B/\n",
      "========================================\n",
      "0.9333333373069763\n",
      "Returning K-th session data: Exp_2025-06-20-v4/E9AD0E7DCC2B/\n",
      "========================================\n",
      "0.8416666388511658\n",
      "Returning K-th session data: Exp_2025-06-20-v5/E9AD0E7DCC2B/\n",
      "========================================\n",
      "0.8333333134651184\n",
      "Returning K-th session data: Exp_2025-06-20-v6/E9AD0E7DCC2B/\n",
      "========================================\n",
      "0.7166666388511658\n",
      "Returning K-th session data: Exp_2025-06-20-v7/E9AD0E7DCC2B/\n",
      "========================================\n",
      "0.800000011920929\n",
      "Returning K-th session data: Exp_2025-06-20-v8/E9AD0E7DCC2B/\n",
      "========================================\n",
      "0.949999988079071\n"
     ]
    }
   ],
   "execution_count": 34
  },
  {
   "metadata": {
    "ExecuteTime": {
     "end_time": "2025-08-18T20:56:52.714713Z",
     "start_time": "2025-08-18T20:55:25.892904Z"
    }
   },
   "cell_type": "code",
   "source": [
    "model = load_model('./model_K10_B.h5')\n",
    "model.compile(optimizer=Adam(learning_rate=1e-2), loss='sparse_categorical_crossentropy', metrics=['accuracy'])\n",
    "\n",
    "trainer_sub, final_session = trainer_Harold, len(config.Info_sub_H2)\n",
    "X_TEST, y_TEST, _, _ = trainer_sub.return_K_th_data_only(K=final_session-1, train_ratio=0.99)\n",
    "X_TEST, y_TEST = down_sample(X_TEST, y_TEST)\n",
    "Acc_lst = []\n",
    "\n",
    "for k in range(10):\n",
    "    unseen_X, unseen_y, X_few_shot, y_few_shot = trainer_sub.return_K_th_data_only(K=k, train_ratio=0.8)\n",
    "    X_train, y_train = down_sample(unseen_X, unseen_y)\n",
    "    X_test, y_test = down_sample(X_few_shot, y_few_shot)\n",
    "\n",
    "    Meta = meta.MetaLearner(input_model=model, N_way=6, input_shape=X_train.shape[1:],\n",
    "        meta_iters=5,                              # Number of meta-training loops\n",
    "        meta_step_size=1                          # Reptile meta step\n",
    "    )\n",
    "\n",
    "    acc = Meta.train(X_train, y_train, X_TEST, y_TEST, meta.get_data_Meta, N_way=6, K_shot=20)\n",
    "    print(acc)\n",
    "    Acc_lst.append(acc)"
   ],
   "id": "230bd6f5c43d9dbc",
   "outputs": [
    {
     "name": "stderr",
     "output_type": "stream",
     "text": [
      "WARNING:absl:Compiled the loaded model, but the compiled metrics have yet to be built. `model.compile_metrics` will be empty until you train or evaluate the model.\n"
     ]
    },
    {
     "name": "stdout",
     "output_type": "stream",
     "text": [
      "Returning K-th session data: Exp_2025-08-01-v2/E9AD0E7DCC2B/\n",
      "========================================\n",
      "Returning K-th session data: Exp_2025-07-09-v1/E9AD0E7DCC2B/\n",
      "========================================\n",
      "0.7916666865348816\n",
      "Returning K-th session data: Exp_2025-07-09-v2/E9AD0E7DCC2B/\n",
      "========================================\n",
      "0.9083333611488342\n",
      "Returning K-th session data: Exp_2025-07-10-v1/E9AD0E7DCC2B/\n",
      "========================================\n",
      "0.7250000238418579\n",
      "Returning K-th session data: Exp_2025-07-10-v2/E9AD0E7DCC2B/\n",
      "========================================\n",
      "0.7916666865348816\n",
      "Returning K-th session data: Exp_2025-07-11-v1/E9AD0E7DCC2B/\n",
      "========================================\n",
      "0.9166666865348816\n",
      "Returning K-th session data: Exp_2025-07-11-v2/E9AD0E7DCC2B/\n",
      "========================================\n",
      "0.9583333134651184\n",
      "Returning K-th session data: Exp_2025-07-16-v1/E9AD0E7DCC2B/\n",
      "========================================\n",
      "0.8416666388511658\n",
      "Returning K-th session data: Exp_2025-07-16-v2/E9AD0E7DCC2B/\n",
      "========================================\n",
      "0.9333333373069763\n",
      "Returning K-th session data: Exp_2025-07-17-v1/E9AD0E7DCC2B/\n",
      "========================================\n",
      "0.9083333611488342\n",
      "Returning K-th session data: Exp_2025-07-17-v2/E9AD0E7DCC2B/\n",
      "========================================\n",
      "0.9083333611488342\n"
     ]
    }
   ],
   "execution_count": 35
  },
  {
   "metadata": {
    "ExecuteTime": {
     "end_time": "2025-08-18T20:58:19.103624Z",
     "start_time": "2025-08-18T20:56:52.737911Z"
    }
   },
   "cell_type": "code",
   "source": [
    "model = load_model('./model_K10_B.h5')\n",
    "model.compile(optimizer=Adam(learning_rate=1e-2), loss='sparse_categorical_crossentropy', metrics=['accuracy'])\n",
    "\n",
    "trainer_sub, final_session = trainer_Xianyu, len(config.Info_sub_X)\n",
    "X_TEST, y_TEST, _, _ = trainer_sub.return_K_th_data_only(K=final_session-1, train_ratio=0.99)\n",
    "X_TEST, y_TEST = down_sample(X_TEST, y_TEST)\n",
    "Acc_lst = []\n",
    "\n",
    "for k in range(10):\n",
    "    unseen_X, unseen_y, X_few_shot, y_few_shot = trainer_sub.return_K_th_data_only(K=k, train_ratio=0.8)\n",
    "    X_train, y_train = down_sample(unseen_X, unseen_y)\n",
    "    X_test, y_test = down_sample(X_few_shot, y_few_shot)\n",
    "\n",
    "    Meta = meta.MetaLearner(input_model=model, N_way=6, input_shape=X_train.shape[1:],\n",
    "        meta_iters=5,                              # Number of meta-training loops\n",
    "        meta_step_size=1                          # Reptile meta step\n",
    "    )\n",
    "\n",
    "    acc = Meta.train(X_train, y_train, X_TEST, y_TEST, meta.get_data_Meta, N_way=6, K_shot=20)\n",
    "    print(acc)\n",
    "    Acc_lst.append(acc)"
   ],
   "id": "44423b458f0aace4",
   "outputs": [
    {
     "name": "stderr",
     "output_type": "stream",
     "text": [
      "WARNING:absl:Compiled the loaded model, but the compiled metrics have yet to be built. `model.compile_metrics` will be empty until you train or evaluate the model.\n"
     ]
    },
    {
     "name": "stdout",
     "output_type": "stream",
     "text": [
      "Returning K-th session data: Exp_2025-07-23-v2/E9AD0E7DCC2B/\n",
      "========================================\n",
      "Returning K-th session data: Exp_2025-06-24-v1/E9AD0E7DCC2B/\n",
      "========================================\n",
      "0.6499999761581421\n",
      "Returning K-th session data: Exp_2025-06-24-v2/E9AD0E7DCC2B/\n",
      "========================================\n",
      "0.875\n",
      "Returning K-th session data: Exp_2025-06-26-v1/E9AD0E7DCC2B/\n",
      "========================================\n",
      "0.6166666746139526\n",
      "Returning K-th session data: Exp_2025-06-26-v2/E9AD0E7DCC2B/\n",
      "========================================\n",
      "0.5333333611488342\n",
      "Returning K-th session data: Exp_2025-06-27-v1/E9AD0E7DCC2B/\n",
      "========================================\n",
      "0.6166666746139526\n",
      "Returning K-th session data: Exp_2025-06-27-v2/E9AD0E7DCC2B/\n",
      "========================================\n",
      "0.675000011920929\n",
      "Returning K-th session data: Exp_2025-06-30-v1/FEFFF6FFF5FF/\n",
      "========================================\n",
      "0.7583333253860474\n",
      "Returning K-th session data: Exp_2025-06-30-v2/FEFFF6FFF5FF/\n",
      "========================================\n",
      "0.550000011920929\n",
      "Returning K-th session data: Exp_2025-07-01-v1/E9AD0E7DCC2B/\n",
      "========================================\n",
      "0.5333333611488342\n",
      "Returning K-th session data: Exp_2025-07-01-v2/E9AD0E7DCC2B/\n",
      "========================================\n",
      "0.6666666865348816\n"
     ]
    }
   ],
   "execution_count": 36
  },
  {
   "metadata": {
    "ExecuteTime": {
     "end_time": "2025-08-18T20:59:50.144518Z",
     "start_time": "2025-08-18T20:58:19.125450Z"
    }
   },
   "cell_type": "code",
   "source": [
    "model = load_model('./model_K10_B.h5')\n",
    "model.compile(optimizer=Adam(learning_rate=1e-2), loss='sparse_categorical_crossentropy', metrics=['accuracy'])\n",
    "\n",
    "trainer_sub, final_session = trainer_Carlson, len(config.Info_sub_C)\n",
    "X_TEST, y_TEST, _, _ = trainer_sub.return_K_th_data_only(K=final_session-1, train_ratio=0.99)\n",
    "X_TEST, y_TEST = down_sample(X_TEST, y_TEST)\n",
    "Acc_lst = []\n",
    "\n",
    "for k in range(10):\n",
    "    unseen_X, unseen_y, X_few_shot, y_few_shot = trainer_sub.return_K_th_data_only(K=k, train_ratio=0.8)\n",
    "    X_train, y_train = down_sample(unseen_X, unseen_y)\n",
    "    X_test, y_test = down_sample(X_few_shot, y_few_shot)\n",
    "\n",
    "    Meta = meta.MetaLearner(input_model=model, N_way=6, input_shape=X_train.shape[1:],\n",
    "        meta_iters=5,                              # Number of meta-training loops\n",
    "        meta_step_size=1                          # Reptile meta step\n",
    "    )\n",
    "\n",
    "    acc = Meta.train(X_train, y_train, X_TEST, y_TEST, meta.get_data_Meta, N_way=6, K_shot=20)\n",
    "    print(acc)\n",
    "    Acc_lst.append(acc)"
   ],
   "id": "54af55072a081c1b",
   "outputs": [
    {
     "name": "stderr",
     "output_type": "stream",
     "text": [
      "WARNING:absl:Compiled the loaded model, but the compiled metrics have yet to be built. `model.compile_metrics` will be empty until you train or evaluate the model.\n"
     ]
    },
    {
     "name": "stdout",
     "output_type": "stream",
     "text": [
      "Returning K-th session data: Exp_2025-08-01-v2/E9AD0E7DCC2B/\n",
      "========================================\n",
      "Returning K-th session data: Exp_2025-06-30-v1/E9AD0E7DCC2B/\n",
      "========================================\n",
      "0.5083333253860474\n",
      "Returning K-th session data: Exp_2025-06-30-v2/E9AD0E7DCC2B/\n",
      "========================================\n",
      "0.5916666388511658\n",
      "Returning K-th session data: Exp_2025-07-09-v1/E9AD0E7DCC2B/\n",
      "========================================\n",
      "0.6416666507720947\n",
      "Returning K-th session data: Exp_2025-07-09-v2/E9AD0E7DCC2B/\n",
      "========================================\n",
      "0.699999988079071\n",
      "Returning K-th session data: Exp_2025-07-10-v1/E9AD0E7DCC2B/\n",
      "========================================\n",
      "0.7166666388511658\n",
      "Returning K-th session data: Exp_2025-07-10-v2/E9AD0E7DCC2B/\n",
      "========================================\n",
      "0.675000011920929\n",
      "Returning K-th session data: Exp_2025-07-11-v1/E9AD0E7DCC2B/\n",
      "========================================\n",
      "0.6666666865348816\n",
      "Returning K-th session data: Exp_2025-07-11-v2/E9AD0E7DCC2B/\n",
      "========================================\n",
      "0.7250000238418579\n",
      "Returning K-th session data: Exp_2025-07-16-v1/E9AD0E7DCC2B/\n",
      "========================================\n",
      "0.6916666626930237\n",
      "Returning K-th session data: Exp_2025-07-16-v2/E9AD0E7DCC2B/\n",
      "========================================\n",
      "0.7833333611488342\n"
     ]
    }
   ],
   "execution_count": 37
  },
  {
   "metadata": {},
   "cell_type": "code",
   "outputs": [],
   "execution_count": null,
   "source": "",
   "id": "b2f493e830b9e028"
  },
  {
   "metadata": {},
   "cell_type": "markdown",
   "source": "# Carlson",
   "id": "9cdfbcedf57cf2ec"
  },
  {
   "metadata": {
    "ExecuteTime": {
     "end_time": "2025-08-18T21:01:19.309694Z",
     "start_time": "2025-08-18T20:59:50.167261Z"
    }
   },
   "cell_type": "code",
   "source": [
    "model = load_model('./model_K10_C.h5')\n",
    "model.compile(optimizer=Adam(learning_rate=1e-2), loss='sparse_categorical_crossentropy', metrics=['accuracy'])\n",
    "\n",
    "trainer_sub, final_session = trainer_Harold, len(config.Info_sub_H2)\n",
    "X_TEST, y_TEST, _, _ = trainer_sub.return_K_th_data_only(K=final_session-1, train_ratio=0.99)\n",
    "X_TEST, y_TEST = down_sample(X_TEST, y_TEST)\n",
    "Acc_lst = []\n",
    "\n",
    "for k in range(10):\n",
    "    unseen_X, unseen_y, X_few_shot, y_few_shot = trainer_sub.return_K_th_data_only(K=k, train_ratio=0.8)\n",
    "    X_train, y_train = down_sample(unseen_X, unseen_y)\n",
    "    X_test, y_test = down_sample(X_few_shot, y_few_shot)\n",
    "\n",
    "    Meta = meta.MetaLearner(input_model=model, N_way=6, input_shape=X_train.shape[1:],\n",
    "        meta_iters=5,                              # Number of meta-training loops\n",
    "        meta_step_size=1                          # Reptile meta step\n",
    "    )\n",
    "\n",
    "    acc = Meta.train(X_train, y_train, X_TEST, y_TEST, meta.get_data_Meta, N_way=6, K_shot=20)\n",
    "    print(acc)\n",
    "    Acc_lst.append(acc)"
   ],
   "id": "87e6ffa23c9acfa7",
   "outputs": [
    {
     "name": "stderr",
     "output_type": "stream",
     "text": [
      "WARNING:absl:Compiled the loaded model, but the compiled metrics have yet to be built. `model.compile_metrics` will be empty until you train or evaluate the model.\n"
     ]
    },
    {
     "name": "stdout",
     "output_type": "stream",
     "text": [
      "Returning K-th session data: Exp_2025-08-01-v2/E9AD0E7DCC2B/\n",
      "========================================\n",
      "Returning K-th session data: Exp_2025-07-09-v1/E9AD0E7DCC2B/\n",
      "========================================\n",
      "0.574999988079071\n",
      "Returning K-th session data: Exp_2025-07-09-v2/E9AD0E7DCC2B/\n",
      "========================================\n",
      "0.6833333373069763\n",
      "Returning K-th session data: Exp_2025-07-10-v1/E9AD0E7DCC2B/\n",
      "========================================\n",
      "0.8583333492279053\n",
      "Returning K-th session data: Exp_2025-07-10-v2/E9AD0E7DCC2B/\n",
      "========================================\n",
      "0.8666666746139526\n",
      "Returning K-th session data: Exp_2025-07-11-v1/E9AD0E7DCC2B/\n",
      "========================================\n",
      "0.9083333611488342\n",
      "Returning K-th session data: Exp_2025-07-11-v2/E9AD0E7DCC2B/\n",
      "========================================\n",
      "0.9166666865348816\n",
      "Returning K-th session data: Exp_2025-07-16-v1/E9AD0E7DCC2B/\n",
      "========================================\n",
      "0.8166666626930237\n",
      "Returning K-th session data: Exp_2025-07-16-v2/E9AD0E7DCC2B/\n",
      "========================================\n",
      "0.9416666626930237\n",
      "Returning K-th session data: Exp_2025-07-17-v1/E9AD0E7DCC2B/\n",
      "========================================\n",
      "0.9333333373069763\n",
      "Returning K-th session data: Exp_2025-07-17-v2/E9AD0E7DCC2B/\n",
      "========================================\n",
      "0.925000011920929\n"
     ]
    }
   ],
   "execution_count": 38
  },
  {
   "metadata": {
    "ExecuteTime": {
     "end_time": "2025-08-18T21:02:41.209083Z",
     "start_time": "2025-08-18T21:01:19.324204Z"
    }
   },
   "cell_type": "code",
   "source": [
    "model = load_model('./model_K10_C.h5')\n",
    "model.compile(optimizer=Adam(learning_rate=1e-2), loss='sparse_categorical_crossentropy', metrics=['accuracy'])\n",
    "\n",
    "trainer_sub, final_session = trainer_Hunmin, len(config.Info_sub_H)\n",
    "X_TEST, y_TEST, _, _ = trainer_sub.return_K_th_data_only(K=final_session-1, train_ratio=0.99)\n",
    "X_TEST, y_TEST = down_sample(X_TEST, y_TEST)\n",
    "Acc_lst = []\n",
    "\n",
    "for k in range(10):\n",
    "    unseen_X, unseen_y, X_few_shot, y_few_shot = trainer_sub.return_K_th_data_only(K=k, train_ratio=0.8)\n",
    "    X_train, y_train = down_sample(unseen_X, unseen_y)\n",
    "    X_test, y_test = down_sample(X_few_shot, y_few_shot)\n",
    "\n",
    "    Meta = meta.MetaLearner(input_model=model, N_way=6, input_shape=X_train.shape[1:],\n",
    "        meta_iters=5,                              # Number of meta-training loops\n",
    "        meta_step_size=1                          # Reptile meta step\n",
    "    )\n",
    "\n",
    "    acc = Meta.train(X_train, y_train, X_TEST, y_TEST, meta.get_data_Meta, N_way=6, K_shot=20)\n",
    "    print(acc)\n",
    "    Acc_lst.append(acc)"
   ],
   "id": "b1d6dca165c78806",
   "outputs": [
    {
     "name": "stderr",
     "output_type": "stream",
     "text": [
      "WARNING:absl:Compiled the loaded model, but the compiled metrics have yet to be built. `model.compile_metrics` will be empty until you train or evaluate the model.\n"
     ]
    },
    {
     "name": "stdout",
     "output_type": "stream",
     "text": [
      "Returning K-th session data: Exp_2025-08-01-v3/E9AD0E7DCC2B/\n",
      "========================================\n",
      "Returning K-th session data: Exp_2025-05-27/E8331D05289A/\n",
      "========================================\n",
      "0.6583333611488342\n",
      "Returning K-th session data: Exp_2025-06-18/E9AD0E7DCC2B/\n",
      "========================================\n",
      "0.675000011920929\n",
      "Returning K-th session data: Exp_2025-06-20-v1/E9AD0E7DCC2B/\n",
      "========================================\n",
      "0.824999988079071\n",
      "Returning K-th session data: Exp_2025-06-20-v2/E9AD0E7DCC2B/\n",
      "========================================\n",
      "0.8166666626930237\n",
      "Returning K-th session data: Exp_2025-06-20-v3/E9AD0E7DCC2B/\n",
      "========================================\n",
      "0.8916666507720947\n",
      "Returning K-th session data: Exp_2025-06-20-v4/E9AD0E7DCC2B/\n",
      "========================================\n",
      "0.75\n",
      "Returning K-th session data: Exp_2025-06-20-v5/E9AD0E7DCC2B/\n",
      "========================================\n",
      "0.7916666865348816\n",
      "Returning K-th session data: Exp_2025-06-20-v6/E9AD0E7DCC2B/\n",
      "========================================\n",
      "0.5583333373069763\n",
      "Returning K-th session data: Exp_2025-06-20-v7/E9AD0E7DCC2B/\n",
      "========================================\n",
      "0.7333333492279053\n",
      "Returning K-th session data: Exp_2025-06-20-v8/E9AD0E7DCC2B/\n",
      "========================================\n",
      "0.8666666746139526\n"
     ]
    }
   ],
   "execution_count": 39
  },
  {
   "metadata": {
    "ExecuteTime": {
     "end_time": "2025-08-18T21:04:03.734118Z",
     "start_time": "2025-08-18T21:02:41.228983Z"
    }
   },
   "cell_type": "code",
   "source": [
    "model = load_model('./model_K10_C.h5')\n",
    "model.compile(optimizer=Adam(learning_rate=1e-2), loss='sparse_categorical_crossentropy', metrics=['accuracy'])\n",
    "\n",
    "trainer_sub, final_session = trainer_Brian, len(config.Info_sub_B)\n",
    "X_TEST, y_TEST, _, _ = trainer_sub.return_K_th_data_only(K=final_session-1, train_ratio=0.99)\n",
    "X_TEST, y_TEST = down_sample(X_TEST, y_TEST)\n",
    "Acc_lst = []\n",
    "\n",
    "for k in range(10):\n",
    "    unseen_X, unseen_y, X_few_shot, y_few_shot = trainer_sub.return_K_th_data_only(K=k, train_ratio=0.8)\n",
    "    X_train, y_train = down_sample(unseen_X, unseen_y)\n",
    "    X_test, y_test = down_sample(X_few_shot, y_few_shot)\n",
    "\n",
    "    Meta = meta.MetaLearner(input_model=model, N_way=6, input_shape=X_train.shape[1:],\n",
    "        meta_iters=5,                              # Number of meta-training loops\n",
    "        meta_step_size=1                          # Reptile meta step\n",
    "    )\n",
    "\n",
    "    acc = Meta.train(X_train, y_train, X_TEST, y_TEST, meta.get_data_Meta, N_way=6, K_shot=20)\n",
    "    print(acc)\n",
    "    Acc_lst.append(acc)"
   ],
   "id": "4abdafcfd90d4c80",
   "outputs": [
    {
     "name": "stderr",
     "output_type": "stream",
     "text": [
      "WARNING:absl:Compiled the loaded model, but the compiled metrics have yet to be built. `model.compile_metrics` will be empty until you train or evaluate the model.\n"
     ]
    },
    {
     "name": "stdout",
     "output_type": "stream",
     "text": [
      "Returning K-th session data: Exp_2025-08-01-v2/E9AD0E7DCC2B/\n",
      "========================================\n",
      "Returning K-th session data: Exp_2025-06-27-v1/E9AD0E7DCC2B/\n",
      "========================================\n",
      "0.5249999761581421\n",
      "Returning K-th session data: Exp_2025-06-27-v2/E9AD0E7DCC2B/\n",
      "========================================\n",
      "0.6499999761581421\n",
      "Returning K-th session data: Exp_2025-07-09-v1/E9AD0E7DCC2B/\n",
      "========================================\n",
      "0.800000011920929\n",
      "Returning K-th session data: Exp_2025-07-09-v2/E9AD0E7DCC2B/\n",
      "========================================\n",
      "0.7833333611488342\n",
      "Returning K-th session data: Exp_2025-07-10-v1/E9AD0E7DCC2B/\n",
      "========================================\n",
      "0.7333333492279053\n",
      "Returning K-th session data: Exp_2025-07-10-v2/E9AD0E7DCC2B/\n",
      "========================================\n",
      "0.800000011920929\n",
      "Returning K-th session data: Exp_2025-07-16-v1/E9AD0E7DCC2B/\n",
      "========================================\n",
      "0.8583333492279053\n",
      "Returning K-th session data: Exp_2025-07-16-v2/E9AD0E7DCC2B/\n",
      "========================================\n",
      "0.8916666507720947\n",
      "Returning K-th session data: Exp_2025-07-17-v1/E9AD0E7DCC2B/\n",
      "========================================\n",
      "0.9083333611488342\n",
      "Returning K-th session data: Exp_2025-07-17-v2/E9AD0E7DCC2B/\n",
      "========================================\n",
      "0.9333333373069763\n"
     ]
    }
   ],
   "execution_count": 40
  },
  {
   "metadata": {
    "ExecuteTime": {
     "end_time": "2025-08-18T21:05:28.865033Z",
     "start_time": "2025-08-18T21:04:03.750956Z"
    }
   },
   "cell_type": "code",
   "source": [
    "model = load_model('./model_K10_C.h5')\n",
    "model.compile(optimizer=Adam(learning_rate=1e-2), loss='sparse_categorical_crossentropy', metrics=['accuracy'])\n",
    "\n",
    "trainer_sub, final_session = trainer_Xianyu, len(config.Info_sub_X)\n",
    "X_TEST, y_TEST, _, _ = trainer_sub.return_K_th_data_only(K=final_session-1, train_ratio=0.99)\n",
    "X_TEST, y_TEST = down_sample(X_TEST, y_TEST)\n",
    "Acc_lst = []\n",
    "\n",
    "for k in range(10):\n",
    "    unseen_X, unseen_y, X_few_shot, y_few_shot = trainer_sub.return_K_th_data_only(K=k, train_ratio=0.8)\n",
    "    X_train, y_train = down_sample(unseen_X, unseen_y)\n",
    "    X_test, y_test = down_sample(X_few_shot, y_few_shot)\n",
    "\n",
    "    Meta = meta.MetaLearner(input_model=model, N_way=6, input_shape=X_train.shape[1:],\n",
    "        meta_iters=5,                              # Number of meta-training loops\n",
    "        meta_step_size=1                          # Reptile meta step\n",
    "    )\n",
    "\n",
    "    acc = Meta.train(X_train, y_train, X_TEST, y_TEST, meta.get_data_Meta, N_way=6, K_shot=20)\n",
    "    print(acc)\n",
    "    Acc_lst.append(acc)"
   ],
   "id": "297ab26e350f7b56",
   "outputs": [
    {
     "name": "stderr",
     "output_type": "stream",
     "text": [
      "WARNING:absl:Compiled the loaded model, but the compiled metrics have yet to be built. `model.compile_metrics` will be empty until you train or evaluate the model.\n"
     ]
    },
    {
     "name": "stdout",
     "output_type": "stream",
     "text": [
      "Returning K-th session data: Exp_2025-07-23-v2/E9AD0E7DCC2B/\n",
      "========================================\n",
      "Returning K-th session data: Exp_2025-06-24-v1/E9AD0E7DCC2B/\n",
      "========================================\n",
      "0.5333333611488342\n",
      "Returning K-th session data: Exp_2025-06-24-v2/E9AD0E7DCC2B/\n",
      "========================================\n",
      "0.6916666626930237\n",
      "Returning K-th session data: Exp_2025-06-26-v1/E9AD0E7DCC2B/\n",
      "========================================\n",
      "0.6083333492279053\n",
      "Returning K-th session data: Exp_2025-06-26-v2/E9AD0E7DCC2B/\n",
      "========================================\n",
      "0.5\n",
      "Returning K-th session data: Exp_2025-06-27-v1/E9AD0E7DCC2B/\n",
      "========================================\n",
      "0.6499999761581421\n",
      "Returning K-th session data: Exp_2025-06-27-v2/E9AD0E7DCC2B/\n",
      "========================================\n",
      "0.5666666626930237\n",
      "Returning K-th session data: Exp_2025-06-30-v1/FEFFF6FFF5FF/\n",
      "========================================\n",
      "0.625\n",
      "Returning K-th session data: Exp_2025-06-30-v2/FEFFF6FFF5FF/\n",
      "========================================\n",
      "0.5583333373069763\n",
      "Returning K-th session data: Exp_2025-07-01-v1/E9AD0E7DCC2B/\n",
      "========================================\n",
      "0.6083333492279053\n",
      "Returning K-th session data: Exp_2025-07-01-v2/E9AD0E7DCC2B/\n",
      "========================================\n",
      "0.6583333611488342\n"
     ]
    }
   ],
   "execution_count": 41
  },
  {
   "metadata": {
    "ExecuteTime": {
     "end_time": "2025-08-18T21:06:54.908377Z",
     "start_time": "2025-08-18T21:05:28.882879Z"
    }
   },
   "cell_type": "code",
   "source": [
    "model = load_model('./model_K10_C.h5')\n",
    "model.compile(optimizer=Adam(learning_rate=1e-2), loss='sparse_categorical_crossentropy', metrics=['accuracy'])\n",
    "\n",
    "trainer_sub, final_session = trainer_Minjeong, len(config.Info_sub_M)\n",
    "X_TEST, y_TEST, _, _ = trainer_sub.return_K_th_data_only(K=final_session-1, train_ratio=0.99)\n",
    "X_TEST, y_TEST = down_sample(X_TEST, y_TEST)\n",
    "Acc_lst = []\n",
    "\n",
    "for k in range(10):\n",
    "    unseen_X, unseen_y, X_few_shot, y_few_shot = trainer_sub.return_K_th_data_only(K=k, train_ratio=0.8)\n",
    "    X_train, y_train = down_sample(unseen_X, unseen_y)\n",
    "    X_test, y_test = down_sample(X_few_shot, y_few_shot)\n",
    "\n",
    "    Meta = meta.MetaLearner(input_model=model, N_way=6, input_shape=X_train.shape[1:],\n",
    "        meta_iters=5,                              # Number of meta-training loops\n",
    "        meta_step_size=1                          # Reptile meta step\n",
    "    )\n",
    "\n",
    "    acc = Meta.train(X_train, y_train, X_TEST, y_TEST, meta.get_data_Meta, N_way=6, K_shot=20)\n",
    "    print(acc)\n",
    "    Acc_lst.append(acc)"
   ],
   "id": "cfe86708b01a778d",
   "outputs": [
    {
     "name": "stderr",
     "output_type": "stream",
     "text": [
      "WARNING:absl:Compiled the loaded model, but the compiled metrics have yet to be built. `model.compile_metrics` will be empty until you train or evaluate the model.\n"
     ]
    },
    {
     "name": "stdout",
     "output_type": "stream",
     "text": [
      "Returning K-th session data: Exp_2025-08-15-v2/E9AD0E7DCC2B/\n",
      "========================================\n",
      "Returning K-th session data: Exp_2025-08-01-v1/E9AD0E7DCC2B/\n",
      "========================================\n",
      "0.5249999761581421\n",
      "Returning K-th session data: Exp_2025-08-01-v2/E9AD0E7DCC2B/\n",
      "========================================\n",
      "0.625\n",
      "Returning K-th session data: Exp_2025-08-02-v1/E9AD0E7DCC2B/\n",
      "========================================\n",
      "0.6083333492279053\n",
      "Returning K-th session data: Exp_2025-08-02-v2/E9AD0E7DCC2B/\n",
      "========================================\n",
      "0.6416666507720947\n",
      "Returning K-th session data: Exp_2025-08-09-v1/E9AD0E7DCC2B/\n",
      "========================================\n",
      "0.6833333373069763\n",
      "Returning K-th session data: Exp_2025-08-09-v2/E9AD0E7DCC2B/\n",
      "========================================\n",
      "0.6833333373069763\n",
      "Returning K-th session data: Exp_2025-08-10-v1/E9AD0E7DCC2B/\n",
      "========================================\n",
      "0.7083333134651184\n",
      "Returning K-th session data: Exp_2025-08-10-v2/E9AD0E7DCC2B/\n",
      "========================================\n",
      "0.6916666626930237\n",
      "Returning K-th session data: Exp_2025-08-11-v1/E9AD0E7DCC2B/\n",
      "========================================\n",
      "0.6833333373069763\n",
      "Returning K-th session data: Exp_2025-08-11-v2/E9AD0E7DCC2B/\n",
      "========================================\n",
      "0.6666666865348816\n"
     ]
    }
   ],
   "execution_count": 42
  },
  {
   "metadata": {},
   "cell_type": "code",
   "outputs": [],
   "execution_count": null,
   "source": "",
   "id": "ff74b32afe937b59"
  },
  {
   "metadata": {},
   "cell_type": "markdown",
   "source": "# Minjeong",
   "id": "ca1334d02f5bcfba"
  },
  {
   "metadata": {
    "ExecuteTime": {
     "end_time": "2025-08-18T21:08:21.234513Z",
     "start_time": "2025-08-18T21:06:54.922825Z"
    }
   },
   "cell_type": "code",
   "source": [
    "model = load_model('./model_K10_M.h5')\n",
    "model.compile(optimizer=Adam(learning_rate=1e-2), loss='sparse_categorical_crossentropy', metrics=['accuracy'])\n",
    "\n",
    "trainer_sub, final_session = trainer_Xianyu, len(config.Info_sub_X)\n",
    "X_TEST, y_TEST, _, _ = trainer_sub.return_K_th_data_only(K=final_session-1, train_ratio=0.99)\n",
    "X_TEST, y_TEST = down_sample(X_TEST, y_TEST)\n",
    "Acc_lst = []\n",
    "\n",
    "for k in range(10):\n",
    "    unseen_X, unseen_y, X_few_shot, y_few_shot = trainer_sub.return_K_th_data_only(K=k, train_ratio=0.8)\n",
    "    X_train, y_train = down_sample(unseen_X, unseen_y)\n",
    "    X_test, y_test = down_sample(X_few_shot, y_few_shot)\n",
    "\n",
    "    Meta = meta.MetaLearner(input_model=model, N_way=6, input_shape=X_train.shape[1:],\n",
    "        meta_iters=5,                              # Number of meta-training loops\n",
    "        meta_step_size=1                          # Reptile meta step\n",
    "    )\n",
    "\n",
    "    acc = Meta.train(X_train, y_train, X_TEST, y_TEST, meta.get_data_Meta, N_way=6, K_shot=20)\n",
    "    print(acc)\n",
    "    Acc_lst.append(acc)"
   ],
   "id": "8ab37d185f923d06",
   "outputs": [
    {
     "name": "stderr",
     "output_type": "stream",
     "text": [
      "WARNING:absl:Compiled the loaded model, but the compiled metrics have yet to be built. `model.compile_metrics` will be empty until you train or evaluate the model.\n"
     ]
    },
    {
     "name": "stdout",
     "output_type": "stream",
     "text": [
      "Returning K-th session data: Exp_2025-07-23-v2/E9AD0E7DCC2B/\n",
      "========================================\n",
      "Returning K-th session data: Exp_2025-06-24-v1/E9AD0E7DCC2B/\n",
      "========================================\n",
      "0.5666666626930237\n",
      "Returning K-th session data: Exp_2025-06-24-v2/E9AD0E7DCC2B/\n",
      "========================================\n",
      "0.7166666388511658\n",
      "Returning K-th session data: Exp_2025-06-26-v1/E9AD0E7DCC2B/\n",
      "========================================\n",
      "0.7749999761581421\n",
      "Returning K-th session data: Exp_2025-06-26-v2/E9AD0E7DCC2B/\n",
      "========================================\n",
      "0.550000011920929\n",
      "Returning K-th session data: Exp_2025-06-27-v1/E9AD0E7DCC2B/\n",
      "========================================\n",
      "0.7083333134651184\n",
      "Returning K-th session data: Exp_2025-06-27-v2/E9AD0E7DCC2B/\n",
      "========================================\n",
      "0.6916666626930237\n",
      "Returning K-th session data: Exp_2025-06-30-v1/FEFFF6FFF5FF/\n",
      "========================================\n",
      "0.625\n",
      "Returning K-th session data: Exp_2025-06-30-v2/FEFFF6FFF5FF/\n",
      "========================================\n",
      "0.6499999761581421\n",
      "Returning K-th session data: Exp_2025-07-01-v1/E9AD0E7DCC2B/\n",
      "========================================\n",
      "0.7416666746139526\n",
      "Returning K-th session data: Exp_2025-07-01-v2/E9AD0E7DCC2B/\n",
      "========================================\n",
      "0.6666666865348816\n"
     ]
    }
   ],
   "execution_count": 43
  },
  {
   "metadata": {
    "ExecuteTime": {
     "end_time": "2025-08-18T21:09:47.302080Z",
     "start_time": "2025-08-18T21:08:21.250950Z"
    }
   },
   "cell_type": "code",
   "source": [
    "model = load_model('./model_K10_M.h5')\n",
    "model.compile(optimizer=Adam(learning_rate=1e-2), loss='sparse_categorical_crossentropy', metrics=['accuracy'])\n",
    "\n",
    "trainer_sub, final_session = trainer_Hunmin, len(config.Info_sub_H)\n",
    "X_TEST, y_TEST, _, _ = trainer_sub.return_K_th_data_only(K=final_session-1, train_ratio=0.99)\n",
    "X_TEST, y_TEST = down_sample(X_TEST, y_TEST)\n",
    "Acc_lst = []\n",
    "\n",
    "for k in range(10):\n",
    "    unseen_X, unseen_y, X_few_shot, y_few_shot = trainer_sub.return_K_th_data_only(K=k, train_ratio=0.8)\n",
    "    X_train, y_train = down_sample(unseen_X, unseen_y)\n",
    "    X_test, y_test = down_sample(X_few_shot, y_few_shot)\n",
    "\n",
    "    Meta = meta.MetaLearner(input_model=model, N_way=6, input_shape=X_train.shape[1:],\n",
    "        meta_iters=5,                              # Number of meta-training loops\n",
    "        meta_step_size=1                          # Reptile meta step\n",
    "    )\n",
    "\n",
    "    acc = Meta.train(X_train, y_train, X_TEST, y_TEST, meta.get_data_Meta, N_way=6, K_shot=20)\n",
    "    print(acc)\n",
    "    Acc_lst.append(acc)"
   ],
   "id": "ee4babaf8ffad02e",
   "outputs": [
    {
     "name": "stderr",
     "output_type": "stream",
     "text": [
      "WARNING:absl:Compiled the loaded model, but the compiled metrics have yet to be built. `model.compile_metrics` will be empty until you train or evaluate the model.\n"
     ]
    },
    {
     "name": "stdout",
     "output_type": "stream",
     "text": [
      "Returning K-th session data: Exp_2025-08-01-v3/E9AD0E7DCC2B/\n",
      "========================================\n",
      "Returning K-th session data: Exp_2025-05-27/E8331D05289A/\n",
      "========================================\n",
      "0.7666666507720947\n",
      "Returning K-th session data: Exp_2025-06-18/E9AD0E7DCC2B/\n",
      "========================================\n",
      "0.6916666626930237\n",
      "Returning K-th session data: Exp_2025-06-20-v1/E9AD0E7DCC2B/\n",
      "========================================\n",
      "0.8666666746139526\n",
      "Returning K-th session data: Exp_2025-06-20-v2/E9AD0E7DCC2B/\n",
      "========================================\n",
      "0.8999999761581421\n",
      "Returning K-th session data: Exp_2025-06-20-v3/E9AD0E7DCC2B/\n",
      "========================================\n",
      "0.9166666865348816\n",
      "Returning K-th session data: Exp_2025-06-20-v4/E9AD0E7DCC2B/\n",
      "========================================\n",
      "0.7583333253860474\n",
      "Returning K-th session data: Exp_2025-06-20-v5/E9AD0E7DCC2B/\n",
      "========================================\n",
      "0.800000011920929\n",
      "Returning K-th session data: Exp_2025-06-20-v6/E9AD0E7DCC2B/\n",
      "========================================\n",
      "0.699999988079071\n",
      "Returning K-th session data: Exp_2025-06-20-v7/E9AD0E7DCC2B/\n",
      "========================================\n",
      "0.8583333492279053\n",
      "Returning K-th session data: Exp_2025-06-20-v8/E9AD0E7DCC2B/\n",
      "========================================\n",
      "0.875\n"
     ]
    }
   ],
   "execution_count": 44
  },
  {
   "metadata": {
    "ExecuteTime": {
     "end_time": "2025-08-18T21:11:14.477379Z",
     "start_time": "2025-08-18T21:09:47.319695Z"
    }
   },
   "cell_type": "code",
   "source": [
    "model = load_model('./model_K10_M.h5')\n",
    "model.compile(optimizer=Adam(learning_rate=1e-2), loss='sparse_categorical_crossentropy', metrics=['accuracy'])\n",
    "\n",
    "trainer_sub, final_session = trainer_Harold, len(config.Info_sub_H2)\n",
    "X_TEST, y_TEST, _, _ = trainer_sub.return_K_th_data_only(K=final_session-1, train_ratio=0.99)\n",
    "X_TEST, y_TEST = down_sample(X_TEST, y_TEST)\n",
    "Acc_lst = []\n",
    "\n",
    "for k in range(10):\n",
    "    unseen_X, unseen_y, X_few_shot, y_few_shot = trainer_sub.return_K_th_data_only(K=k, train_ratio=0.8)\n",
    "    X_train, y_train = down_sample(unseen_X, unseen_y)\n",
    "    X_test, y_test = down_sample(X_few_shot, y_few_shot)\n",
    "\n",
    "    Meta = meta.MetaLearner(input_model=model, N_way=6, input_shape=X_train.shape[1:],\n",
    "        meta_iters=5,                              # Number of meta-training loops\n",
    "        meta_step_size=1                          # Reptile meta step\n",
    "    )\n",
    "\n",
    "    acc = Meta.train(X_train, y_train, X_TEST, y_TEST, meta.get_data_Meta, N_way=6, K_shot=20)\n",
    "    print(acc)\n",
    "    Acc_lst.append(acc)"
   ],
   "id": "6b5b97fb0d088308",
   "outputs": [
    {
     "name": "stderr",
     "output_type": "stream",
     "text": [
      "WARNING:absl:Compiled the loaded model, but the compiled metrics have yet to be built. `model.compile_metrics` will be empty until you train or evaluate the model.\n"
     ]
    },
    {
     "name": "stdout",
     "output_type": "stream",
     "text": [
      "Returning K-th session data: Exp_2025-08-01-v2/E9AD0E7DCC2B/\n",
      "========================================\n",
      "Returning K-th session data: Exp_2025-07-09-v1/E9AD0E7DCC2B/\n",
      "========================================\n",
      "0.7333333492279053\n",
      "Returning K-th session data: Exp_2025-07-09-v2/E9AD0E7DCC2B/\n",
      "========================================\n",
      "0.7583333253860474\n",
      "Returning K-th session data: Exp_2025-07-10-v1/E9AD0E7DCC2B/\n",
      "========================================\n",
      "0.8833333253860474\n",
      "Returning K-th session data: Exp_2025-07-10-v2/E9AD0E7DCC2B/\n",
      "========================================\n",
      "0.8916666507720947\n",
      "Returning K-th session data: Exp_2025-07-11-v1/E9AD0E7DCC2B/\n",
      "========================================\n",
      "0.9083333611488342\n",
      "Returning K-th session data: Exp_2025-07-11-v2/E9AD0E7DCC2B/\n",
      "========================================\n",
      "0.9333333373069763\n",
      "Returning K-th session data: Exp_2025-07-16-v1/E9AD0E7DCC2B/\n",
      "========================================\n",
      "0.8583333492279053\n",
      "Returning K-th session data: Exp_2025-07-16-v2/E9AD0E7DCC2B/\n",
      "========================================\n",
      "0.925000011920929\n",
      "Returning K-th session data: Exp_2025-07-17-v1/E9AD0E7DCC2B/\n",
      "========================================\n",
      "0.8916666507720947\n",
      "Returning K-th session data: Exp_2025-07-17-v2/E9AD0E7DCC2B/\n",
      "========================================\n",
      "0.9166666865348816\n"
     ]
    }
   ],
   "execution_count": 45
  },
  {
   "metadata": {
    "ExecuteTime": {
     "end_time": "2025-08-18T21:12:41.874783Z",
     "start_time": "2025-08-18T21:11:14.495976Z"
    }
   },
   "cell_type": "code",
   "source": [
    "model = load_model('./model_K10_M.h5')\n",
    "model.compile(optimizer=Adam(learning_rate=1e-2), loss='sparse_categorical_crossentropy', metrics=['accuracy'])\n",
    "\n",
    "trainer_sub, final_session = trainer_Brian, len(config.Info_sub_B)\n",
    "X_TEST, y_TEST, _, _ = trainer_sub.return_K_th_data_only(K=final_session-1, train_ratio=0.99)\n",
    "X_TEST, y_TEST = down_sample(X_TEST, y_TEST)\n",
    "Acc_lst = []\n",
    "\n",
    "for k in range(10):\n",
    "    unseen_X, unseen_y, X_few_shot, y_few_shot = trainer_sub.return_K_th_data_only(K=k, train_ratio=0.8)\n",
    "    X_train, y_train = down_sample(unseen_X, unseen_y)\n",
    "    X_test, y_test = down_sample(X_few_shot, y_few_shot)\n",
    "\n",
    "    Meta = meta.MetaLearner(input_model=model, N_way=6, input_shape=X_train.shape[1:],\n",
    "        meta_iters=5,                              # Number of meta-training loops\n",
    "        meta_step_size=1                          # Reptile meta step\n",
    "    )\n",
    "\n",
    "    acc = Meta.train(X_train, y_train, X_TEST, y_TEST, meta.get_data_Meta, N_way=6, K_shot=20)\n",
    "    print(acc)\n",
    "    Acc_lst.append(acc)"
   ],
   "id": "df66d16afa2f6864",
   "outputs": [
    {
     "name": "stderr",
     "output_type": "stream",
     "text": [
      "WARNING:absl:Compiled the loaded model, but the compiled metrics have yet to be built. `model.compile_metrics` will be empty until you train or evaluate the model.\n"
     ]
    },
    {
     "name": "stdout",
     "output_type": "stream",
     "text": [
      "Returning K-th session data: Exp_2025-08-01-v2/E9AD0E7DCC2B/\n",
      "========================================\n",
      "Returning K-th session data: Exp_2025-06-27-v1/E9AD0E7DCC2B/\n",
      "========================================\n",
      "0.5916666388511658\n",
      "Returning K-th session data: Exp_2025-06-27-v2/E9AD0E7DCC2B/\n",
      "========================================\n",
      "0.5833333134651184\n",
      "Returning K-th session data: Exp_2025-07-09-v1/E9AD0E7DCC2B/\n",
      "========================================\n",
      "0.75\n",
      "Returning K-th session data: Exp_2025-07-09-v2/E9AD0E7DCC2B/\n",
      "========================================\n",
      "0.8416666388511658\n",
      "Returning K-th session data: Exp_2025-07-10-v1/E9AD0E7DCC2B/\n",
      "========================================\n",
      "0.800000011920929\n",
      "Returning K-th session data: Exp_2025-07-10-v2/E9AD0E7DCC2B/\n",
      "========================================\n",
      "0.8583333492279053\n",
      "Returning K-th session data: Exp_2025-07-16-v1/E9AD0E7DCC2B/\n",
      "========================================\n",
      "0.8666666746139526\n",
      "Returning K-th session data: Exp_2025-07-16-v2/E9AD0E7DCC2B/\n",
      "========================================\n",
      "0.8833333253860474\n",
      "Returning K-th session data: Exp_2025-07-17-v1/E9AD0E7DCC2B/\n",
      "========================================\n",
      "0.9750000238418579\n",
      "Returning K-th session data: Exp_2025-07-17-v2/E9AD0E7DCC2B/\n",
      "========================================\n",
      "0.9583333134651184\n"
     ]
    }
   ],
   "execution_count": 46
  },
  {
   "metadata": {
    "ExecuteTime": {
     "end_time": "2025-08-18T21:14:07.750350Z",
     "start_time": "2025-08-18T21:12:41.889777Z"
    }
   },
   "cell_type": "code",
   "source": [
    "model = load_model('./model_K10_M.h5')\n",
    "model.compile(optimizer=Adam(learning_rate=1e-2), loss='sparse_categorical_crossentropy', metrics=['accuracy'])\n",
    "\n",
    "trainer_sub, final_session = trainer_Carlson, len(config.Info_sub_C)\n",
    "X_TEST, y_TEST, _, _ = trainer_sub.return_K_th_data_only(K=final_session-1, train_ratio=0.99)\n",
    "X_TEST, y_TEST = down_sample(X_TEST, y_TEST)\n",
    "Acc_lst = []\n",
    "\n",
    "for k in range(10):\n",
    "    unseen_X, unseen_y, X_few_shot, y_few_shot = trainer_sub.return_K_th_data_only(K=k, train_ratio=0.8)\n",
    "    X_train, y_train = down_sample(unseen_X, unseen_y)\n",
    "    X_test, y_test = down_sample(X_few_shot, y_few_shot)\n",
    "\n",
    "    Meta = meta.MetaLearner(input_model=model, N_way=6, input_shape=X_train.shape[1:],\n",
    "        meta_iters=5,                              # Number of meta-training loops\n",
    "        meta_step_size=1                          # Reptile meta step\n",
    "    )\n",
    "\n",
    "    acc = Meta.train(X_train, y_train, X_TEST, y_TEST, meta.get_data_Meta, N_way=6, K_shot=20)\n",
    "    print(acc)\n",
    "    Acc_lst.append(acc)"
   ],
   "id": "d1db4415d13119af",
   "outputs": [
    {
     "name": "stderr",
     "output_type": "stream",
     "text": [
      "WARNING:absl:Compiled the loaded model, but the compiled metrics have yet to be built. `model.compile_metrics` will be empty until you train or evaluate the model.\n"
     ]
    },
    {
     "name": "stdout",
     "output_type": "stream",
     "text": [
      "Returning K-th session data: Exp_2025-08-01-v2/E9AD0E7DCC2B/\n",
      "========================================\n",
      "Returning K-th session data: Exp_2025-06-30-v1/E9AD0E7DCC2B/\n",
      "========================================\n",
      "0.4416666626930237\n",
      "Returning K-th session data: Exp_2025-06-30-v2/E9AD0E7DCC2B/\n",
      "========================================\n",
      "0.550000011920929\n",
      "Returning K-th session data: Exp_2025-07-09-v1/E9AD0E7DCC2B/\n",
      "========================================\n",
      "0.6333333253860474\n",
      "Returning K-th session data: Exp_2025-07-09-v2/E9AD0E7DCC2B/\n",
      "========================================\n",
      "0.6916666626930237\n",
      "Returning K-th session data: Exp_2025-07-10-v1/E9AD0E7DCC2B/\n",
      "========================================\n",
      "0.75\n",
      "Returning K-th session data: Exp_2025-07-10-v2/E9AD0E7DCC2B/\n",
      "========================================\n",
      "0.6833333373069763\n",
      "Returning K-th session data: Exp_2025-07-11-v1/E9AD0E7DCC2B/\n",
      "========================================\n",
      "0.7416666746139526\n",
      "Returning K-th session data: Exp_2025-07-11-v2/E9AD0E7DCC2B/\n",
      "========================================\n",
      "0.6833333373069763\n",
      "Returning K-th session data: Exp_2025-07-16-v1/E9AD0E7DCC2B/\n",
      "========================================\n",
      "0.7250000238418579\n",
      "Returning K-th session data: Exp_2025-07-16-v2/E9AD0E7DCC2B/\n",
      "========================================\n",
      "0.6333333253860474\n"
     ]
    }
   ],
   "execution_count": 47
  },
  {
   "metadata": {},
   "cell_type": "code",
   "outputs": [],
   "execution_count": null,
   "source": "",
   "id": "67a977eb94c2f1ff"
  }
 ],
 "metadata": {
  "kernelspec": {
   "display_name": "Python 3",
   "language": "python",
   "name": "python3"
  },
  "language_info": {
   "codemirror_mode": {
    "name": "ipython",
    "version": 2
   },
   "file_extension": ".py",
   "mimetype": "text/x-python",
   "name": "python",
   "nbconvert_exporter": "python",
   "pygments_lexer": "ipython2",
   "version": "2.7.6"
  }
 },
 "nbformat": 4,
 "nbformat_minor": 5
}
