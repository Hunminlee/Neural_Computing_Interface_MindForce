{
 "cells": [
  {
   "metadata": {
    "ExecuteTime": {
     "end_time": "2025-07-17T01:05:46.546007Z",
     "start_time": "2025-07-17T01:05:44.738910Z"
    }
   },
   "cell_type": "code",
   "source": [
    "import sys\n",
    "sys.path.append(\"../../Share\")\n",
    "sys.path.append(\"../\")\n",
    "\n",
    "import config, Processing_same_with_MATLAB, Feature_info\n",
    "import numpy as np\n",
    "import pandas as pd\n",
    "import matplotlib.pyplot as plt\n",
    "import seaborn as sns\n",
    "\n",
    "SUBJECT = \"Xianyu\"\n",
    "data_files = config.dataset_sub_X\n",
    "default_path = config.default_path_sub_X"
   ],
   "id": "64532ea4f833a9d0",
   "outputs": [],
   "execution_count": 1
  },
  {
   "metadata": {
    "ExecuteTime": {
     "end_time": "2025-07-17T01:05:46.664215Z",
     "start_time": "2025-07-17T01:05:46.656446Z"
    }
   },
   "cell_type": "code",
   "source": [
    "fs, lower_cutoff, upper_cutoff = Feature_info.fs, Feature_info.lower_cutoff, Feature_info.upper_cutoff\n",
    "filter_b, filter_a = Processing_same_with_MATLAB.cheby2(4, 30, [lower_cutoff / (fs/2), upper_cutoff / (fs/2)], btype='bandpass')\n",
    "\n",
    "import Train_and_test_one_feature_with_norm_param\n",
    "\n",
    "Trainer_feature_wise = Train_and_test_one_feature_with_norm_param.main(filter_a,\n",
    "                                                          filter_b,\n",
    "                                                          data_files = data_files,\n",
    "                                                          default_path = default_path,\n",
    "                                                          SUBJECT = SUBJECT,\n",
    "                                                          K = 10) #K : K 이전 데이터 학습, K이후 데이터 테스트\n",
    "\n",
    "Normalization_TF = True\n",
    "\n",
    "\n",
    "def get_best_param(mean_list, std_list, Normalization_TF, feature_idx, SUBJECT):\n",
    "    All_acc, All_param = [], []\n",
    "\n",
    "    for M in mean_list:\n",
    "        for S in std_list:\n",
    "            test_acc, X_train_stacked, y_train_stacked, X_test_stacked, y_test_stacked = Trainer_feature_wise.Train_and_test(\n",
    "                Normalization_TF, M, S, num_feature_set=14, target_feat_idx=feature_idx\n",
    "            )\n",
    "            All_acc.append(np.mean(test_acc))\n",
    "            All_param.append([M, S])\n",
    "\n",
    "    # Find best param\n",
    "    best_idx = np.argmax(All_acc)\n",
    "    best_param = All_param[best_idx]\n",
    "    best_acc = All_acc[best_idx]\n",
    "\n",
    "    # Create DataFrame\n",
    "    df = pd.DataFrame(All_param, columns=[\"Mean\", \"Std\"])\n",
    "    df[\"Accuracy\"] = All_acc\n",
    "\n",
    "    # Pivot for heatmap\n",
    "    heatmap_data = df.pivot(index=\"Mean\", columns=\"Std\", values=\"Accuracy\")\n",
    "\n",
    "    # Plot\n",
    "    plt.figure(figsize=(8, 6))\n",
    "    sns.heatmap(heatmap_data, annot=True, fmt=\".4f\", cmap=\"viridis\", cbar_kws={'label': 'Accuracy'})\n",
    "    plt.title(f'Grid Search Accuracy - {Feature_info.feature_names[feature_idx]}')\n",
    "    plt.xlabel(\"Std\")\n",
    "    plt.ylabel(\"Mean\")\n",
    "    plt.xticks(rotation=45)\n",
    "    plt.yticks(rotation=0)\n",
    "    plt.tight_layout()\n",
    "    plt.grid(False)\n",
    "    plt.savefig(f'./result/{SUBJECT}/GridSearchPlot_{Feature_info.feature_names[feature_idx]}.png', dpi=300)\n",
    "    plt.show()\n",
    "\n",
    "    # Save raw data\n",
    "    df.to_csv(f'./result/{SUBJECT}/Accuracy using Norm params - feature {Feature_info.feature_names[feature_idx]}.csv', index=False)\n",
    "\n",
    "    return best_param, best_acc"
   ],
   "id": "79b346ce8599312",
   "outputs": [],
   "execution_count": 2
  },
  {
   "metadata": {},
   "cell_type": "markdown",
   "source": "# WL (Index 2)",
   "id": "aced665280b644bf"
  },
  {
   "metadata": {
    "ExecuteTime": {
     "end_time": "2025-07-17T01:06:01.278476Z",
     "start_time": "2025-07-17T01:05:46.669720Z"
    }
   },
   "cell_type": "code",
   "source": [
    "feature_idx = 2  # WL / 2 (mean) / 0.8 (std)\n",
    "mean_list = [1, 1.5, 2, 2.5, 3, 3.5]\n",
    "std_list = [0.4, 0.6, 0.8, 1, 1.2]\n",
    "\n",
    "best_param, best_acc = get_best_param(mean_list, std_list, Normalization_TF, feature_idx, SUBJECT)\n",
    "print(f\"Best Accuracy: {best_acc:.4f} with mean={best_param[0]}, std={best_param[1]}\")"
   ],
   "id": "55fff3ade0776ccf",
   "outputs": [
    {
     "name": "stdout",
     "output_type": "stream",
     "text": [
      "Dataset 1/16 - Session Exp_2025-06-24-v1/E9AD0E7DCC2B/\n",
      "========================================\n",
      "Dataset 2/16 - Session Exp_2025-06-24-v2/E9AD0E7DCC2B/\n",
      "========================================\n",
      "Dataset 3/16 - Session Exp_2025-06-26-v1/E9AD0E7DCC2B/\n",
      "========================================\n",
      "Dataset 4/16 - Session Exp_2025-06-26-v2/E9AD0E7DCC2B/\n",
      "========================================\n",
      "Dataset 5/16 - Session Exp_2025-06-27-v1/E9AD0E7DCC2B/\n",
      "========================================\n",
      "Dataset 6/16 - Session Exp_2025-06-27-v2/E9AD0E7DCC2B/\n",
      "========================================\n",
      "Dataset 7/16 - Session Exp_2025-06-30-v1/FEFFF6FFF5FF/\n",
      "========================================\n",
      "Dataset 8/16 - Session Exp_2025-06-30-v2/FEFFF6FFF5FF/\n",
      "========================================\n",
      "Dataset 9/16 - Session Exp_2025-07-01-v1/E9AD0E7DCC2B/\n",
      "========================================\n",
      "Dataset 10/16 - Session Exp_2025-07-01-v2/E9AD0E7DCC2B/\n",
      "========================================\n",
      "Incorrect shape between features and Class: (7035, 4) and (8635,), Exp_2025-07-01-v2/E9AD0E7DCC2B/\n"
     ]
    },
    {
     "ename": "UnboundLocalError",
     "evalue": "cannot access local variable 'X_train_stacked' where it is not associated with a value",
     "output_type": "error",
     "traceback": [
      "\u001B[31m---------------------------------------------------------------------------\u001B[39m",
      "\u001B[31mUnboundLocalError\u001B[39m                         Traceback (most recent call last)",
      "\u001B[36mCell\u001B[39m\u001B[36m \u001B[39m\u001B[32mIn[3]\u001B[39m\u001B[32m, line 5\u001B[39m\n\u001B[32m      2\u001B[39m mean_list = [\u001B[32m1\u001B[39m, \u001B[32m1.5\u001B[39m, \u001B[32m2\u001B[39m, \u001B[32m2.5\u001B[39m, \u001B[32m3\u001B[39m, \u001B[32m3.5\u001B[39m]\n\u001B[32m      3\u001B[39m std_list = [\u001B[32m0.4\u001B[39m, \u001B[32m0.6\u001B[39m, \u001B[32m0.8\u001B[39m, \u001B[32m1\u001B[39m, \u001B[32m1.2\u001B[39m]\n\u001B[32m----> \u001B[39m\u001B[32m5\u001B[39m best_param, best_acc = \u001B[43mget_best_param\u001B[49m\u001B[43m(\u001B[49m\u001B[43mmean_list\u001B[49m\u001B[43m,\u001B[49m\u001B[43m \u001B[49m\u001B[43mstd_list\u001B[49m\u001B[43m,\u001B[49m\u001B[43m \u001B[49m\u001B[43mNormalization_TF\u001B[49m\u001B[43m,\u001B[49m\u001B[43m \u001B[49m\u001B[43mfeature_idx\u001B[49m\u001B[43m,\u001B[49m\u001B[43m \u001B[49m\u001B[43mSUBJECT\u001B[49m\u001B[43m)\u001B[49m\n\u001B[32m      6\u001B[39m \u001B[38;5;28mprint\u001B[39m(\u001B[33mf\u001B[39m\u001B[33m\"\u001B[39m\u001B[33mBest Accuracy: \u001B[39m\u001B[38;5;132;01m{\u001B[39;00mbest_acc\u001B[38;5;132;01m:\u001B[39;00m\u001B[33m.4f\u001B[39m\u001B[38;5;132;01m}\u001B[39;00m\u001B[33m with mean=\u001B[39m\u001B[38;5;132;01m{\u001B[39;00mbest_param[\u001B[32m0\u001B[39m]\u001B[38;5;132;01m}\u001B[39;00m\u001B[33m, std=\u001B[39m\u001B[38;5;132;01m{\u001B[39;00mbest_param[\u001B[32m1\u001B[39m]\u001B[38;5;132;01m}\u001B[39;00m\u001B[33m\"\u001B[39m)\n",
      "\u001B[36mCell\u001B[39m\u001B[36m \u001B[39m\u001B[32mIn[2]\u001B[39m\u001B[32m, line 21\u001B[39m, in \u001B[36mget_best_param\u001B[39m\u001B[34m(mean_list, std_list, Normalization_TF, feature_idx, SUBJECT)\u001B[39m\n\u001B[32m     19\u001B[39m \u001B[38;5;28;01mfor\u001B[39;00m M \u001B[38;5;129;01min\u001B[39;00m mean_list:\n\u001B[32m     20\u001B[39m     \u001B[38;5;28;01mfor\u001B[39;00m S \u001B[38;5;129;01min\u001B[39;00m std_list:\n\u001B[32m---> \u001B[39m\u001B[32m21\u001B[39m         test_acc, X_train_stacked, y_train_stacked, X_test_stacked, y_test_stacked = \u001B[43mTrainer_feature_wise\u001B[49m\u001B[43m.\u001B[49m\u001B[43mTrain_and_test\u001B[49m\u001B[43m(\u001B[49m\n\u001B[32m     22\u001B[39m \u001B[43m            \u001B[49m\u001B[43mNormalization_TF\u001B[49m\u001B[43m,\u001B[49m\u001B[43m \u001B[49m\u001B[43mM\u001B[49m\u001B[43m,\u001B[49m\u001B[43m \u001B[49m\u001B[43mS\u001B[49m\u001B[43m,\u001B[49m\u001B[43m \u001B[49m\u001B[43mnum_feature_set\u001B[49m\u001B[43m=\u001B[49m\u001B[32;43m14\u001B[39;49m\u001B[43m,\u001B[49m\u001B[43m \u001B[49m\u001B[43mtarget_feat_idx\u001B[49m\u001B[43m=\u001B[49m\u001B[43mfeature_idx\u001B[49m\n\u001B[32m     23\u001B[39m \u001B[43m        \u001B[49m\u001B[43m)\u001B[49m\n\u001B[32m     24\u001B[39m         All_acc.append(np.mean(test_acc))\n\u001B[32m     25\u001B[39m         All_param.append([M, S])\n",
      "\u001B[36mFile \u001B[39m\u001B[32m~\\PycharmProjects\\Tremor_project_local\\NCI_mindforce\\github\\V4 feature encoding\\Find_Norm_parms_by_features\\Train_and_test_one_feature_with_norm_param.py:89\u001B[39m, in \u001B[36mmain.Train_and_test\u001B[39m\u001B[34m(self, Normalization_TF, mean, std, num_feature_set, target_feat_idx)\u001B[39m\n\u001B[32m     86\u001B[39m         \u001B[38;5;28mprint\u001B[39m(\u001B[33mf\u001B[39m\u001B[33m\"\u001B[39m\u001B[38;5;130;01m\\t\u001B[39;00m\u001B[33m Accuracy on unseen dataset \u001B[39m\u001B[38;5;132;01m{\u001B[39;00midx+\u001B[32m1\u001B[39m\u001B[38;5;132;01m}\u001B[39;00m\u001B[33m: \u001B[39m\u001B[38;5;132;01m{\u001B[39;00macc\u001B[38;5;132;01m:\u001B[39;00m\u001B[33m.4f\u001B[39m\u001B[38;5;132;01m}\u001B[39;00m\u001B[33m%\u001B[39m\u001B[33m\"\u001B[39m)\n\u001B[32m     87\u001B[39m         unseen_test_result.append(acc)\n\u001B[32m---> \u001B[39m\u001B[32m89\u001B[39m \u001B[38;5;28;01mreturn\u001B[39;00m \u001B[43munseen_test_result\u001B[49m, X_train_stacked, y_train_stacked, X_test_stacked, y_test_stacked\n",
      "\u001B[31mUnboundLocalError\u001B[39m: cannot access local variable 'X_train_stacked' where it is not associated with a value"
     ]
    }
   ],
   "execution_count": 3
  },
  {
   "metadata": {},
   "cell_type": "markdown",
   "source": "# MAV",
   "id": "a94c0f9e4baadaf0"
  },
  {
   "metadata": {},
   "cell_type": "code",
   "source": [
    "feature_idx = 4  # MAV / 11.0 (mean) / 4.43 (std)\n",
    "\n",
    "mean_list = [8.0, 10.0, 11.0, 12.5, 14.0]\n",
    "std_list = [3.0, 3.8, 4.4, 5.2, 6.0]\n",
    "\n",
    "best_param, best_acc = get_best_param(mean_list, std_list, Normalization_TF, feature_idx, SUBJECT)\n",
    "print(f\"Best Accuracy: {best_acc:.4f} with mean={best_param[0]}, std={best_param[1]}\")"
   ],
   "id": "e7fff5446abae93a",
   "outputs": [],
   "execution_count": null
  },
  {
   "metadata": {},
   "cell_type": "markdown",
   "source": "# MS(Mean squared)",
   "id": "94ed32a72b56518e"
  },
  {
   "metadata": {},
   "cell_type": "code",
   "source": [
    "feature_idx = 5\n",
    "\n",
    "mean_list = [160, 200, 229, 260, 290]\n",
    "std_list  = [200, 260, 304, 360, 420]\n",
    "\n",
    "best_param, best_acc = get_best_param(mean_list, std_list, Normalization_TF, feature_idx, SUBJECT)\n",
    "print(f\"Best Accuracy: {best_acc:.4f} with mean={best_param[0]}, std={best_param[1]}\")"
   ],
   "id": "da067bd81cdfbd3c",
   "outputs": [],
   "execution_count": null
  },
  {
   "metadata": {},
   "cell_type": "markdown",
   "source": "# Root Mean Squared (RMS)",
   "id": "aebe2e7ee7df98c"
  },
  {
   "metadata": {},
   "cell_type": "code",
   "source": [
    "feature_idx = 6\n",
    "mean_list_RMS = [10.0, 12.0, 13.8, 15.5, 17.0]\n",
    "std_list_RMS  = [4.5, 5.5, 6.85, 8.0, 9.0]\n",
    "\n",
    "best_param, best_acc = get_best_param(mean_list, std_list, Normalization_TF, feature_idx, SUBJECT)\n",
    "print(f\"Best Accuracy: {best_acc:.4f} with mean={best_param[0]}, std={best_param[1]}\")"
   ],
   "id": "4f394c008fee79d4",
   "outputs": [],
   "execution_count": null
  },
  {
   "metadata": {},
   "cell_type": "markdown",
   "source": "# Log Detector (LD)",
   "id": "f47486740141a20d"
  },
  {
   "metadata": {},
   "cell_type": "code",
   "source": [
    "feature_idx = 8\n",
    "mean_list_LogDet = [6.5, 8.0, 9.0, 10.0, 11.0]\n",
    "std_list_LogDet  = [2.0, 2.5, 2.87, 3.3, 3.8]\n",
    "\n",
    "best_param, best_acc = get_best_param(mean_list, std_list, Normalization_TF, feature_idx, SUBJECT)\n",
    "print(f\"Best Accuracy: {best_acc:.4f} with mean={best_param[0]}, std={best_param[1]}\")"
   ],
   "id": "12146d3402069b51",
   "outputs": [],
   "execution_count": null
  },
  {
   "metadata": {},
   "cell_type": "markdown",
   "source": "# DASDV (Difference Absolute Standard Deviation Value)",
   "id": "1b9e88b951a9d1b8"
  },
  {
   "metadata": {},
   "cell_type": "code",
   "source": [
    "feature_idx = 9\n",
    "mean_list_DASDV = [2.2, 2.6, 3.0, 3.4, 3.8]\n",
    "std_list_DASDV  = [0.6, 0.75, 0.87, 1.0, 1.1]\n",
    "\n",
    "best_param, best_acc = get_best_param(mean_list, std_list, Normalization_TF, feature_idx, SUBJECT)\n",
    "print(f\"Best Accuracy: {best_acc:.4f} with mean={best_param[0]}, std={best_param[1]}\")"
   ],
   "id": "b453d6576afcf7ad",
   "outputs": [],
   "execution_count": null
  },
  {
   "metadata": {},
   "cell_type": "markdown",
   "source": "# MFL (Maximum Fractal Length)",
   "id": "a2a40640459207c6"
  },
  {
   "metadata": {},
   "cell_type": "code",
   "source": [
    "feature_idx = 10\n",
    "mean_list_MFL = [1.0, 1.3, 1.5, 1.7, 2.0]\n",
    "std_list_MFL  = [0.12, 0.17, 0.21, 0.25, 0.30]\n",
    "\n",
    "best_param, best_acc = get_best_param(mean_list, std_list, Normalization_TF, feature_idx, SUBJECT)\n",
    "print(f\"Best Accuracy: {best_acc:.4f} with mean={best_param[0]}, std={best_param[1]}\")"
   ],
   "id": "e855e007febf9de3",
   "outputs": [],
   "execution_count": null
  },
  {
   "metadata": {},
   "cell_type": "markdown",
   "source": "# WMS",
   "id": "63c4dc2f614593fb"
  },
  {
   "metadata": {},
   "cell_type": "code",
   "source": [
    "feature_idx = 13\n",
    "mean_list_WMS = [2.0, 2.4, 2.8, 3.2, 3.6]\n",
    "std_list_WMS  = [0.8, 1.0, 1.12, 1.3, 1.5]\n",
    "\n",
    "best_param, best_acc = get_best_param(mean_list, std_list, Normalization_TF, feature_idx, SUBJECT)\n",
    "print(f\"Best Accuracy: {best_acc:.4f} with mean={best_param[0]}, std={best_param[1]}\")"
   ],
   "id": "2ecd646dd43d5a56",
   "outputs": [],
   "execution_count": null
  },
  {
   "metadata": {},
   "cell_type": "code",
   "source": "",
   "id": "51a083259181f2dc",
   "outputs": [],
   "execution_count": null
  },
  {
   "metadata": {},
   "cell_type": "code",
   "source": "",
   "id": "9f02679de42667df",
   "outputs": [],
   "execution_count": null
  }
 ],
 "metadata": {
  "kernelspec": {
   "display_name": "Python 3",
   "language": "python",
   "name": "python3"
  },
  "language_info": {
   "codemirror_mode": {
    "name": "ipython",
    "version": 2
   },
   "file_extension": ".py",
   "mimetype": "text/x-python",
   "name": "python",
   "nbconvert_exporter": "python",
   "pygments_lexer": "ipython2",
   "version": "2.7.6"
  }
 },
 "nbformat": 4,
 "nbformat_minor": 5
}
