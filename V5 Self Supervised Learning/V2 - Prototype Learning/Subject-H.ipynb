{
 "cells": [
  {
   "metadata": {
    "ExecuteTime": {
     "end_time": "2025-08-14T21:32:22.777859Z",
     "start_time": "2025-08-14T21:32:19.033940Z"
    }
   },
   "cell_type": "code",
   "source": [
    "import tensorflow as tf\n",
    "import numpy as np\n",
    "import matplotlib.pyplot as plt\n",
    "import sys\n",
    "sys.path.append('../../Share/')\n",
    "import baseline, config\n",
    "\n",
    "sys.path.append('../')\n",
    "import self_supervised_v1\n",
    "\n",
    "import warnings\n",
    "warnings.filterwarnings('ignore')\n",
    "\n",
    "SUBJECT = \"Hunmin\"\n",
    "Threshold_K = 10\n",
    "trainer = baseline.ModelTrainer(config, subject=SUBJECT)\n",
    "trainer_Carlson = baseline.ModelTrainer(config, subject=\"Carlson\")\n",
    "trainer_Harold = baseline.ModelTrainer(config, subject=\"Harold\")\n",
    "#trainer_Hunmin = baseline.ModelTrainer(config, subject=\"Hunmin\")\n",
    "trainer_Brian = baseline.ModelTrainer(config, subject=\"Brian\")\n",
    "trainer_Xianyu = baseline.ModelTrainer(config, subject=\"Xianyu\")\n",
    "\n",
    "# 초기 학습 데이터\n",
    "X_init, y_init, X_init_test, y_init_test = trainer.return_until_K_data(K=Threshold_K, train_ratio=0.8)\n",
    "print(X_init.shape, y_init.shape, X_init_test.shape, y_init_test.shape)"
   ],
   "id": "4b5c675288714f9c",
   "outputs": [
    {
     "name": "stdout",
     "output_type": "stream",
     "text": [
      "Dataset 1/66 - Session Exp_2025-05-27/E8331D05289A/\n",
      "========================================\n",
      "Dataset 2/66 - Session Exp_2025-06-18/E9AD0E7DCC2B/\n",
      "========================================\n",
      "Dataset 3/66 - Session Exp_2025-06-20-v1/E9AD0E7DCC2B/\n",
      "========================================\n",
      "Dataset 4/66 - Session Exp_2025-06-20-v2/E9AD0E7DCC2B/\n",
      "========================================\n",
      "Dataset 5/66 - Session Exp_2025-06-20-v3/E9AD0E7DCC2B/\n",
      "========================================\n",
      "Dataset 6/66 - Session Exp_2025-06-20-v4/E9AD0E7DCC2B/\n",
      "========================================\n",
      "Dataset 7/66 - Session Exp_2025-06-20-v5/E9AD0E7DCC2B/\n",
      "========================================\n",
      "Dataset 8/66 - Session Exp_2025-06-20-v6/E9AD0E7DCC2B/\n",
      "========================================\n",
      "Dataset 9/66 - Session Exp_2025-06-20-v7/E9AD0E7DCC2B/\n",
      "========================================\n",
      "Dataset 10/66 - Session Exp_2025-06-20-v8/E9AD0E7DCC2B/\n",
      "========================================\n",
      "(68173, 4, 14, 1) (68173,) (17043, 4, 14, 1) (17043,)\n"
     ]
    }
   ],
   "execution_count": 1
  },
  {
   "metadata": {
    "ExecuteTime": {
     "end_time": "2025-08-14T21:32:22.819406Z",
     "start_time": "2025-08-14T21:32:22.780865Z"
    }
   },
   "cell_type": "code",
   "source": [
    "def initialize_prototypes(model, X, y, num_classes=6):\n",
    "    # 클래스별 prototype 계산\n",
    "    prototypes = {}\n",
    "    features = model.predict(X)\n",
    "    for cls in range(num_classes):\n",
    "        cls_features = features[y == cls]\n",
    "        prototypes[cls] = np.mean(cls_features, axis=0)\n",
    "    return prototypes\n",
    "\n",
    "\n",
    "from sklearn.metrics.pairwise import cosine_similarity\n",
    "\n",
    "def predict_with_prototypes(prototypes, features):\n",
    "    # 각 feature에 대해 가장 유사한 prototype 선택\n",
    "    preds = []\n",
    "    proto_vectors = np.stack([prototypes[i] for i in sorted(prototypes.keys())])  # shape: [C, D]\n",
    "    sims = cosine_similarity(features, proto_vectors)  # shape: [N, C]\n",
    "    preds = np.argmax(sims, axis=1)\n",
    "    return preds\n",
    "\n",
    "def update_prototypes(prototypes, features, pseudo_labels, alpha=0.1):\n",
    "    # pseudo_labels는 모델이 예측한 클래스\n",
    "    for i, label in enumerate(pseudo_labels):\n",
    "        prototypes[label] = (1 - alpha) * prototypes[label] + alpha * features[i]\n",
    "    return prototypes\n"
   ],
   "id": "c2286202bcf9f955",
   "outputs": [],
   "execution_count": 2
  },
  {
   "metadata": {
    "jupyter": {
     "is_executing": true
    },
    "ExecuteTime": {
     "start_time": "2025-08-14T21:32:23.325876Z"
    }
   },
   "cell_type": "code",
   "source": [
    "# Accuracy 저장 리스트\n",
    "final_session = len(config.Info_sub_H)\n",
    "X_init, y_init, X_init_test, y_init_test = trainer.return_until_K_data(K=Threshold_K, train_ratio=0.8)\n",
    "model = self_supervised_v1.build_encoder_model()  # 분류기 없이 encoder만\n",
    "\n",
    "\n",
    "# 초기 프로토타입 생성\n",
    "prototypes = initialize_prototypes(model, X_init, y_init)\n",
    "\n",
    "Proto_Fixed_Acc = []\n",
    "\n",
    "for session in range(Threshold_K, final_session-1):\n",
    "    _, _, X_test, y_test = trainer.return_K_th_data_only(K=session, train_ratio=0.8)\n",
    "\n",
    "    features = model.predict(X_test, verbose=0)\n",
    "    preds = predict_with_prototypes(prototypes, features)\n",
    "    acc = np.mean(preds == y_test)\n",
    "    Proto_Fixed_Acc.append(acc)\n"
   ],
   "id": "bb9c7ed8fdbabb56",
   "outputs": [
    {
     "name": "stdout",
     "output_type": "stream",
     "text": [
      "Dataset 1/66 - Session Exp_2025-05-27/E8331D05289A/\n",
      "========================================\n",
      "Dataset 2/66 - Session Exp_2025-06-18/E9AD0E7DCC2B/\n",
      "========================================\n",
      "Dataset 3/66 - Session Exp_2025-06-20-v1/E9AD0E7DCC2B/\n",
      "========================================\n",
      "Dataset 4/66 - Session Exp_2025-06-20-v2/E9AD0E7DCC2B/\n",
      "========================================\n",
      "Dataset 5/66 - Session Exp_2025-06-20-v3/E9AD0E7DCC2B/\n",
      "========================================\n",
      "Dataset 6/66 - Session Exp_2025-06-20-v4/E9AD0E7DCC2B/\n",
      "========================================\n",
      "Dataset 7/66 - Session Exp_2025-06-20-v5/E9AD0E7DCC2B/\n",
      "========================================\n",
      "Dataset 8/66 - Session Exp_2025-06-20-v6/E9AD0E7DCC2B/\n",
      "========================================\n",
      "Dataset 9/66 - Session Exp_2025-06-20-v7/E9AD0E7DCC2B/\n",
      "========================================\n",
      "Dataset 10/66 - Session Exp_2025-06-20-v8/E9AD0E7DCC2B/\n",
      "========================================\n",
      "\u001B[1m2131/2131\u001B[0m \u001B[32m━━━━━━━━━━━━━━━━━━━━\u001B[0m\u001B[37m\u001B[0m \u001B[1m2s\u001B[0m 1ms/step\n",
      "Returning K-th session data: Exp_2025-06-23-v1/E9AD0E7DCC2B/\n",
      "========================================\n",
      "Returning K-th session data: Exp_2025-06-23-v2/E9AD0E7DCC2B/\n",
      "========================================\n",
      "Returning K-th session data: Exp_2025-06-23-v3/E9AD0E7DCC2B/\n",
      "========================================\n",
      "Returning K-th session data: Exp_2025-06-23-v4/E9AD0E7DCC2B/\n",
      "========================================\n",
      "Returning K-th session data: Exp_2025-06-24-v1/E9AD0E7DCC2B/\n",
      "========================================\n",
      "Returning K-th session data: Exp_2025-06-24-v2/E9AD0E7DCC2B/\n",
      "========================================\n",
      "Returning K-th session data: Exp_2025-06-24-v3/E9AD0E7DCC2B/\n",
      "========================================\n",
      "Returning K-th session data: Exp_2025-06-24-v4/E9AD0E7DCC2B/\n",
      "========================================\n",
      "Returning K-th session data: Exp_2025-06-26-v1/E9AD0E7DCC2B/\n",
      "========================================\n",
      "Returning K-th session data: Exp_2025-06-26-v2/E9AD0E7DCC2B/\n",
      "========================================\n",
      "Returning K-th session data: Exp_2025-06-26-v3/E9AD0E7DCC2B/\n",
      "========================================\n",
      "Returning K-th session data: Exp_2025-06-26-v4/E9AD0E7DCC2B/\n",
      "========================================\n",
      "Returning K-th session data: Exp_2025-06-27-v1/E9AD0E7DCC2B/\n",
      "========================================\n",
      "Returning K-th session data: Exp_2025-06-27-v2/E9AD0E7DCC2B/\n",
      "========================================\n",
      "Returning K-th session data: Exp_2025-06-27-v3/E9AD0E7DCC2B/\n",
      "========================================\n",
      "Returning K-th session data: Exp_2025-06-27-v4/E9AD0E7DCC2B/\n",
      "========================================\n",
      "Returning K-th session data: Exp_2025-06-30-v1/E9AD0E7DCC2B/\n",
      "========================================\n",
      "Returning K-th session data: Exp_2025-06-30-v2/E9AD0E7DCC2B/\n",
      "========================================\n",
      "Returning K-th session data: Exp_2025-06-30-v3/E9AD0E7DCC2B/\n",
      "========================================\n",
      "Returning K-th session data: Exp_2025-06-30-v4/E9AD0E7DCC2B/\n",
      "========================================\n",
      "Returning K-th session data: Exp_2025-07-01-v1/E9AD0E7DCC2B/\n",
      "========================================\n",
      "Returning K-th session data: Exp_2025-07-01-v2/E9AD0E7DCC2B/\n",
      "========================================\n",
      "Returning K-th session data: Exp_2025-07-01-v3/E9AD0E7DCC2B/\n",
      "========================================\n",
      "Returning K-th session data: Exp_2025-07-01-v4/E9AD0E7DCC2B/\n",
      "========================================\n",
      "Returning K-th session data: Exp_2025-07-02-v1/E9AD0E7DCC2B/\n",
      "========================================\n",
      "Returning K-th session data: Exp_2025-07-07-v1/E9AD0E7DCC2B/\n",
      "========================================\n",
      "Returning K-th session data: Exp_2025-07-07-v2/E9AD0E7DCC2B/\n",
      "========================================\n",
      "Returning K-th session data: Exp_2025-07-07-v3/E9AD0E7DCC2B/\n",
      "========================================\n",
      "Returning K-th session data: Exp_2025-07-07-v4/E9AD0E7DCC2B/\n",
      "========================================\n",
      "Returning K-th session data: Exp_2025-07-09-v1/E9AD0E7DCC2B/\n",
      "========================================\n",
      "Returning K-th session data: Exp_2025-07-09-v2/E9AD0E7DCC2B/\n",
      "========================================\n",
      "Returning K-th session data: Exp_2025-07-09-v3/E9AD0E7DCC2B/\n",
      "========================================\n",
      "Returning K-th session data: Exp_2025-07-09-v4/E9AD0E7DCC2B/\n",
      "========================================\n",
      "Returning K-th session data: Exp_2025-07-10-v1/E9AD0E7DCC2B/\n",
      "========================================\n",
      "Returning K-th session data: Exp_2025-07-10-v2/E9AD0E7DCC2B/\n",
      "========================================\n"
     ]
    }
   ],
   "execution_count": null
  },
  {
   "metadata": {},
   "cell_type": "code",
   "source": [
    "plt.plot(Proto_Fixed_Acc)\n",
    "plt.show()"
   ],
   "id": "5c9ac6da1553bea7",
   "outputs": [],
   "execution_count": null
  },
  {
   "metadata": {},
   "cell_type": "code",
   "source": "",
   "id": "b3f75d19588997d5",
   "outputs": [],
   "execution_count": null
  }
 ],
 "metadata": {
  "kernelspec": {
   "display_name": "Python 3",
   "language": "python",
   "name": "python3"
  },
  "language_info": {
   "codemirror_mode": {
    "name": "ipython",
    "version": 2
   },
   "file_extension": ".py",
   "mimetype": "text/x-python",
   "name": "python",
   "nbconvert_exporter": "python",
   "pygments_lexer": "ipython2",
   "version": "2.7.6"
  }
 },
 "nbformat": 4,
 "nbformat_minor": 5
}
