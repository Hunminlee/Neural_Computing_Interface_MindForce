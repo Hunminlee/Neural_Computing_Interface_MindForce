{
 "cells": [
  {
   "metadata": {
    "jupyter": {
     "is_executing": true
    },
    "ExecuteTime": {
     "start_time": "2025-06-30T16:42:40.658591Z"
    }
   },
   "cell_type": "code",
   "source": [
    "import Test_without_Training\n",
    "import config\n",
    "\n",
    "if __name__ == \"__main__\":\n",
    "    for K in [1, 10, 14, 18]:\n",
    "        trainer = Test_without_Training.TremorModelTrainer(config, subject=\"Hunmin\")\n",
    "        trainer.run_all_sessions_training_K_data(K)\n",
    "        df = trainer.save_results(f'../Results/Baseline_results_train_with_{K}data.csv')"
   ],
   "id": "b769b68cb41b9cc9",
   "outputs": [
    {
     "name": "stdout",
     "output_type": "stream",
     "text": [
      "Dataset 1/30 - Session Exp_2025-05-27/E8331D05289A/\n",
      "========================================\n",
      "(8539, 4, 14, 1) (8539,)\n",
      "Dataset 2/30 - Session Exp_2025-06-18/E9AD0E7DCC2B/\n",
      "========================================\n",
      "Start Training (total epochs: 50)...\n"
     ]
    }
   ],
   "execution_count": null
  },
  {
   "metadata": {},
   "cell_type": "code",
   "source": "",
   "id": "51c07da8b0ce3f47",
   "outputs": [],
   "execution_count": null
  }
 ],
 "metadata": {
  "kernelspec": {
   "display_name": "Python 3",
   "language": "python",
   "name": "python3"
  },
  "language_info": {
   "codemirror_mode": {
    "name": "ipython",
    "version": 2
   },
   "file_extension": ".py",
   "mimetype": "text/x-python",
   "name": "python",
   "nbconvert_exporter": "python",
   "pygments_lexer": "ipython2",
   "version": "2.7.6"
  }
 },
 "nbformat": 4,
 "nbformat_minor": 5
}
