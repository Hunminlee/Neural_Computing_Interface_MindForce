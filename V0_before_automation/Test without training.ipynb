{
 "cells": [
  {
   "metadata": {
    "ExecuteTime": {
     "end_time": "2025-06-20T21:18:24.550899Z",
     "start_time": "2025-06-20T21:18:24.542242Z"
    }
   },
   "cell_type": "code",
   "source": [
    "import scipy.io\n",
    "import numpy as np\n",
    "import pandas as pd\n",
    "import matplotlib.pyplot as plt\n",
    "import os\n",
    "import importlib\n",
    "import warnings\n",
    "\n",
    "warnings.filterwarnings('ignore')\n",
    "from tensorflow.keras.models import load_model\n",
    "import importlib\n",
    "import Model\n",
    "importlib.reload(Model)\n",
    "\n",
    "\n",
    "def get_dataset(path, classes, show_labels):\n",
    "    for c_idx, c in enumerate(classes):\n",
    "        raw_data = os.listdir(path+c)\n",
    "        if len(raw_data) == 1:\n",
    "            mat = scipy.io.loadmat(path+c+raw_data[0])\n",
    "        else:\n",
    "            print(\"There is more than one dataset - check\")\n",
    "\n",
    "        if c_idx == 0:\n",
    "            #print(f\"Import matlab raw dataset - Matlab file Keys: {mat.keys()}\")\n",
    "            pass\n",
    "\n",
    "        if mat['Data_Cls'].shape[-1] != mat['Data_Fea'].shape[-1]:\n",
    "            print(f\"Label and dataset do not match! : {len(mat['Data_Cls'])}, {len(mat['Data_Fea'])}\")\n",
    "            break\n",
    "\n",
    "        if c_idx == 0:\n",
    "            feature_set = np.transpose(mat['Data_Fea'], (2, 0, 1))  # shape: (1729, 4, 14)\n",
    "            labels = mat['Data_Cls'].flatten()  #0 or class (either one)\n",
    "\n",
    "        elif c_idx > 0:\n",
    "            feature_set_added = np.transpose(mat['Data_Fea'], (2, 0, 1))\n",
    "            labels_addend = mat['Data_Cls'].flatten()  #0 or class (either one)\n",
    "\n",
    "            feature_set = np.concatenate([feature_set, feature_set_added], axis=0)\n",
    "            labels = np.concatenate([labels, labels_addend], axis=0)\n",
    "        else:\n",
    "            print(\"Error in c_idx\")\n",
    "            break\n",
    "\n",
    "    if show_labels:\n",
    "        plt.figure(figsize=(8,3))\n",
    "        plt.plot(labels)\n",
    "        plt.ylabel('Class label', fontsize=13)\n",
    "        plt.xlabel('Samples', fontsize=13)\n",
    "        plt.grid(True, which='both', linestyle='--')\n",
    "        plt.show()\n",
    "\n",
    "    return feature_set, labels\n",
    "\n",
    "\n",
    "def split_data(X, Y, ratio):\n",
    "    #Splits (N, C, F) data and 1D labels into training and validation sets.\n",
    "\n",
    "    num_samples = X.shape[0]\n",
    "    indices = np.random.permutation(num_samples)\n",
    "\n",
    "    training_size = int(round(num_samples * ratio))\n",
    "    training_indices = indices[:training_size]\n",
    "    validation_indices = indices[training_size:]\n",
    "\n",
    "    training_data = X[training_indices]\n",
    "    training_labels = Y[training_indices]\n",
    "    validation_data = X[validation_indices]\n",
    "    validation_labels = Y[validation_indices]\n",
    "\n",
    "    training_data = np.expand_dims(training_data, axis=-1)  # Adds a new channel dimension at the end\n",
    "    validation_data = np.expand_dims(validation_data, axis=-1)\n",
    "\n",
    "    return training_data, training_labels, validation_data, validation_labels\n",
    "\n",
    "\n",
    "def train_model(path, classes, train_ratio):\n",
    "    feature_set, labels = get_dataset(path, classes, show_labels=False)\n",
    "    X_train, y_train, X_test, y_test = split_data(feature_set, labels, ratio=train_ratio)\n",
    "    CNN_decoder = Model.Original_model_V1(X_train.shape[1:])\n",
    "\n",
    "    history, CNN_decoder = Model.Train_model(CNN_decoder, X_train, y_train, X_test, y_test,\n",
    "                      set_epoch=50, set_batch_size=256, version='V0', set_verbose=False, save_model_set=True)\n",
    "    acc = CNN_decoder.evaluate(X_test, y_test, verbose=0)[1]\n",
    "    print(f\"Accuracy of test dataset using model V0 (trained with only 5/27 data): {acc*100:.4f}%\")\n",
    "\n",
    "    return CNN_decoder\n",
    "\n",
    "def testing_new_session(path, classes, train_ratio):\n",
    "    feature_set, labels = get_dataset(path, classes, show_labels=False)\n",
    "    _, _, X_test, y_test = split_data(feature_set, labels, ratio=train_ratio)\n",
    "    acc = CNN_decoder.evaluate(X_test, y_test, verbose=0)[1]\n",
    "    print(f\"Accuracy of unseen dataset using model V0 (trained with only 5/27 data): {acc*100:.4f}%\")\n",
    "\n",
    "    return float(np.round(acc*100, 2))"
   ],
   "id": "c7b88b5250fd6dca",
   "outputs": [],
   "execution_count": 16
  },
  {
   "metadata": {
    "ExecuteTime": {
     "end_time": "2025-06-20T21:13:48.642104Z",
     "start_time": "2025-06-20T21:13:48.638715Z"
    }
   },
   "cell_type": "code",
   "source": [
    "default_path = \"C:/Users/hml76/OneDrive/문서/MATLAB/data/\"\n",
    "classes = ['1/','2/','3/','4/','5/']\n",
    "train_ratio=0\n",
    "\n",
    "Info = ['Stand (5/27)', 'Stand (6/18)', 'Stand (6/20)', 'Sit_chair (6/20)', 'Sit_chair_leg_crossed (6/20)', 'Sit_floor (6/20)',\n",
    "        'Stand (6/20-v2)', 'Sit_chair (6/20-v2)', 'Sit_chair_leg_crossed (6/20-v2)', 'Sit_floor (6/20-v2)']"
   ],
   "id": "42117b64b464dc82",
   "outputs": [],
   "execution_count": 2
  },
  {
   "metadata": {
    "ExecuteTime": {
     "end_time": "2025-06-20T21:12:30.619797Z",
     "start_time": "2025-06-20T21:12:21.600304Z"
    }
   },
   "cell_type": "code",
   "source": [
    "'''session_info = \"Exp_2025-05-27\"\n",
    "path = default_path + f'{session_info}/E8331D05289A/raw/'\n",
    "CNN_decoder = train_model(path, classes, 0.8)'''"
   ],
   "id": "bee537398321fd13",
   "outputs": [
    {
     "name": "stdout",
     "output_type": "stream",
     "text": [
      "Start Training (total epochs: 50)...\n",
      "Finish Training! (Model is saved)\n",
      "Maximum training accuracy : 86.9%\n",
      "Maximum validation accuracy : 92.75%\n",
      "Accuracy of seen dataset using model V0 (trained with only 5/27 data): 92.7536%\n"
     ]
    }
   ],
   "execution_count": 4
  },
  {
   "metadata": {
    "ExecuteTime": {
     "end_time": "2025-06-20T21:13:50.125513Z",
     "start_time": "2025-06-20T21:13:49.989271Z"
    }
   },
   "cell_type": "code",
   "source": [
    "version = 'V0'\n",
    "CNN_decoder = load_model(f'best_model_{version}.keras')"
   ],
   "id": "97a53a0a12d9c1b6",
   "outputs": [],
   "execution_count": 3
  },
  {
   "metadata": {
    "ExecuteTime": {
     "end_time": "2025-06-20T21:18:29.677983Z",
     "start_time": "2025-06-20T21:18:26.642497Z"
    }
   },
   "cell_type": "code",
   "source": [
    "info_set = ['Exp_2025-06-18', 'Exp_2025-06-20-v1', 'Exp_2025-06-20-v2', 'Exp_2025-06-20-v3', 'Exp_2025-06-20-v4', 'Exp_2025-06-20-v5', 'Exp_2025-06-20-v6', 'Exp_2025-06-20-v7', 'Exp_2025-06-20-v8']\n",
    "LST = []\n",
    "\n",
    "for session_info in info_set:\n",
    "    path = default_path + f'{session_info}/E9AD0E7DCC2B/raw/'\n",
    "    acc = testing_new_session(path, classes, train_ratio)\n",
    "    LST.append(acc)"
   ],
   "id": "9eecc724d94c6c82",
   "outputs": [
    {
     "name": "stdout",
     "output_type": "stream",
     "text": [
      "Accuracy of unseen dataset using model V0 (trained with only 5/27 data): 84.2594%\n",
      "Accuracy of unseen dataset using model V0 (trained with only 5/27 data): 79.2734%\n",
      "Accuracy of unseen dataset using model V0 (trained with only 5/27 data): 86.0444%\n",
      "Accuracy of unseen dataset using model V0 (trained with only 5/27 data): 84.0380%\n",
      "Accuracy of unseen dataset using model V0 (trained with only 5/27 data): 68.3814%\n",
      "Accuracy of unseen dataset using model V0 (trained with only 5/27 data): 74.5169%\n",
      "Accuracy of unseen dataset using model V0 (trained with only 5/27 data): 80.3243%\n",
      "Accuracy of unseen dataset using model V0 (trained with only 5/27 data): 76.4644%\n",
      "Accuracy of unseen dataset using model V0 (trained with only 5/27 data): 74.6695%\n"
     ]
    }
   ],
   "execution_count": 17
  },
  {
   "metadata": {
    "ExecuteTime": {
     "end_time": "2025-06-20T21:18:29.686383Z",
     "start_time": "2025-06-20T21:18:29.683368Z"
    }
   },
   "cell_type": "code",
   "source": "LST",
   "id": "7d8d7aa6958db361",
   "outputs": [
    {
     "data": {
      "text/plain": [
       "[84.26, 79.27, 86.04, 84.04, 68.38, 74.52, 80.32, 76.46, 74.67]"
      ]
     },
     "execution_count": 18,
     "metadata": {},
     "output_type": "execute_result"
    }
   ],
   "execution_count": 18
  },
  {
   "metadata": {},
   "cell_type": "code",
   "outputs": [],
   "execution_count": null,
   "source": "",
   "id": "e82dd975a771cdac"
  }
 ],
 "metadata": {
  "kernelspec": {
   "display_name": "Python 3",
   "language": "python",
   "name": "python3"
  },
  "language_info": {
   "codemirror_mode": {
    "name": "ipython",
    "version": 2
   },
   "file_extension": ".py",
   "mimetype": "text/x-python",
   "name": "python",
   "nbconvert_exporter": "python",
   "pygments_lexer": "ipython2",
   "version": "2.7.6"
  }
 },
 "nbformat": 4,
 "nbformat_minor": 5
}
