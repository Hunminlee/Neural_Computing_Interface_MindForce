{
 "cells": [
  {
   "metadata": {
    "ExecuteTime": {
     "end_time": "2025-07-15T19:48:29.937366Z",
     "start_time": "2025-07-15T19:48:27.653598Z"
    }
   },
   "cell_type": "code",
   "source": [
    "import sys\n",
    "sys.path.append(\"../../Share\")\n",
    "sys.path.append(\"../\")\n",
    "\n",
    "import config, Processing_same_with_MATLAB, Feature_info\n",
    "import numpy as np\n",
    "import pandas as pd\n",
    "\n",
    "# Feature_info.feature_names\n",
    "fs = round(10e6 / 2048)  # 4883 Hz\n",
    "lower_cutoff, upper_cutoff = 100, 600\n",
    "\n",
    "filter_b, filter_a = Processing_same_with_MATLAB.cheby2(4, 30, [lower_cutoff / (fs/2), upper_cutoff / (fs/2)], btype='bandpass')\n",
    "\n",
    "import Train_and_test_one_feature_with_norm_param\n",
    "\n",
    "Trainer_feature_wise = Train_and_test_one_feature_with_norm_param.main(filter_a,\n",
    "                                                          filter_b,\n",
    "                                                          data_files = config.dataset_sub_C,\n",
    "                                                          default_path = config.default_path_sub_C,\n",
    "                                                          SUBJECT = \"Carlson\",\n",
    "                                                          K = 1) #K : K 이전 데이터 학습, K이후 데이터 테스트"
   ],
   "id": "79b346ce8599312",
   "outputs": [],
   "execution_count": 2
  },
  {
   "metadata": {},
   "cell_type": "code",
   "source": [
    "Normalization_TF = True\n",
    "feature_idx = 2  # WL\n",
    "\n",
    "mean_list = [1, 1.5, 2, 2.5, 3, 3.5]\n",
    "std_list = [0.4, 0.6, 0.8, 1, 1.2]\n",
    "All_acc, All_param = [], []\n",
    "\n",
    "for M in mean_list:\n",
    "    for S in std_list:\n",
    "        test_acc, X_train_stacked, y_train_stacked, X_test_stacked, y_test_stacked = Trainer_feature_wise.Train_and_test(\n",
    "            Normalization_TF, M, S, num_feature_set=14, target_feat_idx=feature_idx\n",
    "        )\n",
    "        All_acc.append(np.mean(test_acc))\n",
    "        All_param.append([M, S])\n",
    "\n",
    "# Find best param\n",
    "best_idx = np.argmax(All_acc)\n",
    "best_param = All_param[best_idx]\n",
    "best_acc = All_acc[best_idx]"
   ],
   "id": "55fff3ade0776ccf",
   "outputs": [],
   "execution_count": null
  },
  {
   "metadata": {},
   "cell_type": "code",
   "source": [
    "print(f\"Best Accuracy: {best_acc:.4f} with mean={best_param[0]}, std={best_param[1]}\")\n",
    "\n",
    "df = pd.DataFrame(All_param, columns=[\"Mean\", \"Std\"])\n",
    "df[\"Accuracy\"] = All_acc\n",
    "print(df.pivot(index=\"Mean\", columns=\"Std\", values=\"Accuracy\"))\n",
    "df.to_csv(f'Accuracy using Norm params - feature {Feature_info.feature_names[feature_idx]}')"
   ],
   "id": "b057d5b7cd045d0",
   "outputs": [],
   "execution_count": null
  },
  {
   "metadata": {},
   "cell_type": "code",
   "source": "",
   "id": "544bea6953250f8f",
   "outputs": [],
   "execution_count": null
  },
  {
   "metadata": {},
   "cell_type": "code",
   "source": "",
   "id": "b27e4e6c51f1faf6",
   "outputs": [],
   "execution_count": null
  },
  {
   "metadata": {},
   "cell_type": "code",
   "source": "",
   "id": "e7fff5446abae93a",
   "outputs": [],
   "execution_count": null
  },
  {
   "metadata": {},
   "cell_type": "code",
   "source": "",
   "id": "da067bd81cdfbd3c",
   "outputs": [],
   "execution_count": null
  },
  {
   "metadata": {},
   "cell_type": "code",
   "source": "",
   "id": "4f394c008fee79d4",
   "outputs": [],
   "execution_count": null
  },
  {
   "metadata": {},
   "cell_type": "code",
   "source": "",
   "id": "12146d3402069b51",
   "outputs": [],
   "execution_count": null
  },
  {
   "metadata": {},
   "cell_type": "code",
   "source": "",
   "id": "b453d6576afcf7ad",
   "outputs": [],
   "execution_count": null
  },
  {
   "metadata": {},
   "cell_type": "code",
   "source": "",
   "id": "e855e007febf9de3",
   "outputs": [],
   "execution_count": null
  },
  {
   "metadata": {},
   "cell_type": "code",
   "source": "",
   "id": "2ecd646dd43d5a56",
   "outputs": [],
   "execution_count": null
  },
  {
   "metadata": {},
   "cell_type": "code",
   "source": "",
   "id": "51a083259181f2dc",
   "outputs": [],
   "execution_count": null
  },
  {
   "metadata": {},
   "cell_type": "code",
   "source": "",
   "id": "2477b045e1e43c49",
   "outputs": [],
   "execution_count": null
  },
  {
   "metadata": {},
   "cell_type": "code",
   "source": "",
   "id": "199d3223804151be",
   "outputs": [],
   "execution_count": null
  },
  {
   "metadata": {},
   "cell_type": "code",
   "source": "",
   "id": "bb40247da06ef485",
   "outputs": [],
   "execution_count": null
  }
 ],
 "metadata": {
  "kernelspec": {
   "display_name": "Python 3",
   "language": "python",
   "name": "python3"
  },
  "language_info": {
   "codemirror_mode": {
    "name": "ipython",
    "version": 2
   },
   "file_extension": ".py",
   "mimetype": "text/x-python",
   "name": "python",
   "nbconvert_exporter": "python",
   "pygments_lexer": "ipython2",
   "version": "2.7.6"
  }
 },
 "nbformat": 4,
 "nbformat_minor": 5
}
