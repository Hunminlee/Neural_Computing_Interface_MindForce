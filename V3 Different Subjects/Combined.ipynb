{
 "cells": [
  {
   "metadata": {
    "ExecuteTime": {
     "end_time": "2025-07-01T22:13:38.845431Z",
     "start_time": "2025-07-01T22:13:38.838807Z"
    }
   },
   "cell_type": "code",
   "source": [
    "import config\n",
    "import numpy as np\n",
    "import Test_without_Training\n",
    "\n",
    "def get_data(K1, K2, subj1, subj2):\n",
    "    trainer1 = Test_without_Training.TremorModelTrainer(config, subject=subj1)\n",
    "    X1_train, y1_train, X1_test, y1_test = trainer1.return_K_data(K=K1)\n",
    "\n",
    "    trainer2 = Test_without_Training.TremorModelTrainer(config, subject=subj2)\n",
    "    X2_train, y2_train, X2_test, y2_test = trainer2.return_K_data(K=K2)\n",
    "\n",
    "    # Combine and shuffle training data from both subjects\n",
    "    X_train = np.concatenate([X1_train, X2_train], axis=0)\n",
    "    y_train = np.concatenate([y1_train, y2_train], axis=0)\n",
    "    idx = np.random.permutation(len(X_train))\n",
    "    X_train, y_train = X_train[idx], y_train[idx]\n",
    "\n",
    "    return {\n",
    "        \"trainer\": trainer2,  # just pick one to call train_multiple_dataset\n",
    "        \"X1_train\": X1_train, \"y1_train\": y1_train,\n",
    "        \"X2_train\": X2_train, \"y2_train\": y2_train,\n",
    "        \"X_train\": X_train,   \"y_train\": y_train,\n",
    "        \"X1_test\": X1_test,   \"y1_test\": y1_test,\n",
    "        \"X2_test\": X2_test,   \"y2_test\": y2_test\n",
    "    }\n",
    "\n",
    "def get_results(K1, K2, subj1, subj2):\n",
    "    data = get_data(K1, K2, subj1, subj2)\n",
    "    trainer = data[\"trainer\"]\n",
    "\n",
    "    # Train with mixed, only subj2, and only subj1\n",
    "    acc1, model_mix = trainer.train_multiple_dataset(data[\"X_train\"], data[\"y_train\"], data[\"X1_test\"], data[\"y1_test\"])\n",
    "    acc2, model_s2  = trainer.train_multiple_dataset(data[\"X2_train\"], data[\"y2_train\"], data[\"X1_test\"], data[\"y1_test\"])\n",
    "    acc3, model_s1  = trainer.train_multiple_dataset(data[\"X1_train\"], data[\"y1_train\"], data[\"X1_test\"], data[\"y1_test\"])\n",
    "\n",
    "    # Evaluate all models on subj2\n",
    "    _, acc_mix_s2 = model_mix.evaluate(data[\"X2_test\"], data[\"y2_test\"], verbose=0)\n",
    "    _, acc_s2_s2  = model_s2.evaluate(data[\"X2_test\"], data[\"y2_test\"], verbose=0)\n",
    "    _, acc_s1_s2  = model_s1.evaluate(data[\"X2_test\"], data[\"y2_test\"], verbose=0)\n",
    "\n",
    "    return [acc1, acc2, acc3], [acc_mix_s2, acc_s2_s2, acc_s1_s2], data\n",
    "\n",
    "def print_results(acc_H, acc_X):\n",
    "    print(f\"Trained with Subjects 1 and 2 / Tested on 1 (Inter-session):     {acc_H[0]:.2f}%\")\n",
    "    print(f\"Trained with Subject 1        / Tested on 1 (Inter-session):     {acc_H[2]:.2f}%\")\n",
    "    print(f\"Trained with Subject 2        / Tested on 1 (Inter-subject):     {acc_H[1]:.2f}%\\n\")\n",
    "\n",
    "    print(f\"Trained with Subjects 1 and 2 / Tested on 2 (Inter-session):     {acc_X[0]*100:.2f}%\")\n",
    "    print(f\"Trained with Subject 2        / Tested on 2 (Inter-session):     {acc_X[1]*100:.2f}%\")\n",
    "    print(f\"Trained with Subject 1        / Tested on 2 (Inter-subject):     {acc_X[2]*100:.2f}%\")"
   ],
   "id": "7a649363155ff095",
   "outputs": [],
   "execution_count": 4
  },
  {
   "metadata": {
    "ExecuteTime": {
     "end_time": "2025-07-01T22:16:37.021148Z",
     "start_time": "2025-07-01T22:13:39.755942Z"
    }
   },
   "cell_type": "code",
   "source": [
    "acc_H_base, acc_X_base, data_base = get_results(K1=1, K2=1, subj1=\"Hunmin\", subj2=\"Xianyu\")\n",
    "acc_H, acc_X, data = get_results(K1=28, K2=6, subj1=\"Hunmin\", subj2=\"Xianyu\")"
   ],
   "id": "c51458a5d27c3e20",
   "outputs": [
    {
     "name": "stdout",
     "output_type": "stream",
     "text": [
      "Dataset 1/34 - Session Exp_2025-05-27/E8331D05289A/\n",
      "========================================\n",
      "Dataset 2/34 - Session Exp_2025-06-18/E9AD0E7DCC2B/\n",
      "========================================\n",
      "Dataset 3/34 - Session Exp_2025-06-20-v1/E9AD0E7DCC2B/\n",
      "========================================\n",
      "Dataset 4/34 - Session Exp_2025-06-20-v2/E9AD0E7DCC2B/\n",
      "========================================\n",
      "Dataset 5/34 - Session Exp_2025-06-20-v3/E9AD0E7DCC2B/\n",
      "========================================\n",
      "Dataset 6/34 - Session Exp_2025-06-20-v4/E9AD0E7DCC2B/\n",
      "========================================\n",
      "Dataset 7/34 - Session Exp_2025-06-20-v5/E9AD0E7DCC2B/\n",
      "========================================\n",
      "Dataset 8/34 - Session Exp_2025-06-20-v6/E9AD0E7DCC2B/\n",
      "========================================\n",
      "Dataset 9/34 - Session Exp_2025-06-20-v7/E9AD0E7DCC2B/\n",
      "========================================\n",
      "Dataset 10/34 - Session Exp_2025-06-20-v8/E9AD0E7DCC2B/\n",
      "========================================\n",
      "Dataset 11/34 - Session Exp_2025-06-23-v1/E9AD0E7DCC2B/\n",
      "========================================\n",
      "Dataset 12/34 - Session Exp_2025-06-23-v2/E9AD0E7DCC2B/\n",
      "========================================\n",
      "Dataset 13/34 - Session Exp_2025-06-23-v3/E9AD0E7DCC2B/\n",
      "========================================\n",
      "Dataset 14/34 - Session Exp_2025-06-23-v4/E9AD0E7DCC2B/\n",
      "========================================\n",
      "Dataset 15/34 - Session Exp_2025-06-24-v1/E9AD0E7DCC2B/\n",
      "========================================\n",
      "Dataset 16/34 - Session Exp_2025-06-24-v2/E9AD0E7DCC2B/\n",
      "========================================\n",
      "Dataset 17/34 - Session Exp_2025-06-24-v3/E9AD0E7DCC2B/\n",
      "========================================\n",
      "Dataset 18/34 - Session Exp_2025-06-24-v4/E9AD0E7DCC2B/\n",
      "========================================\n",
      "Dataset 19/34 - Session Exp_2025-06-26-v1/E9AD0E7DCC2B/\n",
      "========================================\n",
      "Dataset 20/34 - Session Exp_2025-06-26-v2/E9AD0E7DCC2B/\n",
      "========================================\n",
      "Dataset 21/34 - Session Exp_2025-06-26-v3/E9AD0E7DCC2B/\n",
      "========================================\n",
      "Dataset 22/34 - Session Exp_2025-06-26-v4/E9AD0E7DCC2B/\n",
      "========================================\n",
      "Dataset 23/34 - Session Exp_2025-06-27-v1/E9AD0E7DCC2B/\n",
      "========================================\n",
      "Dataset 24/34 - Session Exp_2025-06-27-v2/E9AD0E7DCC2B/\n",
      "========================================\n",
      "Dataset 25/34 - Session Exp_2025-06-27-v3/E9AD0E7DCC2B/\n",
      "========================================\n",
      "Dataset 26/34 - Session Exp_2025-06-27-v4/E9AD0E7DCC2B/\n",
      "========================================\n",
      "Dataset 27/34 - Session Exp_2025-06-30-v1/E9AD0E7DCC2B/\n",
      "========================================\n",
      "Dataset 28/34 - Session Exp_2025-06-30-v2/E9AD0E7DCC2B/\n",
      "========================================\n",
      "Dataset 29/34 - Session Exp_2025-06-30-v3/E9AD0E7DCC2B/\n",
      "========================================\n",
      "Dataset 30/34 - Session Exp_2025-06-30-v4/E9AD0E7DCC2B/\n",
      "========================================\n",
      "Dataset 31/34 - Session Exp_2025-07-01-v1/E9AD0E7DCC2B/\n",
      "========================================\n",
      "Dataset 32/34 - Session Exp_2025-07-01-v2/E9AD0E7DCC2B/\n",
      "========================================\n",
      "Dataset 33/34 - Session Exp_2025-07-01-v3/E9AD0E7DCC2B/\n",
      "========================================\n",
      "Dataset 34/34 - Session Exp_2025-07-01-v4/E9AD0E7DCC2B/\n",
      "========================================\n",
      "(8539, 4, 14, 1) (8539,)\n",
      "Dataset 1/10 - Session Exp_2025-06-24-v1/E9AD0E7DCC2B/\n",
      "========================================\n",
      "Dataset 2/10 - Session Exp_2025-06-24-v2/E9AD0E7DCC2B/\n",
      "========================================\n",
      "Dataset 3/10 - Session Exp_2025-06-26-v1/E9AD0E7DCC2B/\n",
      "========================================\n",
      "Dataset 4/10 - Session Exp_2025-06-26-v2/E9AD0E7DCC2B/\n",
      "========================================\n",
      "Dataset 5/10 - Session Exp_2025-06-27-v1/E9AD0E7DCC2B/\n",
      "========================================\n",
      "There is more than one dataset - check\n",
      "Dataset 6/10 - Session Exp_2025-06-27-v2/E9AD0E7DCC2B/\n",
      "========================================\n",
      "Dataset 7/10 - Session Exp_2025-06-30-v1/FEFFF6FFF5FF/\n",
      "========================================\n",
      "Dataset 8/10 - Session Exp_2025-06-30-v2/FEFFF6FFF5FF/\n",
      "========================================\n",
      "Dataset 9/10 - Session Exp_2025-07-01-v1/E9AD0E7DCC2B/\n",
      "========================================\n",
      "Dataset 10/10 - Session Exp_2025-07-01-v2/E9AD0E7DCC2B/\n",
      "========================================\n",
      "(8521, 4, 14, 1) (8521,)\n",
      "Start Training (total epochs: 50)...\n",
      "Finish Training! (Model is saved)\n",
      "Maximum training accuracy : 87.74%\n",
      "Maximum validation accuracy : 74.15%\n",
      "Accuracy of test dataset using model V0: 68.7434%\n",
      "Start Training (total epochs: 50)...\n",
      "Finish Training! (Model is saved)\n",
      "Maximum training accuracy : 85.61%\n",
      "Maximum validation accuracy : 68.79%\n",
      "Accuracy of test dataset using model V0: 66.9765%\n",
      "Start Training (total epochs: 50)...\n",
      "Finish Training! (Model is saved)\n",
      "Maximum training accuracy : 88.89%\n",
      "Maximum validation accuracy : 81.44%\n",
      "Accuracy of test dataset using model V0: 81.3256%\n",
      "Dataset 1/34 - Session Exp_2025-05-27/E8331D05289A/\n",
      "========================================\n",
      "Dataset 2/34 - Session Exp_2025-06-18/E9AD0E7DCC2B/\n",
      "========================================\n",
      "Dataset 3/34 - Session Exp_2025-06-20-v1/E9AD0E7DCC2B/\n",
      "========================================\n",
      "Dataset 4/34 - Session Exp_2025-06-20-v2/E9AD0E7DCC2B/\n",
      "========================================\n",
      "Dataset 5/34 - Session Exp_2025-06-20-v3/E9AD0E7DCC2B/\n",
      "========================================\n",
      "Dataset 6/34 - Session Exp_2025-06-20-v4/E9AD0E7DCC2B/\n",
      "========================================\n",
      "Dataset 7/34 - Session Exp_2025-06-20-v5/E9AD0E7DCC2B/\n",
      "========================================\n",
      "Dataset 8/34 - Session Exp_2025-06-20-v6/E9AD0E7DCC2B/\n",
      "========================================\n",
      "Dataset 9/34 - Session Exp_2025-06-20-v7/E9AD0E7DCC2B/\n",
      "========================================\n",
      "Dataset 10/34 - Session Exp_2025-06-20-v8/E9AD0E7DCC2B/\n",
      "========================================\n",
      "Dataset 11/34 - Session Exp_2025-06-23-v1/E9AD0E7DCC2B/\n",
      "========================================\n",
      "Dataset 12/34 - Session Exp_2025-06-23-v2/E9AD0E7DCC2B/\n",
      "========================================\n",
      "Dataset 13/34 - Session Exp_2025-06-23-v3/E9AD0E7DCC2B/\n",
      "========================================\n",
      "Dataset 14/34 - Session Exp_2025-06-23-v4/E9AD0E7DCC2B/\n",
      "========================================\n",
      "Dataset 15/34 - Session Exp_2025-06-24-v1/E9AD0E7DCC2B/\n",
      "========================================\n",
      "Dataset 16/34 - Session Exp_2025-06-24-v2/E9AD0E7DCC2B/\n",
      "========================================\n",
      "Dataset 17/34 - Session Exp_2025-06-24-v3/E9AD0E7DCC2B/\n",
      "========================================\n",
      "Dataset 18/34 - Session Exp_2025-06-24-v4/E9AD0E7DCC2B/\n",
      "========================================\n",
      "Dataset 19/34 - Session Exp_2025-06-26-v1/E9AD0E7DCC2B/\n",
      "========================================\n",
      "Dataset 20/34 - Session Exp_2025-06-26-v2/E9AD0E7DCC2B/\n",
      "========================================\n",
      "Dataset 21/34 - Session Exp_2025-06-26-v3/E9AD0E7DCC2B/\n",
      "========================================\n",
      "Dataset 22/34 - Session Exp_2025-06-26-v4/E9AD0E7DCC2B/\n",
      "========================================\n",
      "Dataset 23/34 - Session Exp_2025-06-27-v1/E9AD0E7DCC2B/\n",
      "========================================\n",
      "Dataset 24/34 - Session Exp_2025-06-27-v2/E9AD0E7DCC2B/\n",
      "========================================\n",
      "Dataset 25/34 - Session Exp_2025-06-27-v3/E9AD0E7DCC2B/\n",
      "========================================\n",
      "Dataset 26/34 - Session Exp_2025-06-27-v4/E9AD0E7DCC2B/\n",
      "========================================\n",
      "Dataset 27/34 - Session Exp_2025-06-30-v1/E9AD0E7DCC2B/\n",
      "========================================\n",
      "Dataset 28/34 - Session Exp_2025-06-30-v2/E9AD0E7DCC2B/\n",
      "========================================\n",
      "Dataset 29/34 - Session Exp_2025-06-30-v3/E9AD0E7DCC2B/\n",
      "========================================\n",
      "Dataset 30/34 - Session Exp_2025-06-30-v4/E9AD0E7DCC2B/\n",
      "========================================\n",
      "Dataset 31/34 - Session Exp_2025-07-01-v1/E9AD0E7DCC2B/\n",
      "========================================\n",
      "Dataset 32/34 - Session Exp_2025-07-01-v2/E9AD0E7DCC2B/\n",
      "========================================\n",
      "Dataset 33/34 - Session Exp_2025-07-01-v3/E9AD0E7DCC2B/\n",
      "========================================\n",
      "Dataset 34/34 - Session Exp_2025-07-01-v4/E9AD0E7DCC2B/\n",
      "========================================\n",
      "(236606, 4, 14, 1) (236606,)\n",
      "Dataset 1/10 - Session Exp_2025-06-24-v1/E9AD0E7DCC2B/\n",
      "========================================\n",
      "Dataset 2/10 - Session Exp_2025-06-24-v2/E9AD0E7DCC2B/\n",
      "========================================\n",
      "Dataset 3/10 - Session Exp_2025-06-26-v1/E9AD0E7DCC2B/\n",
      "========================================\n",
      "Dataset 4/10 - Session Exp_2025-06-26-v2/E9AD0E7DCC2B/\n",
      "========================================\n",
      "Dataset 5/10 - Session Exp_2025-06-27-v1/E9AD0E7DCC2B/\n",
      "========================================\n",
      "There is more than one dataset - check\n",
      "Dataset 6/10 - Session Exp_2025-06-27-v2/E9AD0E7DCC2B/\n",
      "========================================\n",
      "Dataset 7/10 - Session Exp_2025-06-30-v1/FEFFF6FFF5FF/\n",
      "========================================\n",
      "Dataset 8/10 - Session Exp_2025-06-30-v2/FEFFF6FFF5FF/\n",
      "========================================\n",
      "Dataset 9/10 - Session Exp_2025-07-01-v1/E9AD0E7DCC2B/\n",
      "========================================\n",
      "Dataset 10/10 - Session Exp_2025-07-01-v2/E9AD0E7DCC2B/\n",
      "========================================\n",
      "(50419, 4, 14, 1) (50419,)\n",
      "Start Training (total epochs: 50)...\n",
      "Finish Training! (Model is saved)\n",
      "Maximum training accuracy : 87.35%\n",
      "Maximum validation accuracy : 91.18%\n",
      "Accuracy of test dataset using model V0: 91.1759%\n",
      "Start Training (total epochs: 50)...\n",
      "Finish Training! (Model is saved)\n",
      "Maximum training accuracy : 77.18%\n",
      "Maximum validation accuracy : 76.95%\n",
      "Accuracy of test dataset using model V0: 75.7196%\n",
      "Start Training (total epochs: 50)...\n",
      "Finish Training! (Model is saved)\n",
      "Maximum training accuracy : 90.64%\n",
      "Maximum validation accuracy : 91.74%\n",
      "Accuracy of test dataset using model V0: 91.0184%\n"
     ]
    }
   ],
   "execution_count": 5
  },
  {
   "metadata": {
    "ExecuteTime": {
     "end_time": "2025-07-01T22:16:37.039840Z",
     "start_time": "2025-07-01T22:16:37.037015Z"
    }
   },
   "cell_type": "code",
   "source": [
    "print_results(acc_H_base, acc_X_base)\n",
    "print(\"\\n\")\n",
    "print_results(acc_H, acc_X)"
   ],
   "id": "42142e938b074533",
   "outputs": [
    {
     "name": "stdout",
     "output_type": "stream",
     "text": [
      "Trained with Subjects 1 and 2 / Tested on 1 (Inter-session):     74.15%\n",
      "Trained with Subject 1        / Tested on 1 (Inter-session):     81.44%\n",
      "Trained with Subject 2        / Tested on 1 (Inter-subject):     68.79%\n",
      "\n",
      "Trained with Subjects 1 and 2 / Tested on 2 (Inter-session):     70.98%\n",
      "Trained with Subject 2        / Tested on 2 (Inter-session):     71.70%\n",
      "Trained with Subject 1        / Tested on 2 (Inter-subject):     60.79%\n",
      "\n",
      "\n",
      "Trained with Subjects 1 and 2 / Tested on 1 (Inter-session):     91.18%\n",
      "Trained with Subject 1        / Tested on 1 (Inter-session):     91.74%\n",
      "Trained with Subject 2        / Tested on 1 (Inter-subject):     76.95%\n",
      "\n",
      "Trained with Subjects 1 and 2 / Tested on 2 (Inter-session):     66.93%\n",
      "Trained with Subject 2        / Tested on 2 (Inter-session):     71.46%\n",
      "Trained with Subject 1        / Tested on 2 (Inter-subject):     51.28%\n"
     ]
    }
   ],
   "execution_count": 6
  },
  {
   "metadata": {},
   "cell_type": "code",
   "outputs": [],
   "execution_count": null,
   "source": [
    "Trained with Subjects H and X / Tested on H (Inter-session):     76.00%\n",
    "Trained with Subject H        / Tested on H (Inter-session):     78.24%\n",
    "Trained with Subject X        / Tested on H (Inter-subject):     68.12%\n",
    "\n",
    "Trained with Subjects H and X / Tested on X (Inter-session):     71.18%\n",
    "Trained with Subject X        / Tested on X (Inter-session):     69.94%\n",
    "Trained with Subject H        / Tested on X (Inter-subject):     58.46%\n",
    "\n",
    "\n",
    "Trained with Subjects H and X / Tested on H (Inter-session):     90.20%\n",
    "Trained with Subject H        / Tested on H (Inter-session):     91.02%\n",
    "Trained with Subject X        / Tested on H (Inter-subject):     77.17%\n",
    "\n",
    "Trained with Subjects H and X / Tested on X (Inter-session):     67.11%\n",
    "Trained with Subject X        / Tested on X (Inter-session):     70.16%\n",
    "Trained with Subject H        / Tested on X (Inter-subject):     51.17%"
   ],
   "id": "f2cb78f1d2e8d443"
  },
  {
   "metadata": {},
   "cell_type": "code",
   "outputs": [],
   "execution_count": null,
   "source": "",
   "id": "e3028fc704120f47"
  },
  {
   "metadata": {
    "ExecuteTime": {
     "end_time": "2025-07-01T22:16:46.368836Z",
     "start_time": "2025-07-01T22:16:37.062807Z"
    }
   },
   "cell_type": "code",
   "source": [
    "from collections import Counter\n",
    "import matplotlib.pyplot as plt\n",
    "import seaborn as sns\n",
    "\n",
    "def analyze_class_distribution(y, title):\n",
    "    counter = Counter(y)\n",
    "    total = sum(counter.values())\n",
    "    classes = sorted(counter.keys())\n",
    "    counts = [counter[c] for c in classes]\n",
    "    portions = [c / total for c in counts]\n",
    "\n",
    "    print(f\"\\nClass distribution for {title}:\")\n",
    "    for cls, count, portion in zip(classes, counts, portions):\n",
    "        print(f\"  Class {cls}: {count} samples ({portion:.2%})\")\n",
    "\n",
    "    # Optional: Bar plot\n",
    "    plt.figure(figsize=(6, 3))\n",
    "    sns.barplot(x=classes, y=counts, palette=\"Blues_d\")\n",
    "    plt.title(f\"Class Counts - {title}\")\n",
    "    plt.xlabel(\"Class Label\")\n",
    "    plt.ylabel(\"Count\")\n",
    "    plt.show()\n",
    "\n",
    "subj1, subj2 = \"Hunmin\", \"Xianyu\"\n",
    "analyze_class_distribution(data[\"y1_train\"], f\"Train - {subj1}\")\n",
    "analyze_class_distribution(data[\"y2_train\"], f\"Train - {subj2}\")\n",
    "analyze_class_distribution(data[\"y1_test\"], f\"Test - {subj1}\")\n",
    "analyze_class_distribution(data[\"y2_test\"], f\"Test - {subj2}\")"
   ],
   "id": "f8fcc2c5a394e354",
   "outputs": [
    {
     "name": "stdout",
     "output_type": "stream",
     "text": [
      "\n",
      "Class distribution for Train - Hunmin:\n",
      "  Class 0: 147002 samples (62.13%)\n",
      "  Class 1: 19507 samples (8.24%)\n",
      "  Class 2: 17574 samples (7.43%)\n",
      "  Class 3: 18137 samples (7.67%)\n",
      "  Class 4: 16948 samples (7.16%)\n",
      "  Class 5: 17438 samples (7.37%)\n"
     ]
    },
    {
     "data": {
      "text/plain": [
       "<Figure size 600x300 with 1 Axes>"
      ],
      "image/png": "[encoded data removed]"
     },
     "metadata": {},
     "output_type": "display_data"
    },
    {
     "name": "stdout",
     "output_type": "stream",
     "text": [
      "\n",
      "Class distribution for Train - Xianyu:\n",
      "  Class 0: 35079 samples (69.57%)\n",
      "  Class 1: 1991 samples (3.95%)\n",
      "  Class 2: 3171 samples (6.29%)\n",
      "  Class 3: 3279 samples (6.50%)\n",
      "  Class 4: 3660 samples (7.26%)\n",
      "  Class 5: 3239 samples (6.42%)\n"
     ]
    },
    {
     "data": {
      "text/plain": [
       "<Figure size 600x300 with 1 Axes>"
      ],
      "image/png": "[encoded data removed]"
     },
     "metadata": {},
     "output_type": "display_data"
    },
    {
     "name": "stdout",
     "output_type": "stream",
     "text": [
      "\n",
      "Class distribution for Test - Hunmin:\n",
      "  Class 0: 38242 samples (74.38%)\n",
      "  Class 1: 2822 samples (5.49%)\n",
      "  Class 2: 2576 samples (5.01%)\n",
      "  Class 3: 2377 samples (4.62%)\n",
      "  Class 4: 2809 samples (5.46%)\n",
      "  Class 5: 2590 samples (5.04%)\n"
     ]
    },
    {
     "data": {
      "text/plain": [
       "<Figure size 600x300 with 1 Axes>"
      ],
      "image/png": "[encoded data removed]"
     },
     "metadata": {},
     "output_type": "display_data"
    },
    {
     "name": "stdout",
     "output_type": "stream",
     "text": [
      "\n",
      "Class distribution for Test - Xianyu:\n",
      "  Class 0: 23857 samples (69.43%)\n",
      "  Class 1: 2464 samples (7.17%)\n",
      "  Class 2: 3139 samples (9.14%)\n",
      "  Class 3: 1215 samples (3.54%)\n",
      "  Class 4: 1754 samples (5.10%)\n",
      "  Class 5: 1933 samples (5.63%)\n"
     ]
    },
    {
     "data": {
      "text/plain": [
       "<Figure size 600x300 with 1 Axes>"
      ],
      "image/png": "[encoded data removed]"
     },
     "metadata": {},
     "output_type": "display_data"
    }
   ],
   "execution_count": 7
  },
  {
   "metadata": {},
   "cell_type": "code",
   "outputs": [],
   "execution_count": null,
   "source": "",
   "id": "cb87e10df0cdf691"
  },
  {
   "metadata": {},
   "cell_type": "code",
   "source": [
    "# Which gesture has better accuracy?\n",
    "\n",
    "# Improve the model itself not the learning method"
   ],
   "id": "96546b2bd83e1528",
   "outputs": [],
   "execution_count": null
  }
 ],
 "metadata": {
  "kernelspec": {
   "display_name": "Python 3",
   "language": "python",
   "name": "python3"
  },
  "language_info": {
   "codemirror_mode": {
    "name": "ipython",
    "version": 2
   },
   "file_extension": ".py",
   "mimetype": "text/x-python",
   "name": "python",
   "nbconvert_exporter": "python",
   "pygments_lexer": "ipython2",
   "version": "2.7.6"
  }
 },
 "nbformat": 4,
 "nbformat_minor": 5
}
